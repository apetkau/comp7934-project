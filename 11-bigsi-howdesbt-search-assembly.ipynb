{
 "cells": [
  {
   "cell_type": "markdown",
   "metadata": {},
   "source": [
    "# Experiment: BIGSI and HowDeSBT search for genes from assembly\n",
    "\n",
    "To measure the accuracy of BIGSI and HowDeSBT we are comparing there performance and finding a gene to an assembly and BLAST-based method (assembling with `skesa` and finding genes with BLAST using `staramr`).\n",
    "\n",
    "First, let's setup some environment variables."
   ]
  },
  {
   "cell_type": "code",
   "execution_count": 11,
   "metadata": {},
   "outputs": [
    {
     "name": "stdout",
     "output_type": "stream",
     "text": [
      ">Col(BS512)_1__NC_010656 isolate: SRR10527348, contig: Contig_1_18.8607_Circ, contig_start: 632, contig_end: 400, database_gene_start: 1, database_gene_end: 233, hsp/length: 233/233, pid: 100.00%, plength: 100.00%\n",
      "ATGAATGCGGCGTTTAAGCGAATGGAAAAGCGAAAGGAGCTATCACCTGTTCAGGGGTGG\n",
      "ATCAGGGCTACGGAGGTGACGCGAGGTAAGGATGGCAGCGCACATCCGCATTTTCACTGT\n",
      "CTGCTGATGGTGCAACCTTCTTGGTTTAAAGGGAAGAACTACGTTAAGCACGAACGTTGG\n",
      "GTAGAACTCTGGCGCGATTGCTTGCGGGTGAACTATGAGCCGAATATCGATAT\n"
     ]
    }
   ],
   "source": [
    "data_type=microbial\n",
    "assembly_dir=${data_type}/assembly\n",
    "bigsi_dir=${data_type}/bigsi\n",
    "howdesbt_dir=${data_type}/howdesbt\n",
    "accuracy_dir=accuracy\n",
    "queries_dir=queries\n",
    "query_file=${queries_dir}/accuracy_query.fasta\n",
    "staramr_out_dir=${assembly_dir}/staramr\n",
    "true_samples_file=${queries_dir}/microbial_accuracy_true_samples.txt\n",
    "all_samples_file=${data_type}/microbial-genomes.txt\n",
    "\n",
    "kmer_sizes_list=\"9 11 13 15 17\"\n",
    "perfect_search_threshold=1.00\n",
    "high_search_threshold=0.99\n",
    "low_search_threshold=0.70\n",
    "\n",
    "query_string=`grep -v '^>' ${query_file} | tr -d '\\n'`\n",
    "\n",
    "PROJECT_DIR=`git rev-parse --show-toplevel`\n",
    "cd $PROJECT_DIR\n",
    "cat ${query_file}"
   ]
  },
  {
   "cell_type": "markdown",
   "metadata": {},
   "source": [
    "The code given below assumes you have the following [conda](https://docs.conda.io/en/latest/) environments setup to install [bigsi](https://github.com/Phelimb/BIGSI) and [howdesbt](https://github.com/medvedevgroup/HowDeSBT). This can be done with.\n",
    "\n",
    "```bash\n",
    "conda create --name bigsi_mccortex bigsi\n",
    "conda create --name howdesbt howdesbt\n",
    "```\n",
    "\n",
    "Let's verify these commands exist (and verify versions)."
   ]
  },
  {
   "cell_type": "code",
   "execution_count": 2,
   "metadata": {},
   "outputs": [
    {
     "name": "stdout",
     "output_type": "stream",
     "text": [
      "usage: \u001b[01;31m\u001b[Kbigsi-v\u001b[m\u001b[K0.3.1 bloom [-h] [-c CONFIG] ctx outfile\n",
      "version 2.00.02 20191014\n"
     ]
    }
   ],
   "source": [
    "conda run --name bigsi_mccortex bigsi bloom --help 2>&1 | grep 'bigsi-v'\n",
    "conda run --name howdesbt howdesbt --version"
   ]
  },
  {
   "cell_type": "markdown",
   "metadata": {},
   "source": [
    "Let's also show the list of samples which contain this gene as defined by `staramr` (BLAST) in the previous step."
   ]
  },
  {
   "cell_type": "code",
   "execution_count": 3,
   "metadata": {},
   "outputs": [
    {
     "name": "stdout",
     "output_type": "stream",
     "text": [
      "SRR10527348\n",
      "SRR10527351\n",
      "SRR10527352\n"
     ]
    }
   ],
   "source": [
    "cat ${true_samples_file}"
   ]
  },
  {
   "cell_type": "markdown",
   "metadata": {},
   "source": [
    "## True/false positive code\n",
    "\n",
    "Now let's define some code which can be used to determine true/false matches/print a confusion table. This is written as a bash function as we are in Jupyter Bash mode, but really it's just Python code (there's probably a better way to do this)."
   ]
  },
  {
   "cell_type": "code",
   "execution_count": 4,
   "metadata": {},
   "outputs": [],
   "source": [
    "print_confusion_table() {\n",
    "    method_name=$1\n",
    "    all_samples_file_func=$2\n",
    "    blast_matches_file=$3\n",
    "    matches_file=$4\n",
    "\n",
    "    python -c \"\n",
    "all_samples = set(l.strip() for l in open('${all_samples_file_func}'))\n",
    "method_name=\\\"${method_name}\\\"\n",
    "\n",
    "blast_matches = set(l.strip() for l in open('${blast_matches_file}'))\n",
    "blast_non_matches = all_samples - blast_matches\n",
    "\n",
    "matches = set(l.strip() for l in open('${matches_file}'))\n",
    "non_matches = all_samples - matches\n",
    "\n",
    "true_matches = matches & blast_matches\n",
    "true_non_matches = non_matches & blast_non_matches\n",
    "false_matches = matches & blast_non_matches\n",
    "false_non_matches = non_matches & blast_matches\n",
    "\n",
    "print(\\\"\\tBLAST Match\\tBLAST non-Match\\\")\n",
    "print(\\\"%s Match\\t%s\\t%s\\\" % (method_name, len(true_matches), len(false_matches)))\n",
    "print(\\\"%s non-Match\\t%s\\t%s\\\" % (method_name, len(false_non_matches), len(true_non_matches)))\n",
    "\"\n",
    "}"
   ]
  },
  {
   "cell_type": "markdown",
   "metadata": {},
   "source": [
    "## BIGSI queries\n",
    "\n",
    "Okay. Now let's try querying the different BIGSI indexes we've generated using all the different k-mer sizes and determine how well we can match the BLAST results.\n",
    "\n",
    "First let's test out some queries."
   ]
  },
  {
   "cell_type": "code",
   "execution_count": 8,
   "metadata": {},
   "outputs": [
    {
     "name": "stdout",
     "output_type": "stream",
     "text": [
      "ERR3655992\n"
     ]
    }
   ],
   "source": [
    "kmer_size=\"17\"\n",
    "export BIGSI_CONFIG=${bigsi_dir}/${kmer_size}/berkelydb.yaml\n",
    "\n",
    "conda run --name bigsi_mccortex bigsi search \"${query_string}\" 2>/dev/null | \\\n",
    "    tr \"'\" '\"' | jq '.results[].sample_name' | sed -e 's/\"//g'"
   ]
  },
  {
   "cell_type": "markdown",
   "metadata": {},
   "source": [
    "Huh? That does not at all match our three above genomes (`SRR10527348`, `SRR10527351`, `SRR10527352`). Why is that?\n",
    "\n",
    "Let's maybe try lowering the threshold from 100%."
   ]
  },
  {
   "cell_type": "code",
   "execution_count": 9,
   "metadata": {},
   "outputs": [
    {
     "name": "stdout",
     "output_type": "stream",
     "text": [
      "SRR10527348\n",
      "SRR10527351\n",
      "SRR10527352\n"
     ]
    }
   ],
   "source": [
    "kmer_size=\"17\"\n",
    "export BIGSI_CONFIG=${bigsi_dir}/${kmer_size}/berkelydb.yaml\n",
    "\n",
    "conda run --name bigsi_mccortex bigsi search --threshold 0.99 \"${query_string}\" 2>/dev/null | \\\n",
    "    tr \"'\" '\"' | jq '.results[].sample_name' | sed -e 's/\"//g'"
   ]
  },
  {
   "cell_type": "markdown",
   "metadata": {},
   "source": [
    "Now we get the correct results. Let's test setting a threshold of `1.0` explicitly and look over all kmers."
   ]
  },
  {
   "cell_type": "code",
   "execution_count": 10,
   "metadata": {},
   "outputs": [
    {
     "name": "stdout",
     "output_type": "stream",
     "text": [
      "For kmer size 9 and threshold 1.0\n",
      "ERR1144974\n",
      "ERR1144975\n",
      "ERR1144976\n",
      "ERR1144977\n",
      "ERR1144978\n",
      "ERR3655992\n",
      "ERR3655994\n",
      "For kmer size 11 and threshold 1.0\n",
      "ERR3655992\n",
      "For kmer size 13 and threshold 1.0\n",
      "ERR3655992\n",
      "For kmer size 15 and threshold 1.0\n",
      "ERR3655992\n",
      "For kmer size 17 and threshold 1.0\n",
      "ERR3655992\n"
     ]
    }
   ],
   "source": [
    "for kmer_size in ${kmer_sizes_list}\n",
    "do\n",
    "    export BIGSI_CONFIG=${bigsi_dir}/${kmer_size}/berkelydb.yaml\n",
    "    \n",
    "    echo \"For kmer size ${kmer_size} and threshold 1.0\"\n",
    "    conda run --name bigsi_mccortex bigsi search --threshold 1.0 \"${query_string}\" 2>/dev/null | \\\n",
    "        tr \"'\" '\"' | jq '.results[].sample_name' | sed -e 's/\"//g'\n",
    "done"
   ]
  },
  {
   "cell_type": "markdown",
   "metadata": {},
   "source": [
    "Now it's wrong again, and is consistently wrong over all kmer sizes. I do not know why this is, but there's something weird about the exact matching method that gives us completly different results.\n",
    "\n",
    "This is perhaps due to our data, or maybe a bug in the software. In any case, to make fair comparisons we will compare both BIGSI and HowDeSBT at a threshold of `0.99` as the highest instead of `1.00` (though we will include the results for `1.00` here for reference).\n",
    "\n",
    "### BIGSI search thresholds"
   ]
  },
  {
   "cell_type": "code",
   "execution_count": 13,
   "metadata": {},
   "outputs": [
    {
     "name": "stdout",
     "output_type": "stream",
     "text": [
      "\n",
      "For kmer size 9 and threshold 1.00\n",
      "                 BLAST Match  BLAST non-Match\n",
      "BIGSI Match      0            7\n",
      "BIGSI non-Match  3            40\n",
      "\n",
      "For kmer size 11 and threshold 1.00\n",
      "                 BLAST Match  BLAST non-Match\n",
      "BIGSI Match      0            1\n",
      "BIGSI non-Match  3            46\n",
      "\n",
      "For kmer size 13 and threshold 1.00\n",
      "                 BLAST Match  BLAST non-Match\n",
      "BIGSI Match      0            1\n",
      "BIGSI non-Match  3            46\n",
      "\n",
      "For kmer size 15 and threshold 1.00\n",
      "                 BLAST Match  BLAST non-Match\n",
      "BIGSI Match      0            1\n",
      "BIGSI non-Match  3            46\n",
      "\n",
      "For kmer size 17 and threshold 1.00\n",
      "                 BLAST Match  BLAST non-Match\n",
      "BIGSI Match      0            1\n",
      "BIGSI non-Match  3            46\n",
      "\n",
      "For kmer size 9 and threshold 0.99\n",
      "                 BLAST Match  BLAST non-Match\n",
      "BIGSI Match      3            40\n",
      "BIGSI non-Match  0            7\n",
      "\n",
      "For kmer size 11 and threshold 0.99\n",
      "                 BLAST Match  BLAST non-Match\n",
      "BIGSI Match      3            0\n",
      "BIGSI non-Match  0            47\n",
      "\n",
      "For kmer size 13 and threshold 0.99\n",
      "                 BLAST Match  BLAST non-Match\n",
      "BIGSI Match      3            0\n",
      "BIGSI non-Match  0            47\n",
      "\n",
      "For kmer size 15 and threshold 0.99\n",
      "                 BLAST Match  BLAST non-Match\n",
      "BIGSI Match      3            0\n",
      "BIGSI non-Match  0            47\n",
      "\n",
      "For kmer size 17 and threshold 0.99\n",
      "                 BLAST Match  BLAST non-Match\n",
      "BIGSI Match      3            0\n",
      "BIGSI non-Match  0            47\n",
      "\n",
      "For kmer size 9 and threshold 0.70\n",
      "                 BLAST Match  BLAST non-Match\n",
      "BIGSI Match      3            47\n",
      "BIGSI non-Match  0            0\n",
      "\n",
      "For kmer size 11 and threshold 0.70\n",
      "                 BLAST Match  BLAST non-Match\n",
      "BIGSI Match      3            40\n",
      "BIGSI non-Match  0            7\n",
      "\n",
      "For kmer size 13 and threshold 0.70\n",
      "                 BLAST Match  BLAST non-Match\n",
      "BIGSI Match      3            0\n",
      "BIGSI non-Match  0            47\n",
      "\n",
      "For kmer size 15 and threshold 0.70\n",
      "                 BLAST Match  BLAST non-Match\n",
      "BIGSI Match      3            0\n",
      "BIGSI non-Match  0            47\n",
      "\n",
      "For kmer size 17 and threshold 0.70\n",
      "                 BLAST Match  BLAST non-Match\n",
      "BIGSI Match      3            0\n",
      "BIGSI non-Match  0            47\n"
     ]
    }
   ],
   "source": [
    "for search_threshold in ${perfect_search_threshold} ${high_search_threshold} ${low_search_threshold}\n",
    "do\n",
    "    for kmer_size in ${kmer_sizes_list}\n",
    "    do\n",
    "        bigsi_dir_kmer=${bigsi_dir}/${kmer_size}\n",
    "\n",
    "        export BIGSI_CONFIG=${bigsi_dir_kmer}/berkelydb.yaml\n",
    "\n",
    "        bigsi_accuracy_dir=${bigsi_dir_kmer}/${accuracy_dir}\n",
    "        mkdir ${bigsi_accuracy_dir} 2> /dev/null\n",
    "\n",
    "        search_out_file=${bigsi_accuracy_dir}/accuracy-search-threshold-${search_threshold}.txt\n",
    "        search_confusion_table_file=${bigsi_accuracy_dir}/accuracy-search-threshold-${search_threshold}-table.tsv\n",
    "\n",
    "        echo -e \"\\nFor kmer size ${kmer_size} and threshold ${search_threshold}\"\n",
    "        conda run --name bigsi_mccortex bigsi search --threshold ${search_threshold} \"${query_string}\" 2>/dev/null | \\\n",
    "            tr \"'\" '\"' | jq '.results[].sample_name' | sed -e 's/\"//g' > ${search_out_file}\n",
    "\n",
    "        print_confusion_table \"BIGSI\" \"${all_samples_file}\" \"${true_samples_file}\" \"${search_out_file}\" | \\\n",
    "            tee ${search_confusion_table_file} | column -s$'\\t' -t -n\n",
    "    done\n",
    "done"
   ]
  },
  {
   "cell_type": "markdown",
   "metadata": {},
   "source": [
    "Let's look at one of the files we saved."
   ]
  },
  {
   "cell_type": "code",
   "execution_count": 14,
   "metadata": {},
   "outputs": [
    {
     "name": "stdout",
     "output_type": "stream",
     "text": [
      "SRR10527348\n",
      "SRR10527351\n",
      "SRR10527352\n",
      "\tBLAST Match\tBLAST non-Match\n",
      "BIGSI Match\t3\t0\n",
      "BIGSI non-Match\t0\t47\n"
     ]
    }
   ],
   "source": [
    "cat ${bigsi_dir}/17/${accuracy_dir}/accuracy-search-threshold-0.99.txt\n",
    "cat ${bigsi_dir}/17/${accuracy_dir}/accuracy-search-threshold-0.99-table.tsv"
   ]
  },
  {
   "cell_type": "markdown",
   "metadata": {},
   "source": [
    "Awesome. From these files we can read off the true/false positives (when compared to BLAST).\n",
    "\n",
    "Now let's look at the HowDeSBT results.\n",
    "\n",
    "## HowDeSBT queries"
   ]
  },
  {
   "cell_type": "code",
   "execution_count": 15,
   "metadata": {},
   "outputs": [
    {
     "name": "stdout",
     "output_type": "stream",
     "text": [
      "/home/CSCScience.ca/apetkau/workspace/comp7934-project/microbial/howdesbt/17\n",
      "SRR10527352\n",
      "SRR10527351\n",
      "SRR10527348\n"
     ]
    }
   ],
   "source": [
    "# Reset ourselves back to main directory\n",
    "cd ${PROJECT_DIR}\n",
    "\n",
    "kmer_size=\"17\"\n",
    "# Now change the HowDeSBT results directory (since it assumes we run from directory with files)\n",
    "cd ${howdesbt_dir}/${kmer_size}\n",
    "pwd\n",
    "\n",
    "conda run --name howdesbt howdesbt query --tree=howdesbt.build.sbt ${PROJECT_DIR}/${query_file} | \\\n",
    "    tail -n+2 | sed -e 's/^howdesbt.//'\n",
    "\n",
    "cd ${PROJECT_DIR}"
   ]
  },
  {
   "cell_type": "markdown",
   "metadata": {},
   "source": [
    "This looks great. Let's run for all kmer sizes."
   ]
  },
  {
   "cell_type": "code",
   "execution_count": 17,
   "metadata": {},
   "outputs": [
    {
     "name": "stdout",
     "output_type": "stream",
     "text": [
      "For kmer size 9 and threshold 1.00\n",
      "                    BLAST Match  BLAST non-Match\n",
      "HowDeSBT Match      3            29\n",
      "HowDeSBT non-Match  0            18\n",
      "For kmer size 11 and threshold 1.00\n",
      "                    BLAST Match  BLAST non-Match\n",
      "HowDeSBT Match      3            0\n",
      "HowDeSBT non-Match  0            47\n",
      "For kmer size 13 and threshold 1.00\n",
      "                    BLAST Match  BLAST non-Match\n",
      "HowDeSBT Match      3            0\n",
      "HowDeSBT non-Match  0            47\n",
      "For kmer size 15 and threshold 1.00\n",
      "                    BLAST Match  BLAST non-Match\n",
      "HowDeSBT Match      3            0\n",
      "HowDeSBT non-Match  0            47\n",
      "For kmer size 17 and threshold 1.00\n",
      "                    BLAST Match  BLAST non-Match\n",
      "HowDeSBT Match      3            0\n",
      "HowDeSBT non-Match  0            47\n",
      "For kmer size 9 and threshold 0.99\n",
      "                    BLAST Match  BLAST non-Match\n",
      "HowDeSBT Match      3            42\n",
      "HowDeSBT non-Match  0            5\n",
      "For kmer size 11 and threshold 0.99\n",
      "                    BLAST Match  BLAST non-Match\n",
      "HowDeSBT Match      3            0\n",
      "HowDeSBT non-Match  0            47\n",
      "For kmer size 13 and threshold 0.99\n",
      "                    BLAST Match  BLAST non-Match\n",
      "HowDeSBT Match      3            0\n",
      "HowDeSBT non-Match  0            47\n",
      "For kmer size 15 and threshold 0.99\n",
      "                    BLAST Match  BLAST non-Match\n",
      "HowDeSBT Match      3            0\n",
      "HowDeSBT non-Match  0            47\n",
      "For kmer size 17 and threshold 0.99\n",
      "                    BLAST Match  BLAST non-Match\n",
      "HowDeSBT Match      3            0\n",
      "HowDeSBT non-Match  0            47\n",
      "For kmer size 9 and threshold 0.70\n",
      "                    BLAST Match  BLAST non-Match\n",
      "HowDeSBT Match      3            47\n",
      "HowDeSBT non-Match  0            0\n",
      "For kmer size 11 and threshold 0.70\n",
      "                    BLAST Match  BLAST non-Match\n",
      "HowDeSBT Match      3            40\n",
      "HowDeSBT non-Match  0            7\n",
      "For kmer size 13 and threshold 0.70\n",
      "                    BLAST Match  BLAST non-Match\n",
      "HowDeSBT Match      3            0\n",
      "HowDeSBT non-Match  0            47\n",
      "For kmer size 15 and threshold 0.70\n",
      "                    BLAST Match  BLAST non-Match\n",
      "HowDeSBT Match      3            0\n",
      "HowDeSBT non-Match  0            47\n",
      "For kmer size 17 and threshold 0.70\n",
      "                    BLAST Match  BLAST non-Match\n",
      "HowDeSBT Match      3            0\n",
      "HowDeSBT non-Match  0            47\n"
     ]
    }
   ],
   "source": [
    "# Reset ourselves back to main directory\n",
    "cd ${PROJECT_DIR}\n",
    "\n",
    "for search_threshold in ${perfect_search_threshold} ${high_search_threshold} ${low_search_threshold}\n",
    "do\n",
    "    for kmer_size in ${kmer_sizes_list}\n",
    "    do\n",
    "        # Now change the HowDeSBT results directory (since it assumes we run from directory with files)\n",
    "        cd ${howdesbt_dir}/${kmer_size}\n",
    "\n",
    "        mkdir ${accuracy_dir} 2> /dev/null\n",
    "\n",
    "        search_out_file=${accuracy_dir}/accuracy-search-threshold-${search_threshold}.txt\n",
    "        search_confusion_table_file=${accuracy_dir}/accuracy-search-threshold-${search_threshold}-table.tsv\n",
    "\n",
    "        echo \"For kmer size ${kmer_size} and threshold ${search_threshold}\"\n",
    "        conda run --name howdesbt howdesbt query --threshold=${search_threshold} --tree=howdesbt.build.sbt ${PROJECT_DIR}/${query_file} | \\\n",
    "            tail -n+2 | sed -e 's/^howdesbt.//' > ${search_out_file}\n",
    "\n",
    "        print_confusion_table \"HowDeSBT\" \"${PROJECT_DIR}/${all_samples_file}\" \"${PROJECT_DIR}/${true_samples_file}\" \"${search_out_file}\" | \\\n",
    "            tee ${search_confusion_table_file} | column -s$'\\t' -t -n\n",
    "\n",
    "        cd ${PROJECT_DIR}\n",
    "    done\n",
    "done\n",
    "\n",
    "cd ${PROJECT_DIR}"
   ]
  },
  {
   "cell_type": "markdown",
   "metadata": {},
   "source": [
    "Awesome. Let's take a look at some of the output files."
   ]
  },
  {
   "cell_type": "code",
   "execution_count": 18,
   "metadata": {},
   "outputs": [
    {
     "name": "stdout",
     "output_type": "stream",
     "text": [
      "SRR10527352\n",
      "SRR10527351\n",
      "SRR10527348\n",
      "\tBLAST Match\tBLAST non-Match\n",
      "HowDeSBT Match\t3\t0\n",
      "HowDeSBT non-Match\t0\t47\n"
     ]
    }
   ],
   "source": [
    "cd ${PROJECT_DIR}\n",
    "cat ${howdesbt_dir}/17/${accuracy_dir}/accuracy-search-threshold-0.99.txt\n",
    "cat ${howdesbt_dir}/17/${accuracy_dir}/accuracy-search-threshold-0.99-table.tsv"
   ]
  },
  {
   "cell_type": "markdown",
   "metadata": {},
   "source": [
    "Hooray. We have all our results."
   ]
  }
 ],
 "metadata": {
  "kernelspec": {
   "display_name": "Bash",
   "language": "bash",
   "name": "bash"
  },
  "language_info": {
   "codemirror_mode": "shell",
   "file_extension": ".sh",
   "mimetype": "text/x-sh",
   "name": "bash"
  }
 },
 "nbformat": 4,
 "nbformat_minor": 4
}
