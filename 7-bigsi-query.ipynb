{
 "cells": [
  {
   "cell_type": "markdown",
   "metadata": {},
   "source": [
    "# Experiment: BIGSI query\n",
    "\n",
    "Now that we've build the BIGSI index, let's try to query for some genes.\n",
    "\n",
    "Let's setup some variables."
   ]
  },
  {
   "cell_type": "code",
   "execution_count": 1,
   "metadata": {},
   "outputs": [],
   "source": [
    "kmer_size=\"9\"\n",
    "bigsi_dir=bigsi/${kmer_size}\n",
    "query_out_dir=${bigsi_dir}/queries\n",
    "query_string=\"GTGCACACCCAGGTACACACGGCCCGCCTGGTCCACACCGCCGATCTTGACAGCGAGACCCGCCAGGACATCCGTCAGATGGTCACCGGCGCGTTTGCCGGTGACTTCACCGAGACCGACTGGGAGCACACGCTGGGTGGGATGCACGCCCTGATCTGGCATCACGGGGCGATCATCGCGCATGCCGCGGTGATCCAGCGGCGACTGATCTACCGCGGCAACGCGCTGCGCTGCGGGTACGTCGAAGGCGTTGCGGTGCGGGCGGACTGGCGGGGCCAACGCCTGGTGAGCGCGCTGTTGGACGCCGTCGAGCAGGTGATGCGCGGCGCTTACCAGCTCGGAGCGCTCAGTTCCTCGGCGCGGGCCCGCAGACTGTACGCCTCACGCGGCTGGCTGCCCTGGCACGGCCCGACATCGGTACTGGCACCAACCGGTCCAGTCCGTACACCCGATGACGACGGAACGGTGTTCGTCCTGCCCATCGACATCAGCCTGGACACCTCGGCGGAGCTGATGTGCGATTGGCGCGCGGGCGACGTCTGGTAA\"\n",
    "\n",
    "PROJECT_DIR=`git rev-parse --show-toplevel`\n",
    "cd $PROJECT_DIR"
   ]
  },
  {
   "cell_type": "markdown",
   "metadata": {},
   "source": [
    "The code given below assumes you have the following [conda](https://docs.conda.io/en/latest/) environments setup to install [bigsi](https://github.com/Phelimb/BIGSI). This can be done with.\n",
    "\n",
    "```bash\n",
    "conda create --name bigsi_mccortex bigsi\n",
    "```\n",
    "\n",
    "Let's verify these commands exist (and verify versions)."
   ]
  },
  {
   "cell_type": "code",
   "execution_count": 2,
   "metadata": {},
   "outputs": [
    {
     "name": "stdout",
     "output_type": "stream",
     "text": [
      "usage: \u001b[01;31m\u001b[Kbigsi-v\u001b[m\u001b[K0.3.1 bloom [-h] [-c CONFIG] ctx outfile\n"
     ]
    }
   ],
   "source": [
    "conda run --name bigsi_mccortex bigsi bloom --help 2>&1 | grep 'bigsi-v'"
   ]
  },
  {
   "cell_type": "markdown",
   "metadata": {},
   "source": [
    "Great. Now let's setup a bash function to do our query tests."
   ]
  },
  {
   "cell_type": "code",
   "execution_count": 3,
   "metadata": {},
   "outputs": [],
   "source": [
    "bigsi_query() {\n",
    "    type_dir=$1\n",
    "    output_dir=$2\n",
    "    \n",
    "    mkdir ${output_dir}\n",
    "    \n",
    "    max_iter=10\n",
    "    \n",
    "    export BIGSI_CONFIG=${type_dir}/${bigsi_dir}/berkelydb.yaml\n",
    "    \n",
    "    temp_dir=`mktemp -d`\n",
    "    for iteration in `seq 1 ${max_iter}`\n",
    "    do\n",
    "        iteration_out=${temp_dir}/${iteration}\n",
    "        command=\"/usr/bin/time -v bigsi search ${query_string} 2> ${iteration_out} 1> /dev/null\"\n",
    "        #echo ${command}\n",
    "        conda run --name bigsi_mccortex ${command}\n",
    "    done\n",
    "    \n",
    "    max_rss=`grep -h 'Maximum resident set size (kbytes)' ${temp_dir}/* | \n",
    "        sed -e 's/^\\s*Maximum resident set size (kbytes): //' |\n",
    "        sort -n |\n",
    "        tail -n 1`\n",
    "        \n",
    "    user_system_times=()\n",
    "    for iteration in ${temp_dir}/*\n",
    "    do\n",
    "        user_time=`grep 'User time (seconds)' ${iteration} | \n",
    "            sed -e 's/^\\s*User time (seconds): //'`\n",
    "        system_time=`grep 'System time (seconds)' ${iteration} | \n",
    "            sed -e 's/^\\s*System time (seconds): //'`\n",
    "        user_system_time=`echo \"${user_time}+${system_time}\" | bc`\n",
    "        \n",
    "        user_system_times=`printf \"${user_system_times}${user_system_time}\\t\"`\n",
    "    done\n",
    "    \n",
    "    #printf \"${user_system_times}\\n\"\n",
    "    time_med=`printf \"${user_system_times}\" | sed 's/\\t$//' | datamash transpose | datamash median 1`\n",
    "    \n",
    "    printf \"${user_system_times}\" | sed 's/\\t$//' > ${output_dir}/bigsi-search-all-times-kmer-${kmer_size}.txt\n",
    "       \n",
    "    (echo -e \"median_time_user_system\\titerations\\tmax_rss_kbytes\"\n",
    "    echo -e \"${time_med}\\t${max_iter}\\t${max_rss}\") | \n",
    "        tee ${output_dir}/bigsi-search-time-kmer-${kmer_size}.tsv |\n",
    "        column -t\n",
    "}"
   ]
  },
  {
   "cell_type": "markdown",
   "metadata": {},
   "source": [
    "## Microbial query"
   ]
  },
  {
   "cell_type": "code",
   "execution_count": 4,
   "metadata": {},
   "outputs": [
    {
     "name": "stdout",
     "output_type": "stream",
     "text": [
      "mkdir: cannot create directory ‘microbial/bigsi/9/queries’: File exists\n",
      "median_time_user_system  iterations  max_rss_kbytes\n",
      "6.755                    10          63888\n"
     ]
    }
   ],
   "source": [
    "data_type_dir=\"microbial\"\n",
    "bigsi_query \"${data_type_dir}\" \"${data_type_dir}/${query_out_dir}\""
   ]
  },
  {
   "cell_type": "markdown",
   "metadata": {},
   "source": [
    "## Metagenomics query"
   ]
  },
  {
   "cell_type": "code",
   "execution_count": 5,
   "metadata": {},
   "outputs": [
    {
     "name": "stdout",
     "output_type": "stream",
     "text": [
      "median_time_user_system  iterations  max_rss_kbytes\n",
      "6.73                     10          63948\n"
     ]
    }
   ],
   "source": [
    "data_type_dir=\"metagenomics\"\n",
    "bigsi_query \"${data_type_dir}\" \"${data_type_dir}/${query_out_dir}\""
   ]
  },
  {
   "cell_type": "markdown",
   "metadata": {},
   "source": [
    "## Human query"
   ]
  },
  {
   "cell_type": "code",
   "execution_count": 6,
   "metadata": {},
   "outputs": [
    {
     "name": "stdout",
     "output_type": "stream",
     "text": [
      "median_time_user_system  iterations  max_rss_kbytes\n",
      "6.86                     10          63896\n"
     ]
    }
   ],
   "source": [
    "data_type_dir=\"human\"\n",
    "bigsi_query \"${data_type_dir}\" \"${data_type_dir}/${query_out_dir}\""
   ]
  }
 ],
 "metadata": {
  "kernelspec": {
   "display_name": "Bash",
   "language": "bash",
   "name": "bash"
  },
  "language_info": {
   "codemirror_mode": "shell",
   "file_extension": ".sh",
   "mimetype": "text/x-sh",
   "name": "bash"
  }
 },
 "nbformat": 4,
 "nbformat_minor": 4
}
