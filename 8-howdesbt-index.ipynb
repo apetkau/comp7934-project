{
 "cells": [
  {
   "cell_type": "markdown",
   "metadata": {},
   "source": [
    "# Experiment: HowDeSBT Indexing\n",
    "\n",
    "Now let's run HowDeSBT to index on our data.\n",
    "\n",
    "First, let's setup some directories."
   ]
  },
  {
   "cell_type": "code",
   "execution_count": 13,
   "metadata": {},
   "outputs": [],
   "source": [
    "fastq_data_dir=data-downsampled\n",
    "data_dir=kmer-counts-jellyfish\n",
    "howdesbt_dir=howdesbt\n",
    "kmer_size=\"15\"\n",
    "\n",
    "threads=1\n",
    "\n",
    "PROJECT_DIR=`git rev-parse --show-toplevel`\n",
    "cd $PROJECT_DIR"
   ]
  },
  {
   "cell_type": "markdown",
   "metadata": {},
   "source": [
    "The code given below assumes you have the following [conda](https://docs.conda.io/en/latest/) environments setup to install [howdesbt](https://github.com/medvedevgroup/HowDeSBT).\n",
    "\n",
    "```bash\n",
    "conda create --name howdesbt howdesbt\n",
    "```\n",
    "\n",
    "Let's verify these commands exist (and verify versions)."
   ]
  },
  {
   "cell_type": "code",
   "execution_count": 14,
   "metadata": {},
   "outputs": [
    {
     "name": "stdout",
     "output_type": "stream",
     "text": [
      "version 2.00.02 20191014\n"
     ]
    }
   ],
   "source": [
    "conda run --name howdesbt howdesbt --version"
   ]
  },
  {
   "cell_type": "markdown",
   "metadata": {},
   "source": [
    "## Bloom filter sizes\n",
    "\n",
    "From step **6-bigsi-index.ipynb** we determined some Bloom filter sizes using the estimated kmers in union of all datasets."
   ]
  },
  {
   "cell_type": "code",
   "execution_count": 15,
   "metadata": {},
   "outputs": [
    {
     "name": "stdout",
     "output_type": "stream",
     "text": [
      "data_type     kmer_size  union_kmers\n",
      "microbial     15         60960845\n",
      "human         15         71439683\n",
      "metagenomics  15         207378366\n"
     ]
    }
   ],
   "source": [
    "(echo -e \"data_type\\tkmer_size\\tunion_kmers\"\n",
    "for data_type in microbial metagenomics human\n",
    "do\n",
    "    count=`sed -e 's/Estimated number of unique exact matches: //' ${data_type}/${fastq_data_dir}/total-unique-kmers-${kmer_size}.txt | \\\n",
    "    awk '{print int($1+0.5)}'`\n",
    "    \n",
    "    echo -e \"${data_type}\\t${kmer_size}\\t${count}\"\n",
    "done) | sort -k3,3n | column -s$'\\t' -t"
   ]
  },
  {
   "cell_type": "code",
   "execution_count": 17,
   "metadata": {},
   "outputs": [],
   "source": [
    "# For kmer=9\n",
    "#microbial_bits=140000\n",
    "#human_bits=140000\n",
    "#metagenomics_bits=140000\n",
    "# For kmer=15\n",
    "microbial_bits=61000000\n",
    "human_bits=72000000\n",
    "metagenomics_bits=208000000"
   ]
  },
  {
   "cell_type": "markdown",
   "metadata": {},
   "source": [
    "## HowDeSBT bash function"
   ]
  },
  {
   "cell_type": "code",
   "execution_count": 18,
   "metadata": {},
   "outputs": [],
   "source": [
    "run_howdesbt() {\n",
    "    type_dir=$1\n",
    "    output_dir=$2\n",
    "    nkmers=$3\n",
    "    \n",
    "    cd ${PROJECT_DIR} # Reset ourselves\n",
    "    pwd\n",
    "    \n",
    "    mkdir -p ${output_dir}\n",
    "    rm ${output_dir}/howdesbt.*\n",
    "    rm ${output_dir}/*.kmer\n",
    "    \n",
    "    # HowDeSBT appears to write files to the working directory\n",
    "    #  So, we have to change to the proper directory.\n",
    "    cd ${output_dir}\n",
    "    pwd\n",
    "    \n",
    "    jobs=24\n",
    "    \n",
    "    input_dir=${type_dir}/${data_dir}/${kmer_size}\n",
    "            \n",
    "    before=`date +%s`\n",
    "\n",
    "    commands_file=`mktemp`\n",
    "    \n",
    "    for file in ${PROJECT_DIR}/${input_dir}/*.kmer.gz\n",
    "    do\n",
    "        accession=`basename ${file} .kmer.gz`\n",
    "        \n",
    "        uncompressed_input=${accession}.kmer\n",
    "        \n",
    "        howdesbt_makebf_out=howdesbt.${accession}.bf\n",
    "        howdesbt_makebf_log=howdesbt.${accession}.makebf.log\n",
    "\n",
    "        command=\"gzip -d --stdout ${file} > ${uncompressed_input} && \\\n",
    "            /usr/bin/time -v howdesbt makebf ${uncompressed_input} --kmersin --k=${kmer_size} \\\n",
    "            --threads=${threads} --hashes=1 --bits=${nkmers} --out=${howdesbt_makebf_out} \\\n",
    "            2> ${howdesbt_makebf_log}.err 1> ${howdesbt_makebf_log}\"\n",
    "        echo ${command} >> ${commands_file}\n",
    "    done\n",
    "    \n",
    "    echo \"Will run commands (howdesbt makebf) from [${commands_file}] like:\"\n",
    "    head -n 1 ${commands_file}\n",
    "    command=\"parallel -j ${jobs} -a ${commands_file}\"\n",
    "    echo -e \"\\n${command}\"\n",
    "    conda run --name howdesbt ${command}\n",
    "    \n",
    "    nkmers_10_per=`echo \"${nkmers}/10\" | bc`\n",
    "    \n",
    "    howdesbt_cluster_out=howdesbt.cluster.sbt\n",
    "    howdesbt_cluster_log=howdesbt.cluster.log\n",
    "    \n",
    "    howdesbt_build_out=howdesbt.build.sbt\n",
    "    howdesbt_build_log=howdesbt.build.log\n",
    "    \n",
    "    echo \"Now, let's run howdesbt cluster and build\"\n",
    "    ls howdesbt.*.bf > leafnames\n",
    "    command=\"/usr/bin/time -v howdesbt cluster --list=leafnames --bits=${nkmers_10_per} --tree=${howdesbt_cluster_out} \\\n",
    "                --nodename=node{number} --keepallnodes 2> ${howdesbt_cluster_log}.err 1> ${howdesbt_cluster_log} && \\\n",
    "            /usr/bin/time -v howdesbt build --HowDe --tree=${howdesbt_cluster_out} --outtree=${howdesbt_build_out} \\\n",
    "                2> ${howdesbt_build_log}.err 1> ${howdesbt_build_log}\"\n",
    "            \n",
    "    echo \"${command}\"\n",
    "    conda run --name howdesbt ${command}\n",
    "     \n",
    "    cd ${PROJECT_DIR}\n",
    "    pwd\n",
    "        \n",
    "    after=`date +%s`\n",
    "    minutes=`echo \"(${after}-${before})/60\" | bc -l`\n",
    "    printf \"Done. Took %0.2f minutes.\\n\" ${minutes}\n",
    "}"
   ]
  },
  {
   "cell_type": "markdown",
   "metadata": {},
   "source": [
    "## Microbial HowDeSBT"
   ]
  },
  {
   "cell_type": "code",
   "execution_count": 19,
   "metadata": {},
   "outputs": [
    {
     "name": "stdout",
     "output_type": "stream",
     "text": [
      "/home/CSCScience.ca/apetkau/workspace/comp7934-project\n",
      "rm: cannot remove 'microbial/howdesbt/15/howdesbt.*': No such file or directory\n",
      "rm: cannot remove 'microbial/howdesbt/15/*.kmer': No such file or directory\n",
      "/home/CSCScience.ca/apetkau/workspace/comp7934-project/microbial/howdesbt/15\n",
      "Will run commands (howdesbt makebf) from [/tmp/tmp.aPZb2ocAsv] like:\n",
      "gzip -d --stdout /home/CSCScience.ca/apetkau/workspace/comp7934-project/microbial/kmer-counts-jellyfish/15/ERR1144974.kmer.gz > ERR1144974.kmer && /usr/bin/time -v howdesbt makebf ERR1144974.kmer --kmersin --k=15 --threads=1 --hashes=1 --bits=61000000 --out=howdesbt.ERR1144974.bf 2> howdesbt.ERR1144974.makebf.log.err 1> howdesbt.ERR1144974.makebf.log\n",
      "\n",
      "parallel -j 24 -a /tmp/tmp.aPZb2ocAsv\n",
      "Now, let's run howdesbt cluster and build\n",
      "/usr/bin/time -v howdesbt cluster --list=leafnames --bits=6100000 --tree=howdesbt.cluster.sbt                 --nodename=node{number} --keepallnodes 2> howdesbt.cluster.log.err 1> howdesbt.cluster.log &&             /usr/bin/time -v howdesbt build --HowDe --tree=howdesbt.cluster.sbt --outtree=howdesbt.build.sbt                 2> howdesbt.build.log.err 1> howdesbt.build.log\n",
      "/home/CSCScience.ca/apetkau/workspace/comp7934-project\n",
      "Done. Took 0.58 minutes.\n"
     ]
    }
   ],
   "source": [
    "input_dir_type=\"microbial\"\n",
    "run_howdesbt \"${input_dir_type}\" \"${input_dir_type}/${howdesbt_dir}/${kmer_size}\" \"${microbial_bits}\"\n",
    "cd ${PROJECT_DIR}"
   ]
  },
  {
   "cell_type": "markdown",
   "metadata": {},
   "source": [
    "Awesome. We've build the HowDeSBT Sequence Bloom tree. Let's take a look at sizes."
   ]
  },
  {
   "cell_type": "code",
   "execution_count": 20,
   "metadata": {},
   "outputs": [
    {
     "name": "stdout",
     "output_type": "stream",
     "text": [
      "microbial\n",
      "3146868 total intermediate (KB)\n",
      "88816 total database (KB)\n"
     ]
    }
   ],
   "source": [
    "echo ${input_dir_type}\n",
    "du -kc `ls ${input_dir_type}/${howdesbt_dir}/${kmer_size}/{howdesbt.*.bf,*.kmer,howdesbt.cluster.sbt} | grep -v 'detbrief'` | \n",
    "    grep 'total' | \n",
    "    sed -e 's/\\ttotal$/ total intermediate (KB)/' | \n",
    "    tee ${input_dir_type}/${howdesbt_dir}/${kmer_size}/howdesbt-total-disk.txt\n",
    "    \n",
    "du -kc ${input_dir_type}/${howdesbt_dir}/${kmer_size}/{*.detbrief.rrr.bf,howdesbt.build.sbt} | \n",
    "    grep 'total' | \n",
    "    sed -e 's/\\ttotal$/ total database (KB)/' | \n",
    "    tee -a ${input_dir_type}/${howdesbt_dir}/${kmer_size}/howdesbt-total-disk.txt"
   ]
  },
  {
   "cell_type": "markdown",
   "metadata": {},
   "source": [
    "## Metagenomics HowDeSBT"
   ]
  },
  {
   "cell_type": "code",
   "execution_count": 21,
   "metadata": {},
   "outputs": [
    {
     "name": "stdout",
     "output_type": "stream",
     "text": [
      "/home/CSCScience.ca/apetkau/workspace/comp7934-project\n",
      "rm: cannot remove 'metagenomics/howdesbt/15/howdesbt.*': No such file or directory\n",
      "rm: cannot remove 'metagenomics/howdesbt/15/*.kmer': No such file or directory\n",
      "/home/CSCScience.ca/apetkau/workspace/comp7934-project/metagenomics/howdesbt/15\n",
      "Will run commands (howdesbt makebf) from [/tmp/tmp.ENiqrt3hhM] like:\n",
      "gzip -d --stdout /home/CSCScience.ca/apetkau/workspace/comp7934-project/metagenomics/kmer-counts-jellyfish/15/ERR1713331.kmer.gz > ERR1713331.kmer && /usr/bin/time -v howdesbt makebf ERR1713331.kmer --kmersin --k=15 --threads=1 --hashes=1 --bits=208000000 --out=howdesbt.ERR1713331.bf 2> howdesbt.ERR1713331.makebf.log.err 1> howdesbt.ERR1713331.makebf.log\n",
      "\n",
      "parallel -j 24 -a /tmp/tmp.ENiqrt3hhM\n",
      "Now, let's run howdesbt cluster and build\n",
      "/usr/bin/time -v howdesbt cluster --list=leafnames --bits=20800000 --tree=howdesbt.cluster.sbt                 --nodename=node{number} --keepallnodes 2> howdesbt.cluster.log.err 1> howdesbt.cluster.log &&             /usr/bin/time -v howdesbt build --HowDe --tree=howdesbt.cluster.sbt --outtree=howdesbt.build.sbt                 2> howdesbt.build.log.err 1> howdesbt.build.log\n",
      "/home/CSCScience.ca/apetkau/workspace/comp7934-project\n",
      "Done. Took 2.08 minutes.\n"
     ]
    }
   ],
   "source": [
    "input_dir_type=\"metagenomics\"\n",
    "run_howdesbt \"${input_dir_type}\" \"${input_dir_type}/${howdesbt_dir}/${kmer_size}\" \"${metagenomics_bits}\""
   ]
  },
  {
   "cell_type": "code",
   "execution_count": 22,
   "metadata": {},
   "outputs": [
    {
     "name": "stdout",
     "output_type": "stream",
     "text": [
      "metagenomics\n",
      "7794928 total intermediate (KB)\n",
      "405772 total database (KB)\n"
     ]
    }
   ],
   "source": [
    "echo ${input_dir_type}\n",
    "du -kc `ls ${input_dir_type}/${howdesbt_dir}/${kmer_size}/{howdesbt.*.bf,*.kmer,howdesbt.cluster.sbt} | grep -v 'detbrief'` | \n",
    "    grep 'total' | \n",
    "    sed -e 's/\\ttotal$/ total intermediate (KB)/' | \n",
    "    tee ${input_dir_type}/${howdesbt_dir}/${kmer_size}/howdesbt-total-disk.txt\n",
    "    \n",
    "du -kc ${input_dir_type}/${howdesbt_dir}/${kmer_size}/{*.detbrief.rrr.bf,howdesbt.build.sbt} | \n",
    "    grep 'total' | \n",
    "    sed -e 's/\\ttotal$/ total database (KB)/' | \n",
    "    tee -a ${input_dir_type}/${howdesbt_dir}/${kmer_size}/howdesbt-total-disk.txt"
   ]
  },
  {
   "cell_type": "markdown",
   "metadata": {},
   "source": [
    "## Human HowDeSBT"
   ]
  },
  {
   "cell_type": "code",
   "execution_count": 23,
   "metadata": {},
   "outputs": [
    {
     "name": "stdout",
     "output_type": "stream",
     "text": [
      "/home/CSCScience.ca/apetkau/workspace/comp7934-project\n",
      "rm: cannot remove 'human/howdesbt/15/howdesbt.*': No such file or directory\n",
      "rm: cannot remove 'human/howdesbt/15/*.kmer': No such file or directory\n",
      "/home/CSCScience.ca/apetkau/workspace/comp7934-project/human/howdesbt/15\n",
      "Will run commands (howdesbt makebf) from [/tmp/tmp.gTt4uoobmT] like:\n",
      "gzip -d --stdout /home/CSCScience.ca/apetkau/workspace/comp7934-project/human/kmer-counts-jellyfish/15/SRR038300.kmer.gz > SRR038300.kmer && /usr/bin/time -v howdesbt makebf SRR038300.kmer --kmersin --k=15 --threads=1 --hashes=1 --bits=72000000 --out=howdesbt.SRR038300.bf 2> howdesbt.SRR038300.makebf.log.err 1> howdesbt.SRR038300.makebf.log\n",
      "\n",
      "parallel -j 24 -a /tmp/tmp.gTt4uoobmT\n",
      "Now, let's run howdesbt cluster and build\n",
      "/usr/bin/time -v howdesbt cluster --list=leafnames --bits=7200000 --tree=howdesbt.cluster.sbt                 --nodename=node{number} --keepallnodes 2> howdesbt.cluster.log.err 1> howdesbt.cluster.log &&             /usr/bin/time -v howdesbt build --HowDe --tree=howdesbt.cluster.sbt --outtree=howdesbt.build.sbt                 2> howdesbt.build.log.err 1> howdesbt.build.log\n",
      "/home/CSCScience.ca/apetkau/workspace/comp7934-project\n",
      "Done. Took 0.73 minutes.\n"
     ]
    }
   ],
   "source": [
    "input_dir_type=\"human\"\n",
    "run_howdesbt \"${input_dir_type}\" \"${input_dir_type}/${howdesbt_dir}/${kmer_size}\" \"${human_bits}\""
   ]
  },
  {
   "cell_type": "code",
   "execution_count": 24,
   "metadata": {},
   "outputs": [
    {
     "name": "stdout",
     "output_type": "stream",
     "text": [
      "human\n",
      "2768592 total intermediate (KB)\n",
      "121108 total database (KB)\n"
     ]
    }
   ],
   "source": [
    "echo ${input_dir_type}\n",
    "du -kc `ls ${input_dir_type}/${howdesbt_dir}/${kmer_size}/{howdesbt.*.bf,*.kmer,howdesbt.cluster.sbt} | grep -v 'detbrief'` | \n",
    "    grep 'total' | \n",
    "    sed -e 's/\\ttotal$/ total intermediate (KB)/' | \n",
    "    tee ${input_dir_type}/${howdesbt_dir}/${kmer_size}/howdesbt-total-disk.txt\n",
    "    \n",
    "du -kc ${input_dir_type}/${howdesbt_dir}/${kmer_size}/{*.detbrief.rrr.bf,howdesbt.build.sbt} | \n",
    "    grep 'total' | \n",
    "    sed -e 's/\\ttotal$/ total database (KB)/' | \n",
    "    tee -a ${input_dir_type}/${howdesbt_dir}/${kmer_size}/howdesbt-total-disk.txt"
   ]
  }
 ],
 "metadata": {
  "kernelspec": {
   "display_name": "Bash",
   "language": "bash",
   "name": "bash"
  },
  "language_info": {
   "codemirror_mode": "shell",
   "file_extension": ".sh",
   "mimetype": "text/x-sh",
   "name": "bash"
  }
 },
 "nbformat": 4,
 "nbformat_minor": 4
}
