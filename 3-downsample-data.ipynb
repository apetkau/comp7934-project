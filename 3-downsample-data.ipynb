{
 "cells": [
  {
   "cell_type": "markdown",
   "metadata": {},
   "source": [
    " # Downsample data\n",
    " \n",
    " In order to get everything to run in a reasonable amount of time (and resources) we are going to downsample/reduce the size of the fastq files we've downloaded.\n",
    " \n",
    "Let's setup some environment variables."
   ]
  },
  {
   "cell_type": "code",
   "execution_count": null,
   "metadata": {},
   "outputs": [],
   "source": [
    "PROJECT_DIR=`git rev-parse --show-toplevel`\n",
    "cd $PROJECT_DIR"
   ]
  },
  {
   "cell_type": "markdown",
   "metadata": {},
   "source": [
    "Now, let's reduce the size of the datasets.\n",
    "\n",
    "The download code given below assumes you have the following [conda](https://docs.conda.io/en/latest/) environments setup: [seqtk](https://github.com/ncbi/sra-tools).\n",
    "\n",
    "```bash\n",
    "conda create --name seqtk seqtk\n",
    "```\n",
    "\n",
    "## Get total reads per dataset\n",
    "\n",
    "Once that's setup, we'll also need a method to get the total number of bases in each dataset. Luckily these were logged by `fastp` in the download step. Let's take a look at one of these files:"
   ]
  },
  {
   "cell_type": "code",
   "execution_count": null,
   "metadata": {},
   "outputs": [],
   "source": [
    "cat microbial/data/log.fastp.SRR10527353.err"
   ]
  },
  {
   "cell_type": "markdown",
   "metadata": {},
   "source": [
    "What we need to do is extract the total base pairs from this dataset. Let's build a bash function to do this.\n",
    "\n",
    "### Extract base pairs"
   ]
  },
  {
   "cell_type": "code",
   "execution_count": null,
   "metadata": {},
   "outputs": [],
   "source": [
    "# Purpose: Extract base pairs\n",
    "# Args:\n",
    "#      fastp_file: The fastp log file\n",
    "# Output: Prints the total base pairs from this log file.\n",
    "extract_total_base_pairs() {\n",
    "    fastp_file=$1\n",
    "    \n",
    "    # Test if paired-end dataset\n",
    "    if grep 'Read2 aftering filtering' ${fastp_file} 1> /dev/null 2> /dev/null;\n",
    "    then\n",
    "        read1_bases=`grep 'Read1 after filtering' -A 2 ${fastp_file} | grep 'total bases' | sed -e 's/total bases: //'`\n",
    "        read2_bases=`grep 'Read2 aftering filtering' -A 2 ${fastp_file} | grep 'total bases' | sed -e 's/total bases: //'`\n",
    "        \n",
    "        echo \"(${read1_bases}+${read2_bases})\" | bc\n",
    "    else\n",
    "        read_bases=`grep 'Read1 after filtering' -A 2 ${fastp_file} | grep 'total bases' | sed -e 's/total bases: //'`\n",
    "        \n",
    "        # Prints same number, but will return error code of '$read_bases' is not a number.\n",
    "        echo \"(${read_bases})\" | bc\n",
    "    fi\n",
    "}"
   ]
  },
  {
   "cell_type": "markdown",
   "metadata": {},
   "source": [
    "Let's test it out."
   ]
  },
  {
   "cell_type": "code",
   "execution_count": null,
   "metadata": {},
   "outputs": [],
   "source": [
    "extract_total_base_pairs \"microbial/data/log.fastp.SRR10527353.err\""
   ]
  },
  {
   "cell_type": "markdown",
   "metadata": {},
   "source": [
    "Looks good.\n",
    "\n",
    "Now, let's define a function to downsample the reads (using number of base pairs to help us determine the size of the subsample).\n",
    "\n",
    "## Downsample reads"
   ]
  },
  {
   "cell_type": "code",
   "execution_count": null,
   "metadata": {},
   "outputs": [],
   "source": [
    "# Purpose: Downsample reads\n",
    "# Args:\n",
    "#      input_dir: The data input directory.\n",
    "#      output_dir: The downsampled data output directory.\n",
    "# Output: Saves downsapled files in $output_dir\n",
    "downsample_reads() {\n",
    "    input_dir=$1\n",
    "    output_dir=$2\n",
    "    \n",
    "    mkdir ${output_dir}\n",
    "    \n",
    "    jobs=50\n",
    "    max_bp=100000000 # 100 million\n",
    "    \n",
    "    commands_file=`mktemp`\n",
    "    \n",
    "    for file in ${input_dir}/*.fastq.gz\n",
    "    do\n",
    "        accession=`basename ${file} .fastq.gz`\n",
    "        \n",
    "        total_bp=`extract_total_base_pairs \"${input_dir}/log.fastp.${accession}.err\"`\n",
    "        reduction_ratio=`echo \"${max_bp}/${total_bp}\" | bc -l`\n",
    "        reduction_ratio=`printf \"%0.6f\" ${reduction_ratio}` # rounding/including leading zero\n",
    "        \n",
    "        if [ \"${max_bp}\" -lt \"${total_bp}\" ]\n",
    "        then\n",
    "            echo \"seqtk sample -s 111 ${file} ${reduction_ratio} | gzip --to-stdout > ${output_dir}/${accession}.fastq.gz\" >> ${commands_file}\n",
    "        else\n",
    "            echo \"cp ${file} ${output_dir}/${accession}.fastq.gz\" >> ${commands_file}\n",
    "        fi\n",
    "    done\n",
    "    \n",
    "    echo \"Will execute commands from file ${commands_file} like:\"\n",
    "    cat ${commands_file}\n",
    "    \n",
    "    command=\"parallel -j ${jobs} -a ${commands_file}\"\n",
    "    echo ${command}\n",
    "    conda run --name seqtk ${command}\n",
    "}"
   ]
  },
  {
   "cell_type": "markdown",
   "metadata": {},
   "source": [
    "Great. We've got it defined. So let's run with the microbial dataset.\n",
    "\n",
    "## Downsample microbial reads"
   ]
  },
  {
   "cell_type": "code",
   "execution_count": null,
   "metadata": {},
   "outputs": [],
   "source": [
    "downsample_reads \"microbial/data\" \"microbial/data-downsampled\""
   ]
  },
  {
   "cell_type": "markdown",
   "metadata": {},
   "source": [
    "Okay. Let's check out the data."
   ]
  },
  {
   "cell_type": "code",
   "execution_count": null,
   "metadata": {},
   "outputs": [],
   "source": [
    "ls -lh microbial/data-downsampled | head -n 5\n",
    "ls microbial/data-downsampled/ | wc -l"
   ]
  },
  {
   "cell_type": "markdown",
   "metadata": {},
   "source": [
    "Looks good. Let's try on the metagenomics data.\n",
    "\n",
    "## Downsample metagenomics reads "
   ]
  },
  {
   "cell_type": "code",
   "execution_count": null,
   "metadata": {},
   "outputs": [],
   "source": [
    "downsample_reads \"metagenomics/data\" \"metagenomics/data-downsampled\""
   ]
  },
  {
   "cell_type": "code",
   "execution_count": null,
   "metadata": {},
   "outputs": [],
   "source": [
    "ls -lh metagenomics/data-downsampled | head -n 5\n",
    "ls metagenomics/data-downsampled | wc -l"
   ]
  },
  {
   "cell_type": "markdown",
   "metadata": {},
   "source": [
    "Great. Now let's do this on the human data.\n",
    "\n",
    "## Downsample human reads"
   ]
  },
  {
   "cell_type": "code",
   "execution_count": null,
   "metadata": {},
   "outputs": [],
   "source": [
    "downsample_reads \"human/data\" \"human/data-downsampled\""
   ]
  },
  {
   "cell_type": "code",
   "execution_count": null,
   "metadata": {},
   "outputs": [],
   "source": [
    "ls -lh human/data-downsampled | head -n 5\n",
    "ls human/data-downsampled | wc -l"
   ]
  }
 ],
 "metadata": {
  "kernelspec": {
   "display_name": "Bash",
   "language": "bash",
   "name": "bash"
  },
  "language_info": {
   "codemirror_mode": "shell",
   "file_extension": ".sh",
   "mimetype": "text/x-sh",
   "name": "bash"
  }
 },
 "nbformat": 4,
 "nbformat_minor": 4
}
