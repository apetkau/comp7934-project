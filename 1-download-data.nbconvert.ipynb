{
 "cells": [
  {
   "cell_type": "markdown",
   "metadata": {},
   "source": [
    "# Download sequence read data\n",
    "\n",
    "This notebook describes the procedures taken to download all the sequence read data.\n",
    "\n",
    "First, we will start by setting some environment variables."
   ]
  },
  {
   "cell_type": "code",
   "execution_count": 1,
   "metadata": {},
   "outputs": [
    {
     "name": "stdout",
     "output_type": "stream",
     "text": [
      "1-download-data.ipynb  \u001b[0m\u001b[01;34mfasterq.tmp.phac5021054.714\u001b[0m  \u001b[01;34mmetagenomics\u001b[0m\n",
      "\u001b[01;34mbin\u001b[0m                    \u001b[01;34mfast.tmp\u001b[0m                     \u001b[01;34mmicrobial\u001b[0m\n",
      "\u001b[01;34mdb\u001b[0m                     \u001b[01;34mhuman\u001b[0m                        README.md\n"
     ]
    }
   ],
   "source": [
    "PROJECT_DIR=`git rev-parse --show-toplevel`\n",
    "cd $PROJECT_DIR\n",
    "ls"
   ]
  },
  {
   "cell_type": "markdown",
   "metadata": {},
   "source": [
    "Now, let's download the data. First let's define a bash function for downloading the data.\n",
    "\n",
    "## Bash download function"
   ]
  },
  {
   "cell_type": "code",
   "execution_count": 2,
   "metadata": {},
   "outputs": [],
   "source": [
    "# Purpose: Downloads sequence reads\n",
    "# Args:\n",
    "#      accessions_file: A file contining a list (one per line) of sequence read accessions to download.\n",
    "#      output_dir: A directory to download the files into.\n",
    "download_sequence_reads() {\n",
    "    accessions_file=$1\n",
    "    output_dir=$2\n",
    "    \n",
    "    threads=48\n",
    "    \n",
    "    echo \"Downloading files from ${accessions_file}\"\n",
    "    echo \"Downloading files to ${output_dir}\"\n",
    "    \n",
    "    mkdir -p ${output_dir}\n",
    "    rm ${output_dir}/*\n",
    "    \n",
    "    before=`date +%s`\n",
    "    for name in `cat ${accessions_file}`;\n",
    "    do\n",
    "        output=${output_dir}/${name}.fastq\n",
    "        log=${output_dir}/log.${name}\n",
    "    \n",
    "        command=\"fasterq-dump --threads ${threads} --split-spot -o ${output} ${name}\"\n",
    "        echo ${command} \"1> ${log}.out 2> ${log}.err\"\n",
    "        ${command} 1> ${log}.out 2> ${log}.err\n",
    "        \n",
    "        command=\"pigz --processes ${threads} ${output}\"\n",
    "        echo ${command}\n",
    "        ${command}\n",
    "    done\n",
    "    after=`date +%s`\n",
    "    minutes=`echo \"(${after}-${before})/60\" | bc -l`\n",
    "    printf \"Done. Took %0.2f minutes.\" ${minutes}\n",
    "}"
   ]
  },
  {
   "cell_type": "markdown",
   "metadata": {},
   "source": [
    "# Download microbial data\n",
    "\n",
    "Now, let's download the microbial data."
   ]
  },
  {
   "cell_type": "code",
   "execution_count": 3,
   "metadata": {},
   "outputs": [
    {
     "name": "stdout",
     "output_type": "stream",
     "text": [
      "Downloading files from microbial/microbial-genomes-small.txt\n",
      "Downloading files to microbial/data-small\n",
      "fasterq-dump --threads 48 --split-spot -o microbial/data-small/SRR10298904.fastq SRR10298904 1> microbial/data-small/log.SRR10298904.out 2> microbial/data-small/log.SRR10298904.err\n",
      "pigz --processes 48 microbial/data-small/SRR10298904.fastq\n",
      "fasterq-dump --threads 48 --split-spot -o microbial/data-small/SRR10298906.fastq SRR10298906 1> microbial/data-small/log.SRR10298906.out 2> microbial/data-small/log.SRR10298906.err\n",
      "pigz --processes 48 microbial/data-small/SRR10298906.fastq\n",
      "Done. Took 0.18 minutes."
     ]
    }
   ],
   "source": [
    "accessions_file=\"microbial/microbial-genomes-small.txt\"\n",
    "output_dir=\"microbial/data-small\"\n",
    "download_sequence_reads ${accessions_file} ${output_dir}"
   ]
  },
  {
   "cell_type": "markdown",
   "metadata": {},
   "source": [
    "Awesome. We've downloaded all the microbial data. Let's check out the files."
   ]
  },
  {
   "cell_type": "code",
   "execution_count": 4,
   "metadata": {},
   "outputs": [
    {
     "name": "stdout",
     "output_type": "stream",
     "text": [
      "-rw-r--r-- 1 apetkau grp_apetkau 100M Dec  5 17:33 microbial/data-small/SRR10298904.fastq.gz\n",
      "-rw-r--r-- 1 apetkau grp_apetkau 192M Dec  5 17:33 microbial/data-small/SRR10298906.fastq.gz\n",
      "2\n"
     ]
    }
   ],
   "source": [
    "ls -lh ${output_dir}/*.gz | head\n",
    "ls ${output_dir}/*.gz | wc -l"
   ]
  },
  {
   "cell_type": "markdown",
   "metadata": {},
   "source": [
    "# Download metagenomics data\n",
    "\n",
    "Let's now download the metagenomics data."
   ]
  },
  {
   "cell_type": "code",
   "execution_count": 5,
   "metadata": {},
   "outputs": [
    {
     "name": "stdout",
     "output_type": "stream",
     "text": [
      "Downloading files from metagenomics/metagenomes-small.txt\n",
      "Downloading files to metagenomics/data-small\n",
      "fasterq-dump --threads 48 --split-spot -o metagenomics/data-small/ERR1713335.fastq ERR1713335 1> metagenomics/data-small/log.ERR1713335.out 2> metagenomics/data-small/log.ERR1713335.err\n",
      "pigz --processes 48 metagenomics/data-small/ERR1713335.fastq\n",
      "Done. Took 2.90 minutes."
     ]
    }
   ],
   "source": [
    "accessions_file=\"metagenomics/metagenomes-small.txt\"\n",
    "output_dir=\"metagenomics/data-small\"\n",
    "download_sequence_reads ${accessions_file} ${output_dir}"
   ]
  },
  {
   "cell_type": "code",
   "execution_count": 6,
   "metadata": {},
   "outputs": [
    {
     "name": "stdout",
     "output_type": "stream",
     "text": [
      "-rw-r--r-- 1 apetkau grp_apetkau 4.4G Dec  5 17:35 metagenomics/data-small/ERR1713335.fastq.gz\n",
      "1\n"
     ]
    }
   ],
   "source": [
    "ls -lh ${output_dir}/*.gz | head\n",
    "ls ${output_dir}/*.gz | wc -l"
   ]
  },
  {
   "cell_type": "markdown",
   "metadata": {},
   "source": [
    "# Human genomics data\n",
    "\n",
    "Now let's download the human genomics data."
   ]
  },
  {
   "cell_type": "code",
   "execution_count": 7,
   "metadata": {},
   "outputs": [
    {
     "name": "stdout",
     "output_type": "stream",
     "text": [
      "Downloading files from human/human-genomes-small.txt\n",
      "Downloading files to human/data-small\n",
      "fasterq-dump --threads 48 --split-spot -o human/data-small/SRR038300.fastq SRR038300 1> human/data-small/log.SRR038300.out 2> human/data-small/log.SRR038300.err\n",
      "pigz --processes 48 human/data-small/SRR038300.fastq\n",
      "fasterq-dump --threads 48 --split-spot -o human/data-small/SRR039632.fastq SRR039632 1> human/data-small/log.SRR039632.out 2> human/data-small/log.SRR039632.err\n",
      "pigz --processes 48 human/data-small/SRR039632.fastq\n",
      "fasterq-dump --threads 48 --split-spot -o human/data-small/SRR537114.fastq SRR537114 1> human/data-small/log.SRR537114.out 2> human/data-small/log.SRR537114.err\n",
      "pigz --processes 48 human/data-small/SRR537114.fastq\n",
      "Done. Took 0.53 minutes."
     ]
    }
   ],
   "source": [
    "accessions_file=\"human/human-genomes-small.txt\"\n",
    "output_dir=\"human/data-small\"\n",
    "download_sequence_reads ${accessions_file} ${output_dir}"
   ]
  },
  {
   "cell_type": "code",
   "execution_count": 8,
   "metadata": {},
   "outputs": [
    {
     "name": "stdout",
     "output_type": "stream",
     "text": [
      "-rw-r--r-- 1 apetkau grp_apetkau 747M Dec  5 17:36 human/data-small/SRR038300.fastq.gz\n",
      "-rw-r--r-- 1 apetkau grp_apetkau 345M Dec  5 17:36 human/data-small/SRR039632.fastq.gz\n",
      "-rw-r--r-- 1 apetkau grp_apetkau 528M Dec  5 17:37 human/data-small/SRR537114.fastq.gz\n",
      "3\n"
     ]
    }
   ],
   "source": [
    "ls -lh ${output_dir}/*.gz | head\n",
    "ls ${output_dir}/*.gz | wc -l"
   ]
  },
  {
   "cell_type": "markdown",
   "metadata": {},
   "source": [
    "Awesome. We've now downloaded all the data we need :)."
   ]
  }
 ],
 "metadata": {
  "kernelspec": {
   "display_name": "Bash",
   "language": "bash",
   "name": "bash"
  },
  "language_info": {
   "codemirror_mode": "shell",
   "file_extension": ".sh",
   "mimetype": "text/x-sh",
   "name": "bash"
  }
 },
 "nbformat": 4,
 "nbformat_minor": 4
}
