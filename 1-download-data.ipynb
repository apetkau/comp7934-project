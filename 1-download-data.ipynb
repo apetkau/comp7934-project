{
 "cells": [
  {
   "cell_type": "markdown",
   "metadata": {},
   "source": [
    "# Download sequence read data\n",
    "\n",
    "This notebook describes the procedures taken to download all the sequence read data.\n",
    "\n",
    "First, we will start by setting some environment variables."
   ]
  },
  {
   "cell_type": "code",
   "execution_count": null,
   "metadata": {},
   "outputs": [],
   "source": [
    "accessions_file_extension='small.txt'\n",
    "output_dir_fragment='data-small'\n",
    "\n",
    "PROJECT_DIR=`git rev-parse --show-toplevel`\n",
    "cd $PROJECT_DIR\n",
    "ls"
   ]
  },
  {
   "cell_type": "markdown",
   "metadata": {},
   "source": [
    "Now, let's download the data. \n",
    "\n",
    "The download code given below assumes you have the following [conda](https://docs.conda.io/en/latest/) environments setup to install [sra-tools](https://github.com/ncbi/sra-tools) and [fastp](https://github.com/OpenGene/fastp). This can be done with.\n",
    "\n",
    "```bash\n",
    "conda create --name sra-tools sra-tools fastp\n",
    "```\n",
    "\n",
    "We also assume that you have the command [pigz](https://zlib.net/pigz/) setup (for faster gzipping).\n",
    "\n",
    "Once that's setup, let's define a bash function for downloading the data.\n",
    "\n",
    "## Bash download function"
   ]
  },
  {
   "cell_type": "code",
   "execution_count": null,
   "metadata": {},
   "outputs": [],
   "source": [
    "# Purpose: Downloads sequence reads\n",
    "# Args:\n",
    "#      accessions_file: A file contining a list (one per line) of sequence read accessions to download.\n",
    "#      output_dir: A directory to download the files into.\n",
    "#      interleaved_fastp: Set to '--interleaved_in' if data is paired-end, otherwise set to ''.\n",
    "download_sequence_reads() {\n",
    "    accessions_file=$1\n",
    "    output_dir=$2\n",
    "    interleaved_fastp=$3\n",
    "    \n",
    "    jobs=1\n",
    "    threads=24\n",
    "    \n",
    "    echo \"Downloading files from ${accessions_file}\"\n",
    "    echo \"Downloading files to ${output_dir}\"\n",
    "    \n",
    "    rm -rf ${output_dir}\n",
    "    mkdir -p ${output_dir}\n",
    "    \n",
    "    before=`date +%s`\n",
    "    \n",
    "    command=\"parallel -j ${jobs} -I% -a ${accessions_file} \\\n",
    "        fasterq-dump --threads ${threads} --split-spot --stdout % \\2\\> ${output_dir}/log.fasterq.%.err \\| \\\n",
    "        fastp ${interleaved_fastp} -l 15 --stdin --stdout \\2\\> ${output_dir}/log.fastp.%.err \\| \\\n",
    "        pigz -cp ${threads} - \\> ${output_dir}/%.fastq.gz\"\n",
    "    echo ${command}\n",
    "    conda run --name sra-tools ${command}\n",
    "        \n",
    "    after=`date +%s`\n",
    "    minutes=`echo \"(${after}-${before})/60\" | bc -l`\n",
    "    printf \"Done. Took %0.2f minutes.\" ${minutes}\n",
    "}"
   ]
  },
  {
   "cell_type": "markdown",
   "metadata": {},
   "source": [
    "# Download microbial data\n",
    "\n",
    "Now, let's download the microbial data."
   ]
  },
  {
   "cell_type": "code",
   "execution_count": null,
   "metadata": {},
   "outputs": [],
   "source": [
    "download_sequence_reads \"microbial/microbial-genomes-${accessions_file_extension}\" \"microbial/${output_dir_fragment}\" '--interleaved_in'"
   ]
  },
  {
   "cell_type": "markdown",
   "metadata": {},
   "source": [
    "Awesome. We've downloaded all the microbial data. Let's check out the files."
   ]
  },
  {
   "cell_type": "code",
   "execution_count": null,
   "metadata": {},
   "outputs": [],
   "source": [
    "ls -lh ${output_dir}/*.gz | head\n",
    "ls ${output_dir}/*.gz | wc -l"
   ]
  },
  {
   "cell_type": "markdown",
   "metadata": {},
   "source": [
    "# Download metagenomics data\n",
    "\n",
    "Let's now download the metagenomics data."
   ]
  },
  {
   "cell_type": "code",
   "execution_count": null,
   "metadata": {},
   "outputs": [],
   "source": [
    "download_sequence_reads \"metagenomics/metagenomes-${accessions_file_extension}\" \"metagenomics/${output_dir_fragment}\" '--interleaved_in'"
   ]
  },
  {
   "cell_type": "code",
   "execution_count": null,
   "metadata": {},
   "outputs": [],
   "source": [
    "ls -lh ${output_dir}/*.gz | head\n",
    "ls ${output_dir}/*.gz | wc -l"
   ]
  },
  {
   "cell_type": "markdown",
   "metadata": {},
   "source": [
    "# Human genomics data\n",
    "\n",
    "Now let's download the human genomics data."
   ]
  },
  {
   "cell_type": "code",
   "execution_count": null,
   "metadata": {},
   "outputs": [],
   "source": [
    "download_sequence_reads \"human/human-genomes-${accessions_file_extension}\" \"human/${output_dir_fragment}\" ''"
   ]
  },
  {
   "cell_type": "code",
   "execution_count": null,
   "metadata": {},
   "outputs": [],
   "source": [
    "ls -lh ${output_dir}/*.gz | head\n",
    "ls ${output_dir}/*.gz | wc -l"
   ]
  },
  {
   "cell_type": "markdown",
   "metadata": {},
   "source": [
    "Awesome. We've now downloaded all the data we need :)."
   ]
  }
 ],
 "metadata": {
  "kernelspec": {
   "display_name": "Bash",
   "language": "bash",
   "name": "bash"
  },
  "language_info": {
   "codemirror_mode": "shell",
   "file_extension": ".sh",
   "mimetype": "text/x-sh",
   "name": "bash"
  }
 },
 "nbformat": 4,
 "nbformat_minor": 4
}
