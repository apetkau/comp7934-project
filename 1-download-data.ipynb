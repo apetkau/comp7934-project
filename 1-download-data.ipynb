{
 "cells": [
  {
   "cell_type": "markdown",
   "metadata": {},
   "source": [
    "# Download sequence read data\n",
    "\n",
    "This notebook describes the procedures taken to download all the sequence read data.\n",
    "\n",
    "First, we will start by setting some environment variables."
   ]
  },
  {
   "cell_type": "code",
   "execution_count": 18,
   "metadata": {},
   "outputs": [
    {
     "name": "stdout",
     "output_type": "stream",
     "text": [
      "1-download-data.ipynb            \u001b[0m\u001b[01;34mbin\u001b[0m         fastp.json    \u001b[01;34mmicrobial\u001b[0m\n",
      "1-download-data.nbconvert.ipynb  \u001b[01;34mdb\u001b[0m          \u001b[01;34mhuman\u001b[0m         README.md\n",
      "2-clean-reads.ipynb              fastp.html  \u001b[01;34mmetagenomics\u001b[0m  Untitled.ipynb\n"
     ]
    }
   ],
   "source": [
    "PROJECT_DIR=`git rev-parse --show-toplevel`\n",
    "cd $PROJECT_DIR\n",
    "ls"
   ]
  },
  {
   "cell_type": "markdown",
   "metadata": {},
   "source": [
    "Now, let's download the data. \n",
    "\n",
    "The download code given below assumes you have the following [conda](https://docs.conda.io/en/latest/) environments setup. This can be done with.\n",
    "\n",
    "```bash\n",
    "conda create --name sra-tools sra-tools\n",
    "```\n",
    "\n",
    "We also assume that you have the command [pigz](https://zlib.net/pigz/) setup (for faster gzipping).\n",
    "\n",
    "Once that's setup, let's define a bash function for downloading the data.\n",
    "\n",
    "## Bash download function"
   ]
  },
  {
   "cell_type": "code",
   "execution_count": 19,
   "metadata": {},
   "outputs": [],
   "source": [
    "# Purpose: Downloads sequence reads\n",
    "# Args:\n",
    "#      accessions_file: A file contining a list (one per line) of sequence read accessions to download.\n",
    "#      output_dir: A directory to download the files into.\n",
    "#      pe: Set to 1 if dataset is pe, otherwise set to 0.\n",
    "download_sequence_reads() {\n",
    "    accessions_file=$1\n",
    "    output_dir=$2\n",
    "    pe=$3\n",
    "    \n",
    "    threads=48\n",
    "    \n",
    "    echo \"Downloading files from ${accessions_file}\"\n",
    "    echo \"Downloading files to ${output_dir}\"\n",
    "    \n",
    "    rm -rf ${output_dir}\n",
    "    mkdir -p ${output_dir}\n",
    "    \n",
    "    before=`date +%s`\n",
    "    for name in `cat ${accessions_file}`;\n",
    "    do\n",
    "        output=${output_dir}/${name}.fastq.gz\n",
    "        log_fasterq=${output_dir}/log.${name}.fasterq\n",
    "        log_fastp=${output_dir}/log.${name}.fastp\n",
    "    \n",
    "        command=\"fasterq-dump --split-spot --stdout ${name} 2> ${log_fasterq} | fastp --interleaved_in --stdin --stdout 2> ${log_fastp} | pigz -cp ${threads} - > ${output}\"\n",
    "        echo ${command}\n",
    "        conda run --name sra-tools ${command}\n",
    "    done\n",
    "    after=`date +%s`\n",
    "    minutes=`echo \"(${after}-${before})/60\" | bc -l`\n",
    "    printf \"Done. Took %0.2f minutes.\" ${minutes}\n",
    "}"
   ]
  },
  {
   "cell_type": "markdown",
   "metadata": {},
   "source": [
    "# Download microbial data\n",
    "\n",
    "Now, let's download the microbial data."
   ]
  },
  {
   "cell_type": "code",
   "execution_count": 20,
   "metadata": {},
   "outputs": [
    {
     "name": "stdout",
     "output_type": "stream",
     "text": [
      "Downloading files from microbial/microbial-genomes-small.txt\n",
      "Downloading files to microbial/data-small\n",
      "fasterq-dump --split-spot --stdout SRR10298904 2> microbial/data-small/log.SRR10298904.fasterq | fastp --interleaved_in --stdin --stdout 2> microbial/data-small/log.SRR10298904.fastp | pigz -cp 48 - > microbial/data-small/SRR10298904.fastq.gz\n",
      "fasterq-dump --split-spot --stdout SRR10298906 2> microbial/data-small/log.SRR10298906.fasterq | fastp --interleaved_in --stdin --stdout 2> microbial/data-small/log.SRR10298906.fastp | pigz -cp 48 - > microbial/data-small/SRR10298906.fastq.gz\n",
      "Done. Took 0.40 minutes."
     ]
    }
   ],
   "source": [
    "accessions_file=\"microbial/microbial-genomes-small.txt\"\n",
    "output_dir=\"microbial/data-small\"\n",
    "download_sequence_reads ${accessions_file} ${output_dir} 1"
   ]
  },
  {
   "cell_type": "markdown",
   "metadata": {},
   "source": [
    "Awesome. We've downloaded all the microbial data. Let's check out the files."
   ]
  },
  {
   "cell_type": "code",
   "execution_count": 21,
   "metadata": {},
   "outputs": [
    {
     "name": "stdout",
     "output_type": "stream",
     "text": [
      "-rw-r--r-- 1 apetkau grp_apetkau 100M Dec  5 18:39 microbial/data-small/SRR10298904.fastq.gz\n",
      "-rw-r--r-- 1 apetkau grp_apetkau 191M Dec  5 18:40 microbial/data-small/SRR10298906.fastq.gz\n",
      "2\n"
     ]
    }
   ],
   "source": [
    "ls -lh ${output_dir}/*.gz | head\n",
    "ls ${output_dir}/*.gz | wc -l"
   ]
  },
  {
   "cell_type": "markdown",
   "metadata": {},
   "source": [
    "# Download metagenomics data\n",
    "\n",
    "Let's now download the metagenomics data."
   ]
  },
  {
   "cell_type": "code",
   "execution_count": null,
   "metadata": {},
   "outputs": [],
   "source": [
    "accessions_file=\"metagenomics/metagenomes-small.txt\"\n",
    "output_dir=\"metagenomics/data-small\"\n",
    "download_sequence_reads ${accessions_file} ${output_dir} 1"
   ]
  },
  {
   "cell_type": "code",
   "execution_count": null,
   "metadata": {},
   "outputs": [],
   "source": [
    "ls -lh ${output_dir}/*.gz | head\n",
    "ls ${output_dir}/*.gz | wc -l"
   ]
  },
  {
   "cell_type": "markdown",
   "metadata": {},
   "source": [
    "# Human genomics data\n",
    "\n",
    "Now let's download the human genomics data."
   ]
  },
  {
   "cell_type": "code",
   "execution_count": null,
   "metadata": {},
   "outputs": [],
   "source": [
    "accessions_file=\"human/human-genomes-small.txt\"\n",
    "output_dir=\"human/data-small\"\n",
    "download_sequence_reads ${accessions_file} ${output_dir} 0"
   ]
  },
  {
   "cell_type": "code",
   "execution_count": null,
   "metadata": {},
   "outputs": [],
   "source": [
    "ls -lh ${output_dir}/*.gz | head\n",
    "ls ${output_dir}/*.gz | wc -l"
   ]
  },
  {
   "cell_type": "markdown",
   "metadata": {},
   "source": [
    "Awesome. We've now downloaded all the data we need :)."
   ]
  }
 ],
 "metadata": {
  "kernelspec": {
   "display_name": "Bash",
   "language": "bash",
   "name": "bash"
  },
  "language_info": {
   "codemirror_mode": "shell",
   "file_extension": ".sh",
   "mimetype": "text/x-sh",
   "name": "bash"
  }
 },
 "nbformat": 4,
 "nbformat_minor": 4
}
