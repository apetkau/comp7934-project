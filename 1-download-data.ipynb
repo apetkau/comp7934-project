{
 "cells": [
  {
   "cell_type": "markdown",
   "metadata": {},
   "source": [
    "# Download sequence read data\n",
    "\n",
    "This notebook describes the procedures taken to download all the sequence read data.\n",
    "\n",
    "First, we will start by setting some environment variables."
   ]
  },
  {
   "cell_type": "code",
   "execution_count": null,
   "metadata": {},
   "outputs": [],
   "source": [
    "PROJECT_DIR=`git rev-parse --show-toplevel`\n",
    "cd $PROJECT_DIR\n",
    "ls"
   ]
  },
  {
   "cell_type": "markdown",
   "metadata": {},
   "source": [
    "Now, let's download the data. First let's define a bash function for downloading the data.\n",
    "\n",
    "## Bash download function"
   ]
  },
  {
   "cell_type": "code",
   "execution_count": null,
   "metadata": {},
   "outputs": [],
   "source": [
    "# Purpose: Downloads sequence reads\n",
    "# Args:\n",
    "#      accessions_file: A file contining a list (one per line) of sequence read accessions to download.\n",
    "#      output_dir: A directory to download the files into.\n",
    "download_sequence_reads() {\n",
    "    accessions_file=$1\n",
    "    output_dir=$2\n",
    "    \n",
    "    threads=48\n",
    "    \n",
    "    echo \"Downloading files from ${accessions_file}\"\n",
    "    echo \"Downloading files to ${output_dir}\"\n",
    "    \n",
    "    mkdir -p ${output_dir}\n",
    "    rm ${output_dir}/*\n",
    "    \n",
    "    before=`date +%s`\n",
    "    for name in `cat ${accessions_file}`;\n",
    "    do\n",
    "        output=${output_dir}/${name}\n",
    "        log=${output_dir}/log.${name}\n",
    "    \n",
    "        command=\"fasterq-dump --threads ${threads} -o ${output} --split-files ${name}\"\n",
    "        echo ${command} \"1> ${log}.out 2> ${log}.err\"\n",
    "        ${command} 1> ${log}.out 2> ${log}.err\n",
    "        \n",
    "        command=\"pigz --processes ${threads} ${output_dir}/${name}*\"\n",
    "        echo ${command}\n",
    "        ${command}\n",
    "    done\n",
    "    after=`date +%s`\n",
    "    minutes=`echo \"(${after}-${before})/60\" | bc -l`\n",
    "    printf \"Done. Took %0.2f minutes.\" ${minutes}\n",
    "}"
   ]
  },
  {
   "cell_type": "markdown",
   "metadata": {},
   "source": [
    "# Download microbial data\n",
    "\n",
    "Now, let's download the microbial data."
   ]
  },
  {
   "cell_type": "code",
   "execution_count": null,
   "metadata": {},
   "outputs": [],
   "source": [
    "accessions_file=\"microbial/microbial-genomes-small.txt\"\n",
    "output_dir=\"microbial/data-small\"\n",
    "download_sequence_reads ${accessions_file} ${output_dir}"
   ]
  },
  {
   "cell_type": "markdown",
   "metadata": {},
   "source": [
    "Awesome. We've downloaded all the microbial data. Let's check out the files."
   ]
  },
  {
   "cell_type": "code",
   "execution_count": null,
   "metadata": {},
   "outputs": [],
   "source": [
    "ls -lh ${output_dir}/*.fastq.gz | head\n",
    "ls ${output_dir}/*.fastq.gz | wc -l"
   ]
  },
  {
   "cell_type": "markdown",
   "metadata": {},
   "source": [
    "# Download metagenomics data\n",
    "\n",
    "Let's now download the metagenomics data."
   ]
  },
  {
   "cell_type": "code",
   "execution_count": null,
   "metadata": {},
   "outputs": [],
   "source": [
    "accessions_file=\"metagenomics/metagenomes-small.txt\"\n",
    "output_dir=\"metagenomics/data-small\"\n",
    "download_sequence_reads ${accessions_file} ${output_dir}"
   ]
  },
  {
   "cell_type": "code",
   "execution_count": null,
   "metadata": {},
   "outputs": [],
   "source": [
    "ls -lh ${output_dir}/*.fastq.gz | head\n",
    "ls ${output_dir}/*.fastq.gz | wc -l"
   ]
  },
  {
   "cell_type": "markdown",
   "metadata": {},
   "source": [
    "# Human genomics data\n",
    "\n",
    "Now let's download the human genomics data."
   ]
  },
  {
   "cell_type": "code",
   "execution_count": null,
   "metadata": {},
   "outputs": [],
   "source": [
    "accessions_file=\"human/human-genomes-small.txt\"\n",
    "output_dir=\"human/data-small\"\n",
    "download_sequence_reads ${accessions_file} ${output_dir}"
   ]
  },
  {
   "cell_type": "code",
   "execution_count": null,
   "metadata": {},
   "outputs": [],
   "source": [
    "ls -lh ${output_dir}/*.fastq.gz | head\n",
    "ls ${output_dir}/*.fastq.gz | wc -l"
   ]
  },
  {
   "cell_type": "markdown",
   "metadata": {},
   "source": [
    "Awesome. We've now downloaded all the data we need :)."
   ]
  }
 ],
 "metadata": {
  "kernelspec": {
   "display_name": "Bash",
   "language": "bash",
   "name": "bash"
  },
  "language_info": {
   "codemirror_mode": "shell",
   "file_extension": ".sh",
   "mimetype": "text/x-sh",
   "name": "bash"
  }
 },
 "nbformat": 4,
 "nbformat_minor": 4
}
