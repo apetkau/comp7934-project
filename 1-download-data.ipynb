{
 "cells": [
  {
   "cell_type": "markdown",
   "metadata": {},
   "source": [
    "# Download sequence read data\n",
    "\n",
    "This notebook describes the procedures taken to download all the sequence read data.\n",
    "\n",
    "First, we will start by setting some environment variables."
   ]
  },
  {
   "cell_type": "code",
   "execution_count": 1,
   "metadata": {},
   "outputs": [
    {
     "name": "stdout",
     "output_type": "stream",
     "text": [
      "1-download-data.ipynb  \u001b[0m\u001b[01;34mdb\u001b[0m        \u001b[01;34mhuman\u001b[0m         \u001b[01;34mmicrobial\u001b[0m\n",
      "\u001b[01;34mbin\u001b[0m                    \u001b[01;34mfast.tmp\u001b[0m  \u001b[01;34mmetagenomics\u001b[0m  README.md\n"
     ]
    }
   ],
   "source": [
    "PROJECT_DIR=`git rev-parse --show-toplevel`\n",
    "cd $PROJECT_DIR\n",
    "ls"
   ]
  },
  {
   "cell_type": "markdown",
   "metadata": {},
   "source": [
    "Now, let's download the data. First let's define a bash function for downloading the data.\n",
    "\n",
    "## Bash download function"
   ]
  },
  {
   "cell_type": "code",
   "execution_count": 19,
   "metadata": {},
   "outputs": [],
   "source": [
    "# Purpose: Downloads sequence reads\n",
    "# Args:\n",
    "#      accessions_file: A file contining a list (one per line) of sequence read accessions to download.\n",
    "#      output_dir: A directory to download the files into.\n",
    "download_sequence_reads() {\n",
    "    accessions_file=$1\n",
    "    output_dir=$2\n",
    "    \n",
    "    threads=48\n",
    "    \n",
    "    echo \"Downloading files from ${accessions_file}\"\n",
    "    echo \"Downloading files to ${output_dir}\"\n",
    "    \n",
    "    mkdir -p ${output_dir}\n",
    "    \n",
    "    before=`date +%s`\n",
    "    for name in `cat ${accessions_file}`;\n",
    "    do\n",
    "        output=${output_dir}/${name}\n",
    "        log=${output_dir}/log.${name}\n",
    "    \n",
    "        command=\"fasterq-dump --threads ${threads} -o ${output} --split-files ${name}\"\n",
    "        echo ${command} \"1> ${log}.out 2> ${log}.err\"\n",
    "        ${command} 1> ${log}.out 2> ${log}.err\n",
    "        \n",
    "        command=\"pigz --processes ${threads} ${output_dir}/${name}*\"\n",
    "        echo ${command}\n",
    "        ${command}\n",
    "    done\n",
    "    after=`date +%s`\n",
    "    minutes=`echo \"(${after}-${before})/60\" | bc -l`\n",
    "    printf \"Done. Took %0.2f minutes.\" ${minutes}\n",
    "}"
   ]
  },
  {
   "cell_type": "markdown",
   "metadata": {},
   "source": [
    "# Download microbial data\n",
    "\n",
    "Now, let's download the microbial data."
   ]
  },
  {
   "cell_type": "code",
   "execution_count": 20,
   "metadata": {},
   "outputs": [
    {
     "name": "stdout",
     "output_type": "stream",
     "text": [
      "Downloading files from microbial/microbial-genomes-small.txt\n",
      "Downloading files to microbial/data-small\n",
      "fasterq-dump --threads 48 -o microbial/data-small/SRR10298904 --split-files SRR10298904 1> microbial/data-small/log.SRR10298904.out 2> microbial/data-small/log.SRR10298904.err\n",
      "pigz --processes 48 microbial/data-small/SRR10298904_1.fastq microbial/data-small/SRR10298904_1.fastq.gz microbial/data-small/SRR10298904_2.fastq microbial/data-small/SRR10298904_2.fastq.gz\n",
      "microbial/data-small/SRR10298904_1.fastq.gz exists -- overwrite (y/n)? Done. Took 2.08 minutes."
     ]
    }
   ],
   "source": [
    "accessions_file=\"microbial/microbial-genomes-small.txt\"\n",
    "output_dir=\"microbial/data-small\"\n",
    "download_sequence_reads ${accessions_file} ${output_dir}"
   ]
  },
  {
   "cell_type": "markdown",
   "metadata": {},
   "source": [
    "Awesome. We've downloaded all the microbial data. Let's check out the files."
   ]
  },
  {
   "cell_type": "code",
   "execution_count": 4,
   "metadata": {},
   "outputs": [
    {
     "name": "stdout",
     "output_type": "stream",
     "text": [
      "total 101M\n",
      "-rw-r--r-- 1 apetkau grp_apetkau 48M Dec  5 16:18 SRR10298904_1.fastq.gz\n",
      "-rw-r--r-- 1 apetkau grp_apetkau 54M Dec  5 16:18 SRR10298904_2.fastq.gz\n",
      "2\n"
     ]
    }
   ],
   "source": [
    "ls -lh ${output_dir} | head\n",
    "ls ${output_dir} | wc -l"
   ]
  },
  {
   "cell_type": "code",
   "execution_count": null,
   "metadata": {},
   "outputs": [],
   "source": []
  }
 ],
 "metadata": {
  "kernelspec": {
   "display_name": "Bash",
   "language": "bash",
   "name": "bash"
  },
  "language_info": {
   "codemirror_mode": "shell",
   "file_extension": ".sh",
   "mimetype": "text/x-sh",
   "name": "bash"
  }
 },
 "nbformat": 4,
 "nbformat_minor": 4
}
