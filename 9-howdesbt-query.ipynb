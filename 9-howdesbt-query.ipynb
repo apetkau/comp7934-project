{
 "cells": [
  {
   "cell_type": "markdown",
   "metadata": {},
   "source": [
    "# Experiment: HowDeSBT query\n",
    "\n",
    "Now that we've build the HowDeSBT index, let's try to query for some genes.\n",
    "\n",
    "Let's setup some variables."
   ]
  },
  {
   "cell_type": "code",
   "execution_count": null,
   "metadata": {},
   "outputs": [],
   "source": [
    "kmer_size=\"17\"\n",
    "howdesbt_dir=howdesbt/${kmer_size}\n",
    "query_out_dir=queries\n",
    "\n",
    "PROJECT_DIR=`git rev-parse --show-toplevel`\n",
    "cd $PROJECT_DIR\n",
    "\n",
    "query_in_dir=${PROJECT_DIR}/queries\n",
    "query_file=${query_in_dir}/query.fasta"
   ]
  },
  {
   "cell_type": "markdown",
   "metadata": {},
   "source": [
    "The code given below assumes you have the following [conda](https://docs.conda.io/en/latest/) environments setup to install [howdesbt](https://github.com/medvedevgroup/HowDeSBT). This can be done with.\n",
    "\n",
    "```bash\n",
    "conda create --name howdesbt howdesbt\n",
    "```\n",
    "\n",
    "Let's verify these commands exist (and verify versions)."
   ]
  },
  {
   "cell_type": "code",
   "execution_count": null,
   "metadata": {},
   "outputs": [],
   "source": [
    "conda run --name howdesbt howdesbt --version"
   ]
  },
  {
   "cell_type": "markdown",
   "metadata": {},
   "source": [
    "Great. Now let's setup a bash function to do our query tests."
   ]
  },
  {
   "cell_type": "code",
   "execution_count": null,
   "metadata": {},
   "outputs": [],
   "source": [
    "howdesbt_query() {\n",
    "    type_dir=$1\n",
    "    output_dir=$2\n",
    "    \n",
    "    # Reset ourselves back to main directory\n",
    "    cd ${PROJECT_DIR}\n",
    "    cd ${type_dir}/${howdesbt_dir}\n",
    "    pwd\n",
    "    \n",
    "    mkdir ${output_dir}\n",
    "    \n",
    "    max_iter=10\n",
    "        \n",
    "    temp_dir=`mktemp -d`\n",
    "    for iteration in `seq 1 ${max_iter}`\n",
    "    do\n",
    "        iteration_out=${temp_dir}/${iteration}\n",
    "        command=\"/usr/bin/time -v howdesbt query --threshold=1.0 --tree=howdesbt.build.sbt ${query_file} \\\n",
    "            2> ${iteration_out} 1> /dev/null\"\n",
    "        echo ${command}\n",
    "        conda run --name howdesbt ${command}\n",
    "    done\n",
    "    \n",
    "    max_rss=`grep -h 'Maximum resident set size (kbytes)' ${temp_dir}/* | \n",
    "        sed -e 's/^\\s*Maximum resident set size (kbytes): //' |\n",
    "        sort -n |\n",
    "        tail -n 1`\n",
    "        \n",
    "    user_system_times=()\n",
    "    for iteration in ${temp_dir}/*\n",
    "    do\n",
    "        user_time=`grep 'User time (seconds)' ${iteration} | \n",
    "            sed -e 's/^\\s*User time (seconds): //'`\n",
    "        system_time=`grep 'System time (seconds)' ${iteration} | \n",
    "            sed -e 's/^\\s*System time (seconds): //'`\n",
    "        user_system_time=`echo \"${user_time}+${system_time}\" | bc`\n",
    "        \n",
    "        user_system_times=`printf \"${user_system_times}${user_system_time}\\t\"`\n",
    "    done\n",
    "    \n",
    "    #printf \"${user_system_times}\\n\"\n",
    "    time_med=`printf \"${user_system_times}\" | sed 's/\\t$//' | datamash transpose | datamash median 1`\n",
    "    \n",
    "    printf \"${user_system_times}\" | sed 's/\\t$//' > ${output_dir}/howdesbt-search-all-times-kmer-${kmer_size}.txt\n",
    "       \n",
    "    (echo -e \"median_time_user_system\\titerations\\tmax_rss_kbytes\"\n",
    "    echo -e \"${time_med}\\t${max_iter}\\t${max_rss}\") | \n",
    "        tee ${output_dir}/howdesbt-search-time-kmer-${kmer_size}.tsv |\n",
    "        column -t\n",
    "        \n",
    "    cd ${PROJECT_DIR}\n",
    "}"
   ]
  },
  {
   "cell_type": "markdown",
   "metadata": {},
   "source": [
    "## Microbial query\n",
    "\n",
    "Let's now run our search for the microbial dataset, measuring runtime (median) and RSS (max) out of a number of iterations."
   ]
  },
  {
   "cell_type": "code",
   "execution_count": null,
   "metadata": {},
   "outputs": [],
   "source": [
    "cd ${PROJECT_DIR}\n",
    "data_type_dir=\"microbial\"\n",
    "howdesbt_query \"${data_type_dir}\" \"${query_out_dir}\""
   ]
  },
  {
   "cell_type": "markdown",
   "metadata": {},
   "source": [
    "## Metagenomics query"
   ]
  },
  {
   "cell_type": "code",
   "execution_count": null,
   "metadata": {},
   "outputs": [],
   "source": [
    "cd ${PROJECT_DIR}\n",
    "data_type_dir=\"metagenomics\"\n",
    "howdesbt_query \"${data_type_dir}\" \"${query_out_dir}\""
   ]
  },
  {
   "cell_type": "markdown",
   "metadata": {},
   "source": [
    "## Human query"
   ]
  },
  {
   "cell_type": "code",
   "execution_count": null,
   "metadata": {},
   "outputs": [],
   "source": [
    "cd ${PROJECT_DIR}\n",
    "data_type_dir=\"human\"\n",
    "howdesbt_query \"${data_type_dir}\" \"${query_out_dir}\""
   ]
  },
  {
   "cell_type": "markdown",
   "metadata": {},
   "source": [
    "Awesome. We've gotten all the information about querying."
   ]
  }
 ],
 "metadata": {
  "kernelspec": {
   "display_name": "Bash",
   "language": "bash",
   "name": "bash"
  },
  "language_info": {
   "codemirror_mode": "shell",
   "file_extension": ".sh",
   "mimetype": "text/x-sh",
   "name": "bash"
  }
 },
 "nbformat": 4,
 "nbformat_minor": 4
}
