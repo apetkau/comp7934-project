{
 "cells": [
  {
   "cell_type": "markdown",
   "metadata": {},
   "source": [
    "# Assemble microbial genomes\n",
    "\n",
    "Let's assemble the microbial genomes so we can measure accuracy of HowDeSBT/BIGSI when compared to alignment based methods (e.g., BLAST).\n",
    "\n",
    "First, let's setup some environment variables."
   ]
  },
  {
   "cell_type": "code",
   "execution_count": 48,
   "metadata": {},
   "outputs": [],
   "source": [
    "data_type=microbial\n",
    "assembly_dir=assembly\n",
    "data_dir=data-downsampled\n",
    "queries_dir=queries\n",
    "\n",
    "threads=4\n",
    "jobs=12\n",
    "\n",
    "PROJECT_DIR=`git rev-parse --show-toplevel`\n",
    "cd $PROJECT_DIR"
   ]
  },
  {
   "cell_type": "markdown",
   "metadata": {},
   "source": [
    "The code given below assumes you have the following [conda](https://docs.conda.io/en/latest/) environments setup to install [skesa](https://github.com/ncbi/SKESA) and [staramr](https://github.com/phac-nml/staramr). This can be done with.\n",
    "\n",
    "```bash\n",
    "conda create --name staramr staramr\n",
    "conda create --name skesa skesa\n",
    "```\n",
    "\n",
    "Let's verify these commands exist (and verify versions)."
   ]
  },
  {
   "cell_type": "code",
   "execution_count": 13,
   "metadata": {},
   "outputs": [
    {
     "name": "stdout",
     "output_type": "stream",
     "text": [
      "SKESA v.2.3.0\n",
      "skesa --version \n",
      "\n",
      "staramr 0.5.1\n"
     ]
    }
   ],
   "source": [
    "conda run --name skesa skesa --version\n",
    "conda run --name staramr staramr --version"
   ]
  },
  {
   "cell_type": "markdown",
   "metadata": {},
   "source": [
    "Great. Let's now work at assembling all the genomes.\n",
    "\n",
    "## Assemble data\n",
    "\n",
    "For a fair comparison to BIGSI/HowDeSBT, we will only assemble the downsampled data (treating the paired-end datasets as single end). Let's do this now."
   ]
  },
  {
   "cell_type": "code",
   "execution_count": 16,
   "metadata": {},
   "outputs": [
    {
     "name": "stdout",
     "output_type": "stream",
     "text": [
      "mkdir: cannot create directory ‘microbial/assembly’: File exists\n",
      "Will run commands from [/tmp/tmp.kIhvDNvSaj] like:\n",
      "/usr/bin/time -v skesa --cores 4 --fastq microbial/data-downsampled/ERR1144974.fastq.gz --contigs_out microbial/assembly/ERR1144974.fasta 1> microbial/assembly/skesa.ERR1144974.log 2> microbial/assembly/skesa.ERR1144974.log.err\n",
      "parallel -j 12 -a /tmp/tmp.kIhvDNvSaj\n",
      "Done. Took 0.62 minutes.\n"
     ]
    }
   ],
   "source": [
    "input_dir=${data_type}/${data_dir}\n",
    "output_dir=${data_type}/${assembly_dir}\n",
    "\n",
    "mkdir ${output_dir}\n",
    "\n",
    "before=`date +%s`\n",
    "\n",
    "commands_file=`mktemp`\n",
    "for file in ${input_dir}/*.fastq.gz\n",
    "do\n",
    "    accession=`basename ${file} .fastq.gz`\n",
    "\n",
    "    output_file=${output_dir}/${accession}.fasta\n",
    "    output_log=${output_dir}/skesa.${accession}.log\n",
    "\n",
    "    command=\"/usr/bin/time -v skesa --cores ${threads} --fastq ${file} --contigs_out ${output_file} \\\n",
    "        1> ${output_log} 2> ${output_log}.err\"\n",
    "    echo ${command} >> ${commands_file}\n",
    "done\n",
    "\n",
    "command=\"parallel -j ${jobs} -a ${commands_file}\"\n",
    "echo \"Will run commands from [${commands_file}] like:\"\n",
    "head -n 1 ${commands_file}\n",
    "\n",
    "echo ${command}\n",
    "conda run --name skesa ${command}\n",
    "\n",
    "after=`date +%s`\n",
    "minutes=`echo \"(${after}-${before})/60\" | bc -l`\n",
    "printf \"Done. Took %0.2f minutes.\\n\" ${minutes}"
   ]
  },
  {
   "cell_type": "markdown",
   "metadata": {},
   "source": [
    "Finished. So let's look at the results."
   ]
  },
  {
   "cell_type": "code",
   "execution_count": 18,
   "metadata": {},
   "outputs": [
    {
     "name": "stdout",
     "output_type": "stream",
     "text": [
      "-rw-r--r-- 1 apetkau grp_apetkau  175K Dec 12 11:38 microbial/assembly/ERR1144974.fasta\n",
      "-rw-r--r-- 1 apetkau grp_apetkau  198K Dec 12 11:38 microbial/assembly/ERR1144975.fasta\n",
      "-rw-r--r-- 1 apetkau grp_apetkau  198K Dec 12 11:38 microbial/assembly/ERR1144976.fasta\n",
      "-rw-r--r-- 1 apetkau grp_apetkau  184K Dec 12 11:38 microbial/assembly/ERR1144977.fasta\n",
      "-rw-r--r-- 1 apetkau grp_apetkau  201K Dec 12 11:38 microbial/assembly/ERR1144978.fasta\n",
      "-rw-r--r-- 1 apetkau grp_apetkau  274K Dec 12 11:38 microbial/assembly/ERR3655992.fasta\n",
      "-rw-r--r-- 1 apetkau grp_apetkau  223K Dec 12 11:38 microbial/assembly/ERR3655994.fasta\n",
      "-rw-r--r-- 1 apetkau grp_apetkau  261K Dec 12 11:38 microbial/assembly/ERR3655996.fasta\n",
      "-rw-r--r-- 1 apetkau grp_apetkau  265K Dec 12 11:38 microbial/assembly/ERR3655998.fasta\n",
      "-rw-r--r-- 1 apetkau grp_apetkau  247K Dec 12 11:38 microbial/assembly/ERR3656002.fasta\n"
     ]
    }
   ],
   "source": [
    "ls -lh ${data_type}/${assembly_dir}/*.fasta | head"
   ]
  },
  {
   "cell_type": "markdown",
   "metadata": {},
   "source": [
    "These are all pretty small files (much less than what is expected for a full microbial genome which should be on the order of multi MB as they are on the order of multiple base pairs in length). But, this is expected as we used dramatically reduced reads as input (max 10 million bp per read set).\n",
    "\n",
    "Let's now search these genomes using `staramr` (which uses BLAST) for specific antimicrobial resistance genes and plasmind incompatibility factors which we will attempt to recover using BIGSI/HowDeSBT.\n",
    "\n",
    "## Search for AMR genes with StarAMR"
   ]
  },
  {
   "cell_type": "code",
   "execution_count": 19,
   "metadata": {},
   "outputs": [
    {
     "name": "stdout",
     "output_type": "stream",
     "text": [
      "2019-12-12 11:45:02,734 INFO: No --pointfinder-organism specified. Will not search the PointFinder databases\n",
      "2019-12-12 11:45:02,735 INFO: No --plasmidfinder-database-type specified. Will search the entire PlasmidFinder database\n",
      "2019-12-12 11:45:02,735 INFO: --output-dir set. All files will be output to [microbial/assembly/staramr]\n",
      "2019-12-12 11:45:02,735 INFO: Will exclude ResFinder/PointFinder genes listed in [/home/CSCScience.ca/apetkau/miniconda3/envs/staramr/lib/python3.7/site-packages/staramr/databases/exclude/data/genes_to_exclude.tsv]. Use --no-exclude-genes to disable\n",
      "2019-12-12 11:45:03,136 INFO: Making BLAST databases for input files\n",
      "2019-12-12 11:45:03,539 INFO: Scheduling blasts for ERR1144974.fasta\n",
      "2019-12-12 11:45:03,644 INFO: Scheduling blasts for ERR1144975.fasta\n",
      "2019-12-12 11:45:03,780 INFO: Scheduling blasts for ERR1144976.fasta\n",
      "2019-12-12 11:45:03,938 INFO: Scheduling blasts for ERR1144977.fasta\n",
      "2019-12-12 11:45:04,063 INFO: Scheduling blasts for ERR1144978.fasta\n",
      "2019-12-12 11:45:04,201 INFO: Scheduling blasts for ERR3655992.fasta\n",
      "2019-12-12 11:45:04,354 INFO: Scheduling blasts for ERR3655994.fasta\n",
      "2019-12-12 11:45:04,436 INFO: Scheduling blasts for ERR3655996.fasta\n",
      "2019-12-12 11:45:04,648 INFO: Scheduling blasts for ERR3655998.fasta\n",
      "2019-12-12 11:45:04,737 INFO: Scheduling blasts for ERR3656002.fasta\n",
      "2019-12-12 11:45:04,921 INFO: Scheduling blasts for ERR3656004.fasta\n",
      "2019-12-12 11:45:05,067 INFO: Scheduling blasts for ERR3656010.fasta\n",
      "2019-12-12 11:45:05,216 INFO: Scheduling blasts for ERR3656012.fasta\n",
      "2019-12-12 11:45:05,267 INFO: Scheduling blasts for ERR3656013.fasta\n",
      "2019-12-12 11:45:05,494 INFO: Scheduling blasts for ERR3656015.fasta\n",
      "2019-12-12 11:45:05,634 INFO: Scheduling blasts for ERR3656018.fasta\n",
      "2019-12-12 11:45:05,753 INFO: Scheduling blasts for ERR3656019.fasta\n",
      "2019-12-12 11:45:05,914 INFO: Scheduling blasts for SRR10298903.fasta\n",
      "2019-12-12 11:45:06,057 INFO: Scheduling blasts for SRR10298904.fasta\n",
      "2019-12-12 11:45:06,180 INFO: Scheduling blasts for SRR10298905.fasta\n",
      "2019-12-12 11:45:06,250 INFO: Scheduling blasts for SRR10298906.fasta\n",
      "2019-12-12 11:45:06,477 INFO: Scheduling blasts for SRR10298907.fasta\n",
      "2019-12-12 11:45:06,577 INFO: Scheduling blasts for SRR10512964.fasta\n",
      "2019-12-12 11:45:06,726 INFO: Scheduling blasts for SRR10512965.fasta\n",
      "2019-12-12 11:45:06,890 INFO: Scheduling blasts for SRR10512968.fasta\n",
      "2019-12-12 11:45:07,040 INFO: Scheduling blasts for SRR10513325.fasta\n",
      "2019-12-12 11:45:07,173 INFO: Scheduling blasts for SRR10513326.fasta\n",
      "2019-12-12 11:45:07,404 INFO: Scheduling blasts for SRR10513328.fasta\n",
      "2019-12-12 11:45:07,538 INFO: Scheduling blasts for SRR10513363.fasta\n",
      "2019-12-12 11:45:07,678 INFO: Scheduling blasts for SRR10513672.fasta\n",
      "2019-12-12 11:45:07,815 INFO: Scheduling blasts for SRR10519468.fasta\n",
      "2019-12-12 11:45:07,960 INFO: Scheduling blasts for SRR10519469.fasta\n",
      "2019-12-12 11:45:08,104 INFO: Scheduling blasts for SRR10519616.fasta\n",
      "2019-12-12 11:45:08,234 INFO: Scheduling blasts for SRR10519617.fasta\n",
      "2019-12-12 11:45:08,371 INFO: Scheduling blasts for SRR10519619.fasta\n",
      "2019-12-12 11:45:08,526 INFO: Scheduling blasts for SRR10519620.fasta\n",
      "2019-12-12 11:45:08,667 INFO: Scheduling blasts for SRR10519637.fasta\n",
      "2019-12-12 11:45:08,801 INFO: Scheduling blasts for SRR10521982.fasta\n",
      "2019-12-12 11:45:08,937 INFO: Scheduling blasts for SRR10521983.fasta\n",
      "2019-12-12 11:45:09,110 INFO: Scheduling blasts for SRR10521984.fasta\n",
      "2019-12-12 11:45:09,189 INFO: Scheduling blasts for SRR10527348.fasta\n",
      "2019-12-12 11:45:09,362 INFO: Scheduling blasts for SRR10527349.fasta\n",
      "2019-12-12 11:45:09,540 INFO: Scheduling blasts for SRR10527351.fasta\n",
      "2019-12-12 11:45:09,682 INFO: Scheduling blasts for SRR10527352.fasta\n",
      "2019-12-12 11:45:09,823 INFO: Scheduling blasts for SRR10527353.fasta\n",
      "2019-12-12 11:45:09,967 INFO: Scheduling blasts for SRR8088181.fasta\n",
      "2019-12-12 11:45:10,123 INFO: Scheduling blasts for SRR8088182.fasta\n",
      "2019-12-12 11:45:10,264 INFO: Scheduling blasts for SRR8088183.fasta\n",
      "2019-12-12 11:45:10,385 INFO: Scheduling blasts for SRR8088184.fasta\n",
      "2019-12-12 11:45:10,546 INFO: Scheduling blasts for SRR8088185.fasta\n",
      "2019-12-12 11:45:18,068 INFO: Finished. Took 0.26 minutes.\n",
      "2019-12-12 11:45:18,069 INFO: Predicting AMR resistance phenotypes is enabled. The predictions are for microbiological resistance and *not* clinical resistance. These results are continually being improved and we welcome any feedback.\n",
      "2019-12-12 11:45:18,087 INFO: Writing resfinder to [microbial/assembly/staramr/resfinder.tsv]\n",
      "2019-12-12 11:45:18,089 INFO: --output-dir or --output-pointfinder unset. No pointfinder file will be written\n",
      "2019-12-12 11:45:18,089 INFO: Writing plasmidfinder to [microbial/assembly/staramr/plasmidfinder.tsv]\n",
      "2019-12-12 11:45:18,090 INFO: Writing summary to [microbial/assembly/staramr/summary.tsv]\n",
      "2019-12-12 11:45:18,090 INFO: Writing detailed summary to [microbial/assembly/staramr/detailed_summary.tsv]\n",
      "2019-12-12 11:45:18,091 INFO: Writing settings to [microbial/assembly/staramr/settings.txt]\n",
      "2019-12-12 11:45:18,092 INFO: Writing Excel to [microbial/assembly/staramr/results.xlsx]\n",
      "2019-12-12 11:45:18,146 INFO: BLAST hits are stored in [microbial/assembly/staramr/hits]\n"
     ]
    }
   ],
   "source": [
    "staramr_out_dir=${data_type}/${assembly_dir}/staramr\n",
    "staramr_in_dir=${data_type}/${assembly_dir}\n",
    "conda run --name staramr staramr search -o ${staramr_out_dir} ${staramr_in_dir}/*.fasta"
   ]
  },
  {
   "cell_type": "markdown",
   "metadata": {},
   "source": [
    "Awesome. Finished. Let's take a look at what was found."
   ]
  },
  {
   "cell_type": "code",
   "execution_count": 22,
   "metadata": {},
   "outputs": [
    {
     "name": "stdout",
     "output_type": "stream",
     "text": [
      "Isolate ID\tGenotype\tPredicted Phenotype\tPlasmid\n",
      "ERR1144974\tNone\tSensitive\tNone\n",
      "ERR1144975\tNone\tSensitive\tNone\n",
      "ERR1144976\tNone\tSensitive\tNone\n",
      "ERR1144977\tNone\tSensitive\tNone\n",
      "ERR1144978\tNone\tSensitive\tNone\n",
      "ERR3655992\tNone\tSensitive\tNone\n",
      "ERR3655994\tNone\tSensitive\tNone\n",
      "ERR3655996\tNone\tSensitive\tNone\n",
      "ERR3655998\tNone\tSensitive\tNone\n",
      "ERR3656002\tNone\tSensitive\tNone\n",
      "ERR3656004\tNone\tSensitive\tNone\n",
      "ERR3656010\tNone\tSensitive\tNone\n",
      "ERR3656012\tNone\tSensitive\tNone\n",
      "ERR3656013\tNone\tSensitive\tNone\n",
      "ERR3656015\tNone\tSensitive\tNone\n",
      "ERR3656018\taac(6')-Ib-cr, aac(6')-Ib-cr, dfrA27, sul1\tgentamicin, ciprofloxacin I/R, trimethoprim, sulfisoxazole\tIncFIA(HI1)\n",
      "ERR3656019\tNone\tSensitive\tNone\n",
      "SRR10298903\tNone\tSensitive\tNone\n",
      "SRR10298904\tNone\tSensitive\tNone\n",
      "SRR10298905\tNone\tSensitive\tNone\n",
      "SRR10298906\tNone\tSensitive\tNone\n",
      "SRR10298907\tNone\tSensitive\tNone\n",
      "SRR10512964\tNone\tSensitive\tNone\n",
      "SRR10512965\taac(6')-Ib-cr, aac(6')-Ib-cr, sul1\tgentamicin, ciprofloxacin I/R, sulfisoxazole\tIncN\n",
      "SRR10512968\tblaSHV-31, sul1\tampicillin, ceftriaxone, sulfisoxazole\tNone\n",
      "SRR10513325\tNone\tSensitive\tNone\n",
      "SRR10513326\tNone\tSensitive\tNone\n",
      "SRR10513328\tNone\tSensitive\tNone\n",
      "SRR10513363\tNone\tSensitive\tNone\n",
      "SRR10513672\tNone\tSensitive\tNone\n",
      "SRR10519468\ttet(O)\ttetracycline\tNone\n",
      "SRR10519469\ttet(O)\ttetracycline\tNone\n",
      "SRR10519616\tNone\tSensitive\tNone\n",
      "SRR10519617\tNone\tSensitive\tNone\n",
      "SRR10519619\tNone\tSensitive\tNone\n",
      "SRR10519620\tNone\tSensitive\tNone\n",
      "SRR10519637\tqnrB19\tciprofloxacin I/R\tNone\n",
      "SRR10521982\tNone\tSensitive\tNone\n",
      "SRR10521983\tNone\tSensitive\tNone\n",
      "SRR10521984\ttet(O)\ttetracycline\tNone\n",
      "SRR10527348\taph(3'')-Ib, aph(6)-Id, sul2\tstreptomycin, kanamycin, sulfisoxazole\tCol(BS512)\n",
      "SRR10527349\taph(6)-Id, strA\tkanamycin, streptomycin\tIncFII\n",
      "SRR10527351\taph(6)-Id, sul2\tkanamycin, sulfisoxazole\tCol(BS512), IncI1\n",
      "SRR10527352\tNone\tSensitive\tCol(BS512)\n",
      "SRR10527353\tdfrA15\ttrimethoprim\tNone\n",
      "SRR8088181\tNone\tSensitive\tNone\n",
      "SRR8088182\tblaTEM-1B\tampicillin\tNone\n",
      "SRR8088183\tNone\tSensitive\tNone\n",
      "SRR8088184\ttet(M)\ttetracycline\tNone\n",
      "SRR8088185\tblaTEM-1B\tampicillin\tNone\n"
     ]
    }
   ],
   "source": [
    "cat ${staramr_out_dir}/summary.tsv"
   ]
  },
  {
   "cell_type": "markdown",
   "metadata": {},
   "source": [
    "This shows a summary of the detected antimicrobial resistance genes as well as plasmind incompatibilty factors. Most are listed as finding **None** for genes as we are working with only fractions of a genome."
   ]
  },
  {
   "cell_type": "code",
   "execution_count": 33,
   "metadata": {},
   "outputs": [
    {
     "name": "stdout",
     "output_type": "stream",
     "text": [
      "Isolate ID\tPlasmid\t%Identity\t%Overlap\tHSP Length/Total Length\tContig\tStart\tEnd\tAccession\n",
      "ERR3656018\tIncFIA(HI1)\t98.47\t67.27\t261/388\tContig_468_3.70863\t38\t298\tAF250878\n",
      "SRR10512965\tIncN\t99.81\t100.00\t514/514\tContig_1087_3.83191\t113\t626\tAY046276\n",
      "SRR10527348\tCol(BS512)\t100.00\t100.00\t233/233\tContig_1_18.8607_Circ\t632\t400\t010656\n",
      "SRR10527349\tIncFII\t100.00\t89.66\t234/261\tContig_645_4.83077\t345\t112\tAY458016\n",
      "SRR10527351\tCol(BS512)\t100.00\t100.00\t233/233\tContig_512_9.2097\t918\t686\t010656\n",
      "SRR10527351\tIncI1\t100.00\t78.87\t112/142\tContig_457_4.26061\t1\t112\tAP005147\n",
      "SRR10527352\tCol(BS512)\t100.00\t100.00\t233/233\tContig_464_16.3518\t918\t686\t010656\n"
     ]
    }
   ],
   "source": [
    "cat ${staramr_out_dir}/plasmidfinder.tsv"
   ]
  },
  {
   "cell_type": "markdown",
   "metadata": {},
   "source": [
    "This shows the plasmind incompatibility factors detected in the genome. We are specifically looking for something with **%Identity** at 100 and **%Overlap** at 100 so we can use exact matching for our searches."
   ]
  },
  {
   "cell_type": "code",
   "execution_count": 40,
   "metadata": {},
   "outputs": [
    {
     "name": "stdout",
     "output_type": "stream",
     "text": [
      "SRR10527348\tCol(BS512)\t\u001b[01;31m\u001b[K100.00\t100.00\u001b[m\u001b[K\t233/233\tContig_1_18.8607_Circ\t632\t400\t010656\n",
      "SRR10527351\tCol(BS512)\t\u001b[01;31m\u001b[K100.00\t100.00\u001b[m\u001b[K\t233/233\tContig_512_9.2097\t918\t686\t010656\n",
      "SRR10527352\tCol(BS512)\t\u001b[01;31m\u001b[K100.00\t100.00\u001b[m\u001b[K\t233/233\tContig_464_16.3518\t918\t686\t010656\n"
     ]
    }
   ],
   "source": [
    "grep -P '100.00\\t100.00' ${staramr_out_dir}/plasmidfinder.tsv"
   ]
  },
  {
   "cell_type": "markdown",
   "metadata": {},
   "source": [
    "Okay. So it looks like this exact same sequence (of length `233`) is found in 3 genomes. We can use this as the **true** matches for comparison to HowDeSBT and BIGSI.\n",
    "\n",
    "Let's pull out the genomic sequence (based on the accession number `010656`) and place into our `queries` directory."
   ]
  },
  {
   "cell_type": "code",
   "execution_count": 51,
   "metadata": {},
   "outputs": [
    {
     "name": "stdout",
     "output_type": "stream",
     "text": [
      ">Col(BS512)_1__NC_010656 isolate: SRR10527348, contig: Contig_1_18.8607_Circ, contig_start: 632, contig_end: 400, database_gene_start: 1, database_gene_end: 233, hsp/length: 233/233, pid: 100.00%, plength: 100.00%\n",
      "ATGAATGCGGCGTTTAAGCGAATGGAAAAGCGAAAGGAGCTATCACCTGTTCAGGGGTGG\n",
      "ATCAGGGCTACGGAGGTGACGCGAGGTAAGGATGGCAGCGCACATCCGCATTTTCACTGT\n",
      "CTGCTGATGGTGCAACCTTCTTGGTTTAAAGGGAAGAACTACGTTAAGCACGAACGTTGG\n",
      "GTAGAACTCTGGCGCGATTGCTTGCGGGTGAACTATGAGCCGAATATCGATAT\n"
     ]
    }
   ],
   "source": [
    "grep -A 5 '010656' ${staramr_out_dir}/hits/plasmidfinder_SRR10527348.fasta |\n",
    "    tee ${queries_dir}/accuracy_query.fasta"
   ]
  },
  {
   "cell_type": "markdown",
   "metadata": {},
   "source": [
    "Awesome. We've now extracted a gene which we know exists in the assemblies for our accuracy comparisons."
   ]
  }
 ],
 "metadata": {
  "kernelspec": {
   "display_name": "Bash",
   "language": "bash",
   "name": "bash"
  },
  "language_info": {
   "codemirror_mode": "shell",
   "file_extension": ".sh",
   "mimetype": "text/x-sh",
   "name": "bash"
  }
 },
 "nbformat": 4,
 "nbformat_minor": 4
}
