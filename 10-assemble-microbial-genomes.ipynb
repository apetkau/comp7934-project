{
 "cells": [
  {
   "cell_type": "markdown",
   "metadata": {},
   "source": [
    "# Assemble microbial genomes\n",
    "\n",
    "Let's assemble the microbial genomes so we can measure accuracy of HowDeSBT/BIGSI when compared to alignment based methods (e.g., BLAST).\n",
    "\n",
    "First, let's setup some environment variables."
   ]
  },
  {
   "cell_type": "code",
   "execution_count": 1,
   "metadata": {},
   "outputs": [],
   "source": [
    "data_type=microbial\n",
    "assembly_dir=assembly\n",
    "data_dir=data-downsampled\n",
    "queries_dir=queries\n",
    "true_samples_file=${queries_dir}/microbial_accuracy_true_samples.txt\n",
    "\n",
    "threads=4\n",
    "jobs=12\n",
    "\n",
    "PROJECT_DIR=`git rev-parse --show-toplevel`\n",
    "cd $PROJECT_DIR"
   ]
  },
  {
   "cell_type": "markdown",
   "metadata": {},
   "source": [
    "The code given below assumes you have the following [conda](https://docs.conda.io/en/latest/) environments setup to install [skesa](https://github.com/ncbi/SKESA) and [staramr](https://github.com/phac-nml/staramr). This can be done with.\n",
    "\n",
    "```bash\n",
    "conda create --name staramr staramr\n",
    "conda create --name skesa skesa\n",
    "```\n",
    "\n",
    "Let's verify these commands exist (and verify versions)."
   ]
  },
  {
   "cell_type": "code",
   "execution_count": 4,
   "metadata": {},
   "outputs": [
    {
     "name": "stdout",
     "output_type": "stream",
     "text": [
      "SKESA v.2.3.0\n",
      "skesa --version \n",
      "\n",
      "staramr 0.5.1\n",
      "blastn: 2.5.0+\n",
      " Package: blast 2.5.0, build Sep 20 2018 01:34:18\n"
     ]
    }
   ],
   "source": [
    "conda run --name skesa skesa --version\n",
    "conda run --name staramr staramr --version\n",
    "conda run --name staramr blastn -version"
   ]
  },
  {
   "cell_type": "markdown",
   "metadata": {},
   "source": [
    "Great. Let's now work at assembling all the genomes.\n",
    "\n",
    "## Assemble data\n",
    "\n",
    "For a fair comparison to BIGSI/HowDeSBT, we will only assemble the downsampled data (treating the paired-end datasets as single end). Let's do this now."
   ]
  },
  {
   "cell_type": "code",
   "execution_count": 5,
   "metadata": {},
   "outputs": [
    {
     "name": "stdout",
     "output_type": "stream",
     "text": [
      "mkdir: cannot create directory ‘microbial/assembly’: File exists\n",
      "Will run commands from [/tmp/tmp.5LTGne85j9] like:\n",
      "/usr/bin/time -v skesa --cores 4 --fastq microbial/data-downsampled/ERR1144974.fastq.gz --contigs_out microbial/assembly/ERR1144974.fasta 1> microbial/assembly/skesa.ERR1144974.log 2> microbial/assembly/skesa.ERR1144974.log.err\n",
      "parallel -j 12 -a /tmp/tmp.5LTGne85j9\n",
      "Done. Took 0.60 minutes.\n"
     ]
    }
   ],
   "source": [
    "input_dir=${data_type}/${data_dir}\n",
    "output_dir=${data_type}/${assembly_dir}\n",
    "\n",
    "mkdir ${output_dir}\n",
    "\n",
    "before=`date +%s`\n",
    "\n",
    "commands_file=`mktemp`\n",
    "for file in ${input_dir}/*.fastq.gz\n",
    "do\n",
    "    accession=`basename ${file} .fastq.gz`\n",
    "\n",
    "    output_file=${output_dir}/${accession}.fasta\n",
    "    output_log=${output_dir}/skesa.${accession}.log\n",
    "\n",
    "    command=\"/usr/bin/time -v skesa --cores ${threads} --fastq ${file} --contigs_out ${output_file} \\\n",
    "        1> ${output_log} 2> ${output_log}.err\"\n",
    "    echo ${command} >> ${commands_file}\n",
    "done\n",
    "\n",
    "command=\"parallel -j ${jobs} -a ${commands_file}\"\n",
    "echo \"Will run commands from [${commands_file}] like:\"\n",
    "head -n 1 ${commands_file}\n",
    "\n",
    "echo ${command}\n",
    "conda run --name skesa ${command}\n",
    "\n",
    "after=`date +%s`\n",
    "minutes=`echo \"(${after}-${before})/60\" | bc -l`\n",
    "printf \"Done. Took %0.2f minutes.\\n\" ${minutes}"
   ]
  },
  {
   "cell_type": "markdown",
   "metadata": {},
   "source": [
    "Finished. So let's look at the results."
   ]
  },
  {
   "cell_type": "code",
   "execution_count": 6,
   "metadata": {},
   "outputs": [
    {
     "name": "stdout",
     "output_type": "stream",
     "text": [
      "-rw-r--r-- 1 apetkau grp_apetkau  175K Dec 13 11:34 microbial/assembly/ERR1144974.fasta\n",
      "-rw-r--r-- 1 apetkau grp_apetkau  198K Dec 13 11:34 microbial/assembly/ERR1144975.fasta\n",
      "-rw-r--r-- 1 apetkau grp_apetkau  198K Dec 13 11:34 microbial/assembly/ERR1144976.fasta\n",
      "-rw-r--r-- 1 apetkau grp_apetkau  184K Dec 13 11:34 microbial/assembly/ERR1144977.fasta\n",
      "-rw-r--r-- 1 apetkau grp_apetkau  201K Dec 13 11:34 microbial/assembly/ERR1144978.fasta\n",
      "-rw-r--r-- 1 apetkau grp_apetkau  274K Dec 13 11:34 microbial/assembly/ERR3655992.fasta\n",
      "-rw-r--r-- 1 apetkau grp_apetkau  223K Dec 13 11:34 microbial/assembly/ERR3655994.fasta\n",
      "-rw-r--r-- 1 apetkau grp_apetkau  261K Dec 13 11:34 microbial/assembly/ERR3655996.fasta\n",
      "-rw-r--r-- 1 apetkau grp_apetkau  265K Dec 13 11:34 microbial/assembly/ERR3655998.fasta\n",
      "-rw-r--r-- 1 apetkau grp_apetkau  247K Dec 13 11:34 microbial/assembly/ERR3656002.fasta\n"
     ]
    }
   ],
   "source": [
    "ls -lh ${data_type}/${assembly_dir}/*.fasta | head"
   ]
  },
  {
   "cell_type": "markdown",
   "metadata": {},
   "source": [
    "These are all pretty small files (much less than what is expected for a full microbial genome which should be on the order of multi MB as they are on the order of multiple base pairs in length). But, this is expected as we used dramatically reduced reads as input (max 10 million bp per read set).\n",
    "\n",
    "Let's now search these genomes using `staramr` (which uses BLAST) for specific antimicrobial resistance genes and plasmind incompatibility factors which we will attempt to recover using BIGSI/HowDeSBT.\n",
    "\n",
    "## Search for AMR genes with StarAMR"
   ]
  },
  {
   "cell_type": "code",
   "execution_count": 8,
   "metadata": {},
   "outputs": [
    {
     "name": "stdout",
     "output_type": "stream",
     "text": [
      "2019-12-13 11:36:23,494 INFO: No --pointfinder-organism specified. Will not search the PointFinder databases\n",
      "2019-12-13 11:36:23,494 INFO: No --plasmidfinder-database-type specified. Will search the entire PlasmidFinder database\n",
      "2019-12-13 11:36:23,494 INFO: --output-dir set. All files will be output to [microbial/assembly/staramr]\n",
      "2019-12-13 11:36:23,494 INFO: Will exclude ResFinder/PointFinder genes listed in [/home/CSCScience.ca/apetkau/miniconda3/envs/staramr/lib/python3.7/site-packages/staramr/databases/exclude/data/genes_to_exclude.tsv]. Use --no-exclude-genes to disable\n",
      "2019-12-13 11:36:23,862 INFO: Making BLAST databases for input files\n",
      "2019-12-13 11:36:24,258 INFO: Scheduling blasts for ERR1144974.fasta\n",
      "2019-12-13 11:36:24,380 INFO: Scheduling blasts for ERR1144975.fasta\n",
      "2019-12-13 11:36:24,518 INFO: Scheduling blasts for ERR1144976.fasta\n",
      "2019-12-13 11:36:24,649 INFO: Scheduling blasts for ERR1144977.fasta\n",
      "2019-12-13 11:36:24,793 INFO: Scheduling blasts for ERR1144978.fasta\n",
      "2019-12-13 11:36:24,929 INFO: Scheduling blasts for ERR3655992.fasta\n",
      "2019-12-13 11:36:25,069 INFO: Scheduling blasts for ERR3655994.fasta\n",
      "2019-12-13 11:36:25,109 INFO: Scheduling blasts for ERR3655996.fasta\n",
      "2019-12-13 11:36:25,352 INFO: Scheduling blasts for ERR3655998.fasta\n",
      "2019-12-13 11:36:25,481 INFO: Scheduling blasts for ERR3656002.fasta\n",
      "2019-12-13 11:36:25,637 INFO: Scheduling blasts for ERR3656004.fasta\n",
      "2019-12-13 11:36:25,707 INFO: Scheduling blasts for ERR3656010.fasta\n",
      "2019-12-13 11:36:25,919 INFO: Scheduling blasts for ERR3656012.fasta\n",
      "2019-12-13 11:36:26,070 INFO: Scheduling blasts for ERR3656013.fasta\n",
      "2019-12-13 11:36:26,205 INFO: Scheduling blasts for ERR3656015.fasta\n",
      "2019-12-13 11:36:26,337 INFO: Scheduling blasts for ERR3656018.fasta\n",
      "2019-12-13 11:36:26,483 INFO: Scheduling blasts for ERR3656019.fasta\n",
      "2019-12-13 11:36:26,635 INFO: Scheduling blasts for SRR10298903.fasta\n",
      "2019-12-13 11:36:26,772 INFO: Scheduling blasts for SRR10298904.fasta\n",
      "2019-12-13 11:36:26,914 INFO: Scheduling blasts for SRR10298905.fasta\n",
      "2019-12-13 11:36:27,050 INFO: Scheduling blasts for SRR10298906.fasta\n",
      "2019-12-13 11:36:27,188 INFO: Scheduling blasts for SRR10298907.fasta\n",
      "2019-12-13 11:36:27,331 INFO: Scheduling blasts for SRR10512964.fasta\n",
      "2019-12-13 11:36:27,469 INFO: Scheduling blasts for SRR10512965.fasta\n",
      "2019-12-13 11:36:27,611 INFO: Scheduling blasts for SRR10512968.fasta\n",
      "2019-12-13 11:36:27,752 INFO: Scheduling blasts for SRR10513325.fasta\n",
      "2019-12-13 11:36:27,897 INFO: Scheduling blasts for SRR10513326.fasta\n",
      "2019-12-13 11:36:28,073 INFO: Scheduling blasts for SRR10513328.fasta\n",
      "2019-12-13 11:36:28,186 INFO: Scheduling blasts for SRR10513363.fasta\n",
      "2019-12-13 11:36:28,359 INFO: Scheduling blasts for SRR10513672.fasta\n",
      "2019-12-13 11:36:28,470 INFO: Scheduling blasts for SRR10519468.fasta\n",
      "2019-12-13 11:36:28,625 INFO: Scheduling blasts for SRR10519469.fasta\n",
      "2019-12-13 11:36:28,784 INFO: Scheduling blasts for SRR10519616.fasta\n",
      "2019-12-13 11:36:28,919 INFO: Scheduling blasts for SRR10519617.fasta\n",
      "2019-12-13 11:36:29,064 INFO: Scheduling blasts for SRR10519619.fasta\n",
      "2019-12-13 11:36:29,206 INFO: Scheduling blasts for SRR10519620.fasta\n",
      "2019-12-13 11:36:29,367 INFO: Scheduling blasts for SRR10519637.fasta\n",
      "2019-12-13 11:36:29,503 INFO: Scheduling blasts for SRR10521982.fasta\n",
      "2019-12-13 11:36:29,647 INFO: Scheduling blasts for SRR10521983.fasta\n",
      "2019-12-13 11:36:29,794 INFO: Scheduling blasts for SRR10521984.fasta\n",
      "2019-12-13 11:36:29,938 INFO: Scheduling blasts for SRR10527348.fasta\n",
      "2019-12-13 11:36:30,069 INFO: Scheduling blasts for SRR10527349.fasta\n",
      "2019-12-13 11:36:30,217 INFO: Scheduling blasts for SRR10527351.fasta\n",
      "2019-12-13 11:36:30,361 INFO: Scheduling blasts for SRR10527352.fasta\n",
      "2019-12-13 11:36:30,500 INFO: Scheduling blasts for SRR10527353.fasta\n",
      "2019-12-13 11:36:30,653 INFO: Scheduling blasts for SRR8088181.fasta\n",
      "2019-12-13 11:36:30,764 INFO: Scheduling blasts for SRR8088182.fasta\n",
      "2019-12-13 11:36:30,902 INFO: Scheduling blasts for SRR8088183.fasta\n",
      "2019-12-13 11:36:31,088 INFO: Scheduling blasts for SRR8088184.fasta\n",
      "2019-12-13 11:36:31,205 INFO: Scheduling blasts for SRR8088185.fasta\n",
      "2019-12-13 11:36:33,713 WARNING: No drug found for drug_class=sulphonamide, gene=sul1_35, accession=AB281182\n",
      "2019-12-13 11:36:34,767 WARNING: No drug found for drug_class=sulphonamide, gene=sul1_35, accession=AB281182\n",
      "2019-12-13 11:36:35,135 WARNING: No drug found for drug_class=beta-lactam, gene=blaSHV-5a_alias, accession=blaSHV-9_1_S82452\n",
      "2019-12-13 11:36:39,952 INFO: Finished. Took 0.27 minutes.\n",
      "2019-12-13 11:36:39,953 INFO: Predicting AMR resistance phenotypes is enabled. The predictions are for microbiological resistance and *not* clinical resistance. These results are continually being improved and we welcome any feedback.\n",
      "2019-12-13 11:36:39,971 INFO: Writing resfinder to [microbial/assembly/staramr/resfinder.tsv]\n",
      "2019-12-13 11:36:39,976 INFO: --output-dir or --output-pointfinder unset. No pointfinder file will be written\n",
      "2019-12-13 11:36:39,976 INFO: Writing plasmidfinder to [microbial/assembly/staramr/plasmidfinder.tsv]\n",
      "2019-12-13 11:36:39,977 INFO: Writing summary to [microbial/assembly/staramr/summary.tsv]\n",
      "2019-12-13 11:36:39,977 INFO: Writing detailed summary to [microbial/assembly/staramr/detailed_summary.tsv]\n",
      "2019-12-13 11:36:39,980 INFO: Writing settings to [microbial/assembly/staramr/settings.txt]\n",
      "2019-12-13 11:36:39,981 INFO: Writing Excel to [microbial/assembly/staramr/results.xlsx]\n",
      "2019-12-13 11:36:40,199 INFO: BLAST hits are stored in [microbial/assembly/staramr/hits]\n"
     ]
    }
   ],
   "source": [
    "staramr_out_dir=${data_type}/${assembly_dir}/staramr\n",
    "staramr_in_dir=${data_type}/${assembly_dir}\n",
    "conda run --name staramr staramr search --report-all-blast -o ${staramr_out_dir} ${staramr_in_dir}/*.fasta"
   ]
  },
  {
   "cell_type": "markdown",
   "metadata": {},
   "source": [
    "Awesome. Finished. Let's take a look at what was found."
   ]
  },
  {
   "cell_type": "code",
   "execution_count": 9,
   "metadata": {},
   "outputs": [
    {
     "name": "stdout",
     "output_type": "stream",
     "text": [
      "Isolate ID\tGene\tPredicted Phenotype\t%Identity\t%Overlap\tHSP Length/Total Length\tContig\tStart\tEnd\tAccession\n",
      "ERR3656018\taac(6')-Ib\tgentamicin\t99.78\t73.60\t446/606\tContig_398_4.75352\t446\t1\tM23634\n",
      "ERR3656018\taac(6')-Ib\tamikacin, gentamicin, kanamycin\t99.78\t73.60\t446/606\tContig_398_4.75352\t446\t1\tM21682\n",
      "ERR3656018\taac(6')-Ib-11\tgentamicin\t99.33\t78.25\t446/570\tContig_398_4.75352\t446\t1\tAY136758\n",
      "ERR3656018\taac(6')-Ib-Hangzhou\tgentamicin\t99.29\t81.50\t423/519\tContig_398_4.75352\t423\t1\tFJ503047\n",
      "ERR3656018\taac(6')-Ib-Suzhou\tgentamicin\t99.76\t81.50\t423/519\tContig_398_4.75352\t423\t1\tEU085533\n",
      "ERR3656018\taac(6')-Ib-cr\tgentamicin\t100.00\t74.33\t446/600\tContig_398_4.75352\t446\t1\tDQ303918\n",
      "ERR3656018\taac(6')-Ib-cr\tgentamicin\t99.76\t81.50\t423/519\tContig_398_4.75352\t423\t1\tEF636461\n",
      "ERR3656018\taac(6')-Ib-cr\tciprofloxacin I/R\t100.00\t74.33\t446/600\tContig_398_4.75352\t446\t1\tDQ303918\n",
      "ERR3656018\taac(6')-Ib-cr\tciprofloxacin I/R\t99.76\t81.50\t423/519\tContig_398_4.75352\t423\t1\tEF636461\n"
     ]
    }
   ],
   "source": [
    "head ${staramr_out_dir}/resfinder.tsv"
   ]
  },
  {
   "cell_type": "markdown",
   "metadata": {},
   "source": [
    "This lists any found antimicrobial resistance genes in the genomes.\n",
    "\n",
    "Let's now look at the plasmid results."
   ]
  },
  {
   "cell_type": "code",
   "execution_count": 10,
   "metadata": {},
   "outputs": [
    {
     "name": "stdout",
     "output_type": "stream",
     "text": [
      "Isolate ID\tPlasmid\t%Identity\t%Overlap\tHSP Length/Total Length\tContig\tStart\tEnd\tAccession\n",
      "ERR3656018\tIncFIA(HI1)\t98.47\t67.27\t261/388\tContig_468_3.70863\t38\t298\tAF250878\n",
      "SRR10512965\tIncN\t99.81\t100.00\t514/514\tContig_1087_3.83191\t113\t626\tAY046276\n",
      "SRR10527348\tCol(BS512)\t100.00\t100.00\t233/233\tContig_1_18.8607_Circ\t632\t400\t010656\n",
      "SRR10527349\tIncFII\t100.00\t89.66\t234/261\tContig_645_4.83077\t345\t112\tAY458016\n",
      "SRR10527351\tCol(BS512)\t100.00\t100.00\t233/233\tContig_512_9.2097\t918\t686\t010656\n",
      "SRR10527351\tIncI1\t100.00\t78.87\t112/142\tContig_457_4.26061\t1\t112\tAP005147\n",
      "SRR10527352\tCol(BS512)\t100.00\t100.00\t233/233\tContig_464_16.3518\t918\t686\t010656\n"
     ]
    }
   ],
   "source": [
    "cat ${staramr_out_dir}/plasmidfinder.tsv"
   ]
  },
  {
   "cell_type": "markdown",
   "metadata": {},
   "source": [
    "This shows the plasmind incompatibility factors detected in the genomes. We are specifically looking for something with **%Identity** at 100 and **%Overlap** at 100 so we can use exact matching for our searches."
   ]
  },
  {
   "cell_type": "code",
   "execution_count": 11,
   "metadata": {},
   "outputs": [
    {
     "name": "stdout",
     "output_type": "stream",
     "text": [
      "SRR10527348\tCol(BS512)\t\u001b[01;31m\u001b[K100.00\t100.00\u001b[m\u001b[K\t233/233\tContig_1_18.8607_Circ\t632\t400\t010656\n",
      "SRR10527351\tCol(BS512)\t\u001b[01;31m\u001b[K100.00\t100.00\u001b[m\u001b[K\t233/233\tContig_512_9.2097\t918\t686\t010656\n",
      "SRR10527352\tCol(BS512)\t\u001b[01;31m\u001b[K100.00\t100.00\u001b[m\u001b[K\t233/233\tContig_464_16.3518\t918\t686\t010656\n"
     ]
    }
   ],
   "source": [
    "grep -P '100.00\\t100.00' ${staramr_out_dir}/plasmidfinder.tsv"
   ]
  },
  {
   "cell_type": "markdown",
   "metadata": {},
   "source": [
    "Okay. So it looks like this exact same sequence (of length `233`) is found in 3 genomes. We can use this as the **true** matches for comparison to HowDeSBT and BIGSI.\n",
    "\n",
    "Let's pull out the genomic sequence (based on the accession number `010656`) and place into our `queries` directory."
   ]
  },
  {
   "cell_type": "code",
   "execution_count": 12,
   "metadata": {},
   "outputs": [
    {
     "name": "stdout",
     "output_type": "stream",
     "text": [
      ">Col(BS512)_1__NC_010656 isolate: SRR10527348, contig: Contig_1_18.8607_Circ, contig_start: 632, contig_end: 400, database_gene_start: 1, database_gene_end: 233, hsp/length: 233/233, pid: 100.00%, plength: 100.00%\n",
      "ATGAATGCGGCGTTTAAGCGAATGGAAAAGCGAAAGGAGCTATCACCTGTTCAGGGGTGG\n",
      "ATCAGGGCTACGGAGGTGACGCGAGGTAAGGATGGCAGCGCACATCCGCATTTTCACTGT\n",
      "CTGCTGATGGTGCAACCTTCTTGGTTTAAAGGGAAGAACTACGTTAAGCACGAACGTTGG\n",
      "GTAGAACTCTGGCGCGATTGCTTGCGGGTGAACTATGAGCCGAATATCGATAT\n"
     ]
    }
   ],
   "source": [
    "grep -A 5 '010656' ${staramr_out_dir}/hits/plasmidfinder_SRR10527348.fasta |\n",
    "    tee ${queries_dir}/accuracy_query.fasta"
   ]
  },
  {
   "cell_type": "markdown",
   "metadata": {},
   "source": [
    "Let's also save the list of samples which are considered the ground truth to a file for later use."
   ]
  },
  {
   "cell_type": "code",
   "execution_count": 13,
   "metadata": {},
   "outputs": [
    {
     "name": "stdout",
     "output_type": "stream",
     "text": [
      "SRR10527348\n",
      "SRR10527351\n",
      "SRR10527352\n"
     ]
    }
   ],
   "source": [
    "grep '010656' ${staramr_out_dir}/plasmidfinder.tsv | cut -f 1 | tee ${true_samples_file}"
   ]
  },
  {
   "cell_type": "markdown",
   "metadata": {},
   "source": [
    "Awesome. We've now extracted a gene which we know exists in the assemblies for our accuracy comparisons."
   ]
  }
 ],
 "metadata": {
  "kernelspec": {
   "display_name": "Bash",
   "language": "bash",
   "name": "bash"
  },
  "language_info": {
   "codemirror_mode": "shell",
   "file_extension": ".sh",
   "mimetype": "text/x-sh",
   "name": "bash"
  }
 },
 "nbformat": 4,
 "nbformat_minor": 4
}
