{
 "cells": [
  {
   "cell_type": "code",
   "execution_count": 1,
   "metadata": {},
   "outputs": [
    {
     "name": "stdout",
     "output_type": "stream",
     "text": [
      "PRJEB13831.txt  process-data.ipynb\n"
     ]
    }
   ],
   "source": [
    "PROJECT_DIR=`git rev-parse --show-toplevel`\n",
    "cd $PROJECT_DIR/metagenomics\n",
    "ls"
   ]
  },
  {
   "cell_type": "markdown",
   "metadata": {},
   "source": [
    "# Step 1: Pick data\n",
    "\n",
    "We want to pick a random sample of 50 datasets from **PRJEB13831.txt**."
   ]
  },
  {
   "cell_type": "code",
   "execution_count": 4,
   "metadata": {},
   "outputs": [],
   "source": [
    "cut -f 2 PRJEB13831.txt |tail -n+2 | sort | uniq | shuf | head -n 50 > /tmp/samples50.txt"
   ]
  },
  {
   "cell_type": "code",
   "execution_count": 8,
   "metadata": {},
   "outputs": [],
   "source": [
    "(for i in `cat /tmp/samples50.txt`;\n",
    "do\n",
    "    grep \"${i}\" PRJEB13831.txt | head -n 1 | cut -f 3\n",
    "done) > metagenomes.txt"
   ]
  },
  {
   "cell_type": "code",
   "execution_count": 9,
   "metadata": {},
   "outputs": [
    {
     "name": "stdout",
     "output_type": "stream",
     "text": [
      "ERR1713335\n",
      "ERR1713397\n",
      "ERR1713406\n",
      "ERR1713375\n",
      "ERR1713374\n",
      "ERR1713351\n",
      "ERR1713352\n",
      "ERR1713336\n",
      "ERR1713400\n",
      "ERR1713376\n",
      "50 metagenomes.txt\n"
     ]
    }
   ],
   "source": [
    "head metagenomes.txt\n",
    "wc -l metagenomes.txt"
   ]
  },
  {
   "cell_type": "markdown",
   "metadata": {},
   "source": [
    "Great. We now have our sequence run data from 50 random samples."
   ]
  },
  {
   "cell_type": "markdown",
   "metadata": {},
   "source": [
    "# Step 1: Download data\n",
    "\n",
    "As a first step, let's download 5 random metagenomic datasets in the file `metagenomes.txt`."
   ]
  },
  {
   "cell_type": "code",
   "execution_count": 1,
   "metadata": {},
   "outputs": [
    {
     "name": "stdout",
     "output_type": "stream",
     "text": [
      "+ fasterq-dump -o data/ERR1713335 --split-files ERR1713335\n",
      "spots read      : 25,423,122\n",
      "reads read      : 50,846,244\n",
      "reads written   : 50,846,244\n",
      "\n",
      "real\t1m19.200s\n",
      "user\t2m20.918s\n",
      "sys\t0m51.724s\n",
      "+ pigz data/ERR1713335_1.fastq data/ERR1713335_2.fastq\n",
      "\n",
      "real\t0m51.609s\n",
      "user\t43m26.651s\n",
      "sys\t0m17.653s\n",
      "+ set +x\n",
      "+ fasterq-dump -o data/ERR1713397 --split-files ERR1713397\n",
      "spots read      : 44,621,047\n",
      "reads read      : 89,242,094\n",
      "reads written   : 89,242,094\n",
      "\n",
      "real\t3m28.542s\n",
      "user\t4m20.716s\n",
      "sys\t1m32.130s\n",
      "+ pigz data/ERR1713397_1.fastq data/ERR1713397_2.fastq\n",
      "\n",
      "real\t1m44.627s\n",
      "user\t75m57.375s\n",
      "sys\t0m31.828s\n",
      "+ set +x\n",
      "+ fasterq-dump -o data/ERR1713406 --split-files ERR1713406\n",
      "spots read      : 45,737,232\n",
      "reads read      : 91,474,464\n",
      "reads written   : 91,474,464\n",
      "\n",
      "real\t3m31.915s\n",
      "user\t4m32.552s\n",
      "sys\t1m36.749s\n",
      "+ pigz data/ERR1713406_1.fastq data/ERR1713406_2.fastq\n",
      "\n",
      "real\t1m37.228s\n",
      "user\t78m37.324s\n",
      "sys\t0m32.397s\n",
      "+ set +x\n",
      "+ fasterq-dump -o data/ERR1713375 --split-files ERR1713375\n",
      "spots read      : 21,799,125\n",
      "reads read      : 43,598,250\n",
      "reads written   : 43,598,250\n",
      "\n",
      "real\t1m2.680s\n",
      "user\t2m3.007s\n",
      "sys\t0m42.391s\n",
      "+ pigz data/ERR1713375_1.fastq data/ERR1713375_2.fastq\n",
      "\n",
      "real\t0m43.850s\n",
      "user\t37m31.905s\n",
      "sys\t0m15.635s\n",
      "+ set +x\n",
      "+ fasterq-dump -o data/ERR1713374 --split-files ERR1713374\n",
      "spots read      : 27,078,086\n",
      "reads read      : 54,156,172\n",
      "reads written   : 54,156,172\n",
      "\n",
      "real\t1m29.701s\n",
      "user\t2m42.456s\n",
      "sys\t0m57.223s\n",
      "+ pigz data/ERR1713374_1.fastq data/ERR1713374_2.fastq\n",
      "\n",
      "real\t0m54.307s\n",
      "user\t46m19.140s\n",
      "sys\t0m18.902s\n",
      "+ set +x\n"
     ]
    }
   ],
   "source": [
    "for name in `head -n 5 metagenomes.txt`;\n",
    "do\n",
    "    set -x\n",
    "    time fasterq-dump -o data/${name} --split-files ${name}\n",
    "    time pigz data/${name}*\n",
    "    set +x\n",
    "done"
   ]
  },
  {
   "cell_type": "code",
   "execution_count": 3,
   "metadata": {},
   "outputs": [
    {
     "name": "stdout",
     "output_type": "stream",
     "text": [
      "\u001b[0m\u001b[01;31mERR1713335_1.fastq.gz\u001b[0m  \u001b[01;31mERR1713375_1.fastq.gz\u001b[0m  \u001b[01;31mERR1713406_1.fastq.gz\u001b[0m\n",
      "\u001b[01;31mERR1713335_2.fastq.gz\u001b[0m  \u001b[01;31mERR1713375_2.fastq.gz\u001b[0m  \u001b[01;31mERR1713406_2.fastq.gz\u001b[0m\n",
      "\u001b[01;31mERR1713374_1.fastq.gz\u001b[0m  \u001b[01;31mERR1713397_1.fastq.gz\u001b[0m\n",
      "\u001b[01;31mERR1713374_2.fastq.gz\u001b[0m  \u001b[01;31mERR1713397_2.fastq.gz\u001b[0m\n"
     ]
    }
   ],
   "source": [
    "ls data"
   ]
  },
  {
   "cell_type": "code",
   "execution_count": 4,
   "metadata": {},
   "outputs": [
    {
     "name": "stdout",
     "output_type": "stream",
     "text": [
      "30G\tdata\n"
     ]
    }
   ],
   "source": [
    "du -sh data"
   ]
  },
  {
   "cell_type": "markdown",
   "metadata": {},
   "source": [
    "Awesome. We've downloaded and compressed all the metagenomes.\n",
    "\n",
    "# Step 2: Examining data\n",
    "\n",
    "Now, let's use the software [dashing](https://github.com/dnbaker/dashing) (version `0.4.0`) to estimate the total number of unique k-mers in our dataset.\n",
    "\n",
    "This sofware must be downloaded and placed in your `PATH`."
   ]
  },
  {
   "cell_type": "code",
   "execution_count": 1,
   "metadata": {},
   "outputs": [
    {
     "name": "stdout",
     "output_type": "stream",
     "text": [
      "Dashing version: v0.4.0-5-g9c13\n",
      "Dashing version: v0.4.0-5-g9c13\n",
      "Dashing version: v0.4.0-5-g9c13\n",
      "[int bns::hll_main(int, char**)] Processing 10 paths with 32 threads\n",
      "Estimated number of unique exact matches: 12650023887.000000\n"
     ]
    }
   ],
   "source": [
    "dashing_s512 --version\n",
    "dashing_s512 hll -k 31 -p 32 data/*.fastq.gz"
   ]
  },
  {
   "cell_type": "markdown",
   "metadata": {},
   "source": [
    "This result tells us that among all our metagenomes, we have appromximetly 1.3*10^10 (13 billion) unique 31-mers in our dataset.\n",
    "\n",
    "Let's normalize this value based on the number of bases in our data to get a value of **unique k-mers/hundred bp**.\n",
    "\n",
    "First, we have to count all the basepairs in our dataset."
   ]
  },
  {
   "cell_type": "code",
   "execution_count": 3,
   "metadata": {},
   "outputs": [
    {
     "name": "stdout",
     "output_type": "stream",
     "text": [
      "Number of reads: 329317224\n",
      "Number of bases in reads: 49726900824\n"
     ]
    }
   ],
   "source": [
    "# Code derived from https://bioinformatics.stackexchange.com/a/966\n",
    "pigz -dc data/*.fastq.gz | awk 'NR%4==2{c++; l+=length($0)}\n",
    "          END{\n",
    "                print \"Number of reads: \"c;\n",
    "                print \"Number of bases in reads: \"l\n",
    "              }'"
   ]
  },
  {
   "cell_type": "markdown",
   "metadata": {},
   "source": [
    "Next we have to convert to our normalized value **unique k-mers/hundred bp**."
   ]
  },
  {
   "cell_type": "code",
   "execution_count": 6,
   "metadata": {},
   "outputs": [
    {
     "name": "stdout",
     "output_type": "stream",
     "text": [
      "25.43899514625420043249\n"
     ]
    }
   ],
   "source": [
    "KMERS=12650023887\n",
    "BP=49726900824\n",
    "echo \"${KMERS}/(${BP}/100)\" | bc -l"
   ]
  },
  {
   "cell_type": "markdown",
   "metadata": {},
   "source": [
    "Awesome. This dataset has about 25 unique 31-mers/100 bp."
   ]
  },
  {
   "cell_type": "code",
   "execution_count": 2,
   "metadata": {},
   "outputs": [
    {
     "name": "stdout",
     "output_type": "stream",
     "text": [
      "Kmer Analysis Toolkit (KAT) V2.4.2\n",
      "\n",
      "Running KAT in HIST mode\n",
      "------------------------\n",
      "\n",
      "Input 1 is a sequence file.  Counting kmers for input 1 (data/ERR1713335_1.fastq.gz data/ERR1713335_2.fastq.gz) ...\n",
      "Warning: Specified hash size insufficent - attempting to double hash size...\n",
      "Warning: Specified hash size insufficent - attempting to double hash size...\n",
      "Warning: Specified hash size insufficent - attempting to double hash size...\n",
      "Warning: Specified hash size insufficent - attempting to double hash size...\n",
      "Warning: Specified hash size insufficent - attempting to double hash size...\n",
      "Warning: Specified hash size insufficent - attempting to double hash size...\n",
      "Warning: Specified hash size insufficent - attempting to double hash size...\n",
      "Warning: Specified hash size insufficent - attempting to double hash size...\n",
      "Warning: Specified hash size insufficent - attempting to double hash size...\n",
      "Warning: Specified hash size insufficent - attempting to double hash size...\n",
      "Warning: Specified hash size insufficent - attempting to double hash size...\n",
      "Warning: Specified hash size insufficent - attempting to double hash size...\n",
      "Warning: Specified hash size insufficent - attempting to double hash size...\n",
      "Warning: Specified hash size insufficent - attempting to double hash size...\n",
      "Warning: Specified hash size insufficent - attempting to double hash size...\n",
      "Warning: Specified hash size insufficent - attempting to double hash size...\n",
      "Warning: Specified hash size insufficent - attempting to double hash size...\n",
      "Warning: Specified hash size insufficent - attempting to double hash size...\n",
      "Warning: Specified hash size insufficent - attempting to double hash size...\n",
      "Warning: Specified hash size insufficent - attempting to double hash size...\n",
      "Warning: Specified hash size insufficent - attempting to double hash size...\n",
      "Warning: Specified hash size insufficent - attempting to double hash size...\n",
      "Warning: Specified hash size insufficent - attempting to double hash size...\n",
      "Warning: Specified hash size insufficent - attempting to double hash size...\n",
      "Warning: Specified hash size insufficent - attempting to double hash size...\n",
      "Warning: Specified hash size insufficent - attempting to double hash size...\n",
      "Warning: Specified hash size insufficent - attempting to double hash size...\n",
      "Warning: Specified hash size insufficent - attempting to double hash size...\n",
      "Warning: Specified hash size insufficent - attempting to double hash size...\n",
      "Warning: Specified hash size insufficent - attempting to double hash size...\n",
      "Warning: Specified hash size insufficent - attempting to double hash size...\n",
      "Warning: Specified hash size insufficent - attempting to double hash size... success!\n",
      " success!\n",
      " success!\n",
      " success!\n",
      " success!\n",
      " success!\n",
      " success!\n",
      " success!\n",
      " success!\n",
      " success!\n",
      " success!\n",
      " success!\n",
      " success!\n",
      " success!\n",
      " success!\n",
      " success!\n",
      " success!\n",
      " success!\n",
      " success!\n",
      " success!\n",
      " success!\n",
      " success!\n",
      " success!\n",
      " success!\n",
      " success!\n",
      " success!\n",
      " success!\n",
      " success!\n",
      " success!\n",
      " success!\n",
      " success!\n",
      " success!\n",
      "\n",
      "Warning: Specified hash size insufficent - attempting to double hash size...\n",
      "Warning: Specified hash size insufficent - attempting to double hash size...\n",
      "Warning: Specified hash size insufficent - attempting to double hash size...\n",
      "Warning: Specified hash size insufficent - attempting to double hash size...\n",
      "Warning: Specified hash size insufficent - attempting to double hash size...\n",
      "Warning: Specified hash size insufficent - attempting to double hash size...\n",
      "Warning: Specified hash size insufficent - attempting to double hash size...\n",
      "Warning: Specified hash size insufficent - attempting to double hash size...\n",
      "Warning: Specified hash size insufficent - attempting to double hash size...\n",
      "Warning: Specified hash size insufficent - attempting to double hash size...\n",
      "Warning: Specified hash size insufficent - attempting to double hash size...\n",
      "Warning: Specified hash size insufficent - attempting to double hash size...\n",
      "Warning: Specified hash size insufficent - attempting to double hash size...\n",
      "Warning: Specified hash size insufficent - attempting to double hash size...\n",
      "Warning: Specified hash size insufficent - attempting to double hash size...\n",
      "Warning: Specified hash size insufficent - attempting to double hash size...\n",
      "Warning: Specified hash size insufficent - attempting to double hash size...\n",
      "Warning: Specified hash size insufficent - attempting to double hash size...\n",
      "Warning: Specified hash size insufficent - attempting to double hash size...\n",
      "Warning: Specified hash size insufficent - attempting to double hash size...\n",
      "Warning: Specified hash size insufficent - attempting to double hash size...\n",
      "Warning: Specified hash size insufficent - attempting to double hash size...\n",
      "Warning: Specified hash size insufficent - attempting to double hash size...\n",
      "Warning: Specified hash size insufficent - attempting to double hash size...\n",
      "Warning: Specified hash size insufficent - attempting to double hash size...\n",
      "Warning: Specified hash size insufficent - attempting to double hash size...\n",
      "Warning: Specified hash size insufficent - attempting to double hash size...\n",
      "Warning: Specified hash size insufficent - attempting to double hash size...\n",
      "Warning: Specified hash size insufficent - attempting to double hash size...\n",
      "Warning: Specified hash size insufficent - attempting to double hash size...\n",
      "Warning: Specified hash size insufficent - attempting to double hash size...\n",
      "Warning: Specified hash size insufficent - attempting to double hash size... success!\n",
      " success!\n",
      " success!\n",
      " success!\n",
      " success!\n",
      " success!\n",
      " success!\n",
      " success!\n",
      " success!\n",
      " success!\n",
      " success!\n",
      " success!\n",
      " success!\n",
      " success!\n",
      " success!\n",
      " success!\n",
      " success!\n",
      " success!\n",
      " success!\n",
      " success!\n",
      " success!\n",
      " success!\n",
      " success!\n",
      " success!\n",
      " success!\n",
      " success!\n",
      " success!\n",
      " success!\n",
      " success!\n",
      " success!\n",
      " success!\n",
      " success!\n",
      "\n",
      "Warning: Specified hash size insufficent - attempting to double hash size...\n",
      "Warning: Specified hash size insufficent - attempting to double hash size...\n",
      "Warning: Specified hash size insufficent - attempting to double hash size...\n",
      "Warning: Specified hash size insufficent - attempting to double hash size...\n",
      "Warning: Specified hash size insufficent - attempting to double hash size...\n",
      "Warning: Specified hash size insufficent - attempting to double hash size...\n",
      "Warning: Specified hash size insufficent - attempting to double hash size...\n",
      "Warning: Specified hash size insufficent - attempting to double hash size...\n",
      "Warning: Specified hash size insufficent - attempting to double hash size...\n",
      "Warning: Specified hash size insufficent - attempting to double hash size...\n",
      "Warning: Specified hash size insufficent - attempting to double hash size...\n",
      "Warning: Specified hash size insufficent - attempting to double hash size...\n",
      "Warning: Specified hash size insufficent - attempting to double hash size...\n",
      "Warning: Specified hash size insufficent - attempting to double hash size...\n",
      "Warning: Specified hash size insufficent - attempting to double hash size...\n",
      "Warning: Specified hash size insufficent - attempting to double hash size...\n",
      "Warning: Specified hash size insufficent - attempting to double hash size...\n",
      "Warning: Specified hash size insufficent - attempting to double hash size...\n",
      "Warning: Specified hash size insufficent - attempting to double hash size...\n",
      "Warning: Specified hash size insufficent - attempting to double hash size...\n",
      "Warning: Specified hash size insufficent - attempting to double hash size...\n",
      "Warning: Specified hash size insufficent - attempting to double hash size...\n",
      "Warning: Specified hash size insufficent - attempting to double hash size...\n",
      "Warning: Specified hash size insufficent - attempting to double hash size...\n",
      "Warning: Specified hash size insufficent - attempting to double hash size...\n",
      "Warning: Specified hash size insufficent - attempting to double hash size...\n",
      "Warning: Specified hash size insufficent - attempting to double hash size...\n",
      "Warning: Specified hash size insufficent - attempting to double hash size...\n",
      "Warning: Specified hash size insufficent - attempting to double hash size...\n",
      "Warning: Specified hash size insufficent - attempting to double hash size...\n",
      "Warning: Specified hash size insufficent - attempting to double hash size...\n",
      "Warning: Specified hash size insufficent - attempting to double hash size... success!\n",
      " success!\n",
      " success!\n",
      " success!\n",
      " success!\n",
      " success!\n",
      " success!\n",
      " success!\n",
      " success!\n",
      " success!\n",
      " success!\n",
      " success!\n",
      " success!\n",
      " success!\n",
      " success!\n",
      " success!\n",
      " success!\n",
      " success!\n",
      " success!\n",
      " success!\n",
      " success!\n",
      " success!\n",
      " success!\n",
      " success!\n",
      " success!\n",
      " success!\n",
      " success!\n",
      " success!\n",
      " success!\n",
      " success!\n",
      " success!\n",
      " success!\n",
      "\n",
      "Warning: Specified hash size insufficent - attempting to double hash size...\n",
      "Warning: Specified hash size insufficent - attempting to double hash size...\n",
      "Warning: Specified hash size insufficent - attempting to double hash size...\n",
      "Warning: Specified hash size insufficent - attempting to double hash size...\n",
      "Warning: Specified hash size insufficent - attempting to double hash size...\n",
      "Warning: Specified hash size insufficent - attempting to double hash size...\n",
      "Warning: Specified hash size insufficent - attempting to double hash size...\n",
      "Warning: Specified hash size insufficent - attempting to double hash size...\n",
      "Warning: Specified hash size insufficent - attempting to double hash size...\n",
      "Warning: Specified hash size insufficent - attempting to double hash size...\n",
      "Warning: Specified hash size insufficent - attempting to double hash size...\n",
      "Warning: Specified hash size insufficent - attempting to double hash size...\n",
      "Warning: Specified hash size insufficent - attempting to double hash size...\n",
      "Warning: Specified hash size insufficent - attempting to double hash size...\n",
      "Warning: Specified hash size insufficent - attempting to double hash size...\n",
      "Warning: Specified hash size insufficent - attempting to double hash size...\n",
      "Warning: Specified hash size insufficent - attempting to double hash size...\n",
      "Warning: Specified hash size insufficent - attempting to double hash size...\n",
      "Warning: Specified hash size insufficent - attempting to double hash size...\n",
      "Warning: Specified hash size insufficent - attempting to double hash size...\n",
      "Warning: Specified hash size insufficent - attempting to double hash size...\n",
      "Warning: Specified hash size insufficent - attempting to double hash size...\n",
      "Warning: Specified hash size insufficent - attempting to double hash size...\n",
      "Warning: Specified hash size insufficent - attempting to double hash size...\n",
      "Warning: Specified hash size insufficent - attempting to double hash size...\n",
      "Warning: Specified hash size insufficent - attempting to double hash size...\n",
      "Warning: Specified hash size insufficent - attempting to double hash size...\n",
      "Warning: Specified hash size insufficent - attempting to double hash size...\n",
      "Warning: Specified hash size insufficent - attempting to double hash size...\n",
      "Warning: Specified hash size insufficent - attempting to double hash size...\n",
      "Warning: Specified hash size insufficent - attempting to double hash size...\n",
      "Warning: Specified hash size insufficent - attempting to double hash size... success!\n",
      " success!\n",
      " success!\n",
      " success!\n",
      " success!\n",
      " success!\n",
      " success!\n",
      " success!\n",
      " success!\n",
      " success!\n",
      " success!\n",
      " success!\n",
      " success!\n",
      " success!\n",
      " success!\n",
      " success!\n",
      " success!\n",
      " success!\n",
      " success!\n",
      " success!\n",
      " success!\n",
      " success!\n",
      " success!\n",
      " success!\n",
      " success!\n",
      " success!\n",
      " success!\n",
      " success!\n",
      " success!\n",
      " success!\n",
      " success!\n",
      " success!\n",
      "\n",
      "Warning: Specified hash size insufficent - attempting to double hash size...\n",
      "Warning: Specified hash size insufficent - attempting to double hash size...\n",
      "Warning: Specified hash size insufficent - attempting to double hash size...\n",
      "Warning: Specified hash size insufficent - attempting to double hash size...\n",
      "Warning: Specified hash size insufficent - attempting to double hash size...\n",
      "Warning: Specified hash size insufficent - attempting to double hash size...\n",
      "Warning: Specified hash size insufficent - attempting to double hash size...\n",
      "Warning: Specified hash size insufficent - attempting to double hash size...\n",
      "Warning: Specified hash size insufficent - attempting to double hash size...\n",
      "Warning: Specified hash size insufficent - attempting to double hash size...\n",
      "Warning: Specified hash size insufficent - attempting to double hash size...\n",
      "Warning: Specified hash size insufficent - attempting to double hash size...\n",
      "Warning: Specified hash size insufficent - attempting to double hash size...\n",
      "Warning: Specified hash size insufficent - attempting to double hash size...\n",
      "Warning: Specified hash size insufficent - attempting to double hash size...\n",
      "Warning: Specified hash size insufficent - attempting to double hash size...\n",
      "Warning: Specified hash size insufficent - attempting to double hash size...\n",
      "Warning: Specified hash size insufficent - attempting to double hash size...\n",
      "Warning: Specified hash size insufficent - attempting to double hash size...\n",
      "Warning: Specified hash size insufficent - attempting to double hash size...\n",
      "Warning: Specified hash size insufficent - attempting to double hash size...\n",
      "Warning: Specified hash size insufficent - attempting to double hash size...\n",
      "Warning: Specified hash size insufficent - attempting to double hash size...\n",
      "Warning: Specified hash size insufficent - attempting to double hash size...\n",
      "Warning: Specified hash size insufficent - attempting to double hash size...\n",
      "Warning: Specified hash size insufficent - attempting to double hash size...\n",
      "Warning: Specified hash size insufficent - attempting to double hash size...\n",
      "Warning: Specified hash size insufficent - attempting to double hash size...\n",
      "Warning: Specified hash size insufficent - attempting to double hash size...\n",
      "Warning: Specified hash size insufficent - attempting to double hash size...\n",
      "Warning: Specified hash size insufficent - attempting to double hash size...\n",
      "Warning: Specified hash size insufficent - attempting to double hash size... success!\n",
      " success!\n",
      " success!\n",
      " success!\n",
      " success!\n",
      " success!\n",
      " success!\n",
      " success!\n",
      " success!\n",
      " success!\n",
      " success!\n",
      " success!\n",
      " success!\n",
      " success!\n",
      " success!\n",
      " success!\n",
      " success!\n",
      " success!\n",
      " success!\n",
      " success!\n",
      " success!\n",
      " success!\n",
      " success!\n",
      " success!\n",
      " success!\n",
      " success!\n",
      " success!\n",
      " success!\n",
      " success!\n",
      " success!\n",
      " success!\n",
      " success!\n",
      " done.  Time taken: 354.2s\n",
      "\n",
      "Bining kmers ... done.  Time taken: 12.8s\n",
      "\n",
      "Merging counts ... done.  Time taken: 0.0s\n",
      "\n",
      "Saving results to disk ... done.  Time taken: 0.0s\n",
      "\n",
      "Creating plot ... done.  Time taken: 0.9s\n",
      "\n",
      "Analysing peaks\n",
      "---------------\n",
      "\n",
      "Analysing distributions for: ERR1713335_kat_hist ... done.  Time taken:  0.6s\n",
      "\n",
      "K-mer frequency spectra statistics\n",
      "----------------------------------\n",
      "K-value used: 31\n",
      "Peaks in analysis: 2\n",
      "Global minima @ Frequency=200x (2489)\n",
      "Global maxima @ Frequency=201x (2554)\n",
      "Overall mean k-mer frequency: 279x\n",
      "\n",
      "  Index    Left    Mean    Right    StdDev    Max    Volume  Description\n",
      "-------  ------  ------  -------  --------  -----  --------  -------------\n",
      "      1   21.95     201   380.05     89.52    640    141932  1X\n",
      "      2   30.28     402   773.72    185.86    282     90299  2X\n",
      "\n",
      "Calculating genome statistics\n",
      "-----------------------------\n",
      "Assuming that homozygous peak is the largest in the spectra with frequency of: 201x\n",
      "Homozygous peak index: 1\n",
      "CAUTION: the following estimates are based on having a clean spectra and having identified the correct homozygous peak!\n",
      "Estimated genome size: 0.32 Mbp\n",
      "\n",
      "Creating plots\n",
      "--------------\n",
      "\n",
      "Plotting K-mer frequency distributions ... done.  Saved to: None\n",
      "\n",
      "\n",
      "KAT HIST completed.\n",
      "Total runtime: 369.0s\n",
      "\n"
     ]
    }
   ],
   "source": [
    "conda run --name kat kat hist -o ERR1713335_kat_hist -t 32 -m 31 data/ERR1713335*.gz"
   ]
  },
  {
   "cell_type": "markdown",
   "metadata": {},
   "source": [
    "Awesome. We'll have to resize this image, so let's use `convert` from imagemagick to resize so we can display inline."
   ]
  },
  {
   "cell_type": "code",
   "execution_count": 7,
   "metadata": {},
   "outputs": [
    {
     "name": "stdout",
     "output_type": "stream",
     "text": [
      "\u001b[0m\u001b[01;34mdata\u001b[0m                                    \u001b[01;34mimages\u001b[0m\n",
      "ERR1713335_kat_hist                     metagenomes.txt\n",
      "ERR1713335_kat_hist.dist_analysis.json  PRJEB13831.txt\n",
      "\u001b[01;35mERR1713335_kat_hist.png\u001b[0m                 process-data.ipynb\n"
     ]
    }
   ],
   "source": [
    "ls\n",
    "convert ERR1713335_kat_hist.png -resize 600x images/ERR1713335_kat_hist.png"
   ]
  },
  {
   "cell_type": "markdown",
   "metadata": {},
   "source": [
    "The final k-mer distribution is:\n",
    "\n",
    "![ERR1713335_kat_hist.png](images/ERR1713335_kat_hist.png)"
   ]
  },
  {
   "cell_type": "markdown",
   "metadata": {},
   "source": [
    "I'm not sure why this is empty, since the histogram file shows data in it."
   ]
  },
  {
   "cell_type": "code",
   "execution_count": 8,
   "metadata": {},
   "outputs": [
    {
     "name": "stdout",
     "output_type": "stream",
     "text": [
      "# Title:31-mer spectra for: ERR1713335_1.fastq.gz ERR1713335_2.fastq.gz\n",
      "# XLabel:31-mer frequency\n",
      "# YLabel:# distinct 31-mers\n",
      "# Kmer value:31\n",
      "# Input 1:data/ERR1713335_1.fastq.gz data/ERR1713335_2.fastq.gz\n",
      "###\n",
      "1 1547349168\n",
      "2 365350996\n",
      "3 126094578\n",
      "4 72768428\n"
     ]
    }
   ],
   "source": [
    "head ERR1713335_kat_hist"
   ]
  }
 ],
 "metadata": {
  "kernelspec": {
   "display_name": "Bash [conda env:comp7934-project] *",
   "language": "bash",
   "name": "conda-env-comp7934-project-bash"
  },
  "language_info": {
   "codemirror_mode": "shell",
   "file_extension": ".sh",
   "mimetype": "text/x-sh",
   "name": "bash"
  }
 },
 "nbformat": 4,
 "nbformat_minor": 4
}
