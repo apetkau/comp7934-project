{
 "cells": [
  {
   "cell_type": "code",
   "execution_count": 1,
   "metadata": {},
   "outputs": [
    {
     "name": "stdout",
     "output_type": "stream",
     "text": [
      "\u001b[0m\u001b[01;34mdata\u001b[0m                                    metagenome-bigsi.ipynb\n",
      "ERR1713335_kat_hist                     metagenomes.txt\n",
      "ERR1713335_kat_hist.dist_analysis.json  PRJEB13831.txt\n",
      "\u001b[01;35mERR1713335_kat_hist.png\u001b[0m                 process-data.ipynb\n",
      "\u001b[01;34mimages\u001b[0m\n"
     ]
    }
   ],
   "source": [
    "NOTEBOOK_DIR=`git rev-parse --show-toplevel`\n",
    "ROOT_DIR=$NOTEBOOK_DIR/metagenomics\n",
    "cd $ROOT_DIR\n",
    "ls"
   ]
  },
  {
   "cell_type": "markdown",
   "metadata": {},
   "source": [
    "# Metagenomics BIGSI\n",
    "\n",
    "This runs `bigsi` <https://bigsi.readme.io/> on the metagenomics dataset. First, let's setup some variables to define size of bloom filters/bigsi parameters."
   ]
  },
  {
   "cell_type": "code",
   "execution_count": 2,
   "metadata": {},
   "outputs": [],
   "source": [
    "number_hashes=3\n",
    "m_value=25000000\n",
    "kmer_size=9\n",
    "\n",
    "threads=32"
   ]
  },
  {
   "cell_type": "markdown",
   "metadata": {},
   "source": [
    "# Step 1: Counting k-mers\n",
    "\n",
    "Step 1 involves counting kmers using [mccortex](https://github.com/mcveanlab/mccortex)."
   ]
  },
  {
   "cell_type": "code",
   "execution_count": 3,
   "metadata": {},
   "outputs": [
    {
     "name": "stdout",
     "output_type": "stream",
     "text": [
      "~/workspace/comp7934-project/metagenomics/bigsi ~/workspace/comp7934-project/metagenomics\n",
      "Working on ERR1713335\n",
      "+ conda run --name mccortex mccortex 9 build -t 32 -k 9 -s ERR1713335 --seq2 /home/CSCScience.ca/apetkau/workspace/comp7934-project/metagenomics/data/ERR1713335_1.fastq.gz:/home/CSCScience.ca/apetkau/workspace/comp7934-project/metagenomics/data/ERR1713335_2.fastq.gz ERR1713335.ctx\n",
      "+ set +x\n",
      "Working on ERR1713374\n",
      "+ conda run --name mccortex mccortex 9 build -t 32 -k 9 -s ERR1713374 --seq2 /home/CSCScience.ca/apetkau/workspace/comp7934-project/metagenomics/data/ERR1713374_1.fastq.gz:/home/CSCScience.ca/apetkau/workspace/comp7934-project/metagenomics/data/ERR1713374_2.fastq.gz ERR1713374.ctx\n",
      "+ set +x\n",
      "Working on ERR1713375\n",
      "+ conda run --name mccortex mccortex 9 build -t 32 -k 9 -s ERR1713375 --seq2 /home/CSCScience.ca/apetkau/workspace/comp7934-project/metagenomics/data/ERR1713375_1.fastq.gz:/home/CSCScience.ca/apetkau/workspace/comp7934-project/metagenomics/data/ERR1713375_2.fastq.gz ERR1713375.ctx\n",
      "+ set +x\n",
      "Working on ERR1713397\n",
      "+ conda run --name mccortex mccortex 9 build -t 32 -k 9 -s ERR1713397 --seq2 /home/CSCScience.ca/apetkau/workspace/comp7934-project/metagenomics/data/ERR1713397_1.fastq.gz:/home/CSCScience.ca/apetkau/workspace/comp7934-project/metagenomics/data/ERR1713397_2.fastq.gz ERR1713397.ctx\n",
      "+ set +x\n",
      "Working on ERR1713406\n",
      "+ conda run --name mccortex mccortex 9 build -t 32 -k 9 -s ERR1713406 --seq2 /home/CSCScience.ca/apetkau/workspace/comp7934-project/metagenomics/data/ERR1713406_1.fastq.gz:/home/CSCScience.ca/apetkau/workspace/comp7934-project/metagenomics/data/ERR1713406_2.fastq.gz ERR1713406.ctx\n",
      "+ set +x\n",
      "Done\n"
     ]
    }
   ],
   "source": [
    "cd $ROOT_DIR\n",
    "mkdir bigsi\n",
    "pushd bigsi\n",
    "\n",
    "for genome in $ROOT_DIR/data/*_1.fastq.gz;\n",
    "do\n",
    "    accession=`basename $genome _1.fastq.gz`\n",
    "    echo \"Working on $accession\"\n",
    "       \n",
    "    fastq_file_1=$ROOT_DIR/data/${accession}_1.fastq.gz\n",
    "    fastq_file_2=$ROOT_DIR/data/${accession}_2.fastq.gz\n",
    "    cortex_out=${accession}.ctx\n",
    "    cortex_log=${accession}_mccortex.log\n",
    "    \n",
    "    set -x\n",
    "    conda run --name mccortex mccortex ${kmer_size} build -t ${threads} -k ${kmer_size} -s ${accession} --seq2 ${fastq_file_1}:${fastq_file_2} ${cortex_out} 2> ${cortex_log}.err 1> ${cortex_log}\n",
    "    set +x\n",
    "done\n",
    "\n",
    "echo \"Done\""
   ]
  },
  {
   "cell_type": "code",
   "execution_count": 5,
   "metadata": {},
   "outputs": [
    {
     "name": "stdout",
     "output_type": "stream",
     "text": [
      "ERR1713335.ctx\n",
      "ERR1713374.ctx\n",
      "ERR1713375.ctx\n",
      "ERR1713397.ctx\n",
      "ERR1713406.ctx\n",
      "5\n",
      "8.2M\t.\n"
     ]
    }
   ],
   "source": [
    "ls *.ctx|head\n",
    "ls *.ctx | wc -l\n",
    "du -sh ."
   ]
  },
  {
   "cell_type": "markdown",
   "metadata": {},
   "source": [
    "Awesome. We've now got files named like `SRR8088185.ctx` in our directory containing the cortex graph/kmers."
   ]
  },
  {
   "cell_type": "markdown",
   "metadata": {},
   "source": [
    "# Step 2: Build BIGSI index\n",
    "\n",
    "In step 2, we'll look at building the `bigsi` indexes for each of these kmer counts.\n",
    "\n",
    "Let's setup the bigsi index configuration."
   ]
  },
  {
   "cell_type": "code",
   "execution_count": 6,
   "metadata": {},
   "outputs": [],
   "source": [
    "cat > berkeleydb.yaml << EOF\n",
    "## Example config using berkeleyDB\n",
    "h: ${number_hashes}\n",
    "k: ${kmer_size}\n",
    "m: ${m_value}\n",
    "storage-engine: berkeleydb\n",
    "storage-config:\n",
    "  filename: bigsi.db\n",
    "  flag: \"c\" ## Change to 'r' for read-only access\n",
    "EOF\n",
    "\n",
    "export BIGSI_CONFIG=berkeleydb.yaml"
   ]
  },
  {
   "cell_type": "markdown",
   "metadata": {},
   "source": [
    "Now, let's construct the blooom filters."
   ]
  },
  {
   "cell_type": "code",
   "execution_count": 10,
   "metadata": {},
   "outputs": [
    {
     "name": "stdout",
     "output_type": "stream",
     "text": [
      "bigsi-v0.3.1\n",
      "\n",
      "Available Commands:\n",
      "\n",
      " - bloom: Creates a bloom filter from a sequence file or cortex graph. (fastq...\n",
      " - build\n",
      " - delete\n",
      " - insert: Inserts a bloom filter into the graph          e.g. bigsi insert E...\n",
      " - merge\n",
      " - search\n",
      "\n",
      "ERROR conda.cli.main_run:execute(39): Subprocess for 'conda run ['bigsi']' command failed.  Stderr was:\n",
      "\n",
      "+ parallel --jobs 32 -I% conda run --name bigsi bigsi bloom % %.bloom ::: ERR1713335.ctx ERR1713374.ctx ERR1713375.ctx ERR1713397.ctx ERR1713406.ctx\n",
      "/home/CSCScience.ca/apetkau/miniconda3/envs/bigsi/lib/python3.7/site-packages/bigsi/__main__.py:45: YAMLLoadWarning: calling yaml.load() without Loader=... is deprecated, as the default Loader is unsafe. Please read https://msg.pyyaml.org/load for full details.\n",
      "  config = yaml.load(infile)\n",
      "/home/CSCScience.ca/apetkau/miniconda3/envs/bigsi/lib/python3.7/site-packages/bigsi/__main__.py:45: YAMLLoadWarning: calling yaml.load() without Loader=... is deprecated, as the default Loader is unsafe. Please read https://msg.pyyaml.org/load for full details.\n",
      "  config = yaml.load(infile)\n",
      "/home/CSCScience.ca/apetkau/miniconda3/envs/bigsi/lib/python3.7/site-packages/bigsi/__main__.py:45: YAMLLoadWarning: calling yaml.load() without Loader=... is deprecated, as the default Loader is unsafe. Please read https://msg.pyyaml.org/load for full details.\n",
      "  config = yaml.load(infile)\n",
      "/home/CSCScience.ca/apetkau/miniconda3/envs/bigsi/lib/python3.7/site-packages/bigsi/__main__.py:45: YAMLLoadWarning: calling yaml.load() without Loader=... is deprecated, as the default Loader is unsafe. Please read https://msg.pyyaml.org/load for full details.\n",
      "  config = yaml.load(infile)\n",
      "/home/CSCScience.ca/apetkau/miniconda3/envs/bigsi/lib/python3.7/site-packages/bigsi/__main__.py:45: YAMLLoadWarning: calling yaml.load() without Loader=... is deprecated, as the default Loader is unsafe. Please read https://msg.pyyaml.org/load for full details.\n",
      "  config = yaml.load(infile)\n",
      "+ set +x\n"
     ]
    }
   ],
   "source": [
    "conda run --name bigsi bigsi\n",
    "set -x\n",
    "parallel --jobs ${threads} -I% conda run --name bigsi bigsi bloom % %.bloom ::: *.ctx\n",
    "set +x"
   ]
  },
  {
   "cell_type": "code",
   "execution_count": 12,
   "metadata": {},
   "outputs": [
    {
     "name": "stdout",
     "output_type": "stream",
     "text": [
      "ERR1713335.ctx.bloom\n",
      "ERR1713374.ctx.bloom\n",
      "ERR1713375.ctx.bloom\n",
      "ERR1713397.ctx.bloom\n",
      "ERR1713406.ctx.bloom\n",
      "5\n"
     ]
    }
   ],
   "source": [
    "ls -d *.bloom|head\n",
    "ls -d *.bloom|wc -l"
   ]
  },
  {
   "cell_type": "markdown",
   "metadata": {},
   "source": [
    "Awesome. We now have our BIGSI bloom filters.\n",
    "\n",
    "Let's merge these all into a BIGSI index."
   ]
  },
  {
   "cell_type": "code",
   "execution_count": 20,
   "metadata": {},
   "outputs": [
    {
     "name": "stdout",
     "output_type": "stream",
     "text": [
      "+ /usr/bin/time -v conda run --name bigsi bigsi build ERR1713335.ctx.bloom ERR1713374.ctx.bloom ERR1713375.ctx.bloom ERR1713397.ctx.bloom ERR1713406.ctx.bloom -s ERR1713335 -s ERR1713374 -s ERR1713375 -s ERR1713397 -s ERR1713406\n",
      "{'result': 'success'}\n",
      "/home/CSCScience.ca/apetkau/miniconda3/envs/bigsi/lib/python3.7/site-packages/bigsi/__main__.py:45: YAMLLoadWarning: calling yaml.load() without Loader=... is deprecated, as the default Loader is unsafe. Please read https://msg.pyyaml.org/load for full details.\n",
      "  config = yaml.load(infile)\n",
      "INFO:bigsi.cmds.build:Building index: 0/1\n",
      "DEBUG:bigsi.cmds.build:Loading /home/CSCScience.ca/apetkau/workspace/comp7934-project/metagenomics/bigsi/ERR1713335.ctx.bloom/ERR1713335.ctx.bloom \n",
      "DEBUG:bigsi.cmds.build:Loading /home/CSCScience.ca/apetkau/workspace/comp7934-project/metagenomics/bigsi/ERR1713374.ctx.bloom/ERR1713374.ctx.bloom \n",
      "DEBUG:bigsi.cmds.build:Loading /home/CSCScience.ca/apetkau/workspace/comp7934-project/metagenomics/bigsi/ERR1713375.ctx.bloom/ERR1713375.ctx.bloom \n",
      "DEBUG:bigsi.cmds.build:Loading /home/CSCScience.ca/apetkau/workspace/comp7934-project/metagenomics/bigsi/ERR1713397.ctx.bloom/ERR1713397.ctx.bloom \n",
      "DEBUG:bigsi.cmds.build:Loading /home/CSCScience.ca/apetkau/workspace/comp7934-project/metagenomics/bigsi/ERR1713406.ctx.bloom/ERR1713406.ctx.bloom \n",
      "DEBUG:bigsi.graph.bigsi:Insert sample metadata\n",
      "DEBUG:bigsi.graph.bigsi:Create signature index\n",
      "DEBUG:bigsi.graph.index:Transpose bitarrays\n",
      "DEBUG:bigsi.graph.index:Insert rows\n",
      "DEBUG:bigsi.storage.base:set bitarrays\n",
      "\tCommand being timed: \"conda run --name bigsi bigsi build ERR1713335.ctx.bloom ERR1713374.ctx.bloom ERR1713375.ctx.bloom ERR1713397.ctx.bloom ERR1713406.ctx.bloom -s ERR1713335 -s ERR1713374 -s ERR1713375 -s ERR1713397 -s ERR1713406\"\n",
      "\tUser time (seconds): 211.42\n",
      "\tSystem time (seconds): 97.25\n",
      "\tPercent of CPU this job got: 100%\n",
      "\tElapsed (wall clock) time (h:mm:ss or m:ss): 5:05.90\n",
      "\tAverage shared text size (kbytes): 0\n",
      "\tAverage unshared data size (kbytes): 0\n",
      "\tAverage stack size (kbytes): 0\n",
      "\tAverage total size (kbytes): 0\n",
      "\tMaximum resident set size (kbytes): 348304\n",
      "\tAverage resident set size (kbytes): 0\n",
      "\tMajor (requiring I/O) page faults: 0\n",
      "\tMinor (reclaiming a frame) page faults: 101366\n",
      "\tVoluntary context switches: 1970\n",
      "\tInvoluntary context switches: 291110\n",
      "\tSwaps: 0\n",
      "\tFile system inputs: 0\n",
      "\tFile system outputs: 25257760\n",
      "\tSocket messages sent: 0\n",
      "\tSocket messages received: 0\n",
      "\tSignals delivered: 0\n",
      "\tPage size (bytes): 4096\n",
      "\tExit status: 0\n",
      "+ set +x\n"
     ]
    }
   ],
   "source": [
    "# Builds command-line string\n",
    "files=`echo -n *.bloom`\n",
    "samples=`for i in ${files}; do echo -n \"-s \"; basename $i .ctx.bloom; done`\n",
    "\n",
    "set -x\n",
    "/usr/bin/time -v conda run --name bigsi bigsi build ${files} ${samples}\n",
    "set +x"
   ]
  },
  {
   "cell_type": "code",
   "execution_count": 22,
   "metadata": {},
   "outputs": [
    {
     "name": "stdout",
     "output_type": "stream",
     "text": [
      "-rw-r--r-- 1 apetkau grp_apetkau 1.3G Dec  3 14:15 bigsi.db\n"
     ]
    }
   ],
   "source": [
    "ls -lh bigsi.db"
   ]
  },
  {
   "cell_type": "markdown",
   "metadata": {},
   "source": [
    "Awesome. We've gotten our database constructed. Let's try it out."
   ]
  },
  {
   "cell_type": "code",
   "execution_count": 23,
   "metadata": {},
   "outputs": [
    {
     "name": "stdout",
     "output_type": "stream",
     "text": [
      "sample_name\tpercent_kmers\n",
      "ERR1713335\t100\n"
     ]
    }
   ],
   "source": [
    "echo -e \"sample_name\\tpercent_kmers\"\n",
    "/usr/bin/time -v time conda run --name bigsi bigsi search GTTTCGTTCTTCCGGCGCGGGCGGTCAGCACGTTAACACCACCGACTCCGCTATCCGTATTACCCACTTGCCGACCGGCATCTTGGTGGAATGCCAGGACGAGC 2> /dev/null \\\n",
    "    | sed -e $'s/\\'/\\\"/g' | jq -r '.results[] | \"\\(.sample_name)\\t\\(.percent_kmers_found)\"'"
   ]
  },
  {
   "cell_type": "markdown",
   "metadata": {},
   "source": [
    "Awesome. We can use this BIGSI index to pull out sample identifiers with specific genes."
   ]
  },
  {
   "cell_type": "code",
   "execution_count": null,
   "metadata": {},
   "outputs": [],
   "source": []
  }
 ],
 "metadata": {
  "kernelspec": {
   "display_name": "Bash",
   "language": "bash",
   "name": "bash"
  },
  "language_info": {
   "codemirror_mode": "shell",
   "file_extension": ".sh",
   "mimetype": "text/x-sh",
   "name": "bash"
  }
 },
 "nbformat": 4,
 "nbformat_minor": 4
}
