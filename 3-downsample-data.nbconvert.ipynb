{
 "cells": [
  {
   "cell_type": "markdown",
   "metadata": {},
   "source": [
    " # Downsample data\n",
    " \n",
    " In order to get everything to run in a reasonable amount of time (and resources) we are going to downsample/reduce the size of the fastq files we've downloaded.\n",
    " \n",
    "Let's setup some environment variables."
   ]
  },
  {
   "cell_type": "code",
   "execution_count": 1,
   "metadata": {},
   "outputs": [],
   "source": [
    "PROJECT_DIR=`git rev-parse --show-toplevel`\n",
    "cd $PROJECT_DIR"
   ]
  },
  {
   "cell_type": "markdown",
   "metadata": {},
   "source": [
    "Now, let's reduce the size of the datasets.\n",
    "\n",
    "The download code given below assumes you have the following [conda](https://docs.conda.io/en/latest/) environments setup: [seqtk](https://github.com/ncbi/sra-tools).\n",
    "\n",
    "```bash\n",
    "conda create --name seqtk seqtk\n",
    "```\n",
    "\n",
    "## Get total reads per dataset\n",
    "\n",
    "Once that's setup, we'll also need a method to get the total number of bases in each dataset. Luckily these were logged by `fastp` in the download step. Let's take a look at one of these files:"
   ]
  },
  {
   "cell_type": "code",
   "execution_count": 2,
   "metadata": {},
   "outputs": [
    {
     "name": "stdout",
     "output_type": "stream",
     "text": [
      "Streaming uncompressed interleaved reads to STDOUT...\n",
      "Enable interleaved output mode for paired-end input.\n",
      "\n",
      "Read1 before filtering:\n",
      "total reads: 1832803\n",
      "total bases: 183295006\n",
      "Q20 bases: 180082065(98.2471%)\n",
      "Q30 bases: 177176497(96.6619%)\n",
      "\n",
      "Read2 before filtering:\n",
      "total reads: 1832803\n",
      "total bases: 183299394\n",
      "Q20 bases: 176719382(96.4102%)\n",
      "Q30 bases: 172125734(93.9041%)\n",
      "\n",
      "Read1 after filtering:\n",
      "total reads: 1788198\n",
      "total bases: 178805653\n",
      "Q20 bases: 176306123(98.6021%)\n",
      "Q30 bases: 173939308(97.2784%)\n",
      "\n",
      "Read2 aftering filtering:\n",
      "total reads: 1788198\n",
      "total bases: 178803689\n",
      "Q20 bases: 174675827(97.6914%)\n",
      "Q30 bases: 171177338(95.7348%)\n",
      "\n",
      "Filtering result:\n",
      "reads passed filter: 3576396\n",
      "reads failed due to low quality: 88972\n",
      "reads failed due to too many N: 238\n",
      "reads failed due to too short: 0\n",
      "reads with adapter trimmed: 1320\n",
      "bases trimmed due to adapters: 22093\n",
      "\n",
      "Duplication rate: 0.919835%\n",
      "\n",
      "Insert size peak (evaluated by paired-end reads): 167\n",
      "\n",
      "JSON report: fastp.json\n",
      "HTML report: fastp.html\n",
      "\n",
      "fastp --interleaved_in -l 15 --stdin --stdout \n",
      "fastp v0.20.0, time used: 41 seconds\n"
     ]
    }
   ],
   "source": [
    "cat microbial/data/log.fastp.SRR10527353.err"
   ]
  },
  {
   "cell_type": "markdown",
   "metadata": {},
   "source": [
    "What we need to do is extract the total base pairs from this dataset. Let's build a bash function to do this.\n",
    "\n",
    "### Extract base pairs"
   ]
  },
  {
   "cell_type": "code",
   "execution_count": 3,
   "metadata": {},
   "outputs": [],
   "source": [
    "# Purpose: Extract base pairs\n",
    "# Args:\n",
    "#      fastp_file: The fastp log file\n",
    "# Output: Prints the total base pairs from this log file.\n",
    "extract_total_base_pairs() {\n",
    "    fastp_file=$1\n",
    "    \n",
    "    # Test if paired-end dataset\n",
    "    if grep 'Read2 aftering filtering' ${fastp_file} 1> /dev/null 2> /dev/null;\n",
    "    then\n",
    "        read1_bases=`grep 'Read1 after filtering' -A 2 ${fastp_file} | grep 'total bases' | sed -e 's/total bases: //'`\n",
    "        read2_bases=`grep 'Read2 aftering filtering' -A 2 ${fastp_file} | grep 'total bases' | sed -e 's/total bases: //'`\n",
    "        \n",
    "        echo \"(${read1_bases}+${read2_bases})\" | bc\n",
    "    else\n",
    "        read_bases=`grep 'Read1 after filtering' -A 2 ${fastp_file} | grep 'total bases' | sed -e 's/total bases: //'`\n",
    "        \n",
    "        # Prints same number, but will return error code of '$read_bases' is not a number.\n",
    "        echo \"(${read_bases})\" | bc\n",
    "    fi\n",
    "}"
   ]
  },
  {
   "cell_type": "markdown",
   "metadata": {},
   "source": [
    "Let's test it out."
   ]
  },
  {
   "cell_type": "code",
   "execution_count": 4,
   "metadata": {},
   "outputs": [
    {
     "name": "stdout",
     "output_type": "stream",
     "text": [
      "357609342\n"
     ]
    }
   ],
   "source": [
    "extract_total_base_pairs \"microbial/data/log.fastp.SRR10527353.err\""
   ]
  },
  {
   "cell_type": "markdown",
   "metadata": {},
   "source": [
    "Looks good.\n",
    "\n",
    "Now, let's define a function to downsample the reads (using number of base pairs to help us determine the size of the subsample).\n",
    "\n",
    "## Downsample reads"
   ]
  },
  {
   "cell_type": "code",
   "execution_count": 5,
   "metadata": {},
   "outputs": [],
   "source": [
    "# Purpose: Downsample reads\n",
    "# Args:\n",
    "#      input_dir: The data input directory.\n",
    "#      output_dir: The downsampled data output directory.\n",
    "# Output: Saves downsapled files in $output_dir\n",
    "downsample_reads() {\n",
    "    input_dir=$1\n",
    "    output_dir=$2\n",
    "    \n",
    "    mkdir ${output_dir}\n",
    "    \n",
    "    jobs=50\n",
    "    max_bp=100000000 # 100 million\n",
    "    \n",
    "    commands_file=`mktemp`\n",
    "    \n",
    "    for file in ${input_dir}/*.fastq.gz\n",
    "    do\n",
    "        accession=`basename ${file} .fastq.gz`\n",
    "        \n",
    "        total_bp=`extract_total_base_pairs \"${input_dir}/log.fastp.${accession}.err\"`\n",
    "        reduction_ratio=`echo \"${max_bp}/${total_bp}\" | bc -l`\n",
    "        reduction_ratio=`printf \"%0.6f\" ${reduction_ratio}` # rounding/including leading zero\n",
    "        \n",
    "        if [ \"${max_bp}\" -lt \"${total_bp}\" ]\n",
    "        then\n",
    "            echo \"seqtk sample -s 111 ${file} ${reduction_ratio} | gzip --to-stdout > ${output_dir}/${accession}.fastq.gz\" >> ${commands_file}\n",
    "        else\n",
    "            echo \"cp ${file} ${output_dir}/${accession}.fastq.gz\" >> ${commands_file}\n",
    "        fi\n",
    "    done\n",
    "    \n",
    "    echo \"Will execute commands from file ${commands_file} like:\"\n",
    "    cat ${commands_file}\n",
    "    \n",
    "    command=\"parallel -j ${jobs} -a ${commands_file}\"\n",
    "    echo ${command}\n",
    "    conda run --name seqtk ${command}\n",
    "}"
   ]
  },
  {
   "cell_type": "markdown",
   "metadata": {},
   "source": [
    "Great. We've got it defined. So let's run with the microbial dataset.\n",
    "\n",
    "## Downsample microbial reads"
   ]
  },
  {
   "cell_type": "code",
   "execution_count": 6,
   "metadata": {},
   "outputs": [
    {
     "name": "stdout",
     "output_type": "stream",
     "text": [
      "mkdir: cannot create directory ‘microbial/data-downsampled’: File exists\n",
      "Will execute commands from file /tmp/tmp.v3bmCJ3MeJ like:\n",
      "seqtk sample -s 111 microbial/data/ERR1144974.fastq.gz 0.027492 | gzip --to-stdout > microbial/data-downsampled/ERR1144974.fastq.gz\n",
      "seqtk sample -s 111 microbial/data/ERR1144975.fastq.gz 0.044712 | gzip --to-stdout > microbial/data-downsampled/ERR1144975.fastq.gz\n",
      "seqtk sample -s 111 microbial/data/ERR1144976.fastq.gz 0.054031 | gzip --to-stdout > microbial/data-downsampled/ERR1144976.fastq.gz\n",
      "seqtk sample -s 111 microbial/data/ERR1144977.fastq.gz 0.043622 | gzip --to-stdout > microbial/data-downsampled/ERR1144977.fastq.gz\n",
      "seqtk sample -s 111 microbial/data/ERR1144978.fastq.gz 0.046892 | gzip --to-stdout > microbial/data-downsampled/ERR1144978.fastq.gz\n",
      "seqtk sample -s 111 microbial/data/ERR3655992.fastq.gz 0.139094 | gzip --to-stdout > microbial/data-downsampled/ERR3655992.fastq.gz\n",
      "seqtk sample -s 111 microbial/data/ERR3655994.fastq.gz 0.133909 | gzip --to-stdout > microbial/data-downsampled/ERR3655994.fastq.gz\n",
      "seqtk sample -s 111 microbial/data/ERR3655996.fastq.gz 0.122262 | gzip --to-stdout > microbial/data-downsampled/ERR3655996.fastq.gz\n",
      "seqtk sample -s 111 microbial/data/ERR3655998.fastq.gz 0.118658 | gzip --to-stdout > microbial/data-downsampled/ERR3655998.fastq.gz\n",
      "seqtk sample -s 111 microbial/data/ERR3656002.fastq.gz 0.106820 | gzip --to-stdout > microbial/data-downsampled/ERR3656002.fastq.gz\n",
      "seqtk sample -s 111 microbial/data/ERR3656004.fastq.gz 0.150559 | gzip --to-stdout > microbial/data-downsampled/ERR3656004.fastq.gz\n",
      "seqtk sample -s 111 microbial/data/ERR3656010.fastq.gz 0.132497 | gzip --to-stdout > microbial/data-downsampled/ERR3656010.fastq.gz\n",
      "seqtk sample -s 111 microbial/data/ERR3656012.fastq.gz 0.175602 | gzip --to-stdout > microbial/data-downsampled/ERR3656012.fastq.gz\n",
      "seqtk sample -s 111 microbial/data/ERR3656013.fastq.gz 0.155439 | gzip --to-stdout > microbial/data-downsampled/ERR3656013.fastq.gz\n",
      "seqtk sample -s 111 microbial/data/ERR3656015.fastq.gz 0.182655 | gzip --to-stdout > microbial/data-downsampled/ERR3656015.fastq.gz\n",
      "seqtk sample -s 111 microbial/data/ERR3656018.fastq.gz 0.135813 | gzip --to-stdout > microbial/data-downsampled/ERR3656018.fastq.gz\n",
      "seqtk sample -s 111 microbial/data/ERR3656019.fastq.gz 0.139243 | gzip --to-stdout > microbial/data-downsampled/ERR3656019.fastq.gz\n",
      "seqtk sample -s 111 microbial/data/SRR10298903.fastq.gz 0.457455 | gzip --to-stdout > microbial/data-downsampled/SRR10298903.fastq.gz\n",
      "seqtk sample -s 111 microbial/data/SRR10298904.fastq.gz 0.653914 | gzip --to-stdout > microbial/data-downsampled/SRR10298904.fastq.gz\n",
      "seqtk sample -s 111 microbial/data/SRR10298905.fastq.gz 0.336028 | gzip --to-stdout > microbial/data-downsampled/SRR10298905.fastq.gz\n",
      "seqtk sample -s 111 microbial/data/SRR10298906.fastq.gz 0.357507 | gzip --to-stdout > microbial/data-downsampled/SRR10298906.fastq.gz\n",
      "seqtk sample -s 111 microbial/data/SRR10298907.fastq.gz 0.302370 | gzip --to-stdout > microbial/data-downsampled/SRR10298907.fastq.gz\n",
      "seqtk sample -s 111 microbial/data/SRR10512964.fastq.gz 0.189377 | gzip --to-stdout > microbial/data-downsampled/SRR10512964.fastq.gz\n",
      "seqtk sample -s 111 microbial/data/SRR10512965.fastq.gz 0.338367 | gzip --to-stdout > microbial/data-downsampled/SRR10512965.fastq.gz\n",
      "seqtk sample -s 111 microbial/data/SRR10512968.fastq.gz 0.161622 | gzip --to-stdout > microbial/data-downsampled/SRR10512968.fastq.gz\n",
      "seqtk sample -s 111 microbial/data/SRR10513325.fastq.gz 0.455828 | gzip --to-stdout > microbial/data-downsampled/SRR10513325.fastq.gz\n",
      "seqtk sample -s 111 microbial/data/SRR10513326.fastq.gz 0.276568 | gzip --to-stdout > microbial/data-downsampled/SRR10513326.fastq.gz\n",
      "seqtk sample -s 111 microbial/data/SRR10513328.fastq.gz 0.275356 | gzip --to-stdout > microbial/data-downsampled/SRR10513328.fastq.gz\n",
      "seqtk sample -s 111 microbial/data/SRR10513363.fastq.gz 0.122294 | gzip --to-stdout > microbial/data-downsampled/SRR10513363.fastq.gz\n",
      "seqtk sample -s 111 microbial/data/SRR10513672.fastq.gz 0.273625 | gzip --to-stdout > microbial/data-downsampled/SRR10513672.fastq.gz\n",
      "seqtk sample -s 111 microbial/data/SRR10519468.fastq.gz 0.122336 | gzip --to-stdout > microbial/data-downsampled/SRR10519468.fastq.gz\n",
      "seqtk sample -s 111 microbial/data/SRR10519469.fastq.gz 0.167610 | gzip --to-stdout > microbial/data-downsampled/SRR10519469.fastq.gz\n",
      "seqtk sample -s 111 microbial/data/SRR10519616.fastq.gz 0.175515 | gzip --to-stdout > microbial/data-downsampled/SRR10519616.fastq.gz\n",
      "seqtk sample -s 111 microbial/data/SRR10519617.fastq.gz 0.193060 | gzip --to-stdout > microbial/data-downsampled/SRR10519617.fastq.gz\n",
      "seqtk sample -s 111 microbial/data/SRR10519619.fastq.gz 0.214352 | gzip --to-stdout > microbial/data-downsampled/SRR10519619.fastq.gz\n",
      "seqtk sample -s 111 microbial/data/SRR10519620.fastq.gz 0.149690 | gzip --to-stdout > microbial/data-downsampled/SRR10519620.fastq.gz\n",
      "seqtk sample -s 111 microbial/data/SRR10519637.fastq.gz 0.071829 | gzip --to-stdout > microbial/data-downsampled/SRR10519637.fastq.gz\n",
      "seqtk sample -s 111 microbial/data/SRR10521982.fastq.gz 0.207609 | gzip --to-stdout > microbial/data-downsampled/SRR10521982.fastq.gz\n",
      "seqtk sample -s 111 microbial/data/SRR10521983.fastq.gz 0.245708 | gzip --to-stdout > microbial/data-downsampled/SRR10521983.fastq.gz\n",
      "seqtk sample -s 111 microbial/data/SRR10521984.fastq.gz 0.291219 | gzip --to-stdout > microbial/data-downsampled/SRR10521984.fastq.gz\n",
      "seqtk sample -s 111 microbial/data/SRR10527348.fastq.gz 0.230175 | gzip --to-stdout > microbial/data-downsampled/SRR10527348.fastq.gz\n",
      "seqtk sample -s 111 microbial/data/SRR10527349.fastq.gz 0.321904 | gzip --to-stdout > microbial/data-downsampled/SRR10527349.fastq.gz\n",
      "seqtk sample -s 111 microbial/data/SRR10527351.fastq.gz 0.298027 | gzip --to-stdout > microbial/data-downsampled/SRR10527351.fastq.gz\n",
      "seqtk sample -s 111 microbial/data/SRR10527352.fastq.gz 0.312829 | gzip --to-stdout > microbial/data-downsampled/SRR10527352.fastq.gz\n",
      "seqtk sample -s 111 microbial/data/SRR10527353.fastq.gz 0.279635 | gzip --to-stdout > microbial/data-downsampled/SRR10527353.fastq.gz\n",
      "seqtk sample -s 111 microbial/data/SRR8088181.fastq.gz 0.359870 | gzip --to-stdout > microbial/data-downsampled/SRR8088181.fastq.gz\n",
      "seqtk sample -s 111 microbial/data/SRR8088182.fastq.gz 0.439163 | gzip --to-stdout > microbial/data-downsampled/SRR8088182.fastq.gz\n",
      "seqtk sample -s 111 microbial/data/SRR8088183.fastq.gz 0.421532 | gzip --to-stdout > microbial/data-downsampled/SRR8088183.fastq.gz\n",
      "seqtk sample -s 111 microbial/data/SRR8088184.fastq.gz 0.507620 | gzip --to-stdout > microbial/data-downsampled/SRR8088184.fastq.gz\n",
      "seqtk sample -s 111 microbial/data/SRR8088185.fastq.gz 0.292180 | gzip --to-stdout > microbial/data-downsampled/SRR8088185.fastq.gz\n",
      "parallel -j 50 -a /tmp/tmp.v3bmCJ3MeJ\n"
     ]
    }
   ],
   "source": [
    "downsample_reads \"microbial/data\" \"microbial/data-downsampled\""
   ]
  },
  {
   "cell_type": "markdown",
   "metadata": {},
   "source": [
    "Okay. Let's check out the data."
   ]
  },
  {
   "cell_type": "code",
   "execution_count": 7,
   "metadata": {},
   "outputs": [
    {
     "name": "stdout",
     "output_type": "stream",
     "text": [
      "total 3.0G\n",
      "-rw-r--r-- 1 apetkau grp_apetkau 41M Dec  9 18:42 ERR1144974.fastq.gz\n",
      "-rw-r--r-- 1 apetkau grp_apetkau 42M Dec  9 18:42 ERR1144975.fastq.gz\n",
      "-rw-r--r-- 1 apetkau grp_apetkau 42M Dec  9 18:42 ERR1144976.fastq.gz\n",
      "-rw-r--r-- 1 apetkau grp_apetkau 42M Dec  9 18:42 ERR1144977.fastq.gz\n",
      "50\n"
     ]
    }
   ],
   "source": [
    "ls -lh microbial/data-downsampled | head -n 5\n",
    "ls microbial/data-downsampled/ | wc -l"
   ]
  },
  {
   "cell_type": "markdown",
   "metadata": {},
   "source": [
    "Looks good. Let's try on the metagenomics data.\n",
    "\n",
    "## Downsample metagenomics reads "
   ]
  },
  {
   "cell_type": "code",
   "execution_count": 8,
   "metadata": {},
   "outputs": [
    {
     "name": "stdout",
     "output_type": "stream",
     "text": [
      "mkdir: cannot create directory ‘metagenomics/data-downsampled’: File exists\n",
      "Will execute commands from file /tmp/tmp.XQSLZgmvtQ like:\n",
      "seqtk sample -s 111 metagenomics/data/ERR1713331.fastq.gz 0.008529 | gzip --to-stdout > metagenomics/data-downsampled/ERR1713331.fastq.gz\n",
      "seqtk sample -s 111 metagenomics/data/ERR1713332.fastq.gz 0.023233 | gzip --to-stdout > metagenomics/data-downsampled/ERR1713332.fastq.gz\n",
      "seqtk sample -s 111 metagenomics/data/ERR1713333.fastq.gz 0.056409 | gzip --to-stdout > metagenomics/data-downsampled/ERR1713333.fastq.gz\n",
      "seqtk sample -s 111 metagenomics/data/ERR1713334.fastq.gz 0.015918 | gzip --to-stdout > metagenomics/data-downsampled/ERR1713334.fastq.gz\n",
      "seqtk sample -s 111 metagenomics/data/ERR1713335.fastq.gz 0.013456 | gzip --to-stdout > metagenomics/data-downsampled/ERR1713335.fastq.gz\n",
      "seqtk sample -s 111 metagenomics/data/ERR1713336.fastq.gz 0.015331 | gzip --to-stdout > metagenomics/data-downsampled/ERR1713336.fastq.gz\n",
      "seqtk sample -s 111 metagenomics/data/ERR1713337.fastq.gz 0.008716 | gzip --to-stdout > metagenomics/data-downsampled/ERR1713337.fastq.gz\n",
      "seqtk sample -s 111 metagenomics/data/ERR1713339.fastq.gz 0.122980 | gzip --to-stdout > metagenomics/data-downsampled/ERR1713339.fastq.gz\n",
      "seqtk sample -s 111 metagenomics/data/ERR1713340.fastq.gz 0.170243 | gzip --to-stdout > metagenomics/data-downsampled/ERR1713340.fastq.gz\n",
      "seqtk sample -s 111 metagenomics/data/ERR1713341.fastq.gz 0.019702 | gzip --to-stdout > metagenomics/data-downsampled/ERR1713341.fastq.gz\n",
      "seqtk sample -s 111 metagenomics/data/ERR1713342.fastq.gz 0.007498 | gzip --to-stdout > metagenomics/data-downsampled/ERR1713342.fastq.gz\n",
      "seqtk sample -s 111 metagenomics/data/ERR1713343.fastq.gz 0.031220 | gzip --to-stdout > metagenomics/data-downsampled/ERR1713343.fastq.gz\n",
      "seqtk sample -s 111 metagenomics/data/ERR1713344.fastq.gz 0.006528 | gzip --to-stdout > metagenomics/data-downsampled/ERR1713344.fastq.gz\n",
      "seqtk sample -s 111 metagenomics/data/ERR1713345.fastq.gz 0.011589 | gzip --to-stdout > metagenomics/data-downsampled/ERR1713345.fastq.gz\n",
      "seqtk sample -s 111 metagenomics/data/ERR1713351.fastq.gz 0.012344 | gzip --to-stdout > metagenomics/data-downsampled/ERR1713351.fastq.gz\n",
      "seqtk sample -s 111 metagenomics/data/ERR1713352.fastq.gz 0.005033 | gzip --to-stdout > metagenomics/data-downsampled/ERR1713352.fastq.gz\n",
      "seqtk sample -s 111 metagenomics/data/ERR1713353.fastq.gz 0.020693 | gzip --to-stdout > metagenomics/data-downsampled/ERR1713353.fastq.gz\n",
      "seqtk sample -s 111 metagenomics/data/ERR1713355.fastq.gz 0.006556 | gzip --to-stdout > metagenomics/data-downsampled/ERR1713355.fastq.gz\n",
      "seqtk sample -s 111 metagenomics/data/ERR1713356.fastq.gz 0.015522 | gzip --to-stdout > metagenomics/data-downsampled/ERR1713356.fastq.gz\n",
      "seqtk sample -s 111 metagenomics/data/ERR1713358.fastq.gz 0.006844 | gzip --to-stdout > metagenomics/data-downsampled/ERR1713358.fastq.gz\n",
      "seqtk sample -s 111 metagenomics/data/ERR1713359.fastq.gz 0.007485 | gzip --to-stdout > metagenomics/data-downsampled/ERR1713359.fastq.gz\n",
      "seqtk sample -s 111 metagenomics/data/ERR1713361.fastq.gz 0.082397 | gzip --to-stdout > metagenomics/data-downsampled/ERR1713361.fastq.gz\n",
      "seqtk sample -s 111 metagenomics/data/ERR1713362.fastq.gz 0.008696 | gzip --to-stdout > metagenomics/data-downsampled/ERR1713362.fastq.gz\n",
      "seqtk sample -s 111 metagenomics/data/ERR1713363.fastq.gz 0.009439 | gzip --to-stdout > metagenomics/data-downsampled/ERR1713363.fastq.gz\n",
      "seqtk sample -s 111 metagenomics/data/ERR1713366.fastq.gz 0.104468 | gzip --to-stdout > metagenomics/data-downsampled/ERR1713366.fastq.gz\n",
      "seqtk sample -s 111 metagenomics/data/ERR1713371.fastq.gz 0.005854 | gzip --to-stdout > metagenomics/data-downsampled/ERR1713371.fastq.gz\n",
      "seqtk sample -s 111 metagenomics/data/ERR1713372.fastq.gz 0.007657 | gzip --to-stdout > metagenomics/data-downsampled/ERR1713372.fastq.gz\n",
      "seqtk sample -s 111 metagenomics/data/ERR1713373.fastq.gz 0.033714 | gzip --to-stdout > metagenomics/data-downsampled/ERR1713373.fastq.gz\n",
      "seqtk sample -s 111 metagenomics/data/ERR1713374.fastq.gz 0.012640 | gzip --to-stdout > metagenomics/data-downsampled/ERR1713374.fastq.gz\n",
      "seqtk sample -s 111 metagenomics/data/ERR1713375.fastq.gz 0.015739 | gzip --to-stdout > metagenomics/data-downsampled/ERR1713375.fastq.gz\n",
      "seqtk sample -s 111 metagenomics/data/ERR1713376.fastq.gz 0.013634 | gzip --to-stdout > metagenomics/data-downsampled/ERR1713376.fastq.gz\n",
      "seqtk sample -s 111 metagenomics/data/ERR1713378.fastq.gz 0.014444 | gzip --to-stdout > metagenomics/data-downsampled/ERR1713378.fastq.gz\n",
      "seqtk sample -s 111 metagenomics/data/ERR1713379.fastq.gz 0.041932 | gzip --to-stdout > metagenomics/data-downsampled/ERR1713379.fastq.gz\n",
      "seqtk sample -s 111 metagenomics/data/ERR1713381.fastq.gz 0.007074 | gzip --to-stdout > metagenomics/data-downsampled/ERR1713381.fastq.gz\n",
      "seqtk sample -s 111 metagenomics/data/ERR1713382.fastq.gz 0.004933 | gzip --to-stdout > metagenomics/data-downsampled/ERR1713382.fastq.gz\n",
      "seqtk sample -s 111 metagenomics/data/ERR1713388.fastq.gz 0.013039 | gzip --to-stdout > metagenomics/data-downsampled/ERR1713388.fastq.gz\n",
      "seqtk sample -s 111 metagenomics/data/ERR1713389.fastq.gz 0.013385 | gzip --to-stdout > metagenomics/data-downsampled/ERR1713389.fastq.gz\n",
      "seqtk sample -s 111 metagenomics/data/ERR1713391.fastq.gz 0.006873 | gzip --to-stdout > metagenomics/data-downsampled/ERR1713391.fastq.gz\n",
      "seqtk sample -s 111 metagenomics/data/ERR1713393.fastq.gz 0.079387 | gzip --to-stdout > metagenomics/data-downsampled/ERR1713393.fastq.gz\n",
      "seqtk sample -s 111 metagenomics/data/ERR1713395.fastq.gz 0.008478 | gzip --to-stdout > metagenomics/data-downsampled/ERR1713395.fastq.gz\n",
      "seqtk sample -s 111 metagenomics/data/ERR1713396.fastq.gz 0.005973 | gzip --to-stdout > metagenomics/data-downsampled/ERR1713396.fastq.gz\n",
      "seqtk sample -s 111 metagenomics/data/ERR1713397.fastq.gz 0.007648 | gzip --to-stdout > metagenomics/data-downsampled/ERR1713397.fastq.gz\n",
      "seqtk sample -s 111 metagenomics/data/ERR1713399.fastq.gz 0.019926 | gzip --to-stdout > metagenomics/data-downsampled/ERR1713399.fastq.gz\n",
      "seqtk sample -s 111 metagenomics/data/ERR1713400.fastq.gz 0.012331 | gzip --to-stdout > metagenomics/data-downsampled/ERR1713400.fastq.gz\n",
      "seqtk sample -s 111 metagenomics/data/ERR1713401.fastq.gz 0.013190 | gzip --to-stdout > metagenomics/data-downsampled/ERR1713401.fastq.gz\n",
      "seqtk sample -s 111 metagenomics/data/ERR1713402.fastq.gz 0.015599 | gzip --to-stdout > metagenomics/data-downsampled/ERR1713402.fastq.gz\n",
      "seqtk sample -s 111 metagenomics/data/ERR1713403.fastq.gz 0.042099 | gzip --to-stdout > metagenomics/data-downsampled/ERR1713403.fastq.gz\n",
      "seqtk sample -s 111 metagenomics/data/ERR1713405.fastq.gz 0.005322 | gzip --to-stdout > metagenomics/data-downsampled/ERR1713405.fastq.gz\n",
      "seqtk sample -s 111 metagenomics/data/ERR1713406.fastq.gz 0.007488 | gzip --to-stdout > metagenomics/data-downsampled/ERR1713406.fastq.gz\n",
      "seqtk sample -s 111 metagenomics/data/ERR1713409.fastq.gz 0.017177 | gzip --to-stdout > metagenomics/data-downsampled/ERR1713409.fastq.gz\n",
      "parallel -j 50 -a /tmp/tmp.XQSLZgmvtQ\n"
     ]
    }
   ],
   "source": [
    "downsample_reads \"metagenomics/data\" \"metagenomics/data-downsampled\""
   ]
  },
  {
   "cell_type": "code",
   "execution_count": 9,
   "metadata": {},
   "outputs": [
    {
     "name": "stdout",
     "output_type": "stream",
     "text": [
      "total 3.0G\n",
      "-rw-r--r-- 1 apetkau grp_apetkau 59M Dec  9 18:49 ERR1713331.fastq.gz\n",
      "-rw-r--r-- 1 apetkau grp_apetkau 60M Dec  9 18:46 ERR1713332.fastq.gz\n",
      "-rw-r--r-- 1 apetkau grp_apetkau 60M Dec  9 18:44 ERR1713333.fastq.gz\n",
      "-rw-r--r-- 1 apetkau grp_apetkau 61M Dec  9 18:47 ERR1713334.fastq.gz\n",
      "50\n"
     ]
    }
   ],
   "source": [
    "ls -lh metagenomics/data-downsampled | head -n 5\n",
    "ls metagenomics/data-downsampled | wc -l"
   ]
  },
  {
   "cell_type": "markdown",
   "metadata": {},
   "source": [
    "Great. Now let's do this on the human data.\n",
    "\n",
    "## Downsample human reads"
   ]
  },
  {
   "cell_type": "code",
   "execution_count": 10,
   "metadata": {},
   "outputs": [
    {
     "name": "stdout",
     "output_type": "stream",
     "text": [
      "mkdir: cannot create directory ‘human/data-downsampled’: File exists\n",
      "Will execute commands from file /tmp/tmp.eIhfnz4TFo like:\n",
      "seqtk sample -s 111 human/data/SRR038300.fastq.gz 0.185818 | gzip --to-stdout > human/data-downsampled/SRR038300.fastq.gz\n",
      "seqtk sample -s 111 human/data/SRR039632.fastq.gz 0.269121 | gzip --to-stdout > human/data-downsampled/SRR039632.fastq.gz\n",
      "seqtk sample -s 111 human/data/SRR1012332.fastq.gz 0.326105 | gzip --to-stdout > human/data-downsampled/SRR1012332.fastq.gz\n",
      "seqtk sample -s 111 human/data/SRR1024141.fastq.gz 0.429048 | gzip --to-stdout > human/data-downsampled/SRR1024141.fastq.gz\n",
      "seqtk sample -s 111 human/data/SRR1033463.fastq.gz 0.159711 | gzip --to-stdout > human/data-downsampled/SRR1033463.fastq.gz\n",
      "seqtk sample -s 111 human/data/SRR1035695.fastq.gz 0.031318 | gzip --to-stdout > human/data-downsampled/SRR1035695.fastq.gz\n",
      "seqtk sample -s 111 human/data/SRR1047817.fastq.gz 0.030416 | gzip --to-stdout > human/data-downsampled/SRR1047817.fastq.gz\n",
      "seqtk sample -s 111 human/data/SRR1060774.fastq.gz 0.510860 | gzip --to-stdout > human/data-downsampled/SRR1060774.fastq.gz\n",
      "seqtk sample -s 111 human/data/SRR1174334.fastq.gz 0.056786 | gzip --to-stdout > human/data-downsampled/SRR1174334.fastq.gz\n",
      "seqtk sample -s 111 human/data/SRR1193574.fastq.gz 0.048847 | gzip --to-stdout > human/data-downsampled/SRR1193574.fastq.gz\n",
      "seqtk sample -s 111 human/data/SRR1292581.fastq.gz 0.041783 | gzip --to-stdout > human/data-downsampled/SRR1292581.fastq.gz\n",
      "seqtk sample -s 111 human/data/SRR1294106.fastq.gz 0.039350 | gzip --to-stdout > human/data-downsampled/SRR1294106.fastq.gz\n",
      "seqtk sample -s 111 human/data/SRR1303626.fastq.gz 0.061051 | gzip --to-stdout > human/data-downsampled/SRR1303626.fastq.gz\n",
      "seqtk sample -s 111 human/data/SRR1313077.fastq.gz 0.009564 | gzip --to-stdout > human/data-downsampled/SRR1313077.fastq.gz\n",
      "seqtk sample -s 111 human/data/SRR1313078.fastq.gz 0.008743 | gzip --to-stdout > human/data-downsampled/SRR1313078.fastq.gz\n",
      "seqtk sample -s 111 human/data/SRR1313092.fastq.gz 0.016062 | gzip --to-stdout > human/data-downsampled/SRR1313092.fastq.gz\n",
      "seqtk sample -s 111 human/data/SRR1313097.fastq.gz 0.014515 | gzip --to-stdout > human/data-downsampled/SRR1313097.fastq.gz\n",
      "seqtk sample -s 111 human/data/SRR1313105.fastq.gz 0.016545 | gzip --to-stdout > human/data-downsampled/SRR1313105.fastq.gz\n",
      "seqtk sample -s 111 human/data/SRR1313120.fastq.gz 0.014869 | gzip --to-stdout > human/data-downsampled/SRR1313120.fastq.gz\n",
      "seqtk sample -s 111 human/data/SRR1313154.fastq.gz 0.013638 | gzip --to-stdout > human/data-downsampled/SRR1313154.fastq.gz\n",
      "seqtk sample -s 111 human/data/SRR1313156.fastq.gz 0.011949 | gzip --to-stdout > human/data-downsampled/SRR1313156.fastq.gz\n",
      "seqtk sample -s 111 human/data/SRR1313198.fastq.gz 0.018721 | gzip --to-stdout > human/data-downsampled/SRR1313198.fastq.gz\n",
      "seqtk sample -s 111 human/data/SRR1313216.fastq.gz 0.017453 | gzip --to-stdout > human/data-downsampled/SRR1313216.fastq.gz\n",
      "seqtk sample -s 111 human/data/SRR1313228.fastq.gz 0.012054 | gzip --to-stdout > human/data-downsampled/SRR1313228.fastq.gz\n",
      "seqtk sample -s 111 human/data/SRR1519066.fastq.gz 0.007555 | gzip --to-stdout > human/data-downsampled/SRR1519066.fastq.gz\n",
      "cp human/data/SRR191403.fastq.gz human/data-downsampled/SRR191403.fastq.gz\n",
      "cp human/data/SRR191429.fastq.gz human/data-downsampled/SRR191429.fastq.gz\n",
      "cp human/data/SRR191455.fastq.gz human/data-downsampled/SRR191455.fastq.gz\n",
      "cp human/data/SRR191463.fastq.gz human/data-downsampled/SRR191463.fastq.gz\n",
      "cp human/data/SRR191480.fastq.gz human/data-downsampled/SRR191480.fastq.gz\n",
      "cp human/data/SRR191487.fastq.gz human/data-downsampled/SRR191487.fastq.gz\n",
      "cp human/data/SRR191494.fastq.gz human/data-downsampled/SRR191494.fastq.gz\n",
      "cp human/data/SRR191527.fastq.gz human/data-downsampled/SRR191527.fastq.gz\n",
      "cp human/data/SRR191555.fastq.gz human/data-downsampled/SRR191555.fastq.gz\n",
      "cp human/data/SRR191563.fastq.gz human/data-downsampled/SRR191563.fastq.gz\n",
      "cp human/data/SRR191621.fastq.gz human/data-downsampled/SRR191621.fastq.gz\n",
      "seqtk sample -s 111 human/data/SRR191646.fastq.gz 0.152686 | gzip --to-stdout > human/data-downsampled/SRR191646.fastq.gz\n",
      "seqtk sample -s 111 human/data/SRR191675.fastq.gz 0.195765 | gzip --to-stdout > human/data-downsampled/SRR191675.fastq.gz\n",
      "seqtk sample -s 111 human/data/SRR191693.fastq.gz 0.216917 | gzip --to-stdout > human/data-downsampled/SRR191693.fastq.gz\n",
      "seqtk sample -s 111 human/data/SRR191696.fastq.gz 0.393492 | gzip --to-stdout > human/data-downsampled/SRR191696.fastq.gz\n",
      "seqtk sample -s 111 human/data/SRR299111.fastq.gz 0.091227 | gzip --to-stdout > human/data-downsampled/SRR299111.fastq.gz\n",
      "seqtk sample -s 111 human/data/SRR306849.fastq.gz 0.074463 | gzip --to-stdout > human/data-downsampled/SRR306849.fastq.gz\n",
      "seqtk sample -s 111 human/data/SRR353653.fastq.gz 0.008573 | gzip --to-stdout > human/data-downsampled/SRR353653.fastq.gz\n",
      "seqtk sample -s 111 human/data/SRR387778.fastq.gz 0.097103 | gzip --to-stdout > human/data-downsampled/SRR387778.fastq.gz\n",
      "seqtk sample -s 111 human/data/SRR393767.fastq.gz 0.065607 | gzip --to-stdout > human/data-downsampled/SRR393767.fastq.gz\n",
      "seqtk sample -s 111 human/data/SRR403006.fastq.gz 0.716774 | gzip --to-stdout > human/data-downsampled/SRR403006.fastq.gz\n",
      "seqtk sample -s 111 human/data/SRR496397.fastq.gz 0.037507 | gzip --to-stdout > human/data-downsampled/SRR496397.fastq.gz\n",
      "seqtk sample -s 111 human/data/SRR518951.fastq.gz 0.544698 | gzip --to-stdout > human/data-downsampled/SRR518951.fastq.gz\n",
      "seqtk sample -s 111 human/data/SRR518958.fastq.gz 0.654866 | gzip --to-stdout > human/data-downsampled/SRR518958.fastq.gz\n",
      "seqtk sample -s 111 human/data/SRR537114.fastq.gz 0.116086 | gzip --to-stdout > human/data-downsampled/SRR537114.fastq.gz\n",
      "parallel -j 50 -a /tmp/tmp.eIhfnz4TFo\n"
     ]
    }
   ],
   "source": [
    "downsample_reads \"human/data\" \"human/data-downsampled\""
   ]
  },
  {
   "cell_type": "code",
   "execution_count": 11,
   "metadata": {},
   "outputs": [
    {
     "name": "stdout",
     "output_type": "stream",
     "text": [
      "total 3.4G\n",
      "-rw-r--r-- 1 apetkau grp_apetkau  116M Dec  9 18:52 SRR038300.fastq.gz\n",
      "-rw-r--r-- 1 apetkau grp_apetkau   83M Dec  9 18:52 SRR039632.fastq.gz\n",
      "-rw-r--r-- 1 apetkau grp_apetkau   74M Dec  9 18:52 SRR1012332.fastq.gz\n",
      "-rw-r--r-- 1 apetkau grp_apetkau   59M Dec  9 18:52 SRR1024141.fastq.gz\n",
      "50\n"
     ]
    }
   ],
   "source": [
    "ls -lh human/data-downsampled | head -n 5\n",
    "ls human/data-downsampled | wc -l"
   ]
  }
 ],
 "metadata": {
  "kernelspec": {
   "display_name": "Bash",
   "language": "bash",
   "name": "bash"
  },
  "language_info": {
   "codemirror_mode": "shell",
   "file_extension": ".sh",
   "mimetype": "text/x-sh",
   "name": "bash"
  }
 },
 "nbformat": 4,
 "nbformat_minor": 4
}
