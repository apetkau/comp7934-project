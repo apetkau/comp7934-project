{
 "cells": [
  {
   "cell_type": "code",
   "execution_count": 3,
   "metadata": {},
   "outputs": [
    {
     "name": "stdout",
     "output_type": "stream",
     "text": [
      "all_kat_hist                            \u001b[0m\u001b[01;34mimages\u001b[0m\n",
      "all_kat_hist.dist_analysis.json         kat.hist\n",
      "\u001b[01;35mall_kat_hist.png\u001b[0m                        kat.hist.dist_analysis.json\n",
      "\u001b[01;34mbigsi\u001b[0m                                   \u001b[01;35mkat.hist.png\u001b[0m\n",
      "\u001b[01;34mdata\u001b[0m                                    microbial-bigsi.ipynb\n",
      "ERR1144974                              microbial-genomes.txt\n",
      "ERR1144974.dist_analysis.json           microbial-process-data.ipynb\n",
      "ERR1144974_kat_hist                     microbial-process-data.ipynb.bak\n",
      "ERR1144974_kat_hist.dist_analysis.json  \u001b[01;35mo.png\u001b[0m\n",
      "\u001b[01;35mERR1144974_kat_hist.png\u001b[0m                 sha256\n",
      "\u001b[01;35mERR1144974.png\u001b[0m                          total-bp-reads.txt\n",
      "freq_k31.hist                           total-kmers.txt\n",
      "freq_k7.hist\n"
     ]
    }
   ],
   "source": [
    "NOTEBOOK_DIR=`git rev-parse --show-toplevel`\n",
    "ROOT_DIR=$NOTEBOOK_DIR/microbial\n",
    "cd $ROOT_DIR\n",
    "ls"
   ]
  },
  {
   "cell_type": "markdown",
   "metadata": {},
   "source": [
    "# Microbial BIGSI\n",
    "\n",
    "This runs `bigsi` <https://bigsi.readme.io/> on the microbial dataset. First, let's setup some variables to define size of bloom filters/bigsi parameters."
   ]
  },
  {
   "cell_type": "code",
   "execution_count": 4,
   "metadata": {},
   "outputs": [],
   "source": [
    "number_hashes=3\n",
    "m_value=25000000\n",
    "kmer_size=9\n",
    "\n",
    "threads=48"
   ]
  },
  {
   "cell_type": "markdown",
   "metadata": {},
   "source": [
    "# Step 1: Counting k-mers\n",
    "\n",
    "Step 1 involves counting kmers using [mccortex](https://github.com/mcveanlab/mccortex)."
   ]
  },
  {
   "cell_type": "code",
   "execution_count": 5,
   "metadata": {},
   "outputs": [
    {
     "name": "stdout",
     "output_type": "stream",
     "text": [
      "Working on ERR1144974\n",
      "Working on ERR1144975\n",
      "Working on ERR1144976\n",
      "Working on ERR1144977\n",
      "Working on ERR1144978\n",
      "Working on ERR3655992\n",
      "Working on ERR3655994\n",
      "Working on ERR3655996\n",
      "Working on ERR3655998\n",
      "Working on ERR3656002\n",
      "Working on ERR3656004\n",
      "Working on ERR3656010\n",
      "Working on ERR3656012\n",
      "Working on ERR3656013\n",
      "Working on ERR3656015\n",
      "Working on ERR3656018\n",
      "Working on ERR3656019\n",
      "Working on SRR10298903\n",
      "Working on SRR10298904\n",
      "Working on SRR10298905\n",
      "Working on SRR10298906\n",
      "Working on SRR10298907\n",
      "Working on SRR10512964\n",
      "Working on SRR10512965\n",
      "Working on SRR10512968\n",
      "Working on SRR10513325\n",
      "Working on SRR10513326\n",
      "Working on SRR10513328\n",
      "Working on SRR10513363\n",
      "Working on SRR10513672\n",
      "Working on SRR10519468\n",
      "Working on SRR10519469\n",
      "Working on SRR10519616\n",
      "Working on SRR10519617\n",
      "Working on SRR10519619\n",
      "Working on SRR10519620\n",
      "Working on SRR10519637\n",
      "Working on SRR10521982\n",
      "Working on SRR10521983\n",
      "Working on SRR10521984\n",
      "Working on SRR10527348\n",
      "Working on SRR10527349\n",
      "Working on SRR10527351\n",
      "Working on SRR10527352\n",
      "Working on SRR10527353\n",
      "Working on SRR8088181\n",
      "Working on SRR8088182\n",
      "Working on SRR8088183\n",
      "Working on SRR8088184\n",
      "Working on SRR8088185\n",
      "Done\n"
     ]
    }
   ],
   "source": [
    "cd $ROOT_DIR\n",
    "mkdir bigsi\n",
    "cd bigsi\n",
    "\n",
    "for genome in $ROOT_DIR/data/subsample/*_1.fastq.gz;\n",
    "do\n",
    "    accession=`basename $genome _1.fastq.gz`\n",
    "    echo \"Working on $accession\"\n",
    "       \n",
    "    fastq_file_1=$ROOT_DIR/data/subsample/${accession}_1.fastq.gz\n",
    "    fastq_file_2=$ROOT_DIR/data/subsample/${accession}_2.fastq.gz\n",
    "    cortex_out=${accession}.ctx\n",
    "    cortex_log=${accession}_mccortex.log\n",
    "    \n",
    "    conda run --name mccortex /usr/bin/time -v mccortex ${kmer_size} build -t ${threads} -k ${kmer_size} -s ${accession} \\\n",
    "        --seq2 ${fastq_file_1}:${fastq_file_2} ${cortex_out} 2> ${cortex_log}.err 1> ${cortex_log}\n",
    "done\n",
    "\n",
    "echo \"Done\""
   ]
  },
  {
   "cell_type": "code",
   "execution_count": 7,
   "metadata": {},
   "outputs": [
    {
     "name": "stdout",
     "output_type": "stream",
     "text": [
      "ERR1144974.ctx\n",
      "ERR1144975.ctx\n",
      "ERR1144976.ctx\n",
      "ERR1144977.ctx\n",
      "ERR1144978.ctx\n",
      "ERR3655992.ctx\n",
      "ERR3655994.ctx\n",
      "ERR3655996.ctx\n",
      "ERR3655998.ctx\n",
      "ERR3656002.ctx\n",
      "50\n",
      "82M\t.\n"
     ]
    }
   ],
   "source": [
    "ls *.ctx|head\n",
    "ls *.ctx | wc -l\n",
    "du -sh ."
   ]
  },
  {
   "cell_type": "markdown",
   "metadata": {},
   "source": [
    "Awesome. We've now got files named like `SRR8088185.ctx` in our directory containing the cortex graph/kmers."
   ]
  },
  {
   "cell_type": "markdown",
   "metadata": {},
   "source": [
    "# Step 2: Build BIGSI index\n",
    "\n",
    "In step 2, we'll look at building the `bigsi` indexes for each of these kmer counts.\n",
    "\n",
    "Let's setup the bigsi index configuration."
   ]
  },
  {
   "cell_type": "code",
   "execution_count": 8,
   "metadata": {},
   "outputs": [],
   "source": [
    "cat > berkeleydb.yaml << EOF\n",
    "## Example config using berkeleyDB\n",
    "h: ${number_hashes}\n",
    "k: ${kmer_size}\n",
    "m: ${m_value}\n",
    "storage-engine: berkeleydb\n",
    "storage-config:\n",
    "  filename: bigsi.db\n",
    "  flag: \"c\" ## Change to 'r' for read-only access\n",
    "EOF\n",
    "\n",
    "export BIGSI_CONFIG=berkeleydb.yaml"
   ]
  },
  {
   "cell_type": "markdown",
   "metadata": {},
   "source": [
    "Now, let's construct the blooom filters."
   ]
  },
  {
   "cell_type": "code",
   "execution_count": 9,
   "metadata": {},
   "outputs": [
    {
     "name": "stdout",
     "output_type": "stream",
     "text": [
      "bigsi-v0.3.1\n",
      "\n",
      "Available Commands:\n",
      "\n",
      " - bloom: Creates a bloom filter from a sequence file or cortex graph. (fastq...\n",
      " - build\n",
      " - delete\n",
      " - insert: Inserts a bloom filter into the graph          e.g. bigsi insert E...\n",
      " - merge\n",
      " - search\n",
      "\n",
      "ERROR conda.cli.main_run:execute(39): Subprocess for 'conda run ['bigsi']' command failed.  Stderr was:\n",
      "\n",
      "/home/CSCScience.ca/apetkau/miniconda3/envs/bigsi/lib/python3.7/site-packages/bigsi/__main__.py:45: YAMLLoadWarning: calling yaml.load() without Loader=... is deprecated, as the default Loader is unsafe. Please read https://msg.pyyaml.org/load for full details.\n",
      "  config = yaml.load(infile)\n",
      "/home/CSCScience.ca/apetkau/miniconda3/envs/bigsi/lib/python3.7/site-packages/bigsi/__main__.py:45: YAMLLoadWarning: calling yaml.load() without Loader=... is deprecated, as the default Loader is unsafe. Please read https://msg.pyyaml.org/load for full details.\n",
      "  config = yaml.load(infile)\n",
      "/home/CSCScience.ca/apetkau/miniconda3/envs/bigsi/lib/python3.7/site-packages/bigsi/__main__.py:45: YAMLLoadWarning: calling yaml.load() without Loader=... is deprecated, as the default Loader is unsafe. Please read https://msg.pyyaml.org/load for full details.\n",
      "  config = yaml.load(infile)\n",
      "/home/CSCScience.ca/apetkau/miniconda3/envs/bigsi/lib/python3.7/site-packages/bigsi/__main__.py:45: YAMLLoadWarning: calling yaml.load() without Loader=... is deprecated, as the default Loader is unsafe. Please read https://msg.pyyaml.org/load for full details.\n",
      "  config = yaml.load(infile)\n",
      "/home/CSCScience.ca/apetkau/miniconda3/envs/bigsi/lib/python3.7/site-packages/bigsi/__main__.py:45: YAMLLoadWarning: calling yaml.load() without Loader=... is deprecated, as the default Loader is unsafe. Please read https://msg.pyyaml.org/load for full details.\n",
      "  config = yaml.load(infile)\n",
      "/home/CSCScience.ca/apetkau/miniconda3/envs/bigsi/lib/python3.7/site-packages/bigsi/__main__.py:45: YAMLLoadWarning: calling yaml.load() without Loader=... is deprecated, as the default Loader is unsafe. Please read https://msg.pyyaml.org/load for full details.\n",
      "  config = yaml.load(infile)\n",
      "/home/CSCScience.ca/apetkau/miniconda3/envs/bigsi/lib/python3.7/site-packages/bigsi/__main__.py:45: YAMLLoadWarning: calling yaml.load() without Loader=... is deprecated, as the default Loader is unsafe. Please read https://msg.pyyaml.org/load for full details.\n",
      "  config = yaml.load(infile)\n",
      "/home/CSCScience.ca/apetkau/miniconda3/envs/bigsi/lib/python3.7/site-packages/bigsi/__main__.py:45: YAMLLoadWarning: calling yaml.load() without Loader=... is deprecated, as the default Loader is unsafe. Please read https://msg.pyyaml.org/load for full details.\n",
      "  config = yaml.load(infile)\n",
      "/home/CSCScience.ca/apetkau/miniconda3/envs/bigsi/lib/python3.7/site-packages/bigsi/__main__.py:45: YAMLLoadWarning: calling yaml.load() without Loader=... is deprecated, as the default Loader is unsafe. Please read https://msg.pyyaml.org/load for full details.\n",
      "  config = yaml.load(infile)\n",
      "/home/CSCScience.ca/apetkau/miniconda3/envs/bigsi/lib/python3.7/site-packages/bigsi/__main__.py:45: YAMLLoadWarning: calling yaml.load() without Loader=... is deprecated, as the default Loader is unsafe. Please read https://msg.pyyaml.org/load for full details.\n",
      "  config = yaml.load(infile)\n",
      "/home/CSCScience.ca/apetkau/miniconda3/envs/bigsi/lib/python3.7/site-packages/bigsi/__main__.py:45: YAMLLoadWarning: calling yaml.load() without Loader=... is deprecated, as the default Loader is unsafe. Please read https://msg.pyyaml.org/load for full details.\n",
      "  config = yaml.load(infile)\n",
      "/home/CSCScience.ca/apetkau/miniconda3/envs/bigsi/lib/python3.7/site-packages/bigsi/__main__.py:45: YAMLLoadWarning: calling yaml.load() without Loader=... is deprecated, as the default Loader is unsafe. Please read https://msg.pyyaml.org/load for full details.\n",
      "  config = yaml.load(infile)\n",
      "/home/CSCScience.ca/apetkau/miniconda3/envs/bigsi/lib/python3.7/site-packages/bigsi/__main__.py:45: YAMLLoadWarning: calling yaml.load() without Loader=... is deprecated, as the default Loader is unsafe. Please read https://msg.pyyaml.org/load for full details.\n",
      "  config = yaml.load(infile)\n",
      "/home/CSCScience.ca/apetkau/miniconda3/envs/bigsi/lib/python3.7/site-packages/bigsi/__main__.py:45: YAMLLoadWarning: calling yaml.load() without Loader=... is deprecated, as the default Loader is unsafe. Please read https://msg.pyyaml.org/load for full details.\n",
      "  config = yaml.load(infile)\n",
      "/home/CSCScience.ca/apetkau/miniconda3/envs/bigsi/lib/python3.7/site-packages/bigsi/__main__.py:45: YAMLLoadWarning: calling yaml.load() without Loader=... is deprecated, as the default Loader is unsafe. Please read https://msg.pyyaml.org/load for full details.\n",
      "  config = yaml.load(infile)\n",
      "/home/CSCScience.ca/apetkau/miniconda3/envs/bigsi/lib/python3.7/site-packages/bigsi/__main__.py:45: YAMLLoadWarning: calling yaml.load() without Loader=... is deprecated, as the default Loader is unsafe. Please read https://msg.pyyaml.org/load for full details.\n",
      "  config = yaml.load(infile)\n",
      "/home/CSCScience.ca/apetkau/miniconda3/envs/bigsi/lib/python3.7/site-packages/bigsi/__main__.py:45: YAMLLoadWarning: calling yaml.load() without Loader=... is deprecated, as the default Loader is unsafe. Please read https://msg.pyyaml.org/load for full details.\n",
      "  config = yaml.load(infile)\n",
      "/home/CSCScience.ca/apetkau/miniconda3/envs/bigsi/lib/python3.7/site-packages/bigsi/__main__.py:45: YAMLLoadWarning: calling yaml.load() without Loader=... is deprecated, as the default Loader is unsafe. Please read https://msg.pyyaml.org/load for full details.\n",
      "  config = yaml.load(infile)\n",
      "/home/CSCScience.ca/apetkau/miniconda3/envs/bigsi/lib/python3.7/site-packages/bigsi/__main__.py:45: YAMLLoadWarning: calling yaml.load() without Loader=... is deprecated, as the default Loader is unsafe. Please read https://msg.pyyaml.org/load for full details.\n",
      "  config = yaml.load(infile)\n",
      "/home/CSCScience.ca/apetkau/miniconda3/envs/bigsi/lib/python3.7/site-packages/bigsi/__main__.py:45: YAMLLoadWarning: calling yaml.load() without Loader=... is deprecated, as the default Loader is unsafe. Please read https://msg.pyyaml.org/load for full details.\n",
      "  config = yaml.load(infile)\n",
      "/home/CSCScience.ca/apetkau/miniconda3/envs/bigsi/lib/python3.7/site-packages/bigsi/__main__.py:45: YAMLLoadWarning: calling yaml.load() without Loader=... is deprecated, as the default Loader is unsafe. Please read https://msg.pyyaml.org/load for full details.\n",
      "  config = yaml.load(infile)\n",
      "/home/CSCScience.ca/apetkau/miniconda3/envs/bigsi/lib/python3.7/site-packages/bigsi/__main__.py:45: YAMLLoadWarning: calling yaml.load() without Loader=... is deprecated, as the default Loader is unsafe. Please read https://msg.pyyaml.org/load for full details.\n",
      "  config = yaml.load(infile)\n",
      "/home/CSCScience.ca/apetkau/miniconda3/envs/bigsi/lib/python3.7/site-packages/bigsi/__main__.py:45: YAMLLoadWarning: calling yaml.load() without Loader=... is deprecated, as the default Loader is unsafe. Please read https://msg.pyyaml.org/load for full details.\n",
      "  config = yaml.load(infile)\n",
      "/home/CSCScience.ca/apetkau/miniconda3/envs/bigsi/lib/python3.7/site-packages/bigsi/__main__.py:45: YAMLLoadWarning: calling yaml.load() without Loader=... is deprecated, as the default Loader is unsafe. Please read https://msg.pyyaml.org/load for full details.\n",
      "  config = yaml.load(infile)\n",
      "/home/CSCScience.ca/apetkau/miniconda3/envs/bigsi/lib/python3.7/site-packages/bigsi/__main__.py:45: YAMLLoadWarning: calling yaml.load() without Loader=... is deprecated, as the default Loader is unsafe. Please read https://msg.pyyaml.org/load for full details.\n",
      "  config = yaml.load(infile)\n",
      "/home/CSCScience.ca/apetkau/miniconda3/envs/bigsi/lib/python3.7/site-packages/bigsi/__main__.py:45: YAMLLoadWarning: calling yaml.load() without Loader=... is deprecated, as the default Loader is unsafe. Please read https://msg.pyyaml.org/load for full details.\n",
      "  config = yaml.load(infile)\n",
      "/home/CSCScience.ca/apetkau/miniconda3/envs/bigsi/lib/python3.7/site-packages/bigsi/__main__.py:45: YAMLLoadWarning: calling yaml.load() without Loader=... is deprecated, as the default Loader is unsafe. Please read https://msg.pyyaml.org/load for full details.\n",
      "  config = yaml.load(infile)\n",
      "/home/CSCScience.ca/apetkau/miniconda3/envs/bigsi/lib/python3.7/site-packages/bigsi/__main__.py:45: YAMLLoadWarning: calling yaml.load() without Loader=... is deprecated, as the default Loader is unsafe. Please read https://msg.pyyaml.org/load for full details.\n",
      "  config = yaml.load(infile)\n",
      "/home/CSCScience.ca/apetkau/miniconda3/envs/bigsi/lib/python3.7/site-packages/bigsi/__main__.py:45: YAMLLoadWarning: calling yaml.load() without Loader=... is deprecated, as the default Loader is unsafe. Please read https://msg.pyyaml.org/load for full details.\n",
      "  config = yaml.load(infile)\n",
      "/home/CSCScience.ca/apetkau/miniconda3/envs/bigsi/lib/python3.7/site-packages/bigsi/__main__.py:45: YAMLLoadWarning: calling yaml.load() without Loader=... is deprecated, as the default Loader is unsafe. Please read https://msg.pyyaml.org/load for full details.\n",
      "  config = yaml.load(infile)\n",
      "/home/CSCScience.ca/apetkau/miniconda3/envs/bigsi/lib/python3.7/site-packages/bigsi/__main__.py:45: YAMLLoadWarning: calling yaml.load() without Loader=... is deprecated, as the default Loader is unsafe. Please read https://msg.pyyaml.org/load for full details.\n",
      "  config = yaml.load(infile)\n",
      "/home/CSCScience.ca/apetkau/miniconda3/envs/bigsi/lib/python3.7/site-packages/bigsi/__main__.py:45: YAMLLoadWarning: calling yaml.load() without Loader=... is deprecated, as the default Loader is unsafe. Please read https://msg.pyyaml.org/load for full details.\n",
      "  config = yaml.load(infile)\n",
      "/home/CSCScience.ca/apetkau/miniconda3/envs/bigsi/lib/python3.7/site-packages/bigsi/__main__.py:45: YAMLLoadWarning: calling yaml.load() without Loader=... is deprecated, as the default Loader is unsafe. Please read https://msg.pyyaml.org/load for full details.\n",
      "  config = yaml.load(infile)\n",
      "/home/CSCScience.ca/apetkau/miniconda3/envs/bigsi/lib/python3.7/site-packages/bigsi/__main__.py:45: YAMLLoadWarning: calling yaml.load() without Loader=... is deprecated, as the default Loader is unsafe. Please read https://msg.pyyaml.org/load for full details.\n",
      "  config = yaml.load(infile)\n",
      "/home/CSCScience.ca/apetkau/miniconda3/envs/bigsi/lib/python3.7/site-packages/bigsi/__main__.py:45: YAMLLoadWarning: calling yaml.load() without Loader=... is deprecated, as the default Loader is unsafe. Please read https://msg.pyyaml.org/load for full details.\n",
      "  config = yaml.load(infile)\n",
      "/home/CSCScience.ca/apetkau/miniconda3/envs/bigsi/lib/python3.7/site-packages/bigsi/__main__.py:45: YAMLLoadWarning: calling yaml.load() without Loader=... is deprecated, as the default Loader is unsafe. Please read https://msg.pyyaml.org/load for full details.\n",
      "  config = yaml.load(infile)\n",
      "/home/CSCScience.ca/apetkau/miniconda3/envs/bigsi/lib/python3.7/site-packages/bigsi/__main__.py:45: YAMLLoadWarning: calling yaml.load() without Loader=... is deprecated, as the default Loader is unsafe. Please read https://msg.pyyaml.org/load for full details.\n",
      "  config = yaml.load(infile)\n",
      "/home/CSCScience.ca/apetkau/miniconda3/envs/bigsi/lib/python3.7/site-packages/bigsi/__main__.py:45: YAMLLoadWarning: calling yaml.load() without Loader=... is deprecated, as the default Loader is unsafe. Please read https://msg.pyyaml.org/load for full details.\n",
      "  config = yaml.load(infile)\n",
      "/home/CSCScience.ca/apetkau/miniconda3/envs/bigsi/lib/python3.7/site-packages/bigsi/__main__.py:45: YAMLLoadWarning: calling yaml.load() without Loader=... is deprecated, as the default Loader is unsafe. Please read https://msg.pyyaml.org/load for full details.\n",
      "  config = yaml.load(infile)\n",
      "/home/CSCScience.ca/apetkau/miniconda3/envs/bigsi/lib/python3.7/site-packages/bigsi/__main__.py:45: YAMLLoadWarning: calling yaml.load() without Loader=... is deprecated, as the default Loader is unsafe. Please read https://msg.pyyaml.org/load for full details.\n",
      "  config = yaml.load(infile)\n",
      "/home/CSCScience.ca/apetkau/miniconda3/envs/bigsi/lib/python3.7/site-packages/bigsi/__main__.py:45: YAMLLoadWarning: calling yaml.load() without Loader=... is deprecated, as the default Loader is unsafe. Please read https://msg.pyyaml.org/load for full details.\n",
      "  config = yaml.load(infile)\n",
      "/home/CSCScience.ca/apetkau/miniconda3/envs/bigsi/lib/python3.7/site-packages/bigsi/__main__.py:45: YAMLLoadWarning: calling yaml.load() without Loader=... is deprecated, as the default Loader is unsafe. Please read https://msg.pyyaml.org/load for full details.\n",
      "  config = yaml.load(infile)\n",
      "/home/CSCScience.ca/apetkau/miniconda3/envs/bigsi/lib/python3.7/site-packages/bigsi/__main__.py:45: YAMLLoadWarning: calling yaml.load() without Loader=... is deprecated, as the default Loader is unsafe. Please read https://msg.pyyaml.org/load for full details.\n",
      "  config = yaml.load(infile)\n",
      "/home/CSCScience.ca/apetkau/miniconda3/envs/bigsi/lib/python3.7/site-packages/bigsi/__main__.py:45: YAMLLoadWarning: calling yaml.load() without Loader=... is deprecated, as the default Loader is unsafe. Please read https://msg.pyyaml.org/load for full details.\n",
      "  config = yaml.load(infile)\n",
      "/home/CSCScience.ca/apetkau/miniconda3/envs/bigsi/lib/python3.7/site-packages/bigsi/__main__.py:45: YAMLLoadWarning: calling yaml.load() without Loader=... is deprecated, as the default Loader is unsafe. Please read https://msg.pyyaml.org/load for full details.\n",
      "  config = yaml.load(infile)\n",
      "/home/CSCScience.ca/apetkau/miniconda3/envs/bigsi/lib/python3.7/site-packages/bigsi/__main__.py:45: YAMLLoadWarning: calling yaml.load() without Loader=... is deprecated, as the default Loader is unsafe. Please read https://msg.pyyaml.org/load for full details.\n",
      "  config = yaml.load(infile)\n",
      "/home/CSCScience.ca/apetkau/miniconda3/envs/bigsi/lib/python3.7/site-packages/bigsi/__main__.py:45: YAMLLoadWarning: calling yaml.load() without Loader=... is deprecated, as the default Loader is unsafe. Please read https://msg.pyyaml.org/load for full details.\n",
      "  config = yaml.load(infile)\n",
      "/home/CSCScience.ca/apetkau/miniconda3/envs/bigsi/lib/python3.7/site-packages/bigsi/__main__.py:45: YAMLLoadWarning: calling yaml.load() without Loader=... is deprecated, as the default Loader is unsafe. Please read https://msg.pyyaml.org/load for full details.\n",
      "  config = yaml.load(infile)\n",
      "/home/CSCScience.ca/apetkau/miniconda3/envs/bigsi/lib/python3.7/site-packages/bigsi/__main__.py:45: YAMLLoadWarning: calling yaml.load() without Loader=... is deprecated, as the default Loader is unsafe. Please read https://msg.pyyaml.org/load for full details.\n",
      "  config = yaml.load(infile)\n",
      "/home/CSCScience.ca/apetkau/miniconda3/envs/bigsi/lib/python3.7/site-packages/bigsi/__main__.py:45: YAMLLoadWarning: calling yaml.load() without Loader=... is deprecated, as the default Loader is unsafe. Please read https://msg.pyyaml.org/load for full details.\n",
      "  config = yaml.load(infile)\n"
     ]
    }
   ],
   "source": [
    "conda run --name bigsi bigsi\n",
    "parallel --jobs ${threads} -I% conda run --name bigsi bigsi bloom % %.bloom ::: *.ctx"
   ]
  },
  {
   "cell_type": "code",
   "execution_count": 11,
   "metadata": {},
   "outputs": [
    {
     "name": "stdout",
     "output_type": "stream",
     "text": [
      "ERR1144974.ctx.bloom\n",
      "ERR1144975.ctx.bloom\n",
      "ERR1144976.ctx.bloom\n",
      "ERR1144977.ctx.bloom\n",
      "ERR1144978.ctx.bloom\n",
      "ERR3655992.ctx.bloom\n",
      "ERR3655994.ctx.bloom\n",
      "ERR3655996.ctx.bloom\n",
      "ERR3655998.ctx.bloom\n",
      "ERR3656002.ctx.bloom\n",
      "50\n"
     ]
    }
   ],
   "source": [
    "ls -d *.bloom|head\n",
    "ls -d *.bloom|wc -l"
   ]
  },
  {
   "cell_type": "markdown",
   "metadata": {},
   "source": [
    "Awesome. We now have our BIGSI bloom filters.\n",
    "\n",
    "Let's merge these all into a BIGSI index."
   ]
  },
  {
   "cell_type": "code",
   "execution_count": 12,
   "metadata": {},
   "outputs": [
    {
     "name": "stdout",
     "output_type": "stream",
     "text": [
      "bigsi build ERR1144974.ctx.bloom ERR1144975.ctx.bloom ERR1144976.ctx.bloom ERR1144977.ctx.bloom ERR1144978.ctx.bloom ERR3655992.ctx.bloom ERR3655994.ctx.bloom ERR3655996.ctx.bloom ERR3655998.ctx.bloom ERR3656002.ctx.bloom ERR3656004.ctx.bloom ERR3656010.ctx.bloom ERR3656012.ctx.bloom ERR3656013.ctx.bloom ERR3656015.ctx.bloom ERR3656018.ctx.bloom ERR3656019.ctx.bloom SRR10298903.ctx.bloom SRR10298904.ctx.bloom SRR10298905.ctx.bloom SRR10298906.ctx.bloom SRR10298907.ctx.bloom SRR10512964.ctx.bloom SRR10512965.ctx.bloom SRR10512968.ctx.bloom SRR10513325.ctx.bloom SRR10513326.ctx.bloom SRR10513328.ctx.bloom SRR10513363.ctx.bloom SRR10513672.ctx.bloom SRR10519468.ctx.bloom SRR10519469.ctx.bloom SRR10519616.ctx.bloom SRR10519617.ctx.bloom SRR10519619.ctx.bloom SRR10519620.ctx.bloom SRR10519637.ctx.bloom SRR10521982.ctx.bloom SRR10521983.ctx.bloom SRR10521984.ctx.bloom SRR10527348.ctx.bloom SRR10527349.ctx.bloom SRR10527351.ctx.bloom SRR10527352.ctx.bloom SRR10527353.ctx.bloom SRR8088181.ctx.bloom SRR8088182.ctx.bloom SRR8088183.ctx.bloom SRR8088184.ctx.bloom SRR8088185.ctx.bloom -s ERR1144974 -s ERR1144975 -s ERR1144976 -s ERR1144977 -s ERR1144978 -s ERR3655992 -s ERR3655994 -s ERR3655996 -s ERR3655998 -s ERR3656002 -s ERR3656004 -s ERR3656010 -s ERR3656012 -s ERR3656013 -s ERR3656015 -s ERR3656018 -s ERR3656019 -s SRR10298903 -s SRR10298904 -s SRR10298905 -s SRR10298906 -s SRR10298907 -s SRR10512964 -s SRR10512965 -s SRR10512968 -s SRR10513325 -s SRR10513326 -s SRR10513328 -s SRR10513363 -s SRR10513672 -s SRR10519468 -s SRR10519469 -s SRR10519616 -s SRR10519617 -s SRR10519619 -s SRR10519620 -s SRR10519637 -s SRR10521982 -s SRR10521983 -s SRR10521984 -s SRR10527348 -s SRR10527349 -s SRR10527351 -s SRR10527352 -s SRR10527353 -s SRR8088181 -s SRR8088182 -s SRR8088183 -s SRR8088184 -s SRR8088185\n",
      "{'result': 'success'}\n",
      "/home/CSCScience.ca/apetkau/miniconda3/envs/bigsi/lib/python3.7/site-packages/bigsi/__main__.py:45: YAMLLoadWarning: calling yaml.load() without Loader=... is deprecated, as the default Loader is unsafe. Please read https://msg.pyyaml.org/load for full details.\n",
      "  config = yaml.load(infile)\n",
      "INFO:bigsi.cmds.build:Building index: 0/1\n",
      "DEBUG:bigsi.cmds.build:Loading /home/CSCScience.ca/apetkau/workspace/comp7934-project/microbial/bigsi/ERR1144974.ctx.bloom/ERR1144974.ctx.bloom \n",
      "DEBUG:bigsi.cmds.build:Loading /home/CSCScience.ca/apetkau/workspace/comp7934-project/microbial/bigsi/ERR1144975.ctx.bloom/ERR1144975.ctx.bloom \n",
      "DEBUG:bigsi.cmds.build:Loading /home/CSCScience.ca/apetkau/workspace/comp7934-project/microbial/bigsi/ERR1144976.ctx.bloom/ERR1144976.ctx.bloom \n",
      "DEBUG:bigsi.cmds.build:Loading /home/CSCScience.ca/apetkau/workspace/comp7934-project/microbial/bigsi/ERR1144977.ctx.bloom/ERR1144977.ctx.bloom \n",
      "DEBUG:bigsi.cmds.build:Loading /home/CSCScience.ca/apetkau/workspace/comp7934-project/microbial/bigsi/ERR1144978.ctx.bloom/ERR1144978.ctx.bloom \n",
      "DEBUG:bigsi.cmds.build:Loading /home/CSCScience.ca/apetkau/workspace/comp7934-project/microbial/bigsi/ERR3655992.ctx.bloom/ERR3655992.ctx.bloom \n",
      "DEBUG:bigsi.cmds.build:Loading /home/CSCScience.ca/apetkau/workspace/comp7934-project/microbial/bigsi/ERR3655994.ctx.bloom/ERR3655994.ctx.bloom \n",
      "DEBUG:bigsi.cmds.build:Loading /home/CSCScience.ca/apetkau/workspace/comp7934-project/microbial/bigsi/ERR3655996.ctx.bloom/ERR3655996.ctx.bloom \n",
      "DEBUG:bigsi.cmds.build:Loading /home/CSCScience.ca/apetkau/workspace/comp7934-project/microbial/bigsi/ERR3655998.ctx.bloom/ERR3655998.ctx.bloom \n",
      "DEBUG:bigsi.cmds.build:Loading /home/CSCScience.ca/apetkau/workspace/comp7934-project/microbial/bigsi/ERR3656002.ctx.bloom/ERR3656002.ctx.bloom \n",
      "DEBUG:bigsi.cmds.build:Loading /home/CSCScience.ca/apetkau/workspace/comp7934-project/microbial/bigsi/ERR3656004.ctx.bloom/ERR3656004.ctx.bloom \n",
      "DEBUG:bigsi.cmds.build:Loading /home/CSCScience.ca/apetkau/workspace/comp7934-project/microbial/bigsi/ERR3656010.ctx.bloom/ERR3656010.ctx.bloom \n",
      "DEBUG:bigsi.cmds.build:Loading /home/CSCScience.ca/apetkau/workspace/comp7934-project/microbial/bigsi/ERR3656012.ctx.bloom/ERR3656012.ctx.bloom \n",
      "DEBUG:bigsi.cmds.build:Loading /home/CSCScience.ca/apetkau/workspace/comp7934-project/microbial/bigsi/ERR3656013.ctx.bloom/ERR3656013.ctx.bloom \n",
      "DEBUG:bigsi.cmds.build:Loading /home/CSCScience.ca/apetkau/workspace/comp7934-project/microbial/bigsi/ERR3656015.ctx.bloom/ERR3656015.ctx.bloom \n",
      "DEBUG:bigsi.cmds.build:Loading /home/CSCScience.ca/apetkau/workspace/comp7934-project/microbial/bigsi/ERR3656018.ctx.bloom/ERR3656018.ctx.bloom \n",
      "DEBUG:bigsi.cmds.build:Loading /home/CSCScience.ca/apetkau/workspace/comp7934-project/microbial/bigsi/ERR3656019.ctx.bloom/ERR3656019.ctx.bloom \n",
      "DEBUG:bigsi.cmds.build:Loading /home/CSCScience.ca/apetkau/workspace/comp7934-project/microbial/bigsi/SRR10298903.ctx.bloom/SRR10298903.ctx.bloom \n",
      "DEBUG:bigsi.cmds.build:Loading /home/CSCScience.ca/apetkau/workspace/comp7934-project/microbial/bigsi/SRR10298904.ctx.bloom/SRR10298904.ctx.bloom \n",
      "DEBUG:bigsi.cmds.build:Loading /home/CSCScience.ca/apetkau/workspace/comp7934-project/microbial/bigsi/SRR10298905.ctx.bloom/SRR10298905.ctx.bloom \n",
      "DEBUG:bigsi.cmds.build:Loading /home/CSCScience.ca/apetkau/workspace/comp7934-project/microbial/bigsi/SRR10298906.ctx.bloom/SRR10298906.ctx.bloom \n",
      "DEBUG:bigsi.cmds.build:Loading /home/CSCScience.ca/apetkau/workspace/comp7934-project/microbial/bigsi/SRR10298907.ctx.bloom/SRR10298907.ctx.bloom \n",
      "DEBUG:bigsi.cmds.build:Loading /home/CSCScience.ca/apetkau/workspace/comp7934-project/microbial/bigsi/SRR10512964.ctx.bloom/SRR10512964.ctx.bloom \n",
      "DEBUG:bigsi.cmds.build:Loading /home/CSCScience.ca/apetkau/workspace/comp7934-project/microbial/bigsi/SRR10512965.ctx.bloom/SRR10512965.ctx.bloom \n",
      "DEBUG:bigsi.cmds.build:Loading /home/CSCScience.ca/apetkau/workspace/comp7934-project/microbial/bigsi/SRR10512968.ctx.bloom/SRR10512968.ctx.bloom \n",
      "DEBUG:bigsi.cmds.build:Loading /home/CSCScience.ca/apetkau/workspace/comp7934-project/microbial/bigsi/SRR10513325.ctx.bloom/SRR10513325.ctx.bloom \n",
      "DEBUG:bigsi.cmds.build:Loading /home/CSCScience.ca/apetkau/workspace/comp7934-project/microbial/bigsi/SRR10513326.ctx.bloom/SRR10513326.ctx.bloom \n",
      "DEBUG:bigsi.cmds.build:Loading /home/CSCScience.ca/apetkau/workspace/comp7934-project/microbial/bigsi/SRR10513328.ctx.bloom/SRR10513328.ctx.bloom \n",
      "DEBUG:bigsi.cmds.build:Loading /home/CSCScience.ca/apetkau/workspace/comp7934-project/microbial/bigsi/SRR10513363.ctx.bloom/SRR10513363.ctx.bloom \n",
      "DEBUG:bigsi.cmds.build:Loading /home/CSCScience.ca/apetkau/workspace/comp7934-project/microbial/bigsi/SRR10513672.ctx.bloom/SRR10513672.ctx.bloom \n",
      "DEBUG:bigsi.cmds.build:Loading /home/CSCScience.ca/apetkau/workspace/comp7934-project/microbial/bigsi/SRR10519468.ctx.bloom/SRR10519468.ctx.bloom \n",
      "DEBUG:bigsi.cmds.build:Loading /home/CSCScience.ca/apetkau/workspace/comp7934-project/microbial/bigsi/SRR10519469.ctx.bloom/SRR10519469.ctx.bloom \n",
      "DEBUG:bigsi.cmds.build:Loading /home/CSCScience.ca/apetkau/workspace/comp7934-project/microbial/bigsi/SRR10519616.ctx.bloom/SRR10519616.ctx.bloom \n",
      "DEBUG:bigsi.cmds.build:Loading /home/CSCScience.ca/apetkau/workspace/comp7934-project/microbial/bigsi/SRR10519617.ctx.bloom/SRR10519617.ctx.bloom \n",
      "DEBUG:bigsi.cmds.build:Loading /home/CSCScience.ca/apetkau/workspace/comp7934-project/microbial/bigsi/SRR10519619.ctx.bloom/SRR10519619.ctx.bloom \n",
      "DEBUG:bigsi.cmds.build:Loading /home/CSCScience.ca/apetkau/workspace/comp7934-project/microbial/bigsi/SRR10519620.ctx.bloom/SRR10519620.ctx.bloom \n",
      "DEBUG:bigsi.cmds.build:Loading /home/CSCScience.ca/apetkau/workspace/comp7934-project/microbial/bigsi/SRR10519637.ctx.bloom/SRR10519637.ctx.bloom \n",
      "DEBUG:bigsi.cmds.build:Loading /home/CSCScience.ca/apetkau/workspace/comp7934-project/microbial/bigsi/SRR10521982.ctx.bloom/SRR10521982.ctx.bloom \n",
      "DEBUG:bigsi.cmds.build:Loading /home/CSCScience.ca/apetkau/workspace/comp7934-project/microbial/bigsi/SRR10521983.ctx.bloom/SRR10521983.ctx.bloom \n",
      "DEBUG:bigsi.cmds.build:Loading /home/CSCScience.ca/apetkau/workspace/comp7934-project/microbial/bigsi/SRR10521984.ctx.bloom/SRR10521984.ctx.bloom \n",
      "DEBUG:bigsi.cmds.build:Loading /home/CSCScience.ca/apetkau/workspace/comp7934-project/microbial/bigsi/SRR10527348.ctx.bloom/SRR10527348.ctx.bloom \n",
      "DEBUG:bigsi.cmds.build:Loading /home/CSCScience.ca/apetkau/workspace/comp7934-project/microbial/bigsi/SRR10527349.ctx.bloom/SRR10527349.ctx.bloom \n",
      "DEBUG:bigsi.cmds.build:Loading /home/CSCScience.ca/apetkau/workspace/comp7934-project/microbial/bigsi/SRR10527351.ctx.bloom/SRR10527351.ctx.bloom \n",
      "DEBUG:bigsi.cmds.build:Loading /home/CSCScience.ca/apetkau/workspace/comp7934-project/microbial/bigsi/SRR10527352.ctx.bloom/SRR10527352.ctx.bloom \n",
      "DEBUG:bigsi.cmds.build:Loading /home/CSCScience.ca/apetkau/workspace/comp7934-project/microbial/bigsi/SRR10527353.ctx.bloom/SRR10527353.ctx.bloom \n",
      "DEBUG:bigsi.cmds.build:Loading /home/CSCScience.ca/apetkau/workspace/comp7934-project/microbial/bigsi/SRR8088181.ctx.bloom/SRR8088181.ctx.bloom \n",
      "DEBUG:bigsi.cmds.build:Loading /home/CSCScience.ca/apetkau/workspace/comp7934-project/microbial/bigsi/SRR8088182.ctx.bloom/SRR8088182.ctx.bloom \n",
      "DEBUG:bigsi.cmds.build:Loading /home/CSCScience.ca/apetkau/workspace/comp7934-project/microbial/bigsi/SRR8088183.ctx.bloom/SRR8088183.ctx.bloom \n",
      "DEBUG:bigsi.cmds.build:Loading /home/CSCScience.ca/apetkau/workspace/comp7934-project/microbial/bigsi/SRR8088184.ctx.bloom/SRR8088184.ctx.bloom \n",
      "DEBUG:bigsi.cmds.build:Loading /home/CSCScience.ca/apetkau/workspace/comp7934-project/microbial/bigsi/SRR8088185.ctx.bloom/SRR8088185.ctx.bloom \n",
      "DEBUG:bigsi.graph.bigsi:Insert sample metadata\n",
      "DEBUG:bigsi.graph.bigsi:Create signature index\n",
      "DEBUG:bigsi.graph.index:Transpose bitarrays\n",
      "DEBUG:bigsi.graph.index:Insert rows\n",
      "DEBUG:bigsi.storage.base:set bitarrays\n",
      "\tCommand being timed: \"bigsi build ERR1144974.ctx.bloom ERR1144975.ctx.bloom ERR1144976.ctx.bloom ERR1144977.ctx.bloom ERR1144978.ctx.bloom ERR3655992.ctx.bloom ERR3655994.ctx.bloom ERR3655996.ctx.bloom ERR3655998.ctx.bloom ERR3656002.ctx.bloom ERR3656004.ctx.bloom ERR3656010.ctx.bloom ERR3656012.ctx.bloom ERR3656013.ctx.bloom ERR3656015.ctx.bloom ERR3656018.ctx.bloom ERR3656019.ctx.bloom SRR10298903.ctx.bloom SRR10298904.ctx.bloom SRR10298905.ctx.bloom SRR10298906.ctx.bloom SRR10298907.ctx.bloom SRR10512964.ctx.bloom SRR10512965.ctx.bloom SRR10512968.ctx.bloom SRR10513325.ctx.bloom SRR10513326.ctx.bloom SRR10513328.ctx.bloom SRR10513363.ctx.bloom SRR10513672.ctx.bloom SRR10519468.ctx.bloom SRR10519469.ctx.bloom SRR10519616.ctx.bloom SRR10519617.ctx.bloom SRR10519619.ctx.bloom SRR10519620.ctx.bloom SRR10519637.ctx.bloom SRR10521982.ctx.bloom SRR10521983.ctx.bloom SRR10521984.ctx.bloom SRR10527348.ctx.bloom SRR10527349.ctx.bloom SRR10527351.ctx.bloom SRR10527352.ctx.bloom SRR10527353.ctx.bloom SRR8088181.ctx.bloom SRR8088182.ctx.bloom SRR8088183.ctx.bloom SRR8088184.ctx.bloom SRR8088185.ctx.bloom -s ERR1144974 -s ERR1144975 -s ERR1144976 -s ERR1144977 -s ERR1144978 -s ERR3655992 -s ERR3655994 -s ERR3655996 -s ERR3655998 -s ERR3656002 -s ERR3656004 -s ERR3656010 -s ERR3656012 -s ERR3656013 -s ERR3656015 -s ERR3656018 -s ERR3656019 -s SRR10298903 -s SRR10298904 -s SRR10298905 -s SRR10298906 -s SRR10298907 -s SRR10512964 -s SRR10512965 -s SRR10512968 -s SRR10513325 -s SRR10513326 -s SRR10513328 -s SRR10513363 -s SRR10513672 -s SRR10519468 -s SRR10519469 -s SRR10519616 -s SRR10519617 -s SRR10519619 -s SRR10519620 -s SRR10519637 -s SRR10521982 -s SRR10521983 -s SRR10521984 -s SRR10527348 -s SRR10527349 -s SRR10527351 -s SRR10527352 -s SRR10527353 -s SRR8088181 -s SRR8088182 -s SRR8088183 -s SRR8088184 -s SRR8088185\"\n",
      "\tUser time (seconds): 228.65\n",
      "\tSystem time (seconds): 98.29\n",
      "\tPercent of CPU this job got: 100%\n",
      "\tElapsed (wall clock) time (h:mm:ss or m:ss): 5:24.34\n",
      "\tAverage shared text size (kbytes): 0\n",
      "\tAverage unshared data size (kbytes): 0\n",
      "\tAverage stack size (kbytes): 0\n",
      "\tAverage total size (kbytes): 0\n",
      "\tMaximum resident set size (kbytes): 2683344\n",
      "\tAverage resident set size (kbytes): 0\n",
      "\tMajor (requiring I/O) page faults: 11\n",
      "\tMinor (reclaiming a frame) page faults: 479875\n",
      "\tVoluntary context switches: 1637\n",
      "\tInvoluntary context switches: 147381\n",
      "\tSwaps: 0\n",
      "\tFile system inputs: 2320\n",
      "\tFile system outputs: 53985536\n",
      "\tSocket messages sent: 0\n",
      "\tSocket messages received: 0\n",
      "\tSignals delivered: 0\n",
      "\tPage size (bytes): 4096\n",
      "\tExit status: 0\n"
     ]
    }
   ],
   "source": [
    "# Builds command-line string\n",
    "samples=`for i in *.bloom; do echo -n \"-s \"; basename $i .ctx.bloom; done`\n",
    "echo bigsi build *.bloom ${samples}\n",
    "conda run --name bigsi /usr/bin/time -v bigsi build *.bloom ${samples}"
   ]
  },
  {
   "cell_type": "code",
   "execution_count": 14,
   "metadata": {},
   "outputs": [
    {
     "name": "stdout",
     "output_type": "stream",
     "text": [
      "-rw-r--r-- 1 apetkau grp_apetkau 1.3G Dec  4 17:22 bigsi.db\n"
     ]
    }
   ],
   "source": [
    "ls -lh bigsi.db"
   ]
  },
  {
   "cell_type": "markdown",
   "metadata": {},
   "source": [
    "Awesome. We've gotten our database constructed. Let's try it out."
   ]
  },
  {
   "cell_type": "code",
   "execution_count": 18,
   "metadata": {},
   "outputs": [
    {
     "name": "stdout",
     "output_type": "stream",
     "text": [
      "sample_name\tpercent_kmers\n",
      "/home/CSCScience.ca/apetkau/miniconda3/envs/bigsi/lib/python3.7/site-packages/bigsi/__main__.py:45: YAMLLoadWarning: calling yaml.load() without Loader=... is deprecated, as the default Loader is unsafe. Please read https://msg.pyyaml.org/load for full details.\n",
      "  config = yaml.load(infile)\n",
      "\tCommand being timed: \"bigsi search GTTTCGTTCTTCCGGCGCGGGCGGTCAGCACGTTAACACCACCGACTCCGCTATCCGTATTACCCACTTGCCGACCGGCATCTTGGTGGAATGCCAGGACGAGC\"\n",
      "\tUser time (seconds): 3.11\n",
      "\tSystem time (seconds): 3.82\n",
      "\tPercent of CPU this job got: 1435%\n",
      "\tElapsed (wall clock) time (h:mm:ss or m:ss): 0:00.48\n",
      "\tAverage shared text size (kbytes): 0\n",
      "\tAverage unshared data size (kbytes): 0\n",
      "\tAverage stack size (kbytes): 0\n",
      "\tAverage total size (kbytes): 0\n",
      "\tMaximum resident set size (kbytes): 63324\n",
      "\tAverage resident set size (kbytes): 0\n",
      "\tMajor (requiring I/O) page faults: 0\n",
      "\tMinor (reclaiming a frame) page faults: 10962\n",
      "\tVoluntary context switches: 137\n",
      "\tInvoluntary context switches: 150489\n",
      "\tSwaps: 0\n",
      "\tFile system inputs: 0\n",
      "\tFile system outputs: 0\n",
      "\tSocket messages sent: 0\n",
      "\tSocket messages received: 0\n",
      "\tSignals delivered: 0\n",
      "\tPage size (bytes): 4096\n",
      "\tExit status: 0\n",
      "ERR1144974\t100\n",
      "ERR1144975\t100\n",
      "ERR1144976\t100\n",
      "ERR1144977\t100\n",
      "ERR1144978\t100\n",
      "ERR3655992\t100\n",
      "ERR3655994\t100\n"
     ]
    }
   ],
   "source": [
    "echo -e \"sample_name\\tpercent_kmers\"\n",
    "conda run --name bigsi /usr/bin/time -v bigsi search GTTTCGTTCTTCCGGCGCGGGCGGTCAGCACGTTAACACCACCGACTCCGCTATCCGTATTACCCACTTGCCGACCGGCATCTTGGTGGAATGCCAGGACGAGC \\\n",
    "    | sed -e $'s/\\'/\\\"/g' | jq -r '.results[] | \"\\(.sample_name)\\t\\(.percent_kmers_found)\"'"
   ]
  },
  {
   "cell_type": "markdown",
   "metadata": {},
   "source": [
    "Awesome. We can use this BIGSI index to pull out sample identifiers with specific genes."
   ]
  }
 ],
 "metadata": {
  "kernelspec": {
   "display_name": "Bash",
   "language": "bash",
   "name": "bash"
  },
  "language_info": {
   "codemirror_mode": "shell",
   "file_extension": ".sh",
   "mimetype": "text/x-sh",
   "name": "bash"
  }
 },
 "nbformat": 4,
 "nbformat_minor": 4
}
