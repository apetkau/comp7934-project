{
 "cells": [
  {
   "cell_type": "markdown",
   "metadata": {},
   "source": [
    "# Break into kmers with Jellyfish\n",
    "\n",
    "Both BIGSI and HowDeSBT operate on k-mers (of some size k), which are inserted into Bloom filters. While each program can take a variety of input files (and HowDeSBT can count k-mers itself), in order to measure performance we wish to start with a common set of inputs. So, we will break our data into kmers with the program [jellyfish](https://github.com/gmarcais/Jellyfish) ahead of time.\n",
    "\n",
    "First, let's setup some directories."
   ]
  },
  {
   "cell_type": "code",
   "execution_count": 1,
   "metadata": {},
   "outputs": [],
   "source": [
    "data_dir=data-downsampled\n",
    "kmer_dir=kmer-downsampled\n",
    "kmer_counts_dir=kmer-counts-jellyfish\n",
    "kmers_input_sizes=\"9 11 13 15 17\"\n",
    "\n",
    "jobs=50\n",
    "threads=4\n",
    "\n",
    "PROJECT_DIR=`git rev-parse --show-toplevel`\n",
    "cd $PROJECT_DIR"
   ]
  },
  {
   "cell_type": "markdown",
   "metadata": {},
   "source": [
    "The code given below assumes you have the following [conda](https://docs.conda.io/en/latest/) environments setup to install [jellyfish](https://github.com/gmarcais/Jellyfish). This can be done with.\n",
    "\n",
    "```bash\n",
    "conda create --name jellyfish jellyfish\n",
    "```\n",
    "\n",
    "Let's verify these commands exist (and verify versions)."
   ]
  },
  {
   "cell_type": "code",
   "execution_count": 2,
   "metadata": {},
   "outputs": [
    {
     "name": "stdout",
     "output_type": "stream",
     "text": [
      "jellyfish 2.2.8\n"
     ]
    }
   ],
   "source": [
    "conda run --name jellyfish jellyfish --version"
   ]
  },
  {
   "cell_type": "markdown",
   "metadata": {},
   "source": [
    "Once this step is complete, we need to figure out the maximum number of kmers for our 3 datasets (for passing to `jellyfish` to set the hash size). Let's define a bash function for this.\n",
    "\n",
    "## Find max data kmer cardinality"
   ]
  },
  {
   "cell_type": "code",
   "execution_count": 3,
   "metadata": {},
   "outputs": [],
   "source": [
    "# Purpose: Gets max kmer cardinality estimates on sequence reads.\n",
    "# Args:\n",
    "#      input_dir: The input directory containing all the kmer counts.\n",
    "#      kmer_size: The kmer_size to find the max.\n",
    "# Output: Prints the the maximum kmer count for the kmer size\n",
    "#         in this directory (files named like `kmer-9.tsv`).\n",
    "get_max_kmer_cardinality() {\n",
    "    input_dir=$1\n",
    "    kmer_size=$2\n",
    "    \n",
    "    cut -f 2 \"${input_dir}/kmer-${kmer_size}.tsv\" | sort -n | tail -n 1 | awk '{print int($1+0.5)}'\n",
    "}"
   ]
  },
  {
   "cell_type": "markdown",
   "metadata": {},
   "source": [
    "Let's test this code out."
   ]
  },
  {
   "cell_type": "code",
   "execution_count": 4,
   "metadata": {},
   "outputs": [
    {
     "name": "stdout",
     "output_type": "stream",
     "text": [
      "4912734\n",
      "5580383\n",
      "7067981\n"
     ]
    }
   ],
   "source": [
    "get_max_kmer_cardinality \"microbial/${kmer_dir}\" \"13\"\n",
    "get_max_kmer_cardinality \"human/${kmer_dir}\" \"13\"\n",
    "get_max_kmer_cardinality \"metagenomics/${kmer_dir}\" \"13\""
   ]
  },
  {
   "cell_type": "markdown",
   "metadata": {},
   "source": [
    "Great. Now that we have this setup, we can move to defining a function to count and produce a list of all kmers in the dataset using `jellyfish`.\n",
    "\n",
    "## Bash jellyfish kmer count function"
   ]
  },
  {
   "cell_type": "code",
   "execution_count": 5,
   "metadata": {},
   "outputs": [],
   "source": [
    "# Purpose: Runs jellyfish on sequence reads to count kmers.\n",
    "# Args:\n",
    "#      type_dir: The input type directory (e.g., microbial,)\n",
    "#      output_dir: A directory to save the jellyfish output into.\n",
    "#      kmer_sizes: The kmer_sizes to run (separated by spaces).\n",
    "# Output: Jellyfish kmer counts in the passed output directory.\n",
    "run_jellyfish() {\n",
    "    type_dir=$1\n",
    "    output_dir=$2\n",
    "    kmer_sizes=$3\n",
    "    \n",
    "    input_dir=${type_dir}/${data_dir}\n",
    "    \n",
    "    rm -rf ${output_dir}\n",
    "    mkdir ${output_dir}\n",
    "    \n",
    "    before=`date +%s`\n",
    "    \n",
    "    for kmer_size in ${kmer_sizes}\n",
    "    do\n",
    "        # Find max kmers\n",
    "        max_kmer=`get_max_kmer_cardinality \"${type_dir}/${kmer_dir}\" \"${kmer_size}\"`\n",
    "        \n",
    "        # Hash size is 10x the max kmers in dataset.\n",
    "        #hash_size=`echo \"10*${max_kmer}\" | bc`\n",
    "        \n",
    "        output_dir_kmer=${output_dir}/${kmer_size}\n",
    "        mkdir ${output_dir_kmer}\n",
    "        \n",
    "        commands_file=`mktemp`\n",
    "    \n",
    "        # Let's generate a list of commands to a temporary ${commands_file}\n",
    "        for file in ${input_dir}/*.fastq.gz\n",
    "        do\n",
    "            accession=`basename ${file} .fastq.gz`\n",
    "\n",
    "            jellyfish_out=${output_dir_kmer}/${accession}.jf\n",
    "            jellyfish_log=${output_dir_kmer}/jellyfish.count.${accession}.log\n",
    "                        \n",
    "            kmer_counts_out=${output_dir_kmer}/${accession}.kmer.gz\n",
    "            kmer_counts_log=${output_dir_kmer}/jellyfish.dump.${accession}.log\n",
    "        \n",
    "            # Command to generate a list of kmers with jellyfish and dump to a text file (gzipped)\n",
    "            command=\"/usr/bin/time -v jellyfish count --size ${max_kmer} --threads ${threads} --mer-len ${kmer_size} --output ${jellyfish_out} \\\n",
    "                --canonical <(gzip -d --stdout ${file}) 2> ${jellyfish_log}.err 1> ${jellyfish_log} && \\\n",
    "                /usr/bin/time -v jellyfish dump --column --tab ${jellyfish_out} 2> ${kmer_counts_log}.err | cut -f 1 | gzip --stdout > ${kmer_counts_out} && \\\n",
    "                rm ${jellyfish_out}\"\n",
    "            echo ${command} >> ${commands_file}\n",
    "        done\n",
    "        \n",
    "        # Now, let's execute those commands in parallel\n",
    "        printf \"Will execute commands from [%s] like:\\n\" ${commands_file}\n",
    "        head -n 1 ${commands_file}\n",
    "        \n",
    "        command=\"parallel -j ${jobs} -a ${commands_file}\"\n",
    "        echo $command\n",
    "        ${command}\n",
    "    done\n",
    "        \n",
    "    after=`date +%s`\n",
    "    minutes=`echo \"(${after}-${before})/60\" | bc -l`\n",
    "    printf \"Done. Took %0.2f minutes.\" ${minutes}\n",
    "}"
   ]
  },
  {
   "cell_type": "markdown",
   "metadata": {},
   "source": [
    "Let's generate some basic stats on these kmer lists.\n",
    "\n",
    "## Bash kmer stats"
   ]
  },
  {
   "cell_type": "code",
   "execution_count": 6,
   "metadata": {},
   "outputs": [],
   "source": [
    "# Purpose: Generates stats on kmers.\n",
    "# Args:\n",
    "#      input_dir: Input dir for kmer directories (e.g., 9, 15, etc)\n",
    "# Output: Jellyfish kmer stats for each kmer size (subdirectory) for each sample.\n",
    "jellyfish_kmer_stats() {\n",
    "    input_dir=$1\n",
    "    \n",
    "    echo -e \"kmer\\ttotal sizes\" > ${input_dir}/kmer-file-sizes.tsv\n",
    "    for kmer_dir_stats in ${input_dir}/*\n",
    "    do\n",
    "        kmer=`basename ${kmer_dir_stats}`\n",
    "    \n",
    "        # Skip the one non-directory file we create above\n",
    "        if [ -d ${kmer_dir_stats} ]\n",
    "        then\n",
    "            echo -e \"accession\\tkmer_count\\tfile_size_kb\" > ${kmer_dir_stats}/kmer-counts.tsv\n",
    "            for kmer_file in ${kmer_dir_stats}/*.kmer.gz\n",
    "            do\n",
    "                accession=`basename ${kmer_file} .kmer.gz`\n",
    "                kmer_count=`zcat ${kmer_file} | wc -l`\n",
    "                file_size=`du -sk ${kmer_file} | cut -f 1`\n",
    "                echo -e \"$accession\\t${kmer_count}\\t${file_size}\" >> ${kmer_dir_stats}/kmer-counts.tsv\n",
    "            done\n",
    "\n",
    "            total=`du -ch ${kmer_dir_stats}/*.kmer.gz | grep total | sed -e 's/total//'`\n",
    "            echo -e \"${kmer}\\t${total}\" >> ${input_dir}/kmer-file-sizes.tsv\n",
    "        fi\n",
    "    done\n",
    "}"
   ]
  },
  {
   "cell_type": "markdown",
   "metadata": {},
   "source": [
    "Now that we've got our mccortex code defined. Let's run it on a dataset.\n",
    "\n",
    "## Microbial kmer generation\n",
    "\n",
    "Let's first generate a list of all kmers (for different sizes) for the microbial dataset."
   ]
  },
  {
   "cell_type": "code",
   "execution_count": 7,
   "metadata": {},
   "outputs": [
    {
     "name": "stdout",
     "output_type": "stream",
     "text": [
      "Will execute commands from [/tmp/tmp.0T5oX4Tml2] like:\n",
      "/usr/bin/time -v jellyfish count --size 131021 --threads 4 --mer-len 9 --output microbial/kmer-counts-jellyfish/9/ERR1144974.jf --canonical <(gzip -d --stdout microbial/data-downsampled/ERR1144974.fastq.gz) 2> microbial/kmer-counts-jellyfish/9/jellyfish.count.ERR1144974.log.err 1> microbial/kmer-counts-jellyfish/9/jellyfish.count.ERR1144974.log && /usr/bin/time -v jellyfish dump --column --tab microbial/kmer-counts-jellyfish/9/ERR1144974.jf 2> microbial/kmer-counts-jellyfish/9/jellyfish.dump.ERR1144974.log.err | cut -f 1 | gzip --stdout > microbial/kmer-counts-jellyfish/9/ERR1144974.kmer.gz && rm microbial/kmer-counts-jellyfish/9/ERR1144974.jf\n",
      "parallel -j 50 -a /tmp/tmp.0T5oX4Tml2\n",
      "Will execute commands from [/tmp/tmp.nDZmpHprSV] like:\n",
      "/usr/bin/time -v jellyfish count --size 1621748 --threads 4 --mer-len 11 --output microbial/kmer-counts-jellyfish/11/ERR1144974.jf --canonical <(gzip -d --stdout microbial/data-downsampled/ERR1144974.fastq.gz) 2> microbial/kmer-counts-jellyfish/11/jellyfish.count.ERR1144974.log.err 1> microbial/kmer-counts-jellyfish/11/jellyfish.count.ERR1144974.log && /usr/bin/time -v jellyfish dump --column --tab microbial/kmer-counts-jellyfish/11/ERR1144974.jf 2> microbial/kmer-counts-jellyfish/11/jellyfish.dump.ERR1144974.log.err | cut -f 1 | gzip --stdout > microbial/kmer-counts-jellyfish/11/ERR1144974.kmer.gz && rm microbial/kmer-counts-jellyfish/11/ERR1144974.jf\n",
      "parallel -j 50 -a /tmp/tmp.nDZmpHprSV\n",
      "Will execute commands from [/tmp/tmp.UrSlCVHuCW] like:\n",
      "/usr/bin/time -v jellyfish count --size 4912734 --threads 4 --mer-len 13 --output microbial/kmer-counts-jellyfish/13/ERR1144974.jf --canonical <(gzip -d --stdout microbial/data-downsampled/ERR1144974.fastq.gz) 2> microbial/kmer-counts-jellyfish/13/jellyfish.count.ERR1144974.log.err 1> microbial/kmer-counts-jellyfish/13/jellyfish.count.ERR1144974.log && /usr/bin/time -v jellyfish dump --column --tab microbial/kmer-counts-jellyfish/13/ERR1144974.jf 2> microbial/kmer-counts-jellyfish/13/jellyfish.dump.ERR1144974.log.err | cut -f 1 | gzip --stdout > microbial/kmer-counts-jellyfish/13/ERR1144974.kmer.gz && rm microbial/kmer-counts-jellyfish/13/ERR1144974.jf\n",
      "parallel -j 50 -a /tmp/tmp.UrSlCVHuCW\n",
      "Will execute commands from [/tmp/tmp.Ett2pLLvg5] like:\n",
      "/usr/bin/time -v jellyfish count --size 6270732 --threads 4 --mer-len 15 --output microbial/kmer-counts-jellyfish/15/ERR1144974.jf --canonical <(gzip -d --stdout microbial/data-downsampled/ERR1144974.fastq.gz) 2> microbial/kmer-counts-jellyfish/15/jellyfish.count.ERR1144974.log.err 1> microbial/kmer-counts-jellyfish/15/jellyfish.count.ERR1144974.log && /usr/bin/time -v jellyfish dump --column --tab microbial/kmer-counts-jellyfish/15/ERR1144974.jf 2> microbial/kmer-counts-jellyfish/15/jellyfish.dump.ERR1144974.log.err | cut -f 1 | gzip --stdout > microbial/kmer-counts-jellyfish/15/ERR1144974.kmer.gz && rm microbial/kmer-counts-jellyfish/15/ERR1144974.jf\n",
      "parallel -j 50 -a /tmp/tmp.Ett2pLLvg5\n",
      "Will execute commands from [/tmp/tmp.fUe8EoUDgX] like:\n",
      "/usr/bin/time -v jellyfish count --size 6547311 --threads 4 --mer-len 17 --output microbial/kmer-counts-jellyfish/17/ERR1144974.jf --canonical <(gzip -d --stdout microbial/data-downsampled/ERR1144974.fastq.gz) 2> microbial/kmer-counts-jellyfish/17/jellyfish.count.ERR1144974.log.err 1> microbial/kmer-counts-jellyfish/17/jellyfish.count.ERR1144974.log && /usr/bin/time -v jellyfish dump --column --tab microbial/kmer-counts-jellyfish/17/ERR1144974.jf 2> microbial/kmer-counts-jellyfish/17/jellyfish.dump.ERR1144974.log.err | cut -f 1 | gzip --stdout > microbial/kmer-counts-jellyfish/17/ERR1144974.kmer.gz && rm microbial/kmer-counts-jellyfish/17/ERR1144974.jf\n",
      "parallel -j 50 -a /tmp/tmp.fUe8EoUDgX\n",
      "Done. Took 1.47 minutes."
     ]
    }
   ],
   "source": [
    "input_dir_type=\"microbial\"\n",
    "run_jellyfish \"${input_dir_type}\" \"${input_dir_type}/${kmer_counts_dir}\" \"${kmers_input_sizes}\""
   ]
  },
  {
   "cell_type": "markdown",
   "metadata": {},
   "source": [
    "Awesome. We've generated our kmer list. Let's look at the files."
   ]
  },
  {
   "cell_type": "code",
   "execution_count": 8,
   "metadata": {},
   "outputs": [
    {
     "name": "stdout",
     "output_type": "stream",
     "text": [
      "total 14M\n",
      "-rw-r--r-- 1 apetkau grp_apetkau 258K Dec 11 13:52 ERR1144974.kmer.gz\n",
      "-rw-r--r-- 1 apetkau grp_apetkau 258K Dec 11 13:52 ERR1144975.kmer.gz\n",
      "-rw-r--r-- 1 apetkau grp_apetkau 258K Dec 11 13:52 ERR1144976.kmer.gz\n",
      "-rw-r--r-- 1 apetkau grp_apetkau 258K Dec 11 13:52 ERR1144977.kmer.gz\n",
      "ls: write error: Broken pipe\n"
     ]
    }
   ],
   "source": [
    "ls -lh ${input_dir_type}/${kmer_counts_dir}/9 | head -n 5"
   ]
  },
  {
   "cell_type": "markdown",
   "metadata": {},
   "source": [
    "Let's look at what data we've genearted."
   ]
  },
  {
   "cell_type": "code",
   "execution_count": 9,
   "metadata": {},
   "outputs": [
    {
     "name": "stdout",
     "output_type": "stream",
     "text": [
      "AAAAAAAAA\n",
      "AAAAAAAAC\n",
      "AAAAAAAAG\n",
      "AAAAAAAAT\n",
      "AAAAAAACA\n",
      "\n",
      "gzip: stdout: Broken pipe\n"
     ]
    }
   ],
   "source": [
    "zcat ${input_dir_type}/${kmer_counts_dir}/9/ERR1144976.kmer.gz | head -n 5"
   ]
  },
  {
   "cell_type": "markdown",
   "metadata": {},
   "source": [
    "This file contains a list of all kmers along with counts of the kmers in the dataset.\n",
    "\n",
    "Let's now generate some basic stats."
   ]
  },
  {
   "cell_type": "code",
   "execution_count": 10,
   "metadata": {},
   "outputs": [],
   "source": [
    "jellyfish_kmer_stats \"${input_dir_type}/${kmer_counts_dir}\""
   ]
  },
  {
   "cell_type": "markdown",
   "metadata": {},
   "source": [
    "Now let's look at what we have."
   ]
  },
  {
   "cell_type": "code",
   "execution_count": 11,
   "metadata": {},
   "outputs": [
    {
     "name": "stdout",
     "output_type": "stream",
     "text": [
      "accession    kmer_count  file_size_kb\n",
      "ERR1144974   126204      260\n",
      "ERR1144975   126306      260\n",
      "ERR1144976   126216      260\n",
      "ERR1144977   126135      260\n",
      "51 microbial/kmer-counts-jellyfish/9/kmer-counts.tsv\n"
     ]
    }
   ],
   "source": [
    "column -s$'\\t' -t ${input_dir_type}/${kmer_counts_dir}/9/kmer-counts.tsv | head -n 5\n",
    "wc -l ${input_dir_type}/${kmer_counts_dir}/9/kmer-counts.tsv"
   ]
  },
  {
   "cell_type": "markdown",
   "metadata": {},
   "source": [
    "This file contains a list of the true (not estimated) kmers in each file, along with the file sizes. Let's look at the total size of files `jellyfish` made (compressed)."
   ]
  },
  {
   "cell_type": "code",
   "execution_count": 12,
   "metadata": {},
   "outputs": [
    {
     "name": "stdout",
     "output_type": "stream",
     "text": [
      "kmer\ttotal sizes\n",
      "11\t217M\t\n",
      "13\t622M\t\n",
      "15\t854M\t\n",
      "17\t987M\t\n",
      "9\t13M\t\n"
     ]
    }
   ],
   "source": [
    "cat ${input_dir_type}/${kmer_counts_dir}/kmer-file-sizes.tsv"
   ]
  },
  {
   "cell_type": "markdown",
   "metadata": {},
   "source": [
    "This lists the total size of all intermediate files we've generated."
   ]
  },
  {
   "cell_type": "markdown",
   "metadata": {},
   "source": [
    "# Metagenomics\n",
    "\n",
    "Let's continue with the metagenomics data."
   ]
  },
  {
   "cell_type": "code",
   "execution_count": 13,
   "metadata": {},
   "outputs": [
    {
     "name": "stdout",
     "output_type": "stream",
     "text": [
      "Will execute commands from [/tmp/tmp.RW6EYF0iPq] like:\n",
      "/usr/bin/time -v jellyfish count --size 131085 --threads 4 --mer-len 9 --output metagenomics/kmer-counts-jellyfish/9/ERR1713331.jf --canonical <(gzip -d --stdout metagenomics/data-downsampled/ERR1713331.fastq.gz) 2> metagenomics/kmer-counts-jellyfish/9/jellyfish.count.ERR1713331.log.err 1> metagenomics/kmer-counts-jellyfish/9/jellyfish.count.ERR1713331.log && /usr/bin/time -v jellyfish dump --column --tab metagenomics/kmer-counts-jellyfish/9/ERR1713331.jf 2> metagenomics/kmer-counts-jellyfish/9/jellyfish.dump.ERR1713331.log.err | cut -f 1 | gzip --stdout > metagenomics/kmer-counts-jellyfish/9/ERR1713331.kmer.gz && rm metagenomics/kmer-counts-jellyfish/9/ERR1713331.jf\n",
      "parallel -j 50 -a /tmp/tmp.RW6EYF0iPq\n",
      "Will execute commands from [/tmp/tmp.TFNMYsug4M] like:\n",
      "/usr/bin/time -v jellyfish count --size 1892737 --threads 4 --mer-len 11 --output metagenomics/kmer-counts-jellyfish/11/ERR1713331.jf --canonical <(gzip -d --stdout metagenomics/data-downsampled/ERR1713331.fastq.gz) 2> metagenomics/kmer-counts-jellyfish/11/jellyfish.count.ERR1713331.log.err 1> metagenomics/kmer-counts-jellyfish/11/jellyfish.count.ERR1713331.log && /usr/bin/time -v jellyfish dump --column --tab metagenomics/kmer-counts-jellyfish/11/ERR1713331.jf 2> metagenomics/kmer-counts-jellyfish/11/jellyfish.dump.ERR1713331.log.err | cut -f 1 | gzip --stdout > metagenomics/kmer-counts-jellyfish/11/ERR1713331.kmer.gz && rm metagenomics/kmer-counts-jellyfish/11/ERR1713331.jf\n",
      "parallel -j 50 -a /tmp/tmp.TFNMYsug4M\n",
      "Will execute commands from [/tmp/tmp.qmQj7wtY9S] like:\n",
      "/usr/bin/time -v jellyfish count --size 7067981 --threads 4 --mer-len 13 --output metagenomics/kmer-counts-jellyfish/13/ERR1713331.jf --canonical <(gzip -d --stdout metagenomics/data-downsampled/ERR1713331.fastq.gz) 2> metagenomics/kmer-counts-jellyfish/13/jellyfish.count.ERR1713331.log.err 1> metagenomics/kmer-counts-jellyfish/13/jellyfish.count.ERR1713331.log && /usr/bin/time -v jellyfish dump --column --tab metagenomics/kmer-counts-jellyfish/13/ERR1713331.jf 2> metagenomics/kmer-counts-jellyfish/13/jellyfish.dump.ERR1713331.log.err | cut -f 1 | gzip --stdout > metagenomics/kmer-counts-jellyfish/13/ERR1713331.kmer.gz && rm metagenomics/kmer-counts-jellyfish/13/ERR1713331.jf\n",
      "parallel -j 50 -a /tmp/tmp.qmQj7wtY9S\n",
      "Will execute commands from [/tmp/tmp.t9TYEpj6jZ] like:\n",
      "/usr/bin/time -v jellyfish count --size 8673208 --threads 4 --mer-len 15 --output metagenomics/kmer-counts-jellyfish/15/ERR1713331.jf --canonical <(gzip -d --stdout metagenomics/data-downsampled/ERR1713331.fastq.gz) 2> metagenomics/kmer-counts-jellyfish/15/jellyfish.count.ERR1713331.log.err 1> metagenomics/kmer-counts-jellyfish/15/jellyfish.count.ERR1713331.log && /usr/bin/time -v jellyfish dump --column --tab metagenomics/kmer-counts-jellyfish/15/ERR1713331.jf 2> metagenomics/kmer-counts-jellyfish/15/jellyfish.dump.ERR1713331.log.err | cut -f 1 | gzip --stdout > metagenomics/kmer-counts-jellyfish/15/ERR1713331.kmer.gz && rm metagenomics/kmer-counts-jellyfish/15/ERR1713331.jf\n",
      "parallel -j 50 -a /tmp/tmp.t9TYEpj6jZ\n",
      "Will execute commands from [/tmp/tmp.bacCtVij5d] like:\n",
      "/usr/bin/time -v jellyfish count --size 8807009 --threads 4 --mer-len 17 --output metagenomics/kmer-counts-jellyfish/17/ERR1713331.jf --canonical <(gzip -d --stdout metagenomics/data-downsampled/ERR1713331.fastq.gz) 2> metagenomics/kmer-counts-jellyfish/17/jellyfish.count.ERR1713331.log.err 1> metagenomics/kmer-counts-jellyfish/17/jellyfish.count.ERR1713331.log && /usr/bin/time -v jellyfish dump --column --tab metagenomics/kmer-counts-jellyfish/17/ERR1713331.jf 2> metagenomics/kmer-counts-jellyfish/17/jellyfish.dump.ERR1713331.log.err | cut -f 1 | gzip --stdout > metagenomics/kmer-counts-jellyfish/17/ERR1713331.kmer.gz && rm metagenomics/kmer-counts-jellyfish/17/ERR1713331.jf\n",
      "parallel -j 50 -a /tmp/tmp.bacCtVij5d\n",
      "Done. Took 2.28 minutes."
     ]
    }
   ],
   "source": [
    "input_dir_type=\"metagenomics\"\n",
    "run_jellyfish \"${input_dir_type}\" \"${input_dir_type}/${kmer_counts_dir}\" \"${kmers_input_sizes}\""
   ]
  },
  {
   "cell_type": "markdown",
   "metadata": {},
   "source": [
    "Let's look at the output."
   ]
  },
  {
   "cell_type": "code",
   "execution_count": 14,
   "metadata": {},
   "outputs": [
    {
     "name": "stdout",
     "output_type": "stream",
     "text": [
      "accession   kmer_count  file_size_kb\n",
      "ERR1713331  131068      408\n",
      "ERR1713332  131068      408\n",
      "ERR1713333  131070      408\n",
      "ERR1713334  131070      408\n",
      "51 metagenomics/kmer-counts-jellyfish/9/kmer-counts.tsv\n",
      "kmer\ttotal sizes\n",
      "11\t332M\t\n",
      "13\t1.4G\t\n",
      "15\t2.0G\t\n",
      "17\t2.3G\t\n",
      "9\t20M\t\n"
     ]
    }
   ],
   "source": [
    "jellyfish_kmer_stats \"${input_dir_type}/${kmer_counts_dir}\"\n",
    "column -s$'\\t' -t ${input_dir_type}/${kmer_counts_dir}/9/kmer-counts.tsv | head -n 5\n",
    "wc -l ${input_dir_type}/${kmer_counts_dir}/9/kmer-counts.tsv\n",
    "cat ${input_dir_type}/${kmer_counts_dir}/kmer-file-sizes.tsv"
   ]
  },
  {
   "cell_type": "markdown",
   "metadata": {},
   "source": [
    "On to the human data.\n",
    "\n",
    "# Human"
   ]
  },
  {
   "cell_type": "code",
   "execution_count": 15,
   "metadata": {},
   "outputs": [
    {
     "name": "stdout",
     "output_type": "stream",
     "text": [
      "Will execute commands from [/tmp/tmp.DUN83VdHix] like:\n",
      "/usr/bin/time -v jellyfish count --size 131013 --threads 4 --mer-len 9 --output human/kmer-counts-jellyfish/9/SRR038300.jf --canonical <(gzip -d --stdout human/data-downsampled/SRR038300.fastq.gz) 2> human/kmer-counts-jellyfish/9/jellyfish.count.SRR038300.log.err 1> human/kmer-counts-jellyfish/9/jellyfish.count.SRR038300.log && /usr/bin/time -v jellyfish dump --column --tab human/kmer-counts-jellyfish/9/SRR038300.jf 2> human/kmer-counts-jellyfish/9/jellyfish.dump.SRR038300.log.err | cut -f 1 | gzip --stdout > human/kmer-counts-jellyfish/9/SRR038300.kmer.gz && rm human/kmer-counts-jellyfish/9/SRR038300.jf\n",
      "parallel -j 50 -a /tmp/tmp.DUN83VdHix\n",
      "Will execute commands from [/tmp/tmp.EQNAR0GGH4] like:\n",
      "/usr/bin/time -v jellyfish count --size 1618141 --threads 4 --mer-len 11 --output human/kmer-counts-jellyfish/11/SRR038300.jf --canonical <(gzip -d --stdout human/data-downsampled/SRR038300.fastq.gz) 2> human/kmer-counts-jellyfish/11/jellyfish.count.SRR038300.log.err 1> human/kmer-counts-jellyfish/11/jellyfish.count.SRR038300.log && /usr/bin/time -v jellyfish dump --column --tab human/kmer-counts-jellyfish/11/SRR038300.jf 2> human/kmer-counts-jellyfish/11/jellyfish.dump.SRR038300.log.err | cut -f 1 | gzip --stdout > human/kmer-counts-jellyfish/11/SRR038300.kmer.gz && rm human/kmer-counts-jellyfish/11/SRR038300.jf\n",
      "parallel -j 50 -a /tmp/tmp.EQNAR0GGH4\n",
      "Will execute commands from [/tmp/tmp.NMgPDHobBu] like:\n",
      "/usr/bin/time -v jellyfish count --size 5580383 --threads 4 --mer-len 13 --output human/kmer-counts-jellyfish/13/SRR038300.jf --canonical <(gzip -d --stdout human/data-downsampled/SRR038300.fastq.gz) 2> human/kmer-counts-jellyfish/13/jellyfish.count.SRR038300.log.err 1> human/kmer-counts-jellyfish/13/jellyfish.count.SRR038300.log && /usr/bin/time -v jellyfish dump --column --tab human/kmer-counts-jellyfish/13/SRR038300.jf 2> human/kmer-counts-jellyfish/13/jellyfish.dump.SRR038300.log.err | cut -f 1 | gzip --stdout > human/kmer-counts-jellyfish/13/SRR038300.kmer.gz && rm human/kmer-counts-jellyfish/13/SRR038300.jf\n",
      "parallel -j 50 -a /tmp/tmp.NMgPDHobBu\n",
      "Will execute commands from [/tmp/tmp.5htWAfkDNm] like:\n",
      "/usr/bin/time -v jellyfish count --size 6949105 --threads 4 --mer-len 15 --output human/kmer-counts-jellyfish/15/SRR038300.jf --canonical <(gzip -d --stdout human/data-downsampled/SRR038300.fastq.gz) 2> human/kmer-counts-jellyfish/15/jellyfish.count.SRR038300.log.err 1> human/kmer-counts-jellyfish/15/jellyfish.count.SRR038300.log && /usr/bin/time -v jellyfish dump --column --tab human/kmer-counts-jellyfish/15/SRR038300.jf 2> human/kmer-counts-jellyfish/15/jellyfish.dump.SRR038300.log.err | cut -f 1 | gzip --stdout > human/kmer-counts-jellyfish/15/SRR038300.kmer.gz && rm human/kmer-counts-jellyfish/15/SRR038300.jf\n",
      "parallel -j 50 -a /tmp/tmp.5htWAfkDNm\n",
      "Will execute commands from [/tmp/tmp.fG4SDrqWkB] like:\n",
      "/usr/bin/time -v jellyfish count --size 7129460 --threads 4 --mer-len 17 --output human/kmer-counts-jellyfish/17/SRR038300.jf --canonical <(gzip -d --stdout human/data-downsampled/SRR038300.fastq.gz) 2> human/kmer-counts-jellyfish/17/jellyfish.count.SRR038300.log.err 1> human/kmer-counts-jellyfish/17/jellyfish.count.SRR038300.log && /usr/bin/time -v jellyfish dump --column --tab human/kmer-counts-jellyfish/17/SRR038300.jf 2> human/kmer-counts-jellyfish/17/jellyfish.dump.SRR038300.log.err | cut -f 1 | gzip --stdout > human/kmer-counts-jellyfish/17/SRR038300.kmer.gz && rm human/kmer-counts-jellyfish/17/SRR038300.jf\n",
      "parallel -j 50 -a /tmp/tmp.fG4SDrqWkB\n",
      "Done. Took 1.40 minutes."
     ]
    }
   ],
   "source": [
    "input_dir_type=\"human\"\n",
    "run_jellyfish \"${input_dir_type}\" \"${input_dir_type}/${kmer_counts_dir}\" \"${kmers_input_sizes}\""
   ]
  },
  {
   "cell_type": "markdown",
   "metadata": {},
   "source": [
    "The output."
   ]
  },
  {
   "cell_type": "code",
   "execution_count": 16,
   "metadata": {},
   "outputs": [
    {
     "name": "stdout",
     "output_type": "stream",
     "text": [
      "accession   kmer_count  file_size_kb\n",
      "SRR038300   130917      264\n",
      "SRR039632   130864      264\n",
      "SRR1012332  83083       260\n",
      "SRR1024141  124755      256\n",
      "51 human/kmer-counts-jellyfish/9/kmer-counts.tsv\n",
      "kmer\ttotal sizes\n",
      "11\t179M\t\n",
      "13\t552M\t\n",
      "15\t720M\t\n",
      "17\t798M\t\n",
      "9\t13M\t\n"
     ]
    }
   ],
   "source": [
    "jellyfish_kmer_stats \"${input_dir_type}/${kmer_counts_dir}\"\n",
    "column -s$'\\t' -t ${input_dir_type}/${kmer_counts_dir}/9/kmer-counts.tsv | head -n 5\n",
    "wc -l ${input_dir_type}/${kmer_counts_dir}/9/kmer-counts.tsv\n",
    "cat ${input_dir_type}/${kmer_counts_dir}/kmer-file-sizes.tsv"
   ]
  },
  {
   "cell_type": "markdown",
   "metadata": {},
   "source": [
    "Awesome. We're all done converting our data into a common format for both BIGSI and HowDeSBT."
   ]
  }
 ],
 "metadata": {
  "kernelspec": {
   "display_name": "Bash",
   "language": "bash",
   "name": "bash"
  },
  "language_info": {
   "codemirror_mode": "shell",
   "file_extension": ".sh",
   "mimetype": "text/x-sh",
   "name": "bash"
  }
 },
 "nbformat": 4,
 "nbformat_minor": 4
}
