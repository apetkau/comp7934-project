{
 "cells": [
  {
   "cell_type": "markdown",
   "metadata": {},
   "source": [
    "# Download sequence read data\n",
    "\n",
    "This notebook describes the procedures taken to download all the sequence read data.\n",
    "\n",
    "First, we will start by setting some environment variables."
   ]
  },
  {
   "cell_type": "code",
   "execution_count": 1,
   "metadata": {},
   "outputs": [
    {
     "name": "stdout",
     "output_type": "stream",
     "text": [
      "1-download-data.ipynb            \u001b[0m\u001b[01;34mbin\u001b[0m           fastp.json  \u001b[01;34mmetagenomics\u001b[0m\n",
      "1-download-data.nbconvert.ipynb  download.log  \u001b[01;34mfast.tmp\u001b[0m    \u001b[01;34mmicrobial\u001b[0m\n",
      "2-count-kmers.ipynb              fastp.html    \u001b[01;34mhuman\u001b[0m       README.md\n"
     ]
    }
   ],
   "source": [
    "accessions_file_extension='.txt'\n",
    "output_dir_fragment='data'\n",
    "\n",
    "PROJECT_DIR=`git rev-parse --show-toplevel`\n",
    "cd $PROJECT_DIR\n",
    "ls"
   ]
  },
  {
   "cell_type": "markdown",
   "metadata": {},
   "source": [
    "Now, let's download the data. \n",
    "\n",
    "The download code given below assumes you have the following [conda](https://docs.conda.io/en/latest/) environments setup to install [sra-tools](https://github.com/ncbi/sra-tools) and [fastp](https://github.com/OpenGene/fastp). This can be done with.\n",
    "\n",
    "```bash\n",
    "conda create --name sra-tools sra-tools fastp\n",
    "```\n",
    "\n",
    "We also assume that you have the command [pigz](https://zlib.net/pigz/) setup (for faster gzipping).\n",
    "\n",
    "Once that's setup, let's define a bash function for downloading the data.\n",
    "\n",
    "## Bash download function"
   ]
  },
  {
   "cell_type": "code",
   "execution_count": 2,
   "metadata": {},
   "outputs": [],
   "source": [
    "# Purpose: Downloads sequence reads\n",
    "# Args:\n",
    "#      accessions_file: A file contining a list (one per line) of sequence read accessions to download.\n",
    "#      output_dir: A directory to download the files into.\n",
    "#      interleaved_fastp: Set to '--interleaved_in' if data is paired-end, otherwise set to ''.\n",
    "download_sequence_reads() {\n",
    "    accessions_file=$1\n",
    "    output_dir=$2\n",
    "    interleaved_fastp=$3\n",
    "    \n",
    "    jobs=1\n",
    "    threads=24\n",
    "    \n",
    "    echo \"Downloading files from ${accessions_file}\"\n",
    "    echo \"Downloading files to ${output_dir}\"\n",
    "    \n",
    "    rm -rf ${output_dir}\n",
    "    mkdir -p ${output_dir}\n",
    "    \n",
    "    before=`date +%s`\n",
    "    \n",
    "    command=\"parallel -j ${jobs} -I% -a ${accessions_file} \\\n",
    "        fasterq-dump --threads ${threads} --split-spot --stdout % \\2\\> ${output_dir}/log.fasterq.%.err \\| \\\n",
    "        fastp ${interleaved_fastp} -l 15 --stdin --stdout \\2\\> ${output_dir}/log.fastp.%.err \\| \\\n",
    "        pigz -cp ${threads} - \\> ${output_dir}/%.fastq.gz\"\n",
    "    echo ${command}\n",
    "    conda run --name sra-tools ${command}\n",
    "        \n",
    "    after=`date +%s`\n",
    "    minutes=`echo \"(${after}-${before})/60\" | bc -l`\n",
    "    printf \"Done. Took %0.2f minutes.\" ${minutes}\n",
    "}"
   ]
  },
  {
   "cell_type": "markdown",
   "metadata": {},
   "source": [
    "# Download microbial data\n",
    "\n",
    "Now, let's download the microbial data."
   ]
  },
  {
   "cell_type": "code",
   "execution_count": 3,
   "metadata": {},
   "outputs": [
    {
     "name": "stdout",
     "output_type": "stream",
     "text": [
      "Downloading files from microbial/microbial-genomes.txt\n",
      "Downloading files to microbial/data\n",
      "parallel -j 1 -I% -a microbial/microbial-genomes.txt fasterq-dump --threads 24 --split-spot --stdout % \\2\\> microbial/data/log.fasterq.%.err \\| fastp --interleaved_in -l 15 --stdin --stdout \\2\\> microbial/data/log.fastp.%.err \\| pigz -cp 24 - \\> microbial/data/%.fastq.gz\n",
      "Done. Took 63.05 minutes."
     ]
    }
   ],
   "source": [
    "download_sequence_reads \"microbial/microbial-genomes${accessions_file_extension}\" \"microbial/${output_dir_fragment}\" '--interleaved_in'"
   ]
  },
  {
   "cell_type": "markdown",
   "metadata": {},
   "source": [
    "Awesome. We've downloaded all the microbial data. Let's check out the files."
   ]
  },
  {
   "cell_type": "code",
   "execution_count": 4,
   "metadata": {},
   "outputs": [
    {
     "name": "stdout",
     "output_type": "stream",
     "text": [
      "-rw-r--r-- 1 apetkau grp_apetkau 1.4G Dec  8 20:14 microbial/data/ERR1144974.fastq.gz\n",
      "-rw-r--r-- 1 apetkau grp_apetkau 871M Dec  8 20:17 microbial/data/ERR1144975.fastq.gz\n",
      "-rw-r--r-- 1 apetkau grp_apetkau 720M Dec  8 20:20 microbial/data/ERR1144976.fastq.gz\n",
      "-rw-r--r-- 1 apetkau grp_apetkau 901M Dec  8 20:23 microbial/data/ERR1144977.fastq.gz\n",
      "-rw-r--r-- 1 apetkau grp_apetkau 831M Dec  8 20:26 microbial/data/ERR1144978.fastq.gz\n",
      "-rw-r--r-- 1 apetkau grp_apetkau 411M Dec  8 20:42 microbial/data/ERR3655992.fastq.gz\n",
      "-rw-r--r-- 1 apetkau grp_apetkau 426M Dec  8 20:41 microbial/data/ERR3655994.fastq.gz\n",
      "-rw-r--r-- 1 apetkau grp_apetkau 465M Dec  8 20:40 microbial/data/ERR3655996.fastq.gz\n",
      "-rw-r--r-- 1 apetkau grp_apetkau 474M Dec  8 20:38 microbial/data/ERR3655998.fastq.gz\n",
      "-rw-r--r-- 1 apetkau grp_apetkau   20 Dec  8 20:37 microbial/data/ERR3656002.fastq.gz\n",
      "50\n"
     ]
    }
   ],
   "source": [
    "ls -lh ${output_dir}/*.gz | head\n",
    "ls ${output_dir}/*.gz | wc -l"
   ]
  },
  {
   "cell_type": "markdown",
   "metadata": {},
   "source": [
    "Looks like 50 files are present.\n",
    "\n",
    "Let's look for any files which did not completly download (size should be very small)."
   ]
  },
  {
   "cell_type": "code",
   "execution_count": 7,
   "metadata": {},
   "outputs": [
    {
     "name": "stdout",
     "output_type": "stream",
     "text": [
      "microbial/data/ERR3656002.fastq.gz\t20\n"
     ]
    }
   ],
   "source": [
    "for file in microbial/data/*.fastq.gz\n",
    "do\n",
    "    size=`ls -l ${file} | awk '{ print $5 }'`\n",
    "    if [ \"$size\" -lt 1000 ]\n",
    "    then\n",
    "        echo -e \"${file}\\t${size}\"\n",
    "    fi\n",
    "done"
   ]
  },
  {
   "cell_type": "markdown",
   "metadata": {},
   "source": [
    "Looks like this one file failed to download (only 20 bytes). Let's try and redownload it."
   ]
  },
  {
   "cell_type": "code",
   "execution_count": 4,
   "metadata": {},
   "outputs": [
    {
     "name": "stdout",
     "output_type": "stream",
     "text": [
      "parallel -j 1 -I% fasterq-dump --threads 24 --split-spot --stdout % \\2\\> microbial/data/log.fasterq.%.err \\| fastp -l 15 --stdin --stdout \\2\\> microbial/data/log.fastp.%.err \\| pigz -cp 24 - \\> microbial/data/%.fastq.gz ::: ERR3656002\n"
     ]
    }
   ],
   "source": [
    "threads=24\n",
    "output_dir=microbial/data\n",
    "command=\"parallel -j 1 -I% \\\n",
    "    fasterq-dump --threads ${threads} --split-spot --stdout % \\2\\> ${output_dir}/log.fasterq.%.err \\| \\\n",
    "    fastp ${interleaved_fastp} -l 15 --stdin --stdout \\2\\> ${output_dir}/log.fastp.%.err \\| \\\n",
    "    pigz -cp ${threads} - \\> ${output_dir}/%.fastq.gz ::: ERR3656002\"\n",
    "echo ${command}\n",
    "conda run --name sra-tools ${command}"
   ]
  },
  {
   "cell_type": "code",
   "execution_count": 5,
   "metadata": {},
   "outputs": [
    {
     "name": "stdout",
     "output_type": "stream",
     "text": [
      "-rw-r--r-- 1 apetkau grp_apetkau 528M Dec  9 11:09 \u001b[0m\u001b[01;31mmicrobial/data/ERR3656002.fastq.gz\u001b[0m\n"
     ]
    }
   ],
   "source": [
    "ls -lh microbial/data/ERR3656002.fastq.gz"
   ]
  },
  {
   "cell_type": "markdown",
   "metadata": {},
   "source": [
    "Looks like we've got our last file properly downloaded now."
   ]
  },
  {
   "cell_type": "markdown",
   "metadata": {},
   "source": [
    "# Download metagenomics data\n",
    "\n",
    "Let's now download the metagenomics data."
   ]
  },
  {
   "cell_type": "code",
   "execution_count": 5,
   "metadata": {},
   "outputs": [
    {
     "name": "stdout",
     "output_type": "stream",
     "text": [
      "Downloading files from metagenomics/metagenomes.txt\n",
      "Downloading files to metagenomics/data\n",
      "parallel -j 1 -I% -a metagenomics/metagenomes.txt fasterq-dump --threads 24 --split-spot --stdout % \\2\\> metagenomics/data/log.fasterq.%.err \\| fastp --interleaved_in -l 15 --stdin --stdout \\2\\> metagenomics/data/log.fastp.%.err \\| pigz -cp 24 - \\> metagenomics/data/%.fastq.gz\n",
      "Done. Took 610.05 minutes."
     ]
    }
   ],
   "source": [
    "download_sequence_reads \"metagenomics/metagenomes${accessions_file_extension}\" \"metagenomics/${output_dir_fragment}\" '--interleaved_in'"
   ]
  },
  {
   "cell_type": "code",
   "execution_count": 6,
   "metadata": {},
   "outputs": [
    {
     "name": "stdout",
     "output_type": "stream",
     "text": [
      "-rw-r--r-- 1 apetkau grp_apetkau  6.5G Dec  9 02:14 metagenomics/data/ERR1713331.fastq.gz\n",
      "-rw-r--r-- 1 apetkau grp_apetkau  2.4G Dec  9 06:06 metagenomics/data/ERR1713332.fastq.gz\n",
      "-rw-r--r-- 1 apetkau grp_apetkau 1011M Dec  9 02:20 metagenomics/data/ERR1713333.fastq.gz\n",
      "-rw-r--r-- 1 apetkau grp_apetkau  3.6G Dec  9 03:42 metagenomics/data/ERR1713334.fastq.gz\n",
      "-rw-r--r-- 1 apetkau grp_apetkau  4.3G Dec  8 20:51 metagenomics/data/ERR1713335.fastq.gz\n",
      "-rw-r--r-- 1 apetkau grp_apetkau  3.7G Dec  8 22:57 metagenomics/data/ERR1713336.fastq.gz\n",
      "-rw-r--r-- 1 apetkau grp_apetkau  6.5G Dec  9 03:03 metagenomics/data/ERR1713337.fastq.gz\n",
      "-rw-r--r-- 1 apetkau grp_apetkau  473M Dec  9 02:17 metagenomics/data/ERR1713339.fastq.gz\n",
      "-rw-r--r-- 1 apetkau grp_apetkau  345M Dec  9 01:18 metagenomics/data/ERR1713340.fastq.gz\n",
      "-rw-r--r-- 1 apetkau grp_apetkau  3.0G Dec  9 06:26 metagenomics/data/ERR1713341.fastq.gz\n",
      "50\n"
     ]
    }
   ],
   "source": [
    "ls -lh ${output_dir}/*.gz | head\n",
    "ls ${output_dir}/*.gz | wc -l"
   ]
  },
  {
   "cell_type": "markdown",
   "metadata": {},
   "source": [
    "Looking for files that did not download properly."
   ]
  },
  {
   "cell_type": "code",
   "execution_count": 13,
   "metadata": {},
   "outputs": [
    {
     "name": "stdout",
     "output_type": "stream",
     "text": [
      "metagenomics/data/ERR1713342.fastq.gz\t20\n"
     ]
    }
   ],
   "source": [
    "for file in metagenomics/data/*.fastq.gz\n",
    "do\n",
    "    size=`ls -l ${file} | awk '{ print $5 }'`\n",
    "    if [ \"$size\" -lt 1000 ]\n",
    "    then\n",
    "        echo -e \"${file}\\t${size}\"\n",
    "    fi\n",
    "done"
   ]
  },
  {
   "cell_type": "markdown",
   "metadata": {},
   "source": [
    "Let's try to redownload this file."
   ]
  },
  {
   "cell_type": "code",
   "execution_count": 14,
   "metadata": {},
   "outputs": [
    {
     "name": "stdout",
     "output_type": "stream",
     "text": [
      "parallel -j 1 -I% fasterq-dump --threads 24 --split-spot --stdout % \\2\\> metagenomics/data/log.fasterq.%.err \\| fastp -l 15 --stdin --stdout \\2\\> metagenomics/data/log.fastp.%.err \\| pigz -cp 24 - \\> metagenomics/data/%.fastq.gz ::: ERR1713342\n"
     ]
    }
   ],
   "source": [
    "threads=24\n",
    "output_dir=metagenomics/data\n",
    "command=\"parallel -j 1 -I% \\\n",
    "    fasterq-dump --threads ${threads} --split-spot --stdout % \\2\\> ${output_dir}/log.fasterq.%.err \\| \\\n",
    "    fastp ${interleaved_fastp} -l 15 --stdin --stdout \\2\\> ${output_dir}/log.fastp.%.err \\| \\\n",
    "    pigz -cp ${threads} - \\> ${output_dir}/%.fastq.gz ::: ERR1713342\"\n",
    "echo ${command}\n",
    "conda run --name sra-tools ${command}"
   ]
  },
  {
   "cell_type": "code",
   "execution_count": 15,
   "metadata": {},
   "outputs": [
    {
     "name": "stdout",
     "output_type": "stream",
     "text": [
      "-rw-r--r-- 1 apetkau grp_apetkau 7.6G Dec  9 12:07 \u001b[0m\u001b[01;31mmetagenomics/data/ERR1713342.fastq.gz\u001b[0m\n"
     ]
    }
   ],
   "source": [
    "ls -lh metagenomics/data/ERR1713342.fastq.gz"
   ]
  },
  {
   "cell_type": "markdown",
   "metadata": {},
   "source": [
    "Looks like the file is properly downloaded."
   ]
  },
  {
   "cell_type": "markdown",
   "metadata": {},
   "source": [
    "# Human genomics data\n",
    "\n",
    "Now let's download the human genomics data."
   ]
  },
  {
   "cell_type": "code",
   "execution_count": 7,
   "metadata": {},
   "outputs": [
    {
     "name": "stdout",
     "output_type": "stream",
     "text": [
      "Downloading files from human/human-genomes.txt\n",
      "Downloading files to human/data\n",
      "parallel -j 1 -I% -a human/human-genomes.txt fasterq-dump --threads 24 --split-spot --stdout % \\2\\> human/data/log.fasterq.%.err \\| fastp -l 15 --stdin --stdout \\2\\> human/data/log.fastp.%.err \\| pigz -cp 24 - \\> human/data/%.fastq.gz\n",
      "Done. Took 142.77 minutes."
     ]
    }
   ],
   "source": [
    "download_sequence_reads \"human/human-genomes${accessions_file_extension}\" \"human/${output_dir_fragment}\" ''"
   ]
  },
  {
   "cell_type": "code",
   "execution_count": 8,
   "metadata": {},
   "outputs": [
    {
     "name": "stdout",
     "output_type": "stream",
     "text": [
      "-rw-r--r-- 1 apetkau grp_apetkau  670M Dec  9 06:56 human/data/SRR038300.fastq.gz\n",
      "-rw-r--r-- 1 apetkau grp_apetkau  344M Dec  9 06:56 human/data/SRR039632.fastq.gz\n",
      "-rw-r--r-- 1 apetkau grp_apetkau    20 Dec  9 06:58 human/data/SRR1012332.fastq.gz\n",
      "-rw-r--r-- 1 apetkau grp_apetkau  147M Dec  9 06:58 human/data/SRR1024141.fastq.gz\n",
      "-rw-r--r-- 1 apetkau grp_apetkau  535M Dec  9 06:59 human/data/SRR1033463.fastq.gz\n",
      "-rw-r--r-- 1 apetkau grp_apetkau  3.0G Dec  9 07:04 human/data/SRR1035695.fastq.gz\n",
      "-rw-r--r-- 1 apetkau grp_apetkau  2.6G Dec  9 07:07 human/data/SRR1047817.fastq.gz\n",
      "-rw-r--r-- 1 apetkau grp_apetkau  152M Dec  9 07:07 human/data/SRR1060774.fastq.gz\n",
      "-rw-r--r-- 1 apetkau grp_apetkau  1.9G Dec  9 07:09 human/data/SRR1174334.fastq.gz\n",
      "-rw-r--r-- 1 apetkau grp_apetkau  2.1G Dec  9 07:11 human/data/SRR1193574.fastq.gz\n",
      "50\n"
     ]
    }
   ],
   "source": [
    "ls -lh ${output_dir}/*.gz | head\n",
    "ls ${output_dir}/*.gz | wc -l"
   ]
  },
  {
   "cell_type": "markdown",
   "metadata": {},
   "source": [
    "Looking for files that did not download properly."
   ]
  },
  {
   "cell_type": "code",
   "execution_count": 10,
   "metadata": {},
   "outputs": [
    {
     "name": "stdout",
     "output_type": "stream",
     "text": [
      "human/data/SRR1012332.fastq.gz\t20\n"
     ]
    }
   ],
   "source": [
    "for file in human/data/*.fastq.gz\n",
    "do\n",
    "    size=`ls -l ${file} | awk '{ print $5 }'`\n",
    "    if [ \"$size\" -lt 1000 ]\n",
    "    then\n",
    "        echo -e \"${file}\\t${size}\"\n",
    "    fi\n",
    "done"
   ]
  },
  {
   "cell_type": "markdown",
   "metadata": {},
   "source": [
    "Let's try to redownload this file."
   ]
  },
  {
   "cell_type": "code",
   "execution_count": 11,
   "metadata": {},
   "outputs": [
    {
     "name": "stdout",
     "output_type": "stream",
     "text": [
      "parallel -j 1 -I% fasterq-dump --threads 24 --split-spot --stdout % \\2\\> human/data/log.fasterq.%.err \\| fastp -l 15 --stdin --stdout \\2\\> human/data/log.fastp.%.err \\| pigz -cp 24 - \\> human/data/%.fastq.gz ::: SRR1012332\n"
     ]
    }
   ],
   "source": [
    "threads=24\n",
    "output_dir=human/data\n",
    "command=\"parallel -j 1 -I% \\\n",
    "    fasterq-dump --threads ${threads} --split-spot --stdout % \\2\\> ${output_dir}/log.fasterq.%.err \\| \\\n",
    "    fastp ${interleaved_fastp} -l 15 --stdin --stdout \\2\\> ${output_dir}/log.fastp.%.err \\| \\\n",
    "    pigz -cp ${threads} - \\> ${output_dir}/%.fastq.gz ::: SRR1012332\"\n",
    "echo ${command}\n",
    "conda run --name sra-tools ${command}"
   ]
  },
  {
   "cell_type": "code",
   "execution_count": 12,
   "metadata": {},
   "outputs": [
    {
     "name": "stdout",
     "output_type": "stream",
     "text": [
      "-rw-r--r-- 1 apetkau grp_apetkau 248M Dec  9 11:29 \u001b[0m\u001b[01;31mhuman/data/SRR1012332.fastq.gz\u001b[0m\n"
     ]
    }
   ],
   "source": [
    "ls -lh human/data/SRR1012332.fastq.gz"
   ]
  },
  {
   "cell_type": "markdown",
   "metadata": {},
   "source": [
    "Great. We've got that downloaded.\n",
    "\n",
    "Now, let's look at the total sizes of all data we've got.\n",
    "\n",
    "# Data sizes"
   ]
  },
  {
   "cell_type": "code",
   "execution_count": 17,
   "metadata": {},
   "outputs": [
    {
     "name": "stdout",
     "output_type": "stream",
     "text": [
      "microbial\n",
      "19G\t\u001b[01;31m\u001b[Ktotal\u001b[m\u001b[K\n",
      "metagenomics\n",
      "249G\t\u001b[01;31m\u001b[Ktotal\u001b[m\u001b[K\n",
      "human\n",
      "122G\t\u001b[01;31m\u001b[Ktotal\u001b[m\u001b[K\n"
     ]
    }
   ],
   "source": [
    "for dir in microbial metagenomics human\n",
    "do\n",
    "    echo ${dir}\n",
    "    du -ch ${dir}/data/*.fastq.gz | grep total\n",
    "done"
   ]
  },
  {
   "cell_type": "markdown",
   "metadata": {},
   "source": [
    "Awesome. We've now downloaded all the data we need :)."
   ]
  }
 ],
 "metadata": {
  "kernelspec": {
   "display_name": "Bash",
   "language": "bash",
   "name": "bash"
  },
  "language_info": {
   "codemirror_mode": "shell",
   "file_extension": ".sh",
   "mimetype": "text/x-sh",
   "name": "bash"
  }
 },
 "nbformat": 4,
 "nbformat_minor": 4
}
