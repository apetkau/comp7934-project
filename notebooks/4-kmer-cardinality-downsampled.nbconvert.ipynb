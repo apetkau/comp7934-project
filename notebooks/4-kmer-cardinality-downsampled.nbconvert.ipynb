{
 "cells": [
  {
   "cell_type": "markdown",
   "metadata": {},
   "source": [
    "# Kmer cardinality in dataset (downsampled data)\n",
    "\n",
    "Let's count all the unique kmers (set cardinality) in all our datasets so we can get an idea of the kmer diversity of our datasets.\n",
    "\n",
    "First, we'll setup some variables."
   ]
  },
  {
   "cell_type": "code",
   "execution_count": 1,
   "metadata": {},
   "outputs": [],
   "source": [
    "kmer_sizes_list=\"9 11 13 15 17\"\n",
    "data_dir_name=\"data-downsampled\"\n",
    "\n",
    "PROJECT_DIR=`git rev-parse --show-toplevel`\n",
    "cd $PROJECT_DIR"
   ]
  },
  {
   "cell_type": "markdown",
   "metadata": {},
   "source": [
    "Here, `kmer_sizes` is a list of all the possible kmer sizes we will count. The other variables just let us make sure we are in the proper directory.\n",
    "\n",
    "## K-mer size estimation code\n",
    "\n",
    "Now, let's setup the code for doing the k-mer counting. We'll be using the program [dashing](https://github.com/dnbaker/dashing), and specifically the `dashing hll` command to estimate the unique number of kmers in our datset using a HyperLogLog algorithm.\n",
    "\n",
    "In order for this to work, you'll have to make sure to create a [conda](https://docs.conda.io/en/latest/) environment called `dashing` which contains the binary `dashing_s512` (the binary was not available as part of conda so I created the environment and copied the binary to the `bin/` directory)."
   ]
  },
  {
   "cell_type": "code",
   "execution_count": 2,
   "metadata": {},
   "outputs": [],
   "source": [
    "# Purpose: Counts k-mers using `dashing`\n",
    "# Args:\n",
    "#      data_type_dir: The directory for the specific data type (human, microbial, metagenomics).\n",
    "#      kmer_sizes: A string listing the k-mer sizes, separated by spaces (e.g., \"9 15 21\").\n",
    "count_kmers() {\n",
    "    data_type_dir=$1\n",
    "    kmer_sizes=$2\n",
    "    \n",
    "    threads=4\n",
    "    jobs=50\n",
    "    \n",
    "    data_dir=${data_type_dir}/${data_dir_name}\n",
    "    kmer_output_dir=${data_type_dir}/kmer-downsampled\n",
    "    \n",
    "    rm -rf ${kmer_output_dir}\n",
    "    mkdir ${kmer_output_dir}\n",
    "    \n",
    "    # Make string of all files, minus directory and '.fast.gz' part.\n",
    "    # E.g., \"dir/file1.fastq.gz dir/file2.fastq.gz\" becomes \"file1 file2\"\n",
    "    files=''\n",
    "    for f in ${data_dir}/*.fastq.gz\n",
    "    do\n",
    "        name=`basename ${f} .fastq.gz`\n",
    "        files=\"${files} ${name}\"\n",
    "    done\n",
    "    \n",
    "    before=`date +%s`\n",
    "    \n",
    "    for kmer_size in ${kmer_sizes}\n",
    "    do\n",
    "        output=${kmer_output_dir}/kmer-${kmer_size}.tsv\n",
    "        log=${kmer_output_dir}/kmer-${kmer_size}.log\n",
    "        \n",
    "        command=\"parallel --jobs ${jobs} -I% \\\n",
    "            dashing_s512 hll -k ${kmer_size} -p ${threads} ${data_dir}/%.fastq.gz \\2\\>\\> ${log}.err \\| \\\n",
    "            grep 'Estimated number of unique exact matches' \\| \\\n",
    "            sed -e 's/Estimated number of unique exact matches: /%\\t/' \\\n",
    "            ::: ${files} > ${output}\"\n",
    "            \n",
    "        echo ${command}\n",
    "        conda run --name dashing ${command}\n",
    "    done\n",
    "    \n",
    "    after=`date +%s`\n",
    "    minutes=`echo \"(${after}-${before})/60\" | bc -l`\n",
    "    printf \"Done. Took %0.2f minutes.\" ${minutes}    \n",
    "}"
   ]
  },
  {
   "cell_type": "markdown",
   "metadata": {},
   "source": [
    "Great. Now let's run it on the different data types.\n",
    "\n",
    "## Microbial unique kmers"
   ]
  },
  {
   "cell_type": "code",
   "execution_count": 3,
   "metadata": {},
   "outputs": [
    {
     "name": "stdout",
     "output_type": "stream",
     "text": [
      "parallel --jobs 50 -I% dashing_s512 hll -k 9 -p 4 microbial/data-downsampled/%.fastq.gz \\2\\>\\> microbial/kmer-downsampled/kmer-9.log.err \\| grep 'Estimated number of unique exact matches' \\| sed -e 's/Estimated number of unique exact matches: /%\\t/' ::: ERR1144974 ERR1144975 ERR1144976 ERR1144977 ERR1144978 ERR3655992 ERR3655994 ERR3655996 ERR3655998 ERR3656002 ERR3656004 ERR3656010 ERR3656012 ERR3656013 ERR3656015 ERR3656018 ERR3656019 SRR10298903 SRR10298904 SRR10298905 SRR10298906 SRR10298907 SRR10512964 SRR10512965 SRR10512968 SRR10513325 SRR10513326 SRR10513328 SRR10513363 SRR10513672 SRR10519468 SRR10519469 SRR10519616 SRR10519617 SRR10519619 SRR10519620 SRR10519637 SRR10521982 SRR10521983 SRR10521984 SRR10527348 SRR10527349 SRR10527351 SRR10527352 SRR10527353 SRR8088181 SRR8088182 SRR8088183 SRR8088184 SRR8088185 > microbial/kmer-downsampled/kmer-9.tsv\n",
      "parallel --jobs 50 -I% dashing_s512 hll -k 11 -p 4 microbial/data-downsampled/%.fastq.gz \\2\\>\\> microbial/kmer-downsampled/kmer-11.log.err \\| grep 'Estimated number of unique exact matches' \\| sed -e 's/Estimated number of unique exact matches: /%\\t/' ::: ERR1144974 ERR1144975 ERR1144976 ERR1144977 ERR1144978 ERR3655992 ERR3655994 ERR3655996 ERR3655998 ERR3656002 ERR3656004 ERR3656010 ERR3656012 ERR3656013 ERR3656015 ERR3656018 ERR3656019 SRR10298903 SRR10298904 SRR10298905 SRR10298906 SRR10298907 SRR10512964 SRR10512965 SRR10512968 SRR10513325 SRR10513326 SRR10513328 SRR10513363 SRR10513672 SRR10519468 SRR10519469 SRR10519616 SRR10519617 SRR10519619 SRR10519620 SRR10519637 SRR10521982 SRR10521983 SRR10521984 SRR10527348 SRR10527349 SRR10527351 SRR10527352 SRR10527353 SRR8088181 SRR8088182 SRR8088183 SRR8088184 SRR8088185 > microbial/kmer-downsampled/kmer-11.tsv\n",
      "parallel --jobs 50 -I% dashing_s512 hll -k 13 -p 4 microbial/data-downsampled/%.fastq.gz \\2\\>\\> microbial/kmer-downsampled/kmer-13.log.err \\| grep 'Estimated number of unique exact matches' \\| sed -e 's/Estimated number of unique exact matches: /%\\t/' ::: ERR1144974 ERR1144975 ERR1144976 ERR1144977 ERR1144978 ERR3655992 ERR3655994 ERR3655996 ERR3655998 ERR3656002 ERR3656004 ERR3656010 ERR3656012 ERR3656013 ERR3656015 ERR3656018 ERR3656019 SRR10298903 SRR10298904 SRR10298905 SRR10298906 SRR10298907 SRR10512964 SRR10512965 SRR10512968 SRR10513325 SRR10513326 SRR10513328 SRR10513363 SRR10513672 SRR10519468 SRR10519469 SRR10519616 SRR10519617 SRR10519619 SRR10519620 SRR10519637 SRR10521982 SRR10521983 SRR10521984 SRR10527348 SRR10527349 SRR10527351 SRR10527352 SRR10527353 SRR8088181 SRR8088182 SRR8088183 SRR8088184 SRR8088185 > microbial/kmer-downsampled/kmer-13.tsv\n",
      "parallel --jobs 50 -I% dashing_s512 hll -k 15 -p 4 microbial/data-downsampled/%.fastq.gz \\2\\>\\> microbial/kmer-downsampled/kmer-15.log.err \\| grep 'Estimated number of unique exact matches' \\| sed -e 's/Estimated number of unique exact matches: /%\\t/' ::: ERR1144974 ERR1144975 ERR1144976 ERR1144977 ERR1144978 ERR3655992 ERR3655994 ERR3655996 ERR3655998 ERR3656002 ERR3656004 ERR3656010 ERR3656012 ERR3656013 ERR3656015 ERR3656018 ERR3656019 SRR10298903 SRR10298904 SRR10298905 SRR10298906 SRR10298907 SRR10512964 SRR10512965 SRR10512968 SRR10513325 SRR10513326 SRR10513328 SRR10513363 SRR10513672 SRR10519468 SRR10519469 SRR10519616 SRR10519617 SRR10519619 SRR10519620 SRR10519637 SRR10521982 SRR10521983 SRR10521984 SRR10527348 SRR10527349 SRR10527351 SRR10527352 SRR10527353 SRR8088181 SRR8088182 SRR8088183 SRR8088184 SRR8088185 > microbial/kmer-downsampled/kmer-15.tsv\n",
      "parallel --jobs 50 -I% dashing_s512 hll -k 17 -p 4 microbial/data-downsampled/%.fastq.gz \\2\\>\\> microbial/kmer-downsampled/kmer-17.log.err \\| grep 'Estimated number of unique exact matches' \\| sed -e 's/Estimated number of unique exact matches: /%\\t/' ::: ERR1144974 ERR1144975 ERR1144976 ERR1144977 ERR1144978 ERR3655992 ERR3655994 ERR3655996 ERR3655998 ERR3656002 ERR3656004 ERR3656010 ERR3656012 ERR3656013 ERR3656015 ERR3656018 ERR3656019 SRR10298903 SRR10298904 SRR10298905 SRR10298906 SRR10298907 SRR10512964 SRR10512965 SRR10512968 SRR10513325 SRR10513326 SRR10513328 SRR10513363 SRR10513672 SRR10519468 SRR10519469 SRR10519616 SRR10519617 SRR10519619 SRR10519620 SRR10519637 SRR10521982 SRR10521983 SRR10521984 SRR10527348 SRR10527349 SRR10527351 SRR10527352 SRR10527353 SRR8088181 SRR8088182 SRR8088183 SRR8088184 SRR8088185 > microbial/kmer-downsampled/kmer-17.tsv\n",
      "Done. Took 0.22 minutes."
     ]
    }
   ],
   "source": [
    "count_kmers \"microbial\" \"${kmer_sizes_list}\""
   ]
  },
  {
   "cell_type": "markdown",
   "metadata": {},
   "source": [
    "Okay, let's take a look at the output."
   ]
  },
  {
   "cell_type": "code",
   "execution_count": 4,
   "metadata": {},
   "outputs": [
    {
     "name": "stdout",
     "output_type": "stream",
     "text": [
      "kmer-11.log.err  kmer-13.tsv      kmer-17.log.err  kmer-9.tsv\n",
      "kmer-11.tsv      kmer-15.log.err  kmer-17.tsv\n",
      "kmer-13.log.err  kmer-15.tsv      kmer-9.log.err\n"
     ]
    }
   ],
   "source": [
    "ls microbial/kmer-downsampled"
   ]
  },
  {
   "cell_type": "markdown",
   "metadata": {},
   "source": [
    "We have multiple files for each k-mer, named by the k-mer size."
   ]
  },
  {
   "cell_type": "code",
   "execution_count": 5,
   "metadata": {},
   "outputs": [
    {
     "name": "stdout",
     "output_type": "stream",
     "text": [
      "ERR1144974\t126224.000000\n",
      "ERR1144975\t126327.000000\n",
      "ERR1144976\t126245.000000\n",
      "ERR3655992\t128193.000000\n",
      "ERR3655994\t129773.000000\n",
      "  50 microbial/kmer-downsampled/kmer-11.tsv\n",
      "  50 microbial/kmer-downsampled/kmer-13.tsv\n",
      "  50 microbial/kmer-downsampled/kmer-15.tsv\n",
      "  50 microbial/kmer-downsampled/kmer-17.tsv\n",
      "  50 microbial/kmer-downsampled/kmer-9.tsv\n",
      " 250 total\n"
     ]
    }
   ],
   "source": [
    "head -n 5 microbial/kmer-downsampled/kmer-9.tsv\n",
    "wc -l microbial/kmer-downsampled/kmer-*.tsv"
   ]
  },
  {
   "cell_type": "markdown",
   "metadata": {},
   "source": [
    "Each of these files is a `tsv` file containing the k-mer counts for each sample in our dataset."
   ]
  },
  {
   "cell_type": "markdown",
   "metadata": {},
   "source": [
    "# Metagenomics unique kmers\n",
    "\n",
    "Okay, now let's do this for the metagenomics data."
   ]
  },
  {
   "cell_type": "code",
   "execution_count": 6,
   "metadata": {},
   "outputs": [
    {
     "name": "stdout",
     "output_type": "stream",
     "text": [
      "parallel --jobs 50 -I% dashing_s512 hll -k 9 -p 4 metagenomics/data-downsampled/%.fastq.gz \\2\\>\\> metagenomics/kmer-downsampled/kmer-9.log.err \\| grep 'Estimated number of unique exact matches' \\| sed -e 's/Estimated number of unique exact matches: /%\\t/' ::: ERR1713331 ERR1713332 ERR1713333 ERR1713334 ERR1713335 ERR1713336 ERR1713337 ERR1713339 ERR1713340 ERR1713341 ERR1713342 ERR1713343 ERR1713344 ERR1713345 ERR1713351 ERR1713352 ERR1713353 ERR1713355 ERR1713356 ERR1713358 ERR1713359 ERR1713361 ERR1713362 ERR1713363 ERR1713366 ERR1713371 ERR1713372 ERR1713373 ERR1713374 ERR1713375 ERR1713376 ERR1713378 ERR1713379 ERR1713381 ERR1713382 ERR1713388 ERR1713389 ERR1713391 ERR1713393 ERR1713395 ERR1713396 ERR1713397 ERR1713399 ERR1713400 ERR1713401 ERR1713402 ERR1713403 ERR1713405 ERR1713406 ERR1713409 > metagenomics/kmer-downsampled/kmer-9.tsv\n",
      "parallel --jobs 50 -I% dashing_s512 hll -k 11 -p 4 metagenomics/data-downsampled/%.fastq.gz \\2\\>\\> metagenomics/kmer-downsampled/kmer-11.log.err \\| grep 'Estimated number of unique exact matches' \\| sed -e 's/Estimated number of unique exact matches: /%\\t/' ::: ERR1713331 ERR1713332 ERR1713333 ERR1713334 ERR1713335 ERR1713336 ERR1713337 ERR1713339 ERR1713340 ERR1713341 ERR1713342 ERR1713343 ERR1713344 ERR1713345 ERR1713351 ERR1713352 ERR1713353 ERR1713355 ERR1713356 ERR1713358 ERR1713359 ERR1713361 ERR1713362 ERR1713363 ERR1713366 ERR1713371 ERR1713372 ERR1713373 ERR1713374 ERR1713375 ERR1713376 ERR1713378 ERR1713379 ERR1713381 ERR1713382 ERR1713388 ERR1713389 ERR1713391 ERR1713393 ERR1713395 ERR1713396 ERR1713397 ERR1713399 ERR1713400 ERR1713401 ERR1713402 ERR1713403 ERR1713405 ERR1713406 ERR1713409 > metagenomics/kmer-downsampled/kmer-11.tsv\n",
      "parallel --jobs 50 -I% dashing_s512 hll -k 13 -p 4 metagenomics/data-downsampled/%.fastq.gz \\2\\>\\> metagenomics/kmer-downsampled/kmer-13.log.err \\| grep 'Estimated number of unique exact matches' \\| sed -e 's/Estimated number of unique exact matches: /%\\t/' ::: ERR1713331 ERR1713332 ERR1713333 ERR1713334 ERR1713335 ERR1713336 ERR1713337 ERR1713339 ERR1713340 ERR1713341 ERR1713342 ERR1713343 ERR1713344 ERR1713345 ERR1713351 ERR1713352 ERR1713353 ERR1713355 ERR1713356 ERR1713358 ERR1713359 ERR1713361 ERR1713362 ERR1713363 ERR1713366 ERR1713371 ERR1713372 ERR1713373 ERR1713374 ERR1713375 ERR1713376 ERR1713378 ERR1713379 ERR1713381 ERR1713382 ERR1713388 ERR1713389 ERR1713391 ERR1713393 ERR1713395 ERR1713396 ERR1713397 ERR1713399 ERR1713400 ERR1713401 ERR1713402 ERR1713403 ERR1713405 ERR1713406 ERR1713409 > metagenomics/kmer-downsampled/kmer-13.tsv\n",
      "parallel --jobs 50 -I% dashing_s512 hll -k 15 -p 4 metagenomics/data-downsampled/%.fastq.gz \\2\\>\\> metagenomics/kmer-downsampled/kmer-15.log.err \\| grep 'Estimated number of unique exact matches' \\| sed -e 's/Estimated number of unique exact matches: /%\\t/' ::: ERR1713331 ERR1713332 ERR1713333 ERR1713334 ERR1713335 ERR1713336 ERR1713337 ERR1713339 ERR1713340 ERR1713341 ERR1713342 ERR1713343 ERR1713344 ERR1713345 ERR1713351 ERR1713352 ERR1713353 ERR1713355 ERR1713356 ERR1713358 ERR1713359 ERR1713361 ERR1713362 ERR1713363 ERR1713366 ERR1713371 ERR1713372 ERR1713373 ERR1713374 ERR1713375 ERR1713376 ERR1713378 ERR1713379 ERR1713381 ERR1713382 ERR1713388 ERR1713389 ERR1713391 ERR1713393 ERR1713395 ERR1713396 ERR1713397 ERR1713399 ERR1713400 ERR1713401 ERR1713402 ERR1713403 ERR1713405 ERR1713406 ERR1713409 > metagenomics/kmer-downsampled/kmer-15.tsv\n",
      "parallel --jobs 50 -I% dashing_s512 hll -k 17 -p 4 metagenomics/data-downsampled/%.fastq.gz \\2\\>\\> metagenomics/kmer-downsampled/kmer-17.log.err \\| grep 'Estimated number of unique exact matches' \\| sed -e 's/Estimated number of unique exact matches: /%\\t/' ::: ERR1713331 ERR1713332 ERR1713333 ERR1713334 ERR1713335 ERR1713336 ERR1713337 ERR1713339 ERR1713340 ERR1713341 ERR1713342 ERR1713343 ERR1713344 ERR1713345 ERR1713351 ERR1713352 ERR1713353 ERR1713355 ERR1713356 ERR1713358 ERR1713359 ERR1713361 ERR1713362 ERR1713363 ERR1713366 ERR1713371 ERR1713372 ERR1713373 ERR1713374 ERR1713375 ERR1713376 ERR1713378 ERR1713379 ERR1713381 ERR1713382 ERR1713388 ERR1713389 ERR1713391 ERR1713393 ERR1713395 ERR1713396 ERR1713397 ERR1713399 ERR1713400 ERR1713401 ERR1713402 ERR1713403 ERR1713405 ERR1713406 ERR1713409 > metagenomics/kmer-downsampled/kmer-17.tsv\n",
      "Done. Took 0.20 minutes."
     ]
    }
   ],
   "source": [
    "count_kmers \"metagenomics\" \"${kmer_sizes_list}\""
   ]
  },
  {
   "cell_type": "code",
   "execution_count": 7,
   "metadata": {},
   "outputs": [
    {
     "name": "stdout",
     "output_type": "stream",
     "text": [
      "kmer-11.log.err  kmer-13.tsv      kmer-17.log.err  kmer-9.tsv\n",
      "kmer-11.tsv      kmer-15.log.err  kmer-17.tsv\n",
      "kmer-13.log.err  kmer-15.tsv      kmer-9.log.err\n",
      "ERR1713333\t131083.000000\n",
      "ERR1713352\t131077.000000\n",
      "ERR1713379\t131080.000000\n",
      "ERR1713399\t131085.000000\n",
      "ERR1713366\t131083.000000\n",
      "  50 metagenomics/kmer-downsampled/kmer-11.tsv\n",
      "  50 metagenomics/kmer-downsampled/kmer-13.tsv\n",
      "  50 metagenomics/kmer-downsampled/kmer-15.tsv\n",
      "  50 metagenomics/kmer-downsampled/kmer-17.tsv\n",
      "  50 metagenomics/kmer-downsampled/kmer-9.tsv\n",
      " 250 total\n"
     ]
    }
   ],
   "source": [
    "ls metagenomics/kmer-downsampled\n",
    "head -n 5 metagenomics/kmer-downsampled/kmer-9.tsv\n",
    "wc -l metagenomics/kmer-downsampled/kmer-*.tsv"
   ]
  },
  {
   "cell_type": "markdown",
   "metadata": {},
   "source": [
    "Awesome. Let's finally do this for the human genomics data.\n",
    "\n",
    "# Human unique kmers"
   ]
  },
  {
   "cell_type": "code",
   "execution_count": 8,
   "metadata": {},
   "outputs": [
    {
     "name": "stdout",
     "output_type": "stream",
     "text": [
      "parallel --jobs 50 -I% dashing_s512 hll -k 9 -p 4 human/data-downsampled/%.fastq.gz \\2\\>\\> human/kmer-downsampled/kmer-9.log.err \\| grep 'Estimated number of unique exact matches' \\| sed -e 's/Estimated number of unique exact matches: /%\\t/' ::: SRR038300 SRR039632 SRR1012332 SRR1024141 SRR1033463 SRR1035695 SRR1047817 SRR1060774 SRR1174334 SRR1193574 SRR1292581 SRR1294106 SRR1303626 SRR1313077 SRR1313078 SRR1313092 SRR1313097 SRR1313105 SRR1313120 SRR1313154 SRR1313156 SRR1313198 SRR1313216 SRR1313228 SRR1519066 SRR191403 SRR191429 SRR191455 SRR191463 SRR191480 SRR191487 SRR191494 SRR191527 SRR191555 SRR191563 SRR191621 SRR191646 SRR191675 SRR191693 SRR191696 SRR299111 SRR306849 SRR353653 SRR387778 SRR393767 SRR403006 SRR496397 SRR518951 SRR518958 SRR537114 > human/kmer-downsampled/kmer-9.tsv\n",
      "parallel --jobs 50 -I% dashing_s512 hll -k 11 -p 4 human/data-downsampled/%.fastq.gz \\2\\>\\> human/kmer-downsampled/kmer-11.log.err \\| grep 'Estimated number of unique exact matches' \\| sed -e 's/Estimated number of unique exact matches: /%\\t/' ::: SRR038300 SRR039632 SRR1012332 SRR1024141 SRR1033463 SRR1035695 SRR1047817 SRR1060774 SRR1174334 SRR1193574 SRR1292581 SRR1294106 SRR1303626 SRR1313077 SRR1313078 SRR1313092 SRR1313097 SRR1313105 SRR1313120 SRR1313154 SRR1313156 SRR1313198 SRR1313216 SRR1313228 SRR1519066 SRR191403 SRR191429 SRR191455 SRR191463 SRR191480 SRR191487 SRR191494 SRR191527 SRR191555 SRR191563 SRR191621 SRR191646 SRR191675 SRR191693 SRR191696 SRR299111 SRR306849 SRR353653 SRR387778 SRR393767 SRR403006 SRR496397 SRR518951 SRR518958 SRR537114 > human/kmer-downsampled/kmer-11.tsv\n",
      "parallel --jobs 50 -I% dashing_s512 hll -k 13 -p 4 human/data-downsampled/%.fastq.gz \\2\\>\\> human/kmer-downsampled/kmer-13.log.err \\| grep 'Estimated number of unique exact matches' \\| sed -e 's/Estimated number of unique exact matches: /%\\t/' ::: SRR038300 SRR039632 SRR1012332 SRR1024141 SRR1033463 SRR1035695 SRR1047817 SRR1060774 SRR1174334 SRR1193574 SRR1292581 SRR1294106 SRR1303626 SRR1313077 SRR1313078 SRR1313092 SRR1313097 SRR1313105 SRR1313120 SRR1313154 SRR1313156 SRR1313198 SRR1313216 SRR1313228 SRR1519066 SRR191403 SRR191429 SRR191455 SRR191463 SRR191480 SRR191487 SRR191494 SRR191527 SRR191555 SRR191563 SRR191621 SRR191646 SRR191675 SRR191693 SRR191696 SRR299111 SRR306849 SRR353653 SRR387778 SRR393767 SRR403006 SRR496397 SRR518951 SRR518958 SRR537114 > human/kmer-downsampled/kmer-13.tsv\n",
      "parallel --jobs 50 -I% dashing_s512 hll -k 15 -p 4 human/data-downsampled/%.fastq.gz \\2\\>\\> human/kmer-downsampled/kmer-15.log.err \\| grep 'Estimated number of unique exact matches' \\| sed -e 's/Estimated number of unique exact matches: /%\\t/' ::: SRR038300 SRR039632 SRR1012332 SRR1024141 SRR1033463 SRR1035695 SRR1047817 SRR1060774 SRR1174334 SRR1193574 SRR1292581 SRR1294106 SRR1303626 SRR1313077 SRR1313078 SRR1313092 SRR1313097 SRR1313105 SRR1313120 SRR1313154 SRR1313156 SRR1313198 SRR1313216 SRR1313228 SRR1519066 SRR191403 SRR191429 SRR191455 SRR191463 SRR191480 SRR191487 SRR191494 SRR191527 SRR191555 SRR191563 SRR191621 SRR191646 SRR191675 SRR191693 SRR191696 SRR299111 SRR306849 SRR353653 SRR387778 SRR393767 SRR403006 SRR496397 SRR518951 SRR518958 SRR537114 > human/kmer-downsampled/kmer-15.tsv\n",
      "parallel --jobs 50 -I% dashing_s512 hll -k 17 -p 4 human/data-downsampled/%.fastq.gz \\2\\>\\> human/kmer-downsampled/kmer-17.log.err \\| grep 'Estimated number of unique exact matches' \\| sed -e 's/Estimated number of unique exact matches: /%\\t/' ::: SRR038300 SRR039632 SRR1012332 SRR1024141 SRR1033463 SRR1035695 SRR1047817 SRR1060774 SRR1174334 SRR1193574 SRR1292581 SRR1294106 SRR1303626 SRR1313077 SRR1313078 SRR1313092 SRR1313097 SRR1313105 SRR1313120 SRR1313154 SRR1313156 SRR1313198 SRR1313216 SRR1313228 SRR1519066 SRR191403 SRR191429 SRR191455 SRR191463 SRR191480 SRR191487 SRR191494 SRR191527 SRR191555 SRR191563 SRR191621 SRR191646 SRR191675 SRR191693 SRR191696 SRR299111 SRR306849 SRR353653 SRR387778 SRR393767 SRR403006 SRR496397 SRR518951 SRR518958 SRR537114 > human/kmer-downsampled/kmer-17.tsv\n",
      "Done. Took 0.18 minutes."
     ]
    }
   ],
   "source": [
    "count_kmers \"human\" \"${kmer_sizes_list}\""
   ]
  },
  {
   "cell_type": "code",
   "execution_count": 9,
   "metadata": {},
   "outputs": [
    {
     "name": "stdout",
     "output_type": "stream",
     "text": [
      "kmer-11.log.err  kmer-13.tsv      kmer-17.log.err  kmer-9.tsv\n",
      "kmer-11.tsv      kmer-15.log.err  kmer-17.tsv\n",
      "kmer-13.log.err  kmer-15.tsv      kmer-9.log.err\n",
      "SRR191527\t37398.000000\n",
      "SRR191463\t61953.000000\n",
      "SRR191494\t44799.000000\n",
      "SRR191487\t38059.000000\n",
      "SRR191480\t57169.000000\n",
      "  50 human/kmer-downsampled/kmer-11.tsv\n",
      "  50 human/kmer-downsampled/kmer-13.tsv\n",
      "  50 human/kmer-downsampled/kmer-15.tsv\n",
      "  50 human/kmer-downsampled/kmer-17.tsv\n",
      "  50 human/kmer-downsampled/kmer-9.tsv\n",
      " 250 total\n"
     ]
    }
   ],
   "source": [
    "ls human/kmer-downsampled\n",
    "head -n 5 human/kmer-downsampled/kmer-9.tsv\n",
    "wc -l human/kmer-downsampled/kmer-*.tsv"
   ]
  },
  {
   "cell_type": "markdown",
   "metadata": {},
   "source": [
    "# Unique kmers in union of all datasets\n",
    "\n",
    "Let's look at the kmers in the union of all datasets."
   ]
  },
  {
   "cell_type": "code",
   "execution_count": 10,
   "metadata": {},
   "outputs": [
    {
     "name": "stdout",
     "output_type": "stream",
     "text": [
      "Working on microbial\n",
      "For kmer size 9\n",
      "Estimated number of unique exact matches: 131085.000000\n",
      "Dashing version: v0.4.0-5-g9c13\n",
      "[int bns::hll_main(int, char**)] Processing 50 paths with 56 threads\n",
      "For kmer size 11\n",
      "Estimated number of unique exact matches: 2095943.000000\n",
      "Dashing version: v0.4.0-5-g9c13\n",
      "[int bns::hll_main(int, char**)] Processing 50 paths with 56 threads\n",
      "For kmer size 13\n",
      "Estimated number of unique exact matches: 23984486.000000\n",
      "Dashing version: v0.4.0-5-g9c13\n",
      "[int bns::hll_main(int, char**)] Processing 50 paths with 56 threads\n",
      "For kmer size 15\n",
      "Estimated number of unique exact matches: 60960845.000000\n",
      "Dashing version: v0.4.0-5-g9c13\n",
      "[int bns::hll_main(int, char**)] Processing 50 paths with 56 threads\n",
      "For kmer size 17\n",
      "Estimated number of unique exact matches: 73106902.000000\n",
      "Dashing version: v0.4.0-5-g9c13\n",
      "[int bns::hll_main(int, char**)] Processing 50 paths with 56 threads\n",
      "Working on metagenomics\n",
      "For kmer size 9\n",
      "Estimated number of unique exact matches: 131085.000000\n",
      "Dashing version: v0.4.0-5-g9c13\n",
      "[int bns::hll_main(int, char**)] Processing 50 paths with 56 threads\n",
      "For kmer size 11\n",
      "Estimated number of unique exact matches: 2097351.000000\n",
      "Dashing version: v0.4.0-5-g9c13\n",
      "[int bns::hll_main(int, char**)] Processing 50 paths with 56 threads\n",
      "For kmer size 13\n",
      "Estimated number of unique exact matches: 32598647.000000\n",
      "Dashing version: v0.4.0-5-g9c13\n",
      "[int bns::hll_main(int, char**)] Processing 50 paths with 56 threads\n",
      "For kmer size 15\n",
      "Estimated number of unique exact matches: 207378366.000000\n",
      "Dashing version: v0.4.0-5-g9c13\n",
      "[int bns::hll_main(int, char**)] Processing 50 paths with 56 threads\n",
      "For kmer size 17\n",
      "Estimated number of unique exact matches: 337057219.000000\n",
      "Dashing version: v0.4.0-5-g9c13\n",
      "[int bns::hll_main(int, char**)] Processing 50 paths with 56 threads\n",
      "Working on human\n",
      "For kmer size 9\n",
      "Estimated number of unique exact matches: 131085.000000\n",
      "Dashing version: v0.4.0-5-g9c13\n",
      "[int bns::hll_main(int, char**)] Processing 50 paths with 56 threads\n",
      "For kmer size 11\n",
      "Estimated number of unique exact matches: 2093361.000000\n",
      "Dashing version: v0.4.0-5-g9c13\n",
      "[int bns::hll_main(int, char**)] Processing 50 paths with 56 threads\n",
      "For kmer size 13\n",
      "Estimated number of unique exact matches: 23978093.000000\n",
      "Dashing version: v0.4.0-5-g9c13\n",
      "[int bns::hll_main(int, char**)] Processing 50 paths with 56 threads\n",
      "For kmer size 15\n",
      "Estimated number of unique exact matches: 71439683.000000\n",
      "Dashing version: v0.4.0-5-g9c13\n",
      "[int bns::hll_main(int, char**)] Processing 50 paths with 56 threads\n",
      "For kmer size 17\n",
      "Estimated number of unique exact matches: 85719995.000000\n",
      "Dashing version: v0.4.0-5-g9c13\n",
      "[int bns::hll_main(int, char**)] Processing 50 paths with 56 threads\n"
     ]
    }
   ],
   "source": [
    "for data_type in microbial metagenomics human\n",
    "do\n",
    "    echo \"Working on ${data_type}\"\n",
    "    for kmer_size in ${kmer_sizes_list}\n",
    "    do\n",
    "        input_dir=${data_type}/data-downsampled\n",
    "        output=${data_type}/data-downsampled/total-unique-kmers-${kmer_size}.txt\n",
    "        command=\"dashing_s512 hll -k ${kmer_size} -p 56 ${input_dir}/*.fastq.gz | tee ${output}\"\n",
    "        #echo ${command}\n",
    "        echo \"For kmer size ${kmer_size}\"\n",
    "        conda run --name dashing ${command}\n",
    "    done\n",
    "done"
   ]
  },
  {
   "cell_type": "markdown",
   "metadata": {},
   "source": [
    "Great. We've finished counting all possible combinations of kmers. We're set to generate the figures :)."
   ]
  }
 ],
 "metadata": {
  "kernelspec": {
   "display_name": "Bash",
   "language": "bash",
   "name": "bash"
  },
  "language_info": {
   "codemirror_mode": "shell",
   "file_extension": ".sh",
   "mimetype": "text/x-sh",
   "name": "bash"
  }
 },
 "nbformat": 4,
 "nbformat_minor": 4
}
