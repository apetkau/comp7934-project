{
 "cells": [
  {
   "cell_type": "markdown",
   "metadata": {},
   "source": [
    "# Experiment: BIGSI Indexing\n",
    "\n",
    "Now let's run BIGSI to index on our data.\n",
    "\n",
    "First, let's setup some directories."
   ]
  },
  {
   "cell_type": "code",
   "execution_count": 1,
   "metadata": {},
   "outputs": [],
   "source": [
    "fastq_data_dir=data-downsampled\n",
    "data_dir=kmer-counts-jellyfish\n",
    "bigsi_dir=bigsi\n",
    "kmer_size=\"11\"\n",
    "\n",
    "threads=1\n",
    "\n",
    "PROJECT_DIR=`git rev-parse --show-toplevel`\n",
    "cd $PROJECT_DIR"
   ]
  },
  {
   "cell_type": "markdown",
   "metadata": {},
   "source": [
    "The code given below assumes you have the following [conda](https://docs.conda.io/en/latest/) environments setup to install [mccortex](https://github.com/mcveanlab/mccortex) and [bigsi](https://github.com/Phelimb/BIGSI). This can be done with.\n",
    "\n",
    "```bash\n",
    "conda create --name bigsi_mccortex mccortex\n",
    "conda create --name bigsi_mccortex bigsi\n",
    "```\n",
    "\n",
    "Let's verify these commands exist (and verify versions)."
   ]
  },
  {
   "cell_type": "code",
   "execution_count": 2,
   "metadata": {},
   "outputs": [
    {
     "name": "stdout",
     "output_type": "stream",
     "text": [
      "[11 Dec 2019 23:19:22-sUS][version] \u001b[01;31m\u001b[Kmccortex=v\u001b[m\u001b[K0.0.3-610-g400c0e3 zlib=1.2.11 htslib=1.8-17-g699ed53 ASSERTS=ON hash=Lookup3 CHECKS=ON k=3..31\n",
      "[11 Dec 2019 23:19:22-sUS][version] \u001b[01;31m\u001b[Kmccortex=v\u001b[m\u001b[K0.0.3-610-g400c0e3 zlib=1.2.11 htslib=1.8-17-g699ed53 ASSERTS=ON hash=Lookup3 CHECKS=ON k=3..31\n",
      "usage: \u001b[01;31m\u001b[Kbigsi-v\u001b[m\u001b[K0.3.1 bloom [-h] [-c CONFIG] ctx outfile\n"
     ]
    }
   ],
   "source": [
    "conda run --name bigsi_mccortex mccortex 31 build --help 2>&1 | grep 'mccortex=v'\n",
    "conda run --name bigsi_mccortex bigsi bloom --help 2>&1 | grep 'bigsi-v'"
   ]
  },
  {
   "cell_type": "markdown",
   "metadata": {},
   "source": [
    "Great. Now let's look at figuring out the optimal Bloom filter sizes and hash functions for BIGSI and HowDeSBT.\n",
    "\n",
    "## Bloom filter sizes\n",
    "\n",
    "First, let's pull out the maximum number of unique (canonical) kmers from each dataset type."
   ]
  },
  {
   "cell_type": "code",
   "execution_count": 3,
   "metadata": {},
   "outputs": [
    {
     "name": "stdout",
     "output_type": "stream",
     "text": [
      "data_type     kmer_size  max_kmers\n",
      "human         11         1618435\n",
      "microbial     11         1621455\n",
      "metagenomics  11         1892593\n"
     ]
    }
   ],
   "source": [
    "(echo -e \"data_type\\tkmer_size\\tmax_kmers\"\n",
    "for data_type in microbial metagenomics human\n",
    "do\n",
    "    # Get max kmer counts from kmers counted by jellyfish (for kmer size 15)\n",
    "    # tail -n+2 removes header line (first line) from data\n",
    "    max_kmer_count=`tail -n+2 ${data_type}/${data_dir}/${kmer_size}/kmer-counts.tsv | sort -k2,2n | cut -f 2 | tail -n 1`\n",
    "    echo -e \"${data_type}\\t${kmer_size}\\t${max_kmer_count}\"\n",
    "done) | sort -k3,3n | column -s$'\\t' -t"
   ]
  },
  {
   "cell_type": "markdown",
   "metadata": {},
   "source": [
    "Let's also pull out the estimated union of all k-mers across all datasets."
   ]
  },
  {
   "cell_type": "code",
   "execution_count": 4,
   "metadata": {},
   "outputs": [
    {
     "name": "stdout",
     "output_type": "stream",
     "text": [
      "data_type     kmer_size  union_kmers\n",
      "human         11         2093361\n",
      "microbial     11         2095943\n",
      "metagenomics  11         2097351\n"
     ]
    }
   ],
   "source": [
    "(echo -e \"data_type\\tkmer_size\\tunion_kmers\"\n",
    "for data_type in microbial metagenomics human\n",
    "do\n",
    "    count=`sed -e 's/Estimated number of unique exact matches: //' ${data_type}/${fastq_data_dir}/total-unique-kmers-${kmer_size}.txt | \\\n",
    "    awk '{print int($1+0.5)}'`\n",
    "    \n",
    "    echo -e \"${data_type}\\t${kmer_size}\\t${count}\"\n",
    "done) | sort -k3,3n | column -s$'\\t' -t"
   ]
  },
  {
   "cell_type": "markdown",
   "metadata": {},
   "source": [
    "It's the union of unique kmers we'll use to set Bloom filter sizes. We'll set these as follows."
   ]
  },
  {
   "cell_type": "code",
   "execution_count": 5,
   "metadata": {},
   "outputs": [],
   "source": [
    "# For kmer size 9\n",
    "#microbial_bits=140000\n",
    "#human_bits=140000\n",
    "#metagenomics_bits=140000\n",
    "# For kmer size 11\n",
    "microbial_bits=2100000\n",
    "human_bits=2100000\n",
    "metagenomics_bits=2100000\n",
    "# For kmer size 15\n",
    "#microbial_bits=61000000\n",
    "#human_bits=72000000\n",
    "#metagenomics_bits=210000000"
   ]
  },
  {
   "cell_type": "markdown",
   "metadata": {},
   "source": [
    "## Create BIGSI config file"
   ]
  },
  {
   "cell_type": "code",
   "execution_count": 6,
   "metadata": {},
   "outputs": [],
   "source": [
    "create_bigsi_config() {\n",
    "    kmer_size_config=$1\n",
    "    bits=$2\n",
    "    hashes=$3\n",
    "    output_dir_config=$4\n",
    "\n",
    "echo \"## Example config using berkeleyDB\n",
    "h: ${hashes}\n",
    "k: ${kmer_size_config}\n",
    "m: ${bits}\n",
    "storage-engine: berkeleydb\n",
    "storage-config:\n",
    "  filename: ${output_dir_config}/kmer${kmer_size_config}-bits${bits}-hashes${hashes}-bigsi.db\n",
    "  flag: \"c\" ## Change to 'r' for read-only access\n",
    "\" > ${output_dir_config}/berkelydb.yaml\n",
    "}"
   ]
  },
  {
   "cell_type": "code",
   "execution_count": 7,
   "metadata": {},
   "outputs": [
    {
     "name": "stdout",
     "output_type": "stream",
     "text": [
      "-rw-r--r-- 1 apetkau grp_apetkau 216 Dec 11 23:19 microbial/bigsi/11/berkelydb.yaml\n",
      "-rw-r--r-- 1 apetkau grp_apetkau 219 Dec 11 23:19 metagenomics/bigsi/11/berkelydb.yaml\n",
      "-rw-r--r-- 1 apetkau grp_apetkau 212 Dec 11 23:19 human/bigsi/11/berkelydb.yaml\n"
     ]
    }
   ],
   "source": [
    "data_type=microbial\n",
    "output_dir=${data_type}/${bigsi_dir}/${kmer_size}\n",
    "mkdir -p ${output_dir}\n",
    "create_bigsi_config \"${kmer_size}\" \"${microbial_bits}\" \"1\" \"${output_dir}\"\n",
    "ls -l ${output_dir}/berkelydb.yaml\n",
    "\n",
    "data_type=metagenomics\n",
    "output_dir=${data_type}/${bigsi_dir}/${kmer_size}\n",
    "mkdir -p ${output_dir}\n",
    "create_bigsi_config \"${kmer_size}\" \"${metagenomics_bits}\" \"1\" \"${output_dir}\"\n",
    "ls -l ${output_dir}/berkelydb.yaml\n",
    "\n",
    "data_type=human\n",
    "output_dir=${data_type}/${bigsi_dir}/${kmer_size}\n",
    "mkdir -p ${output_dir}\n",
    "create_bigsi_config \"${kmer_size}\" \"${human_bits}\" \"1\" \"${output_dir}\"\n",
    "ls -l ${output_dir}/berkelydb.yaml"
   ]
  },
  {
   "cell_type": "markdown",
   "metadata": {},
   "source": [
    "Once this step is complete, we now need to define the bash function for constructing the BIGSI Bloom filters. BIGSI requires a cortex file as input, which can be generated from the kmer list in the previous `jellyfish` step by running first through `mccortex`.\n",
    "\n",
    "We will first do this, then generate the BIGSI Bloom filters.\n",
    "\n",
    "## BIGSI Bloom filter bash function"
   ]
  },
  {
   "cell_type": "code",
   "execution_count": 8,
   "metadata": {},
   "outputs": [],
   "source": [
    "run_bigsi_bloom() {\n",
    "    type_dir=$1\n",
    "    output_dir=$2\n",
    "    nkmers=$3\n",
    "    mem=$4\n",
    "    jobs=$5\n",
    "    \n",
    "    input_dir=${type_dir}/${data_dir}/${kmer_size}\n",
    "    \n",
    "    export BIGSI_CONFIG=${output_dir}/berkelydb.yaml\n",
    "            \n",
    "    before=`date +%s`\n",
    "    \n",
    "    rm ${output_dir}/mccortex.*\n",
    "    rm -rf ${output_dir}/bigsi.*\n",
    "    rm ${output_dir}/*bigsi.db\n",
    "\n",
    "    commands_file=`mktemp`\n",
    "    \n",
    "    for file in ${input_dir}/*.kmer.gz\n",
    "    do\n",
    "        accession=`basename ${file} .kmer.gz`\n",
    "\n",
    "        mccortex_out=${output_dir}/mccortex.${accession}.ctx\n",
    "        mccortex_log=${output_dir}/mccortex.count.${accession}.log\n",
    "        \n",
    "        bigsi_out=${output_dir}/bigsi.${accession}.bloom\n",
    "        bigsi_log=${output_dir}/bigsi.${accession}.bloom.log\n",
    "\n",
    "        command=\"/usr/bin/time -v mccortex ${kmer_size} build --nkmers ${nkmers} --threads ${threads} --kmer ${kmer_size} \\\n",
    "            --mem ${mem} --sample ${accession} --seq ${file} ${mccortex_out} 2> ${mccortex_log}.err 1> ${mccortex_log} && \\\n",
    "            /usr/bin/time -v bigsi bloom ${mccortex_out} ${bigsi_out} 2> ${bigsi_log}.err 1> ${bigsi_log}\"\n",
    "        echo ${command} >> ${commands_file}\n",
    "    done\n",
    "    \n",
    "    echo \"Will run commands (mccortex and bigsi bloom) from [${commands_file}] like:\"\n",
    "    head -n 1 ${commands_file}\n",
    "    command=\"parallel -j ${jobs} -a ${commands_file}\"\n",
    "    echo -e \"\\n${command}\"\n",
    "    conda run --name bigsi_mccortex ${command}\n",
    "    \n",
    "    echo -e \"\\nNow, let's merge all these files together into a single BIGSI database.\"\n",
    "    bigsi_merge_log=${output_dir}/bigsi.build.log\n",
    "    files=`echo -n ${output_dir}/*.bloom`\n",
    "    samples=`for file in ${files}; do echo -n \"-s \"; basename ${file} .bloom | sed -e 's/^bigsi\\.//'; done`\n",
    "    command=\"/usr/bin/time -v bigsi build ${files} ${samples} 2> ${bigsi_merge_log}.err 1> ${bigsi_merge_log}\"\n",
    "    echo ${command}\n",
    "    conda run --name bigsi_mccortex ${command}\n",
    "    \n",
    "    after=`date +%s`\n",
    "    minutes=`echo \"(${after}-${before})/60\" | bc -l`\n",
    "    printf \"Done. Took %0.2f minutes.\" ${minutes}\n",
    "}"
   ]
  },
  {
   "cell_type": "markdown",
   "metadata": {},
   "source": [
    "Now that we've got our mccortex code defined. Let's run it on a dataset.\n",
    "\n",
    "## Microbial bigsi"
   ]
  },
  {
   "cell_type": "code",
   "execution_count": 9,
   "metadata": {},
   "outputs": [
    {
     "name": "stdout",
     "output_type": "stream",
     "text": [
      "rm: cannot remove 'microbial/bigsi/11/mccortex.*': No such file or directory\n",
      "rm: cannot remove 'microbial/bigsi/11/*bigsi.db': No such file or directory\n",
      "Will run commands (mccortex and bigsi bloom) from [/tmp/tmp.Mu7frCOjX8] like:\n",
      "/usr/bin/time -v mccortex 11 build --nkmers 2100000 --threads 1 --kmer 11 --mem 3G --sample ERR1144974 --seq microbial/kmer-counts-jellyfish/11/ERR1144974.kmer.gz microbial/bigsi/11/mccortex.ERR1144974.ctx 2> microbial/bigsi/11/mccortex.count.ERR1144974.log.err 1> microbial/bigsi/11/mccortex.count.ERR1144974.log && /usr/bin/time -v bigsi bloom microbial/bigsi/11/mccortex.ERR1144974.ctx microbial/bigsi/11/bigsi.ERR1144974.bloom 2> microbial/bigsi/11/bigsi.ERR1144974.bloom.log.err 1> microbial/bigsi/11/bigsi.ERR1144974.bloom.log\n",
      "\n",
      "parallel -j 24 -a /tmp/tmp.Mu7frCOjX8\n",
      "\n",
      "Now, let's merge all these files together into a single BIGSI database.\n",
      "/usr/bin/time -v bigsi build microbial/bigsi/11/bigsi.ERR1144974.bloom microbial/bigsi/11/bigsi.ERR1144975.bloom microbial/bigsi/11/bigsi.ERR1144976.bloom microbial/bigsi/11/bigsi.ERR1144977.bloom microbial/bigsi/11/bigsi.ERR1144978.bloom microbial/bigsi/11/bigsi.ERR3655992.bloom microbial/bigsi/11/bigsi.ERR3655994.bloom microbial/bigsi/11/bigsi.ERR3655996.bloom microbial/bigsi/11/bigsi.ERR3655998.bloom microbial/bigsi/11/bigsi.ERR3656002.bloom microbial/bigsi/11/bigsi.ERR3656004.bloom microbial/bigsi/11/bigsi.ERR3656010.bloom microbial/bigsi/11/bigsi.ERR3656012.bloom microbial/bigsi/11/bigsi.ERR3656013.bloom microbial/bigsi/11/bigsi.ERR3656015.bloom microbial/bigsi/11/bigsi.ERR3656018.bloom microbial/bigsi/11/bigsi.ERR3656019.bloom microbial/bigsi/11/bigsi.SRR10298903.bloom microbial/bigsi/11/bigsi.SRR10298904.bloom microbial/bigsi/11/bigsi.SRR10298905.bloom microbial/bigsi/11/bigsi.SRR10298906.bloom microbial/bigsi/11/bigsi.SRR10298907.bloom microbial/bigsi/11/bigsi.SRR10512964.bloom microbial/bigsi/11/bigsi.SRR10512965.bloom microbial/bigsi/11/bigsi.SRR10512968.bloom microbial/bigsi/11/bigsi.SRR10513325.bloom microbial/bigsi/11/bigsi.SRR10513326.bloom microbial/bigsi/11/bigsi.SRR10513328.bloom microbial/bigsi/11/bigsi.SRR10513363.bloom microbial/bigsi/11/bigsi.SRR10513672.bloom microbial/bigsi/11/bigsi.SRR10519468.bloom microbial/bigsi/11/bigsi.SRR10519469.bloom microbial/bigsi/11/bigsi.SRR10519616.bloom microbial/bigsi/11/bigsi.SRR10519617.bloom microbial/bigsi/11/bigsi.SRR10519619.bloom microbial/bigsi/11/bigsi.SRR10519620.bloom microbial/bigsi/11/bigsi.SRR10519637.bloom microbial/bigsi/11/bigsi.SRR10521982.bloom microbial/bigsi/11/bigsi.SRR10521983.bloom microbial/bigsi/11/bigsi.SRR10521984.bloom microbial/bigsi/11/bigsi.SRR10527348.bloom microbial/bigsi/11/bigsi.SRR10527349.bloom microbial/bigsi/11/bigsi.SRR10527351.bloom microbial/bigsi/11/bigsi.SRR10527352.bloom microbial/bigsi/11/bigsi.SRR10527353.bloom microbial/bigsi/11/bigsi.SRR8088181.bloom microbial/bigsi/11/bigsi.SRR8088182.bloom microbial/bigsi/11/bigsi.SRR8088183.bloom microbial/bigsi/11/bigsi.SRR8088184.bloom microbial/bigsi/11/bigsi.SRR8088185.bloom -s ERR1144974 -s ERR1144975 -s ERR1144976 -s ERR1144977 -s ERR1144978 -s ERR3655992 -s ERR3655994 -s ERR3655996 -s ERR3655998 -s ERR3656002 -s ERR3656004 -s ERR3656010 -s ERR3656012 -s ERR3656013 -s ERR3656015 -s ERR3656018 -s ERR3656019 -s SRR10298903 -s SRR10298904 -s SRR10298905 -s SRR10298906 -s SRR10298907 -s SRR10512964 -s SRR10512965 -s SRR10512968 -s SRR10513325 -s SRR10513326 -s SRR10513328 -s SRR10513363 -s SRR10513672 -s SRR10519468 -s SRR10519469 -s SRR10519616 -s SRR10519617 -s SRR10519619 -s SRR10519620 -s SRR10519637 -s SRR10521982 -s SRR10521983 -s SRR10521984 -s SRR10527348 -s SRR10527349 -s SRR10527351 -s SRR10527352 -s SRR10527353 -s SRR8088181 -s SRR8088182 -s SRR8088183 -s SRR8088184 -s SRR8088185 2> microbial/bigsi/11/bigsi.build.log.err 1> microbial/bigsi/11/bigsi.build.log\n",
      "Done. Took 1.35 minutes."
     ]
    }
   ],
   "source": [
    "input_dir_type=\"microbial\"\n",
    "run_bigsi_bloom \"${input_dir_type}\" \"${input_dir_type}/${bigsi_dir}/${kmer_size}\" \"${microbial_bits}\" \"3G\" \"24\""
   ]
  },
  {
   "cell_type": "markdown",
   "metadata": {},
   "source": [
    "Alright. It's all finished. Let's look at some of the output files."
   ]
  },
  {
   "cell_type": "code",
   "execution_count": 10,
   "metadata": {},
   "outputs": [
    {
     "name": "stdout",
     "output_type": "stream",
     "text": [
      "264K\tmicrobial/bigsi/11/bigsi.ERR1144974.bloom\n",
      "264K\tmicrobial/bigsi/11/bigsi.ERR1144975.bloom\n",
      "264K\tmicrobial/bigsi/11/bigsi.ERR1144976.bloom\n",
      "264K\tmicrobial/bigsi/11/bigsi.ERR1144977.bloom\n",
      "264K\tmicrobial/bigsi/11/bigsi.ERR1144978.bloom\n",
      "du: write error\n"
     ]
    }
   ],
   "source": [
    "du -sh ${input_dir_type}/${bigsi_dir}/${kmer_size}/*.bloom | head -n 5"
   ]
  },
  {
   "cell_type": "markdown",
   "metadata": {},
   "source": [
    "These contain the individual BIGSI Bloom filters."
   ]
  },
  {
   "cell_type": "code",
   "execution_count": 11,
   "metadata": {},
   "outputs": [
    {
     "name": "stdout",
     "output_type": "stream",
     "text": [
      "14M\tmicrobial/bigsi/11/mccortex.ERR1144974.ctx\n",
      "14M\tmicrobial/bigsi/11/mccortex.ERR1144975.ctx\n",
      "14M\tmicrobial/bigsi/11/mccortex.ERR1144976.ctx\n",
      "14M\tmicrobial/bigsi/11/mccortex.ERR1144977.ctx\n",
      "14M\tmicrobial/bigsi/11/mccortex.ERR1144978.ctx\n",
      "du: write error\n"
     ]
    }
   ],
   "source": [
    "du -sh ${input_dir_type}/${bigsi_dir}/${kmer_size}/*.ctx | head -n 5"
   ]
  },
  {
   "cell_type": "markdown",
   "metadata": {},
   "source": [
    "These are the intermediate cortex graphs."
   ]
  },
  {
   "cell_type": "code",
   "execution_count": 12,
   "metadata": {},
   "outputs": [
    {
     "name": "stdout",
     "output_type": "stream",
     "text": [
      "-rw-r--r-- 1 apetkau grp_apetkau 81M Dec 11 23:20 microbial/bigsi/11/kmer11-bits2100000-hashes1-bigsi.db\n"
     ]
    }
   ],
   "source": [
    "ls -lh ${input_dir_type}/${bigsi_dir}/${kmer_size}/*bigsi.db"
   ]
  },
  {
   "cell_type": "markdown",
   "metadata": {},
   "source": [
    "This is the final BIGSI database.\n",
    "\n",
    "Let's now measure the sizes of the intermediate files/database size on disk."
   ]
  },
  {
   "cell_type": "code",
   "execution_count": 13,
   "metadata": {},
   "outputs": [
    {
     "name": "stdout",
     "output_type": "stream",
     "text": [
      "754 total intermediate (MB)\n",
      "68 total database (MB)\n"
     ]
    }
   ],
   "source": [
    "du -mc ${input_dir_type}/${bigsi_dir}/${kmer_size}/{*.ctx,*.bloom} | \n",
    "    grep 'total' | \n",
    "    sed -e 's/\\ttotal$/ total intermediate (MB)/' | \n",
    "    tee ${input_dir_type}/${bigsi_dir}/${kmer_size}/bigsi-total-disk.txt\n",
    "    \n",
    "du -mc ${input_dir_type}/${bigsi_dir}/${kmer_size}/*bigsi.db |\n",
    "    grep 'total' | \n",
    "    sed -e 's/\\ttotal$/ total database (MB)/' |\n",
    "    tee -a ${input_dir_type}/${bigsi_dir}/${kmer_size}/bigsi-total-disk.txt"
   ]
  },
  {
   "cell_type": "markdown",
   "metadata": {},
   "source": [
    "# Metagenomics bigsi"
   ]
  },
  {
   "cell_type": "code",
   "execution_count": 14,
   "metadata": {},
   "outputs": [
    {
     "name": "stdout",
     "output_type": "stream",
     "text": [
      "rm: cannot remove 'metagenomics/bigsi/11/mccortex.*': No such file or directory\n",
      "rm: cannot remove 'metagenomics/bigsi/11/*bigsi.db': No such file or directory\n",
      "Will run commands (mccortex and bigsi bloom) from [/tmp/tmp.PyLXAuc2pX] like:\n",
      "/usr/bin/time -v mccortex 11 build --nkmers 2100000 --threads 1 --kmer 11 --mem 10G --sample ERR1713331 --seq metagenomics/kmer-counts-jellyfish/11/ERR1713331.kmer.gz metagenomics/bigsi/11/mccortex.ERR1713331.ctx 2> metagenomics/bigsi/11/mccortex.count.ERR1713331.log.err 1> metagenomics/bigsi/11/mccortex.count.ERR1713331.log && /usr/bin/time -v bigsi bloom metagenomics/bigsi/11/mccortex.ERR1713331.ctx metagenomics/bigsi/11/bigsi.ERR1713331.bloom 2> metagenomics/bigsi/11/bigsi.ERR1713331.bloom.log.err 1> metagenomics/bigsi/11/bigsi.ERR1713331.bloom.log\n",
      "\n",
      "parallel -j 8 -a /tmp/tmp.PyLXAuc2pX\n",
      "\n",
      "Now, let's merge all these files together into a single BIGSI database.\n",
      "/usr/bin/time -v bigsi build metagenomics/bigsi/11/bigsi.ERR1713331.bloom metagenomics/bigsi/11/bigsi.ERR1713332.bloom metagenomics/bigsi/11/bigsi.ERR1713333.bloom metagenomics/bigsi/11/bigsi.ERR1713334.bloom metagenomics/bigsi/11/bigsi.ERR1713335.bloom metagenomics/bigsi/11/bigsi.ERR1713336.bloom metagenomics/bigsi/11/bigsi.ERR1713337.bloom metagenomics/bigsi/11/bigsi.ERR1713339.bloom metagenomics/bigsi/11/bigsi.ERR1713340.bloom metagenomics/bigsi/11/bigsi.ERR1713341.bloom metagenomics/bigsi/11/bigsi.ERR1713342.bloom metagenomics/bigsi/11/bigsi.ERR1713343.bloom metagenomics/bigsi/11/bigsi.ERR1713344.bloom metagenomics/bigsi/11/bigsi.ERR1713345.bloom metagenomics/bigsi/11/bigsi.ERR1713351.bloom metagenomics/bigsi/11/bigsi.ERR1713352.bloom metagenomics/bigsi/11/bigsi.ERR1713353.bloom metagenomics/bigsi/11/bigsi.ERR1713355.bloom metagenomics/bigsi/11/bigsi.ERR1713356.bloom metagenomics/bigsi/11/bigsi.ERR1713358.bloom metagenomics/bigsi/11/bigsi.ERR1713359.bloom metagenomics/bigsi/11/bigsi.ERR1713361.bloom metagenomics/bigsi/11/bigsi.ERR1713362.bloom metagenomics/bigsi/11/bigsi.ERR1713363.bloom metagenomics/bigsi/11/bigsi.ERR1713366.bloom metagenomics/bigsi/11/bigsi.ERR1713371.bloom metagenomics/bigsi/11/bigsi.ERR1713372.bloom metagenomics/bigsi/11/bigsi.ERR1713373.bloom metagenomics/bigsi/11/bigsi.ERR1713374.bloom metagenomics/bigsi/11/bigsi.ERR1713375.bloom metagenomics/bigsi/11/bigsi.ERR1713376.bloom metagenomics/bigsi/11/bigsi.ERR1713378.bloom metagenomics/bigsi/11/bigsi.ERR1713379.bloom metagenomics/bigsi/11/bigsi.ERR1713381.bloom metagenomics/bigsi/11/bigsi.ERR1713382.bloom metagenomics/bigsi/11/bigsi.ERR1713388.bloom metagenomics/bigsi/11/bigsi.ERR1713389.bloom metagenomics/bigsi/11/bigsi.ERR1713391.bloom metagenomics/bigsi/11/bigsi.ERR1713393.bloom metagenomics/bigsi/11/bigsi.ERR1713395.bloom metagenomics/bigsi/11/bigsi.ERR1713396.bloom metagenomics/bigsi/11/bigsi.ERR1713397.bloom metagenomics/bigsi/11/bigsi.ERR1713399.bloom metagenomics/bigsi/11/bigsi.ERR1713400.bloom metagenomics/bigsi/11/bigsi.ERR1713401.bloom metagenomics/bigsi/11/bigsi.ERR1713402.bloom metagenomics/bigsi/11/bigsi.ERR1713403.bloom metagenomics/bigsi/11/bigsi.ERR1713405.bloom metagenomics/bigsi/11/bigsi.ERR1713406.bloom metagenomics/bigsi/11/bigsi.ERR1713409.bloom -s ERR1713331 -s ERR1713332 -s ERR1713333 -s ERR1713334 -s ERR1713335 -s ERR1713336 -s ERR1713337 -s ERR1713339 -s ERR1713340 -s ERR1713341 -s ERR1713342 -s ERR1713343 -s ERR1713344 -s ERR1713345 -s ERR1713351 -s ERR1713352 -s ERR1713353 -s ERR1713355 -s ERR1713356 -s ERR1713358 -s ERR1713359 -s ERR1713361 -s ERR1713362 -s ERR1713363 -s ERR1713366 -s ERR1713371 -s ERR1713372 -s ERR1713373 -s ERR1713374 -s ERR1713375 -s ERR1713376 -s ERR1713378 -s ERR1713379 -s ERR1713381 -s ERR1713382 -s ERR1713388 -s ERR1713389 -s ERR1713391 -s ERR1713393 -s ERR1713395 -s ERR1713396 -s ERR1713397 -s ERR1713399 -s ERR1713400 -s ERR1713401 -s ERR1713402 -s ERR1713403 -s ERR1713405 -s ERR1713406 -s ERR1713409 2> metagenomics/bigsi/11/bigsi.build.log.err 1> metagenomics/bigsi/11/bigsi.build.log\n",
      "Done. Took 3.75 minutes."
     ]
    }
   ],
   "source": [
    "input_dir_type=\"metagenomics\"\n",
    "run_bigsi_bloom \"${input_dir_type}\" \"${input_dir_type}/${bigsi_dir}/${kmer_size}\" \"${metagenomics_bits}\" \"10G\" \"8\""
   ]
  },
  {
   "cell_type": "code",
   "execution_count": 15,
   "metadata": {},
   "outputs": [
    {
     "name": "stdout",
     "output_type": "stream",
     "text": [
      "1158 total intermediate (MB)\n",
      "68 total database (MB)\n"
     ]
    }
   ],
   "source": [
    "du -mc ${input_dir_type}/${bigsi_dir}/${kmer_size}/{*.ctx,*.bloom} | \n",
    "    grep 'total' | \n",
    "    sed -e 's/\\ttotal$/ total intermediate (MB)/' | \n",
    "    tee ${input_dir_type}/${bigsi_dir}/${kmer_size}/bigsi-total-disk.txt\n",
    "    \n",
    "du -mc ${input_dir_type}/${bigsi_dir}/${kmer_size}/*bigsi.db |\n",
    "    grep 'total' | \n",
    "    sed -e 's/\\ttotal$/ total database (MB)/' |\n",
    "    tee -a ${input_dir_type}/${bigsi_dir}/${kmer_size}/bigsi-total-disk.txt"
   ]
  },
  {
   "cell_type": "markdown",
   "metadata": {},
   "source": [
    "## Human bigsi"
   ]
  },
  {
   "cell_type": "code",
   "execution_count": 16,
   "metadata": {},
   "outputs": [
    {
     "name": "stdout",
     "output_type": "stream",
     "text": [
      "rm: cannot remove 'human/bigsi/11/mccortex.*': No such file or directory\n",
      "rm: cannot remove 'human/bigsi/11/*bigsi.db': No such file or directory\n",
      "Will run commands (mccortex and bigsi bloom) from [/tmp/tmp.AjXGJa2EeP] like:\n",
      "/usr/bin/time -v mccortex 11 build --nkmers 2100000 --threads 1 --kmer 11 --mem 5G --sample SRR038300 --seq human/kmer-counts-jellyfish/11/SRR038300.kmer.gz human/bigsi/11/mccortex.SRR038300.ctx 2> human/bigsi/11/mccortex.count.SRR038300.log.err 1> human/bigsi/11/mccortex.count.SRR038300.log && /usr/bin/time -v bigsi bloom human/bigsi/11/mccortex.SRR038300.ctx human/bigsi/11/bigsi.SRR038300.bloom 2> human/bigsi/11/bigsi.SRR038300.bloom.log.err 1> human/bigsi/11/bigsi.SRR038300.bloom.log\n",
      "\n",
      "parallel -j 12 -a /tmp/tmp.AjXGJa2EeP\n",
      "\n",
      "Now, let's merge all these files together into a single BIGSI database.\n",
      "/usr/bin/time -v bigsi build human/bigsi/11/bigsi.SRR038300.bloom human/bigsi/11/bigsi.SRR039632.bloom human/bigsi/11/bigsi.SRR1012332.bloom human/bigsi/11/bigsi.SRR1024141.bloom human/bigsi/11/bigsi.SRR1033463.bloom human/bigsi/11/bigsi.SRR1035695.bloom human/bigsi/11/bigsi.SRR1047817.bloom human/bigsi/11/bigsi.SRR1060774.bloom human/bigsi/11/bigsi.SRR1174334.bloom human/bigsi/11/bigsi.SRR1193574.bloom human/bigsi/11/bigsi.SRR1292581.bloom human/bigsi/11/bigsi.SRR1294106.bloom human/bigsi/11/bigsi.SRR1303626.bloom human/bigsi/11/bigsi.SRR1313077.bloom human/bigsi/11/bigsi.SRR1313078.bloom human/bigsi/11/bigsi.SRR1313092.bloom human/bigsi/11/bigsi.SRR1313097.bloom human/bigsi/11/bigsi.SRR1313105.bloom human/bigsi/11/bigsi.SRR1313120.bloom human/bigsi/11/bigsi.SRR1313154.bloom human/bigsi/11/bigsi.SRR1313156.bloom human/bigsi/11/bigsi.SRR1313198.bloom human/bigsi/11/bigsi.SRR1313216.bloom human/bigsi/11/bigsi.SRR1313228.bloom human/bigsi/11/bigsi.SRR1519066.bloom human/bigsi/11/bigsi.SRR191403.bloom human/bigsi/11/bigsi.SRR191429.bloom human/bigsi/11/bigsi.SRR191455.bloom human/bigsi/11/bigsi.SRR191463.bloom human/bigsi/11/bigsi.SRR191480.bloom human/bigsi/11/bigsi.SRR191487.bloom human/bigsi/11/bigsi.SRR191494.bloom human/bigsi/11/bigsi.SRR191527.bloom human/bigsi/11/bigsi.SRR191555.bloom human/bigsi/11/bigsi.SRR191563.bloom human/bigsi/11/bigsi.SRR191621.bloom human/bigsi/11/bigsi.SRR191646.bloom human/bigsi/11/bigsi.SRR191675.bloom human/bigsi/11/bigsi.SRR191693.bloom human/bigsi/11/bigsi.SRR191696.bloom human/bigsi/11/bigsi.SRR299111.bloom human/bigsi/11/bigsi.SRR306849.bloom human/bigsi/11/bigsi.SRR353653.bloom human/bigsi/11/bigsi.SRR387778.bloom human/bigsi/11/bigsi.SRR393767.bloom human/bigsi/11/bigsi.SRR403006.bloom human/bigsi/11/bigsi.SRR496397.bloom human/bigsi/11/bigsi.SRR518951.bloom human/bigsi/11/bigsi.SRR518958.bloom human/bigsi/11/bigsi.SRR537114.bloom -s SRR038300 -s SRR039632 -s SRR1012332 -s SRR1024141 -s SRR1033463 -s SRR1035695 -s SRR1047817 -s SRR1060774 -s SRR1174334 -s SRR1193574 -s SRR1292581 -s SRR1294106 -s SRR1303626 -s SRR1313077 -s SRR1313078 -s SRR1313092 -s SRR1313097 -s SRR1313105 -s SRR1313120 -s SRR1313154 -s SRR1313156 -s SRR1313198 -s SRR1313216 -s SRR1313228 -s SRR1519066 -s SRR191403 -s SRR191429 -s SRR191455 -s SRR191463 -s SRR191480 -s SRR191487 -s SRR191494 -s SRR191527 -s SRR191555 -s SRR191563 -s SRR191621 -s SRR191646 -s SRR191675 -s SRR191693 -s SRR191696 -s SRR299111 -s SRR306849 -s SRR353653 -s SRR387778 -s SRR393767 -s SRR403006 -s SRR496397 -s SRR518951 -s SRR518958 -s SRR537114 2> human/bigsi/11/bigsi.build.log.err 1> human/bigsi/11/bigsi.build.log\n",
      "Done. Took 1.73 minutes."
     ]
    }
   ],
   "source": [
    "input_dir_type=\"human\"\n",
    "run_bigsi_bloom \"${input_dir_type}\" \"${input_dir_type}/${bigsi_dir}/${kmer_size}\" \"${human_bits}\" \"5G\" \"12\""
   ]
  },
  {
   "cell_type": "code",
   "execution_count": 17,
   "metadata": {},
   "outputs": [
    {
     "name": "stdout",
     "output_type": "stream",
     "text": [
      "624 total intermediate (MB)\n",
      "68 total database (MB)\n"
     ]
    }
   ],
   "source": [
    "du -mc ${input_dir_type}/${bigsi_dir}/${kmer_size}/{*.ctx,*.bloom} | \n",
    "    grep 'total' | \n",
    "    sed -e 's/\\ttotal$/ total intermediate (MB)/' | \n",
    "    tee ${input_dir_type}/${bigsi_dir}/${kmer_size}/bigsi-total-disk.txt\n",
    "    \n",
    "du -mc ${input_dir_type}/${bigsi_dir}/${kmer_size}/*bigsi.db |\n",
    "    grep 'total' | \n",
    "    sed -e 's/\\ttotal$/ total database (MB)/' |\n",
    "    tee -a ${input_dir_type}/${bigsi_dir}/${kmer_size}/bigsi-total-disk.txt"
   ]
  },
  {
   "cell_type": "code",
   "execution_count": null,
   "metadata": {},
   "outputs": [],
   "source": []
  }
 ],
 "metadata": {
  "kernelspec": {
   "display_name": "Bash",
   "language": "bash",
   "name": "bash"
  },
  "language_info": {
   "codemirror_mode": "shell",
   "file_extension": ".sh",
   "mimetype": "text/x-sh",
   "name": "bash"
  }
 },
 "nbformat": 4,
 "nbformat_minor": 4
}
