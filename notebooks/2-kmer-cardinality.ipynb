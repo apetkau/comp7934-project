{
 "cells": [
  {
   "cell_type": "markdown",
   "metadata": {},
   "source": [
    "# Kmer cardinality in dataset\n",
    "\n",
    "Let's count all the unique kmers (set cardinality) in all our datasets so we can get an idea of the kmer diversity of our datasets.\n",
    "\n",
    "First, we'll setup some variables."
   ]
  },
  {
   "cell_type": "code",
   "execution_count": null,
   "metadata": {},
   "outputs": [],
   "source": [
    "kmer_sizes_list=\"9 15 21 25 29 31\"\n",
    "data_dir_name=\"data\"\n",
    "\n",
    "PROJECT_DIR=`git rev-parse --show-toplevel`\n",
    "cd $PROJECT_DIR\n",
    "ls"
   ]
  },
  {
   "cell_type": "markdown",
   "metadata": {},
   "source": [
    "Here, `kmer_sizes` is a list of all the possible kmer sizes we will count. The other variables just let us make sure we are in the proper directory.\n",
    "\n",
    "## K-mer size estimation code\n",
    "\n",
    "Now, let's setup the code for doing the k-mer counting. We'll be using the program [dashing](https://github.com/dnbaker/dashing), and specifically the `dashing hll` command to estimate the unique number of kmers in our datset using a HyperLogLog algorithm.\n",
    "\n",
    "In order for this to work, you'll have to make sure to create a [conda](https://docs.conda.io/en/latest/) environment called `dashing` which contains the binary `dashing_s512` (the binary was not available as part of conda so I created the environment and copied the binary to the `bin/` directory)."
   ]
  },
  {
   "cell_type": "code",
   "execution_count": null,
   "metadata": {},
   "outputs": [],
   "source": [
    "# Purpose: Counts k-mers using `dashing`\n",
    "# Args:\n",
    "#      data_type_dir: The directory for the specific data type (human, microbial, metagenomics).\n",
    "#      kmer_sizes: A string listing the k-mer sizes, separated by spaces (e.g., \"9 15 21\").\n",
    "count_kmers() {\n",
    "    data_type_dir=$1\n",
    "    kmer_sizes=$2\n",
    "    \n",
    "    threads=4\n",
    "    jobs=50\n",
    "    \n",
    "    data_dir=${data_type_dir}/${data_dir_name}\n",
    "    kmer_output_dir=${data_type_dir}/kmer\n",
    "    \n",
    "    rm -rf ${kmer_output_dir}\n",
    "    mkdir ${kmer_output_dir}\n",
    "    \n",
    "    # Make string of all files, minus directory and '.fast.gz' part.\n",
    "    # E.g., \"dir/file1.fastq.gz dir/file2.fastq.gz\" becomes \"file1 file2\"\n",
    "    files=''\n",
    "    for f in ${data_dir}/*.fastq.gz\n",
    "    do\n",
    "        name=`basename ${f} .fastq.gz`\n",
    "        files=\"${files} ${name}\"\n",
    "    done\n",
    "    \n",
    "    before=`date +%s`\n",
    "    \n",
    "    for kmer_size in ${kmer_sizes}\n",
    "    do\n",
    "        output=${kmer_output_dir}/kmer-${kmer_size}.tsv\n",
    "        log=${kmer_output_dir}/kmer-${kmer_size}.log\n",
    "        \n",
    "        command=\"parallel --jobs ${jobs} -I% \\\n",
    "            dashing_s512 hll -k ${kmer_size} -p ${threads} ${data_dir}/%.fastq.gz \\2\\>\\> ${log}.err \\| \\\n",
    "            grep 'Estimated number of unique exact matches' \\| \\\n",
    "            sed -e 's/Estimated number of unique exact matches: /%\\t/' \\\n",
    "            ::: ${files} > ${output}\"\n",
    "            \n",
    "        echo ${command}\n",
    "        conda run --name dashing ${command}\n",
    "    done\n",
    "    \n",
    "    after=`date +%s`\n",
    "    minutes=`echo \"(${after}-${before})/60\" | bc -l`\n",
    "    printf \"Done. Took %0.2f minutes.\" ${minutes}    \n",
    "}"
   ]
  },
  {
   "cell_type": "markdown",
   "metadata": {},
   "source": [
    "Great. Now let's run it on the different data types.\n",
    "\n",
    "## Microbial unique kmers"
   ]
  },
  {
   "cell_type": "code",
   "execution_count": null,
   "metadata": {},
   "outputs": [],
   "source": [
    "count_kmers \"microbial\" \"${kmer_sizes_list}\""
   ]
  },
  {
   "cell_type": "markdown",
   "metadata": {},
   "source": [
    "Okay, let's take a look at the output."
   ]
  },
  {
   "cell_type": "code",
   "execution_count": null,
   "metadata": {},
   "outputs": [],
   "source": [
    "ls microbial/kmer"
   ]
  },
  {
   "cell_type": "markdown",
   "metadata": {},
   "source": [
    "We have multiple files for each k-mer, named by the k-mer size."
   ]
  },
  {
   "cell_type": "code",
   "execution_count": null,
   "metadata": {},
   "outputs": [],
   "source": [
    "head -n 5 microbial/kmer/kmer-9.tsv\n",
    "wc -l microbial/kmer/kmer-*.tsv"
   ]
  },
  {
   "cell_type": "markdown",
   "metadata": {},
   "source": [
    "Each of these files is a `tsv` file containing the k-mer counts for each sample in our dataset."
   ]
  },
  {
   "cell_type": "markdown",
   "metadata": {},
   "source": [
    "# Metagenomics unique kmers\n",
    "\n",
    "Okay, now let's do this for the metagenomics data."
   ]
  },
  {
   "cell_type": "code",
   "execution_count": null,
   "metadata": {},
   "outputs": [],
   "source": [
    "count_kmers \"metagenomics\" \"${kmer_sizes_list}\""
   ]
  },
  {
   "cell_type": "code",
   "execution_count": null,
   "metadata": {},
   "outputs": [],
   "source": [
    "ls metagenomics/kmer\n",
    "head -n 5 metagenomics/kmer/kmer-9.tsv\n",
    "wc -l metagenomics/kmer/kmer-*.tsv"
   ]
  },
  {
   "cell_type": "markdown",
   "metadata": {},
   "source": [
    "Awesome. Let's finally do this for the human genomics data.\n",
    "\n",
    "# Human unique kmers"
   ]
  },
  {
   "cell_type": "code",
   "execution_count": null,
   "metadata": {},
   "outputs": [],
   "source": [
    "count_kmers \"human\" \"${kmer_sizes_list}\""
   ]
  },
  {
   "cell_type": "code",
   "execution_count": null,
   "metadata": {},
   "outputs": [],
   "source": [
    "ls human/kmer\n",
    "head -n 5 human/kmer/kmer-9.tsv\n",
    "wc -l human/kmer/kmer-*.tsv"
   ]
  },
  {
   "cell_type": "markdown",
   "metadata": {},
   "source": [
    "Great. We've finished counting all possible combinations of kmers. We're set to generate the figures :)."
   ]
  }
 ],
 "metadata": {
  "kernelspec": {
   "display_name": "Bash",
   "language": "bash",
   "name": "bash"
  },
  "language_info": {
   "codemirror_mode": "shell",
   "file_extension": ".sh",
   "mimetype": "text/x-sh",
   "name": "bash"
  }
 },
 "nbformat": 4,
 "nbformat_minor": 4
}
