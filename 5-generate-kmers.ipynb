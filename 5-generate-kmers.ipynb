{
 "cells": [
  {
   "cell_type": "markdown",
   "metadata": {},
   "source": [
    "# Break into kmers with Jellyfish\n",
    "\n",
    "Both BIGSI and HowDeSBT operate on k-mers (of some size k), which are inserted into Bloom filters. While each program can take a variety of input files (and HowDeSBT can count k-mers itself), in order to measure performance we wish to start with a common set of inputs. So, we will break our data into kmers with the program [jellyfish](https://github.com/gmarcais/Jellyfish) ahead of time.\n",
    "\n",
    "First, let's setup some directories."
   ]
  },
  {
   "cell_type": "code",
   "execution_count": 1,
   "metadata": {},
   "outputs": [],
   "source": [
    "data_dir=data-downsampled\n",
    "kmer_dir=kmer-downsampled\n",
    "kmer_counts_dir=kmer-counts-jellyfish\n",
    "kmers_input_sizes=\"9\"\n",
    "\n",
    "PROJECT_DIR=`git rev-parse --show-toplevel`\n",
    "cd $PROJECT_DIR"
   ]
  },
  {
   "cell_type": "markdown",
   "metadata": {},
   "source": [
    "The code given below assumes you have the following [conda](https://docs.conda.io/en/latest/) environments setup to install [jellyfish](https://github.com/gmarcais/Jellyfish). This can be done with.\n",
    "\n",
    "```bash\n",
    "conda create --name jellyfish jellyfish\n",
    "```\n",
    "\n",
    "Let's verify these commands exist (and verify versions)."
   ]
  },
  {
   "cell_type": "code",
   "execution_count": 2,
   "metadata": {},
   "outputs": [
    {
     "name": "stdout",
     "output_type": "stream",
     "text": [
      "jellyfish 2.2.8\n"
     ]
    }
   ],
   "source": [
    "conda run --name jellyfish jellyfish --version"
   ]
  },
  {
   "cell_type": "markdown",
   "metadata": {},
   "source": [
    "Once this step is complete, we need to figure out the maximum number of kmers for our 3 datasets (for passing to `jellyfish` to set the hash size). Let's define a bash function for this.\n",
    "\n",
    "## Find max data kmer cardinality"
   ]
  },
  {
   "cell_type": "code",
   "execution_count": 3,
   "metadata": {},
   "outputs": [],
   "source": [
    "# Purpose: Gets max kmer cardinality estimates on sequence reads.\n",
    "# Args:\n",
    "#      input_dir: The input directory containing all the kmer counts.\n",
    "#      kmer_size: The kmer_size to find the max.\n",
    "# Output: Prints the the maximum kmer count for the kmer size\n",
    "#         in this directory (files named like `kmer-9.tsv`).\n",
    "get_max_kmer_cardinality() {\n",
    "    input_dir=$1\n",
    "    kmer_size=$2\n",
    "    \n",
    "    cut -f 2 \"${input_dir}/kmer-${kmer_size}.tsv\" | sort -n | tail -n 1 | awk '{print int($1+0.5)}'\n",
    "}"
   ]
  },
  {
   "cell_type": "markdown",
   "metadata": {},
   "source": [
    "Let's test this code out."
   ]
  },
  {
   "cell_type": "code",
   "execution_count": 4,
   "metadata": {},
   "outputs": [
    {
     "name": "stdout",
     "output_type": "stream",
     "text": [
      "38109197\n",
      "50876500\n",
      "78652018\n"
     ]
    }
   ],
   "source": [
    "get_max_kmer_cardinality \"microbial/${kmer_dir}\" \"31\"\n",
    "get_max_kmer_cardinality \"human/${kmer_dir}\" \"31\"\n",
    "get_max_kmer_cardinality \"metagenomics/${kmer_dir}\" \"31\""
   ]
  },
  {
   "cell_type": "markdown",
   "metadata": {},
   "source": [
    "Great. Now that we have this setup, we can move to defining a function to count and produce a list of all kmers in the dataset using `jellyfish`.\n",
    "\n",
    "## Bash jellyfish kmer count function"
   ]
  },
  {
   "cell_type": "code",
   "execution_count": 5,
   "metadata": {},
   "outputs": [],
   "source": [
    "# Purpose: Runs jellyfish on sequence reads to count kmers.\n",
    "# Args:\n",
    "#      type_dir: The input type directory (e.g., microbial,)\n",
    "#      output_dir: A directory to save the jellyfish output into.\n",
    "#      kmer_sizes: The kmer_sizes to run (separated by spaces).\n",
    "# Output: Jellyfish kmer counts in the passed output directory.\n",
    "run_jellyfish() {\n",
    "    type_dir=$1\n",
    "    output_dir=$2\n",
    "    kmer_sizes=$3\n",
    "    \n",
    "    input_dir=${type_dir}/${data_dir}\n",
    "    \n",
    "    threads=24\n",
    "    \n",
    "    rm -rf ${output_dir}\n",
    "    mkdir ${output_dir}\n",
    "    \n",
    "    before=`date +%s`\n",
    "    \n",
    "    for kmer_size in ${kmer_sizes}\n",
    "    do\n",
    "        # Find max kmers\n",
    "        max_kmer=`get_max_kmer_cardinality \"${type_dir}/${kmer_dir}\" \"${kmer_size}\"`\n",
    "        \n",
    "        # Hash size is 10x the max kmers in dataset.\n",
    "        #hash_size=`echo \"10*${max_kmer}\" | bc`\n",
    "        \n",
    "        output_dir_kmer=${output_dir}/${kmer_size}\n",
    "        mkdir ${output_dir_kmer}\n",
    "    \n",
    "        #for file in ${input_dir}/*.fastq.gz\n",
    "        for file in ${input_dir}/ERR1144976.fastq.gz\n",
    "        do\n",
    "            accession=`basename ${file} .fastq.gz`\n",
    "\n",
    "            jellyfish_out=${output_dir_kmer}/${accession}.jf\n",
    "            jellyfish_log=${output_dir_kmer}/jellyfish.count.${accession}.log\n",
    "        \n",
    "            command=\"/usr/bin/time -v jellyfish count --size ${max_kmer} --threads ${threads} --mer-len ${kmer_size} --output ${jellyfish_out} \\\n",
    "                --canonical <(gzip -d --stdout ${file}) 2> ${jellyfish_log}.err 1> ${jellyfish_log}\"\n",
    "            echo ${command}\n",
    "            conda run --name jellyfish ${command}\n",
    "            \n",
    "            kmer_counts_out=${output_dir_kmer}/${accession}.kmer.gz\n",
    "            kmer_counts_log=${output_dir_kmer}/jellyfish.dump.${accession}.log\n",
    "            \n",
    "            command=\"/usr/bin/time -v jellyfish dump --column --tab ${jellyfish_out} 2> ${kmer_counts_log}.err | gzip --stdout > ${kmer_counts_out}\"\n",
    "            echo ${command}\n",
    "            conda run --name jellyfish ${command}\n",
    "            \n",
    "            rm ${jellyfish_out}\n",
    "        done\n",
    "    done\n",
    "    \n",
    "    after=`date +%s`\n",
    "    minutes=`echo \"(${after}-${before})/60\" | bc -l`\n",
    "    printf \"Done. Took %0.2f minutes.\" ${minutes}\n",
    "}"
   ]
  },
  {
   "cell_type": "markdown",
   "metadata": {},
   "source": [
    "Now that we've got our mccortex code defined. Let's run it on a dataset.\n",
    "\n",
    "## Microbial kmer generation\n",
    "\n",
    "Let's first generate a list of all kmers (for different sizes) for the microbial dataset."
   ]
  },
  {
   "cell_type": "code",
   "execution_count": 8,
   "metadata": {},
   "outputs": [
    {
     "name": "stdout",
     "output_type": "stream",
     "text": [
      "/usr/bin/time -v jellyfish count --size 131085 --threads 24 --mer-len 9 --output microbial/kmer-counts-jellyfish/9/ERR1144976.jf --canonical <(gzip -d --stdout microbial/data-downsampled/ERR1144976.fastq.gz) 2> microbial/kmer-counts-jellyfish/9/jellyfish.count.ERR1144976.log.err 1> microbial/kmer-counts-jellyfish/9/jellyfish.count.ERR1144976.log\n",
      "/usr/bin/time -v jellyfish dump --column --tab microbial/kmer-counts-jellyfish/9/ERR1144976.jf 2> microbial/kmer-counts-jellyfish/9/jellyfish.dump.ERR1144976.log.err | gzip --stdout > microbial/kmer-counts-jellyfish/9/ERR1144976.kmer.gz\n",
      "Done. Took 0.05 minutes."
     ]
    }
   ],
   "source": [
    "input_dir_type=\"microbial\"\n",
    "run_jellyfish \"${input_dir_type}\" \"${input_dir_type}/${kmer_counts_dir}\" \"${kmers_input_sizes}\""
   ]
  },
  {
   "cell_type": "markdown",
   "metadata": {},
   "source": [
    "Awesome. We've generated our kmer list. Let's take a look at the files."
   ]
  },
  {
   "cell_type": "code",
   "execution_count": 10,
   "metadata": {},
   "outputs": [
    {
     "name": "stdout",
     "output_type": "stream",
     "text": [
      "total 676K\n",
      "-rw-r--r-- 1 apetkau grp_apetkau 667K Dec 10 16:48 \u001b[0m\u001b[01;31mERR1144976.kmer.gz\u001b[0m\n",
      "-rw-r--r-- 1 apetkau grp_apetkau    0 Dec 10 16:48 jellyfish.count.ERR1144976.log\n",
      "-rw-r--r-- 1 apetkau grp_apetkau  860 Dec 10 16:48 jellyfish.count.ERR1144976.log.err\n",
      "-rw-r--r-- 1 apetkau grp_apetkau  791 Dec 10 16:48 jellyfish.dump.ERR1144976.log.err\n"
     ]
    }
   ],
   "source": [
    "ls -lh ${input_dir_type}/${kmer_counts_dir}/9"
   ]
  },
  {
   "cell_type": "markdown",
   "metadata": {},
   "source": [
    "Let's look at what data we've genearted."
   ]
  },
  {
   "cell_type": "code",
   "execution_count": 12,
   "metadata": {},
   "outputs": [
    {
     "name": "stdout",
     "output_type": "stream",
     "text": [
      "AAAAAAAAA\t2871\n",
      "CCCGGTGGC\t5395\n",
      "ATGCTCAAG\t720\n",
      "TAACTGACA\t39\n",
      "GGTACAACC\t421\n",
      "\n",
      "gzip: stdout: Broken pipe\n"
     ]
    }
   ],
   "source": [
    "zcat ${input_dir_type}/${kmer_counts_dir}/9/ERR1144976.kmer.gz | head -n 5"
   ]
  },
  {
   "cell_type": "markdown",
   "metadata": {},
   "source": [
    "This file contains a list of all kmers along with counts of the kmers in the dataset."
   ]
  }
 ],
 "metadata": {
  "kernelspec": {
   "display_name": "Bash",
   "language": "bash",
   "name": "bash"
  },
  "language_info": {
   "codemirror_mode": "shell",
   "file_extension": ".sh",
   "mimetype": "text/x-sh",
   "name": "bash"
  }
 },
 "nbformat": 4,
 "nbformat_minor": 4
}
